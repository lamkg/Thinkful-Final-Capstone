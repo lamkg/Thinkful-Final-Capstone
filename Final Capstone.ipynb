{
 "cells": [
  {
   "cell_type": "code",
   "execution_count": 64,
   "metadata": {},
   "outputs": [],
   "source": [
    "import pandas as pd\n",
    "import numpy as np\n",
    "%matplotlib inline\n",
    "import seaborn as sns\n",
    "import matplotlib.pyplot as plt\n",
    "\n",
    "from sklearn import ensemble\n",
    "from sklearn.preprocessing import LabelEncoder, LabelBinarizer\n",
    "from sklearn.utils import resample\n",
    "from sklearn.decomposition import PCA\n",
    "from sklearn.preprocessing import normalize\n",
    "from sklearn.cluster import KMeans\n",
    "from sklearn.preprocessing import StandardScaler\n",
    "from sklearn.model_selection import train_test_split, GridSearchCV\n",
    "from sklearn.linear_model import LogisticRegression\n",
    "from sklearn.ensemble import RandomForestClassifier\n",
    "from xgboost import XGBClassifier\n",
    "from sklearn.neural_network import MLPClassifier\n",
    "from sklearn.model_selection import cross_val_score\n",
    "from sklearn.metrics import confusion_matrix, classification_report\n",
    "sns.set_style('darkgrid')"
   ]
  },
  {
   "cell_type": "markdown",
   "metadata": {},
   "source": [
    "# Background \n",
    "\n",
    "TalkingData, China's largest third-party mobile data platform wanted to use their data to help its clients better understand and interact with their indivudal audiences. Contained within this file of folders include individual csv files that includes a file based on user's age and gender, a file for the phone brands of the users, a file for the user's location, a file for when a user uses TalkingData SDK, the event gets logged in this data which also contains the user's location data, and a file for the name of the apps that a user uses. \n",
    "\n",
    "This is one of the bigger data sets which contain 1.28 gigabits worth of information. The data set can be found here on kaggle: https://www.kaggle.com/c/talkingdata-mobile-user-demographics\n",
    "\n",
    "# Project Goal:\n",
    "\n",
    "Given the data sets that I have access to, I want to use the gender, age, type of device, and which phone a user has in order to accurately classify and predict the age range and gender of that individual. This is valuable being able to correctly identify the characteristics of one's audience can save financial resources since a company can focus their resources on a more specific target given this information. Furthermore, advertising can become more personalized and perhaps knowing the user's details can help with building a better recommendation engine whether it be in ads or a similar concept like Netflix show recommendations as an example. "
   ]
  },
  {
   "cell_type": "code",
   "execution_count": 2,
   "metadata": {},
   "outputs": [],
   "source": [
    "# Load up the data.\n",
    "#ga stands for gender/age\n",
    "ga_train = pd.read_csv('gender_age_train.csv')\n",
    "ga_test = pd.read_csv('gender_age_test.csv' )\n",
    "# \n",
    "phone_brands = pd.read_csv('phone_brand_device_model.csv')\n",
    "# Get rid of duplicate device ids in phone\n",
    "phone_brands = phone_brands.drop_duplicates('device_id',keep='first')\n",
    "# Location data\n",
    "events = pd.read_csv('events.csv', usecols = ['event_id', 'device_id'])\n",
    "app_events = pd.read_csv('app_events.csv', usecols=['event_id','app_id','is_active'],\n",
    "                        dtype={'is_active':bool})\n",
    "app_labels = pd.read_csv('app_labels.csv')\n",
    "label_cats = pd.read_csv('label_categories.csv', index_col='label_id',squeeze=True)"
   ]
  },
  {
   "cell_type": "markdown",
   "metadata": {},
   "source": [
    "# Exploratory Data Analysis"
   ]
  },
  {
   "cell_type": "code",
   "execution_count": 3,
   "metadata": {},
   "outputs": [
    {
     "name": "stdout",
     "output_type": "stream",
     "text": [
      "Shape of ga_train data set:\n",
      "(74645, 4)\n"
     ]
    },
    {
     "data": {
      "text/html": [
       "<div>\n",
       "<style scoped>\n",
       "    .dataframe tbody tr th:only-of-type {\n",
       "        vertical-align: middle;\n",
       "    }\n",
       "\n",
       "    .dataframe tbody tr th {\n",
       "        vertical-align: top;\n",
       "    }\n",
       "\n",
       "    .dataframe thead th {\n",
       "        text-align: right;\n",
       "    }\n",
       "</style>\n",
       "<table border=\"1\" class=\"dataframe\">\n",
       "  <thead>\n",
       "    <tr style=\"text-align: right;\">\n",
       "      <th></th>\n",
       "      <th>device_id</th>\n",
       "      <th>gender</th>\n",
       "      <th>age</th>\n",
       "      <th>group</th>\n",
       "    </tr>\n",
       "  </thead>\n",
       "  <tbody>\n",
       "    <tr>\n",
       "      <th>0</th>\n",
       "      <td>-8076087639492063270</td>\n",
       "      <td>M</td>\n",
       "      <td>35</td>\n",
       "      <td>M32-38</td>\n",
       "    </tr>\n",
       "    <tr>\n",
       "      <th>1</th>\n",
       "      <td>-2897161552818060146</td>\n",
       "      <td>M</td>\n",
       "      <td>35</td>\n",
       "      <td>M32-38</td>\n",
       "    </tr>\n",
       "    <tr>\n",
       "      <th>2</th>\n",
       "      <td>-8260683887967679142</td>\n",
       "      <td>M</td>\n",
       "      <td>35</td>\n",
       "      <td>M32-38</td>\n",
       "    </tr>\n",
       "    <tr>\n",
       "      <th>3</th>\n",
       "      <td>-4938849341048082022</td>\n",
       "      <td>M</td>\n",
       "      <td>30</td>\n",
       "      <td>M29-31</td>\n",
       "    </tr>\n",
       "    <tr>\n",
       "      <th>4</th>\n",
       "      <td>245133531816851882</td>\n",
       "      <td>M</td>\n",
       "      <td>30</td>\n",
       "      <td>M29-31</td>\n",
       "    </tr>\n",
       "  </tbody>\n",
       "</table>\n",
       "</div>"
      ],
      "text/plain": [
       "             device_id gender  age   group\n",
       "0 -8076087639492063270      M   35  M32-38\n",
       "1 -2897161552818060146      M   35  M32-38\n",
       "2 -8260683887967679142      M   35  M32-38\n",
       "3 -4938849341048082022      M   30  M29-31\n",
       "4   245133531816851882      M   30  M29-31"
      ]
     },
     "execution_count": 3,
     "metadata": {},
     "output_type": "execute_result"
    }
   ],
   "source": [
    "print('Shape of ga_train data set:')\n",
    "print(ga_train.shape)\n",
    "ga_train.head()"
   ]
  },
  {
   "cell_type": "code",
   "execution_count": 4,
   "metadata": {},
   "outputs": [
    {
     "data": {
      "image/png": "[encoded data removed]",
      "text/plain": [
       "<Figure size 720x576 with 1 Axes>"
      ]
     },
     "metadata": {},
     "output_type": "display_data"
    }
   ],
   "source": [
    "# Distribution of age based users.\n",
    "fig,ax = plt.subplots(figsize=(10,8))\n",
    "ga_train.group.value_counts().plot(kind='barh')\n",
    "plt.title('Age Group Distribution')\n",
    "plt.ylabel('Gender/Age Ranges')\n",
    "plt.xlabel('Count');"
   ]
  },
  {
   "cell_type": "markdown",
   "metadata": {},
   "source": [
    "From this horizontal bar graph, we can see that most of the users happen to be young adult males, but we can do better than eyeball from this graph. "
   ]
  },
  {
   "cell_type": "code",
   "execution_count": 5,
   "metadata": {},
   "outputs": [
    {
     "data": {
      "image/png": "[encoded data removed]",
      "text/plain": [
       "<Figure size 720x576 with 1 Axes>"
      ]
     },
     "metadata": {},
     "output_type": "display_data"
    }
   ],
   "source": [
    "# Gender Distribution\n",
    "fig,ax = plt.subplots(figsize=(10,8))\n",
    "ga_train.gender.value_counts().plot(kind='barh')\n",
    "plt.title('Gender Distribution')\n",
    "plt.xlabel('Count')\n",
    "plt.ylabel('Gender');"
   ]
  },
  {
   "cell_type": "markdown",
   "metadata": {},
   "source": [
    "This is clear that there are almost double amount of males compared to the amount of females. "
   ]
  },
  {
   "cell_type": "code",
   "execution_count": 6,
   "metadata": {},
   "outputs": [
    {
     "name": "stderr",
     "output_type": "stream",
     "text": [
      "/anaconda3/lib/python3.6/site-packages/matplotlib/axes/_axes.py:6462: UserWarning: The 'normed' kwarg is deprecated, and has been replaced by the 'density' kwarg.\n",
      "  warnings.warn(\"The 'normed' kwarg is deprecated, and has been \"\n"
     ]
    },
    {
     "data": {
      "image/png": "[encoded data removed]",
      "text/plain": [
       "<Figure size 864x576 with 1 Axes>"
      ]
     },
     "metadata": {},
     "output_type": "display_data"
    }
   ],
   "source": [
    "# Age Distribution\n",
    "fig,ax = plt.subplots(figsize=(12,8))\n",
    "plt.title('Age Distribution')\n",
    "plt.xlabel('Ages')\n",
    "plt.ylabel('Count')\n",
    "sns.distplot(ga_train.age);"
   ]
  },
  {
   "cell_type": "code",
   "execution_count": 7,
   "metadata": {},
   "outputs": [
    {
     "name": "stdout",
     "output_type": "stream",
     "text": [
      "Shape of phone brands data set:\n",
      "(186716, 3)\n"
     ]
    },
    {
     "data": {
      "text/html": [
       "<div>\n",
       "<style scoped>\n",
       "    .dataframe tbody tr th:only-of-type {\n",
       "        vertical-align: middle;\n",
       "    }\n",
       "\n",
       "    .dataframe tbody tr th {\n",
       "        vertical-align: top;\n",
       "    }\n",
       "\n",
       "    .dataframe thead th {\n",
       "        text-align: right;\n",
       "    }\n",
       "</style>\n",
       "<table border=\"1\" class=\"dataframe\">\n",
       "  <thead>\n",
       "    <tr style=\"text-align: right;\">\n",
       "      <th></th>\n",
       "      <th>device_id</th>\n",
       "      <th>phone_brand</th>\n",
       "      <th>device_model</th>\n",
       "    </tr>\n",
       "  </thead>\n",
       "  <tbody>\n",
       "    <tr>\n",
       "      <th>0</th>\n",
       "      <td>-8890648629457979026</td>\n",
       "      <td>小米</td>\n",
       "      <td>红米</td>\n",
       "    </tr>\n",
       "    <tr>\n",
       "      <th>1</th>\n",
       "      <td>1277779817574759137</td>\n",
       "      <td>小米</td>\n",
       "      <td>MI 2</td>\n",
       "    </tr>\n",
       "    <tr>\n",
       "      <th>2</th>\n",
       "      <td>5137427614288105724</td>\n",
       "      <td>三星</td>\n",
       "      <td>Galaxy S4</td>\n",
       "    </tr>\n",
       "    <tr>\n",
       "      <th>3</th>\n",
       "      <td>3669464369358936369</td>\n",
       "      <td>SUGAR</td>\n",
       "      <td>时尚手机</td>\n",
       "    </tr>\n",
       "    <tr>\n",
       "      <th>4</th>\n",
       "      <td>-5019277647504317457</td>\n",
       "      <td>三星</td>\n",
       "      <td>Galaxy Note 2</td>\n",
       "    </tr>\n",
       "  </tbody>\n",
       "</table>\n",
       "</div>"
      ],
      "text/plain": [
       "             device_id phone_brand   device_model\n",
       "0 -8890648629457979026          小米             红米\n",
       "1  1277779817574759137          小米           MI 2\n",
       "2  5137427614288105724          三星      Galaxy S4\n",
       "3  3669464369358936369       SUGAR           时尚手机\n",
       "4 -5019277647504317457          三星  Galaxy Note 2"
      ]
     },
     "execution_count": 7,
     "metadata": {},
     "output_type": "execute_result"
    }
   ],
   "source": [
    "print('Shape of phone brands data set:')\n",
    "print(phone_brands.shape)\n",
    "phone_brands.head()"
   ]
  },
  {
   "cell_type": "code",
   "execution_count": 8,
   "metadata": {},
   "outputs": [
    {
     "name": "stdout",
     "output_type": "stream",
     "text": [
      "Number of unique brands:\n",
      "131\n",
      "\n",
      "Number of unique models:\n",
      "1599\n"
     ]
    }
   ],
   "source": [
    "print('Number of unique brands:')\n",
    "print(phone_brands.phone_brand.nunique())\n",
    "\n",
    "print('\\nNumber of unique models:')\n",
    "print(phone_brands.device_model.nunique())"
   ]
  },
  {
   "cell_type": "code",
   "execution_count": 9,
   "metadata": {
    "scrolled": true
   },
   "outputs": [
    {
     "data": {
      "text/plain": [
       "1    1545\n",
       "2      43\n",
       "3       8\n",
       "4       3\n",
       "Name: phone_brand, dtype: int64"
      ]
     },
     "execution_count": 9,
     "metadata": {},
     "output_type": "execute_result"
    }
   ],
   "source": [
    "# Check to see if there is over representation of any one brand. \n",
    "device_count = phone_brands.groupby(['device_model'])['phone_brand'].apply(pd.Series.nunique)\n",
    "device_count.value_counts()"
   ]
  },
  {
   "cell_type": "code",
   "execution_count": 10,
   "metadata": {},
   "outputs": [
    {
     "name": "stdout",
     "output_type": "stream",
     "text": [
      "shape of events data set:\n",
      "(32473067, 3)\n"
     ]
    },
    {
     "data": {
      "text/html": [
       "<div>\n",
       "<style scoped>\n",
       "    .dataframe tbody tr th:only-of-type {\n",
       "        vertical-align: middle;\n",
       "    }\n",
       "\n",
       "    .dataframe tbody tr th {\n",
       "        vertical-align: top;\n",
       "    }\n",
       "\n",
       "    .dataframe thead th {\n",
       "        text-align: right;\n",
       "    }\n",
       "</style>\n",
       "<table border=\"1\" class=\"dataframe\">\n",
       "  <thead>\n",
       "    <tr style=\"text-align: right;\">\n",
       "      <th></th>\n",
       "      <th>event_id</th>\n",
       "      <th>app_id</th>\n",
       "      <th>is_active</th>\n",
       "    </tr>\n",
       "  </thead>\n",
       "  <tbody>\n",
       "    <tr>\n",
       "      <th>0</th>\n",
       "      <td>2</td>\n",
       "      <td>5927333115845830913</td>\n",
       "      <td>True</td>\n",
       "    </tr>\n",
       "    <tr>\n",
       "      <th>1</th>\n",
       "      <td>2</td>\n",
       "      <td>-5720078949152207372</td>\n",
       "      <td>False</td>\n",
       "    </tr>\n",
       "    <tr>\n",
       "      <th>2</th>\n",
       "      <td>2</td>\n",
       "      <td>-1633887856876571208</td>\n",
       "      <td>False</td>\n",
       "    </tr>\n",
       "    <tr>\n",
       "      <th>3</th>\n",
       "      <td>2</td>\n",
       "      <td>-653184325010919369</td>\n",
       "      <td>True</td>\n",
       "    </tr>\n",
       "    <tr>\n",
       "      <th>4</th>\n",
       "      <td>2</td>\n",
       "      <td>8693964245073640147</td>\n",
       "      <td>True</td>\n",
       "    </tr>\n",
       "    <tr>\n",
       "      <th>5</th>\n",
       "      <td>2</td>\n",
       "      <td>4775896950989639373</td>\n",
       "      <td>True</td>\n",
       "    </tr>\n",
       "    <tr>\n",
       "      <th>6</th>\n",
       "      <td>2</td>\n",
       "      <td>-8022267440849930066</td>\n",
       "      <td>False</td>\n",
       "    </tr>\n",
       "    <tr>\n",
       "      <th>7</th>\n",
       "      <td>2</td>\n",
       "      <td>9112463267739110219</td>\n",
       "      <td>False</td>\n",
       "    </tr>\n",
       "    <tr>\n",
       "      <th>8</th>\n",
       "      <td>2</td>\n",
       "      <td>-3725672010020973973</td>\n",
       "      <td>False</td>\n",
       "    </tr>\n",
       "    <tr>\n",
       "      <th>9</th>\n",
       "      <td>2</td>\n",
       "      <td>7167114343576723123</td>\n",
       "      <td>True</td>\n",
       "    </tr>\n",
       "    <tr>\n",
       "      <th>10</th>\n",
       "      <td>2</td>\n",
       "      <td>487766649788038994</td>\n",
       "      <td>False</td>\n",
       "    </tr>\n",
       "    <tr>\n",
       "      <th>11</th>\n",
       "      <td>2</td>\n",
       "      <td>7460082553072507347</td>\n",
       "      <td>False</td>\n",
       "    </tr>\n",
       "    <tr>\n",
       "      <th>12</th>\n",
       "      <td>2</td>\n",
       "      <td>628020936226491308</td>\n",
       "      <td>False</td>\n",
       "    </tr>\n",
       "    <tr>\n",
       "      <th>13</th>\n",
       "      <td>2</td>\n",
       "      <td>701031210314548601</td>\n",
       "      <td>False</td>\n",
       "    </tr>\n",
       "    <tr>\n",
       "      <th>14</th>\n",
       "      <td>2</td>\n",
       "      <td>-1758857579862594461</td>\n",
       "      <td>False</td>\n",
       "    </tr>\n",
       "    <tr>\n",
       "      <th>15</th>\n",
       "      <td>2</td>\n",
       "      <td>4348659952760821294</td>\n",
       "      <td>False</td>\n",
       "    </tr>\n",
       "    <tr>\n",
       "      <th>16</th>\n",
       "      <td>2</td>\n",
       "      <td>-8942695423876075857</td>\n",
       "      <td>False</td>\n",
       "    </tr>\n",
       "    <tr>\n",
       "      <th>17</th>\n",
       "      <td>2</td>\n",
       "      <td>5497109940653330488</td>\n",
       "      <td>True</td>\n",
       "    </tr>\n",
       "    <tr>\n",
       "      <th>18</th>\n",
       "      <td>2</td>\n",
       "      <td>3717049149426646122</td>\n",
       "      <td>False</td>\n",
       "    </tr>\n",
       "    <tr>\n",
       "      <th>19</th>\n",
       "      <td>6</td>\n",
       "      <td>-7377004479023402858</td>\n",
       "      <td>True</td>\n",
       "    </tr>\n",
       "    <tr>\n",
       "      <th>20</th>\n",
       "      <td>6</td>\n",
       "      <td>6284164581582112235</td>\n",
       "      <td>True</td>\n",
       "    </tr>\n",
       "    <tr>\n",
       "      <th>21</th>\n",
       "      <td>6</td>\n",
       "      <td>5927333115845830913</td>\n",
       "      <td>True</td>\n",
       "    </tr>\n",
       "    <tr>\n",
       "      <th>22</th>\n",
       "      <td>6</td>\n",
       "      <td>3433289601737013244</td>\n",
       "      <td>True</td>\n",
       "    </tr>\n",
       "    <tr>\n",
       "      <th>23</th>\n",
       "      <td>6</td>\n",
       "      <td>-3467200097934864127</td>\n",
       "      <td>True</td>\n",
       "    </tr>\n",
       "    <tr>\n",
       "      <th>24</th>\n",
       "      <td>6</td>\n",
       "      <td>6924337203824723352</td>\n",
       "      <td>False</td>\n",
       "    </tr>\n",
       "  </tbody>\n",
       "</table>\n",
       "</div>"
      ],
      "text/plain": [
       "    event_id               app_id  is_active\n",
       "0          2  5927333115845830913       True\n",
       "1          2 -5720078949152207372      False\n",
       "2          2 -1633887856876571208      False\n",
       "3          2  -653184325010919369       True\n",
       "4          2  8693964245073640147       True\n",
       "5          2  4775896950989639373       True\n",
       "6          2 -8022267440849930066      False\n",
       "7          2  9112463267739110219      False\n",
       "8          2 -3725672010020973973      False\n",
       "9          2  7167114343576723123       True\n",
       "10         2   487766649788038994      False\n",
       "11         2  7460082553072507347      False\n",
       "12         2   628020936226491308      False\n",
       "13         2   701031210314548601      False\n",
       "14         2 -1758857579862594461      False\n",
       "15         2  4348659952760821294      False\n",
       "16         2 -8942695423876075857      False\n",
       "17         2  5497109940653330488       True\n",
       "18         2  3717049149426646122      False\n",
       "19         6 -7377004479023402858       True\n",
       "20         6  6284164581582112235       True\n",
       "21         6  5927333115845830913       True\n",
       "22         6  3433289601737013244       True\n",
       "23         6 -3467200097934864127       True\n",
       "24         6  6924337203824723352      False"
      ]
     },
     "execution_count": 10,
     "metadata": {},
     "output_type": "execute_result"
    }
   ],
   "source": [
    "# App events overlook\n",
    "print('shape of events data set:')\n",
    "print(app_events.shape)\n",
    "app_events.head(25)"
   ]
  },
  {
   "cell_type": "code",
   "execution_count": 11,
   "metadata": {},
   "outputs": [
    {
     "data": {
      "image/png": "[encoded data removed]",
      "text/plain": [
       "<Figure size 720x576 with 1 Axes>"
      ]
     },
     "metadata": {},
     "output_type": "display_data"
    }
   ],
   "source": [
    "fig,ax = plt.subplots(figsize=(10,8))\n",
    "plt.title('Is the User Active?')\n",
    "app_events['is_active'].value_counts().plot(kind='bar');"
   ]
  },
  {
   "cell_type": "code",
   "execution_count": 12,
   "metadata": {},
   "outputs": [
    {
     "name": "stdout",
     "output_type": "stream",
     "text": [
      "Shape of events:\n",
      "(3252950, 2)\n"
     ]
    },
    {
     "data": {
      "text/html": [
       "<div>\n",
       "<style scoped>\n",
       "    .dataframe tbody tr th:only-of-type {\n",
       "        vertical-align: middle;\n",
       "    }\n",
       "\n",
       "    .dataframe tbody tr th {\n",
       "        vertical-align: top;\n",
       "    }\n",
       "\n",
       "    .dataframe thead th {\n",
       "        text-align: right;\n",
       "    }\n",
       "</style>\n",
       "<table border=\"1\" class=\"dataframe\">\n",
       "  <thead>\n",
       "    <tr style=\"text-align: right;\">\n",
       "      <th></th>\n",
       "      <th>event_id</th>\n",
       "      <th>device_id</th>\n",
       "    </tr>\n",
       "  </thead>\n",
       "  <tbody>\n",
       "    <tr>\n",
       "      <th>0</th>\n",
       "      <td>1</td>\n",
       "      <td>29182687948017175</td>\n",
       "    </tr>\n",
       "    <tr>\n",
       "      <th>1</th>\n",
       "      <td>2</td>\n",
       "      <td>-6401643145415154744</td>\n",
       "    </tr>\n",
       "    <tr>\n",
       "      <th>2</th>\n",
       "      <td>3</td>\n",
       "      <td>-4833982096941402721</td>\n",
       "    </tr>\n",
       "    <tr>\n",
       "      <th>3</th>\n",
       "      <td>4</td>\n",
       "      <td>-6815121365017318426</td>\n",
       "    </tr>\n",
       "    <tr>\n",
       "      <th>4</th>\n",
       "      <td>5</td>\n",
       "      <td>-5373797595892518570</td>\n",
       "    </tr>\n",
       "  </tbody>\n",
       "</table>\n",
       "</div>"
      ],
      "text/plain": [
       "   event_id            device_id\n",
       "0         1    29182687948017175\n",
       "1         2 -6401643145415154744\n",
       "2         3 -4833982096941402721\n",
       "3         4 -6815121365017318426\n",
       "4         5 -5373797595892518570"
      ]
     },
     "execution_count": 12,
     "metadata": {},
     "output_type": "execute_result"
    }
   ],
   "source": [
    "print('Shape of events:')\n",
    "print(events.shape)\n",
    "events.head()"
   ]
  },
  {
   "cell_type": "markdown",
   "metadata": {},
   "source": [
    "# Data Exploration (No Graphs)"
   ]
  },
  {
   "cell_type": "code",
   "execution_count": 3,
   "metadata": {
    "scrolled": true
   },
   "outputs": [
    {
     "data": {
      "text/plain": [
       "M23-26    9605\n",
       "M32-38    9476\n",
       "M39+      8581\n",
       "M22-      7488\n",
       "M29-31    7309\n",
       "F33-42    5561\n",
       "M27-28    5445\n",
       "F23-      5050\n",
       "F29-32    4628\n",
       "F43+      4194\n",
       "F24-26    4190\n",
       "F27-28    3118\n",
       "Name: group, dtype: int64"
      ]
     },
     "execution_count": 3,
     "metadata": {},
     "output_type": "execute_result"
    }
   ],
   "source": [
    "# Check numerical value of age groups\n",
    "ga_train.group.value_counts()"
   ]
  },
  {
   "cell_type": "code",
   "execution_count": 3,
   "metadata": {},
   "outputs": [],
   "source": [
    "# Re-import app_events for the binary output of is_active\n",
    "app_events2 = pd.read_csv('app_events.csv', usecols=['event_id','app_id','is_active'])"
   ]
  },
  {
   "cell_type": "code",
   "execution_count": 4,
   "metadata": {},
   "outputs": [
    {
     "data": {
      "text/html": [
       "<div>\n",
       "<style scoped>\n",
       "    .dataframe tbody tr th:only-of-type {\n",
       "        vertical-align: middle;\n",
       "    }\n",
       "\n",
       "    .dataframe tbody tr th {\n",
       "        vertical-align: top;\n",
       "    }\n",
       "\n",
       "    .dataframe thead th {\n",
       "        text-align: right;\n",
       "    }\n",
       "</style>\n",
       "<table border=\"1\" class=\"dataframe\">\n",
       "  <thead>\n",
       "    <tr style=\"text-align: right;\">\n",
       "      <th></th>\n",
       "      <th>app_id</th>\n",
       "      <th>is_active</th>\n",
       "      <th>device_id</th>\n",
       "    </tr>\n",
       "  </thead>\n",
       "  <tbody>\n",
       "    <tr>\n",
       "      <th>0</th>\n",
       "      <td>5927333115845830913</td>\n",
       "      <td>1</td>\n",
       "      <td>-6401643145415154744</td>\n",
       "    </tr>\n",
       "    <tr>\n",
       "      <th>1</th>\n",
       "      <td>-5720078949152207372</td>\n",
       "      <td>0</td>\n",
       "      <td>-6401643145415154744</td>\n",
       "    </tr>\n",
       "    <tr>\n",
       "      <th>2</th>\n",
       "      <td>-1633887856876571208</td>\n",
       "      <td>0</td>\n",
       "      <td>-6401643145415154744</td>\n",
       "    </tr>\n",
       "    <tr>\n",
       "      <th>3</th>\n",
       "      <td>-653184325010919369</td>\n",
       "      <td>1</td>\n",
       "      <td>-6401643145415154744</td>\n",
       "    </tr>\n",
       "    <tr>\n",
       "      <th>4</th>\n",
       "      <td>8693964245073640147</td>\n",
       "      <td>1</td>\n",
       "      <td>-6401643145415154744</td>\n",
       "    </tr>\n",
       "  </tbody>\n",
       "</table>\n",
       "</div>"
      ],
      "text/plain": [
       "                app_id  is_active            device_id\n",
       "0  5927333115845830913          1 -6401643145415154744\n",
       "1 -5720078949152207372          0 -6401643145415154744\n",
       "2 -1633887856876571208          0 -6401643145415154744\n",
       "3  -653184325010919369          1 -6401643145415154744\n",
       "4  8693964245073640147          1 -6401643145415154744"
      ]
     },
     "execution_count": 4,
     "metadata": {},
     "output_type": "execute_result"
    }
   ],
   "source": [
    "device_apps = (\n",
    "    app_events2\n",
    "    \n",
    "     # Merge on event_id\n",
    "    .merge(events, how = 'left', left_on = 'event_id', right_on = 'event_id')\n",
    "    \n",
    "     # event_id itself is not interesting\n",
    "    .drop('event_id', axis = 1)\n",
    "    \n",
    "     # Because the events correspond to more than just\n",
    "     # being installed, there are many duplicates\n",
    "    .drop_duplicates()\n",
    ")\n",
    "\n",
    "# Our data now looks like this\n",
    "device_apps.head()"
   ]
  },
  {
   "cell_type": "code",
   "execution_count": 6,
   "metadata": {},
   "outputs": [
    {
     "data": {
      "text/plain": [
       "(2840343, 3)"
      ]
     },
     "execution_count": 6,
     "metadata": {},
     "output_type": "execute_result"
    }
   ],
   "source": [
    "device_apps.shape"
   ]
  },
  {
   "cell_type": "code",
   "execution_count": 7,
   "metadata": {
    "scrolled": false
   },
   "outputs": [
    {
     "data": {
      "text/html": [
       "<div>\n",
       "<style scoped>\n",
       "    .dataframe tbody tr th:only-of-type {\n",
       "        vertical-align: middle;\n",
       "    }\n",
       "\n",
       "    .dataframe tbody tr th {\n",
       "        vertical-align: top;\n",
       "    }\n",
       "\n",
       "    .dataframe thead th {\n",
       "        text-align: right;\n",
       "    }\n",
       "</style>\n",
       "<table border=\"1\" class=\"dataframe\">\n",
       "  <thead>\n",
       "    <tr style=\"text-align: right;\">\n",
       "      <th></th>\n",
       "      <th>device_id</th>\n",
       "      <th>phone_brand</th>\n",
       "      <th>device_model</th>\n",
       "    </tr>\n",
       "  </thead>\n",
       "  <tbody>\n",
       "    <tr>\n",
       "      <th>0</th>\n",
       "      <td>-8890648629457979026</td>\n",
       "      <td>小米</td>\n",
       "      <td>红米</td>\n",
       "    </tr>\n",
       "    <tr>\n",
       "      <th>1</th>\n",
       "      <td>1277779817574759137</td>\n",
       "      <td>小米</td>\n",
       "      <td>MI 2</td>\n",
       "    </tr>\n",
       "    <tr>\n",
       "      <th>2</th>\n",
       "      <td>5137427614288105724</td>\n",
       "      <td>三星</td>\n",
       "      <td>Galaxy S4</td>\n",
       "    </tr>\n",
       "    <tr>\n",
       "      <th>3</th>\n",
       "      <td>3669464369358936369</td>\n",
       "      <td>SUGAR</td>\n",
       "      <td>时尚手机</td>\n",
       "    </tr>\n",
       "    <tr>\n",
       "      <th>4</th>\n",
       "      <td>-5019277647504317457</td>\n",
       "      <td>三星</td>\n",
       "      <td>Galaxy Note 2</td>\n",
       "    </tr>\n",
       "  </tbody>\n",
       "</table>\n",
       "</div>"
      ],
      "text/plain": [
       "             device_id phone_brand   device_model\n",
       "0 -8890648629457979026          小米             红米\n",
       "1  1277779817574759137          小米           MI 2\n",
       "2  5137427614288105724          三星      Galaxy S4\n",
       "3  3669464369358936369       SUGAR           时尚手机\n",
       "4 -5019277647504317457          三星  Galaxy Note 2"
      ]
     },
     "execution_count": 7,
     "metadata": {},
     "output_type": "execute_result"
    }
   ],
   "source": [
    "# Encode the device_model and phone_brand to use as a feature.\n",
    "phone_brands.head()"
   ]
  },
  {
   "cell_type": "code",
   "execution_count": 5,
   "metadata": {},
   "outputs": [
    {
     "name": "stdout",
     "output_type": "stream",
     "text": [
      "Number of distinct model names: 1599\n",
      "Number of distinct brand+model names: 1667\n"
     ]
    }
   ],
   "source": [
    "# It seems like some brands don't have specific model names.\n",
    "print('Number of distinct model names: ' + str(phone_brands.groupby(['device_model']).size().shape[0]))\n",
    "print('Number of distinct brand+model names: ' + str(phone_brands.groupby(['phone_brand','device_model']).size().shape[0]))"
   ]
  },
  {
   "cell_type": "code",
   "execution_count": 6,
   "metadata": {},
   "outputs": [],
   "source": [
    "# Combine the two columns\n",
    "phone_brands['brand_and_model'] = phone_brands['phone_brand'].astype(str) + phone_brands['device_model']\n",
    "\n",
    "# Build numerical labels for our models\n",
    "modelencoder = LabelEncoder().fit(phone_brands['brand_and_model'])\n",
    "\n",
    "# Store in a new column\n",
    "phone_brands['encoded_model'] = modelencoder.transform(phone_brands['brand_and_model'])"
   ]
  },
  {
   "cell_type": "code",
   "execution_count": 7,
   "metadata": {
    "scrolled": true
   },
   "outputs": [
    {
     "data": {
      "text/html": [
       "<div>\n",
       "<style scoped>\n",
       "    .dataframe tbody tr th:only-of-type {\n",
       "        vertical-align: middle;\n",
       "    }\n",
       "\n",
       "    .dataframe tbody tr th {\n",
       "        vertical-align: top;\n",
       "    }\n",
       "\n",
       "    .dataframe thead th {\n",
       "        text-align: right;\n",
       "    }\n",
       "</style>\n",
       "<table border=\"1\" class=\"dataframe\">\n",
       "  <thead>\n",
       "    <tr style=\"text-align: right;\">\n",
       "      <th></th>\n",
       "      <th>device_id</th>\n",
       "      <th>phone_brand</th>\n",
       "      <th>device_model</th>\n",
       "      <th>brand_and_model</th>\n",
       "      <th>encoded_model</th>\n",
       "    </tr>\n",
       "  </thead>\n",
       "  <tbody>\n",
       "    <tr>\n",
       "      <th>0</th>\n",
       "      <td>-8890648629457979026</td>\n",
       "      <td>小米</td>\n",
       "      <td>红米</td>\n",
       "      <td>小米红米</td>\n",
       "      <td>858</td>\n",
       "    </tr>\n",
       "    <tr>\n",
       "      <th>1</th>\n",
       "      <td>1277779817574759137</td>\n",
       "      <td>小米</td>\n",
       "      <td>MI 2</td>\n",
       "      <td>小米MI 2</td>\n",
       "      <td>843</td>\n",
       "    </tr>\n",
       "    <tr>\n",
       "      <th>2</th>\n",
       "      <td>5137427614288105724</td>\n",
       "      <td>三星</td>\n",
       "      <td>Galaxy S4</td>\n",
       "      <td>三星Galaxy S4</td>\n",
       "      <td>371</td>\n",
       "    </tr>\n",
       "    <tr>\n",
       "      <th>3</th>\n",
       "      <td>3669464369358936369</td>\n",
       "      <td>SUGAR</td>\n",
       "      <td>时尚手机</td>\n",
       "      <td>SUGAR时尚手机</td>\n",
       "      <td>166</td>\n",
       "    </tr>\n",
       "    <tr>\n",
       "      <th>4</th>\n",
       "      <td>-5019277647504317457</td>\n",
       "      <td>三星</td>\n",
       "      <td>Galaxy Note 2</td>\n",
       "      <td>三星Galaxy Note 2</td>\n",
       "      <td>347</td>\n",
       "    </tr>\n",
       "    <tr>\n",
       "      <th>5</th>\n",
       "      <td>3238009352149731868</td>\n",
       "      <td>华为</td>\n",
       "      <td>Mate</td>\n",
       "      <td>华为Mate</td>\n",
       "      <td>671</td>\n",
       "    </tr>\n",
       "    <tr>\n",
       "      <th>6</th>\n",
       "      <td>-3883532755183027260</td>\n",
       "      <td>小米</td>\n",
       "      <td>MI 2S</td>\n",
       "      <td>小米MI 2S</td>\n",
       "      <td>846</td>\n",
       "    </tr>\n",
       "    <tr>\n",
       "      <th>7</th>\n",
       "      <td>-2972199645857147708</td>\n",
       "      <td>华为</td>\n",
       "      <td>G610S</td>\n",
       "      <td>华为G610S</td>\n",
       "      <td>648</td>\n",
       "    </tr>\n",
       "    <tr>\n",
       "      <th>8</th>\n",
       "      <td>-5827952925479472594</td>\n",
       "      <td>小米</td>\n",
       "      <td>MI One Plus</td>\n",
       "      <td>小米MI One Plus</td>\n",
       "      <td>852</td>\n",
       "    </tr>\n",
       "    <tr>\n",
       "      <th>9</th>\n",
       "      <td>-8262508968076336275</td>\n",
       "      <td>vivo</td>\n",
       "      <td>S7I</td>\n",
       "      <td>vivoS7I</td>\n",
       "      <td>214</td>\n",
       "    </tr>\n",
       "    <tr>\n",
       "      <th>10</th>\n",
       "      <td>5840378295166286440</td>\n",
       "      <td>三星</td>\n",
       "      <td>Galaxy S3</td>\n",
       "      <td>三星Galaxy S3</td>\n",
       "      <td>368</td>\n",
       "    </tr>\n",
       "    <tr>\n",
       "      <th>11</th>\n",
       "      <td>-5776341595519925628</td>\n",
       "      <td>小米</td>\n",
       "      <td>MI 2A</td>\n",
       "      <td>小米MI 2A</td>\n",
       "      <td>844</td>\n",
       "    </tr>\n",
       "    <tr>\n",
       "      <th>12</th>\n",
       "      <td>3437705102632680210</td>\n",
       "      <td>三星</td>\n",
       "      <td>Galaxy S3</td>\n",
       "      <td>三星Galaxy S3</td>\n",
       "      <td>368</td>\n",
       "    </tr>\n",
       "    <tr>\n",
       "      <th>13</th>\n",
       "      <td>-3568334676360016285</td>\n",
       "      <td>三星</td>\n",
       "      <td>Galaxy S3</td>\n",
       "      <td>三星Galaxy S3</td>\n",
       "      <td>368</td>\n",
       "    </tr>\n",
       "    <tr>\n",
       "      <th>14</th>\n",
       "      <td>556978549708484782</td>\n",
       "      <td>小米</td>\n",
       "      <td>MI 2</td>\n",
       "      <td>小米MI 2</td>\n",
       "      <td>843</td>\n",
       "    </tr>\n",
       "    <tr>\n",
       "      <th>15</th>\n",
       "      <td>5694497738268412307</td>\n",
       "      <td>小米</td>\n",
       "      <td>MI 3</td>\n",
       "      <td>小米MI 3</td>\n",
       "      <td>847</td>\n",
       "    </tr>\n",
       "    <tr>\n",
       "      <th>16</th>\n",
       "      <td>6327116114284382479</td>\n",
       "      <td>华为</td>\n",
       "      <td>G520-0000</td>\n",
       "      <td>华为G520-0000</td>\n",
       "      <td>639</td>\n",
       "    </tr>\n",
       "    <tr>\n",
       "      <th>17</th>\n",
       "      <td>773248989809697210</td>\n",
       "      <td>vivo</td>\n",
       "      <td>X5Pro</td>\n",
       "      <td>vivoX5Pro</td>\n",
       "      <td>232</td>\n",
       "    </tr>\n",
       "    <tr>\n",
       "      <th>18</th>\n",
       "      <td>-686020914357018824</td>\n",
       "      <td>小米</td>\n",
       "      <td>MI 2S</td>\n",
       "      <td>小米MI 2S</td>\n",
       "      <td>846</td>\n",
       "    </tr>\n",
       "    <tr>\n",
       "      <th>19</th>\n",
       "      <td>6936613487637228956</td>\n",
       "      <td>魅族</td>\n",
       "      <td>MX2</td>\n",
       "      <td>魅族MX2</td>\n",
       "      <td>1651</td>\n",
       "    </tr>\n",
       "    <tr>\n",
       "      <th>20</th>\n",
       "      <td>-3875043166283300758</td>\n",
       "      <td>三星</td>\n",
       "      <td>Galaxy Note 2</td>\n",
       "      <td>三星Galaxy Note 2</td>\n",
       "      <td>347</td>\n",
       "    </tr>\n",
       "    <tr>\n",
       "      <th>21</th>\n",
       "      <td>-6964140211214884922</td>\n",
       "      <td>小米</td>\n",
       "      <td>MI 2S</td>\n",
       "      <td>小米MI 2S</td>\n",
       "      <td>846</td>\n",
       "    </tr>\n",
       "    <tr>\n",
       "      <th>22</th>\n",
       "      <td>-30236203766311351</td>\n",
       "      <td>小米</td>\n",
       "      <td>MI 2S</td>\n",
       "      <td>小米MI 2S</td>\n",
       "      <td>846</td>\n",
       "    </tr>\n",
       "    <tr>\n",
       "      <th>23</th>\n",
       "      <td>4887985552773989409</td>\n",
       "      <td>vivo</td>\n",
       "      <td>Xplay</td>\n",
       "      <td>vivoXplay</td>\n",
       "      <td>241</td>\n",
       "    </tr>\n",
       "    <tr>\n",
       "      <th>24</th>\n",
       "      <td>7206202610070842107</td>\n",
       "      <td>三星</td>\n",
       "      <td>Galaxy Note 2</td>\n",
       "      <td>三星Galaxy Note 2</td>\n",
       "      <td>347</td>\n",
       "    </tr>\n",
       "    <tr>\n",
       "      <th>25</th>\n",
       "      <td>-39620037751344714</td>\n",
       "      <td>小米</td>\n",
       "      <td>MI 2S</td>\n",
       "      <td>小米MI 2S</td>\n",
       "      <td>846</td>\n",
       "    </tr>\n",
       "    <tr>\n",
       "      <th>26</th>\n",
       "      <td>7223189369472462826</td>\n",
       "      <td>酷派</td>\n",
       "      <td>7270</td>\n",
       "      <td>酷派7270</td>\n",
       "      <td>1458</td>\n",
       "    </tr>\n",
       "    <tr>\n",
       "      <th>27</th>\n",
       "      <td>-3998002640294516352</td>\n",
       "      <td>天语</td>\n",
       "      <td>Touch 3</td>\n",
       "      <td>天语Touch 3</td>\n",
       "      <td>812</td>\n",
       "    </tr>\n",
       "    <tr>\n",
       "      <th>28</th>\n",
       "      <td>2527845705328727233</td>\n",
       "      <td>OPPO</td>\n",
       "      <td>R2017</td>\n",
       "      <td>OPPOR2017</td>\n",
       "      <td>124</td>\n",
       "    </tr>\n",
       "    <tr>\n",
       "      <th>29</th>\n",
       "      <td>-3157952721100703520</td>\n",
       "      <td>三星</td>\n",
       "      <td>Galaxy Note 2</td>\n",
       "      <td>三星Galaxy Note 2</td>\n",
       "      <td>347</td>\n",
       "    </tr>\n",
       "    <tr>\n",
       "      <th>30</th>\n",
       "      <td>-6083057230710001248</td>\n",
       "      <td>中兴</td>\n",
       "      <td>795+</td>\n",
       "      <td>中兴795+</td>\n",
       "      <td>451</td>\n",
       "    </tr>\n",
       "    <tr>\n",
       "      <th>31</th>\n",
       "      <td>-4083221898711926203</td>\n",
       "      <td>酷派</td>\n",
       "      <td>大神Note</td>\n",
       "      <td>酷派大神Note</td>\n",
       "      <td>1541</td>\n",
       "    </tr>\n",
       "    <tr>\n",
       "      <th>32</th>\n",
       "      <td>-4523542780146466405</td>\n",
       "      <td>vivo</td>\n",
       "      <td>Y3T</td>\n",
       "      <td>vivoY3T</td>\n",
       "      <td>270</td>\n",
       "    </tr>\n",
       "    <tr>\n",
       "      <th>33</th>\n",
       "      <td>-5913071468598874323</td>\n",
       "      <td>三星</td>\n",
       "      <td>S7566</td>\n",
       "      <td>三星S7566</td>\n",
       "      <td>429</td>\n",
       "    </tr>\n",
       "    <tr>\n",
       "      <th>34</th>\n",
       "      <td>-2339363715932966819</td>\n",
       "      <td>小米</td>\n",
       "      <td>MI One Plus</td>\n",
       "      <td>小米MI One Plus</td>\n",
       "      <td>852</td>\n",
       "    </tr>\n",
       "    <tr>\n",
       "      <th>35</th>\n",
       "      <td>4106908628505542038</td>\n",
       "      <td>金立</td>\n",
       "      <td>GN708W</td>\n",
       "      <td>金立GN708W</td>\n",
       "      <td>1597</td>\n",
       "    </tr>\n",
       "    <tr>\n",
       "      <th>36</th>\n",
       "      <td>-613324030015638453</td>\n",
       "      <td>联想</td>\n",
       "      <td>乐檬K3 Note</td>\n",
       "      <td>联想乐檬K3 Note</td>\n",
       "      <td>1309</td>\n",
       "    </tr>\n",
       "    <tr>\n",
       "      <th>37</th>\n",
       "      <td>-2943457097948271624</td>\n",
       "      <td>三星</td>\n",
       "      <td>Galaxy Note 2</td>\n",
       "      <td>三星Galaxy Note 2</td>\n",
       "      <td>347</td>\n",
       "    </tr>\n",
       "    <tr>\n",
       "      <th>38</th>\n",
       "      <td>-8617503367917252519</td>\n",
       "      <td>三星</td>\n",
       "      <td>Galaxy S4</td>\n",
       "      <td>三星Galaxy S4</td>\n",
       "      <td>371</td>\n",
       "    </tr>\n",
       "    <tr>\n",
       "      <th>39</th>\n",
       "      <td>8749105586608216142</td>\n",
       "      <td>小米</td>\n",
       "      <td>MI 1S</td>\n",
       "      <td>小米MI 1S</td>\n",
       "      <td>842</td>\n",
       "    </tr>\n",
       "    <tr>\n",
       "      <th>40</th>\n",
       "      <td>1170363371146351661</td>\n",
       "      <td>联想</td>\n",
       "      <td>A820t</td>\n",
       "      <td>联想A820t</td>\n",
       "      <td>1226</td>\n",
       "    </tr>\n",
       "    <tr>\n",
       "      <th>41</th>\n",
       "      <td>-5155397683752679020</td>\n",
       "      <td>华为</td>\n",
       "      <td>荣耀3C</td>\n",
       "      <td>华为荣耀3C</td>\n",
       "      <td>730</td>\n",
       "    </tr>\n",
       "    <tr>\n",
       "      <th>42</th>\n",
       "      <td>3933889243973057197</td>\n",
       "      <td>小米</td>\n",
       "      <td>红米</td>\n",
       "      <td>小米红米</td>\n",
       "      <td>858</td>\n",
       "    </tr>\n",
       "    <tr>\n",
       "      <th>43</th>\n",
       "      <td>7257880420181554729</td>\n",
       "      <td>小米</td>\n",
       "      <td>MI 2A</td>\n",
       "      <td>小米MI 2A</td>\n",
       "      <td>844</td>\n",
       "    </tr>\n",
       "    <tr>\n",
       "      <th>44</th>\n",
       "      <td>1234582813120123953</td>\n",
       "      <td>三星</td>\n",
       "      <td>Galaxy S2</td>\n",
       "      <td>三星Galaxy S2</td>\n",
       "      <td>364</td>\n",
       "    </tr>\n",
       "    <tr>\n",
       "      <th>45</th>\n",
       "      <td>-4733939105220796309</td>\n",
       "      <td>三星</td>\n",
       "      <td>Galaxy S4</td>\n",
       "      <td>三星Galaxy S4</td>\n",
       "      <td>371</td>\n",
       "    </tr>\n",
       "    <tr>\n",
       "      <th>46</th>\n",
       "      <td>8879737470175624918</td>\n",
       "      <td>小米</td>\n",
       "      <td>MI 2A</td>\n",
       "      <td>小米MI 2A</td>\n",
       "      <td>844</td>\n",
       "    </tr>\n",
       "    <tr>\n",
       "      <th>47</th>\n",
       "      <td>-8763379009069417607</td>\n",
       "      <td>海信</td>\n",
       "      <td>EG966</td>\n",
       "      <td>海信EG966</td>\n",
       "      <td>1019</td>\n",
       "    </tr>\n",
       "    <tr>\n",
       "      <th>48</th>\n",
       "      <td>-1183635331565164049</td>\n",
       "      <td>三星</td>\n",
       "      <td>Galaxy S2</td>\n",
       "      <td>三星Galaxy S2</td>\n",
       "      <td>364</td>\n",
       "    </tr>\n",
       "    <tr>\n",
       "      <th>49</th>\n",
       "      <td>3379712123596745643</td>\n",
       "      <td>小米</td>\n",
       "      <td>红米</td>\n",
       "      <td>小米红米</td>\n",
       "      <td>858</td>\n",
       "    </tr>\n",
       "  </tbody>\n",
       "</table>\n",
       "</div>"
      ],
      "text/plain": [
       "              device_id phone_brand   device_model  brand_and_model  \\\n",
       "0  -8890648629457979026          小米             红米             小米红米   \n",
       "1   1277779817574759137          小米           MI 2           小米MI 2   \n",
       "2   5137427614288105724          三星      Galaxy S4      三星Galaxy S4   \n",
       "3   3669464369358936369       SUGAR           时尚手机        SUGAR时尚手机   \n",
       "4  -5019277647504317457          三星  Galaxy Note 2  三星Galaxy Note 2   \n",
       "5   3238009352149731868          华为           Mate           华为Mate   \n",
       "6  -3883532755183027260          小米          MI 2S          小米MI 2S   \n",
       "7  -2972199645857147708          华为          G610S          华为G610S   \n",
       "8  -5827952925479472594          小米    MI One Plus    小米MI One Plus   \n",
       "9  -8262508968076336275        vivo            S7I          vivoS7I   \n",
       "10  5840378295166286440          三星      Galaxy S3      三星Galaxy S3   \n",
       "11 -5776341595519925628          小米          MI 2A          小米MI 2A   \n",
       "12  3437705102632680210          三星      Galaxy S3      三星Galaxy S3   \n",
       "13 -3568334676360016285          三星      Galaxy S3      三星Galaxy S3   \n",
       "14   556978549708484782          小米           MI 2           小米MI 2   \n",
       "15  5694497738268412307          小米           MI 3           小米MI 3   \n",
       "16  6327116114284382479          华为      G520-0000      华为G520-0000   \n",
       "17   773248989809697210        vivo          X5Pro        vivoX5Pro   \n",
       "18  -686020914357018824          小米          MI 2S          小米MI 2S   \n",
       "19  6936613487637228956          魅族            MX2            魅族MX2   \n",
       "20 -3875043166283300758          三星  Galaxy Note 2  三星Galaxy Note 2   \n",
       "21 -6964140211214884922          小米          MI 2S          小米MI 2S   \n",
       "22   -30236203766311351          小米          MI 2S          小米MI 2S   \n",
       "23  4887985552773989409        vivo          Xplay        vivoXplay   \n",
       "24  7206202610070842107          三星  Galaxy Note 2  三星Galaxy Note 2   \n",
       "25   -39620037751344714          小米          MI 2S          小米MI 2S   \n",
       "26  7223189369472462826          酷派           7270           酷派7270   \n",
       "27 -3998002640294516352          天语        Touch 3        天语Touch 3   \n",
       "28  2527845705328727233        OPPO          R2017        OPPOR2017   \n",
       "29 -3157952721100703520          三星  Galaxy Note 2  三星Galaxy Note 2   \n",
       "30 -6083057230710001248          中兴           795+           中兴795+   \n",
       "31 -4083221898711926203          酷派         大神Note         酷派大神Note   \n",
       "32 -4523542780146466405        vivo            Y3T          vivoY3T   \n",
       "33 -5913071468598874323          三星          S7566          三星S7566   \n",
       "34 -2339363715932966819          小米    MI One Plus    小米MI One Plus   \n",
       "35  4106908628505542038          金立         GN708W         金立GN708W   \n",
       "36  -613324030015638453          联想      乐檬K3 Note      联想乐檬K3 Note   \n",
       "37 -2943457097948271624          三星  Galaxy Note 2  三星Galaxy Note 2   \n",
       "38 -8617503367917252519          三星      Galaxy S4      三星Galaxy S4   \n",
       "39  8749105586608216142          小米          MI 1S          小米MI 1S   \n",
       "40  1170363371146351661          联想          A820t          联想A820t   \n",
       "41 -5155397683752679020          华为           荣耀3C           华为荣耀3C   \n",
       "42  3933889243973057197          小米             红米             小米红米   \n",
       "43  7257880420181554729          小米          MI 2A          小米MI 2A   \n",
       "44  1234582813120123953          三星      Galaxy S2      三星Galaxy S2   \n",
       "45 -4733939105220796309          三星      Galaxy S4      三星Galaxy S4   \n",
       "46  8879737470175624918          小米          MI 2A          小米MI 2A   \n",
       "47 -8763379009069417607          海信          EG966          海信EG966   \n",
       "48 -1183635331565164049          三星      Galaxy S2      三星Galaxy S2   \n",
       "49  3379712123596745643          小米             红米             小米红米   \n",
       "\n",
       "    encoded_model  \n",
       "0             858  \n",
       "1             843  \n",
       "2             371  \n",
       "3             166  \n",
       "4             347  \n",
       "5             671  \n",
       "6             846  \n",
       "7             648  \n",
       "8             852  \n",
       "9             214  \n",
       "10            368  \n",
       "11            844  \n",
       "12            368  \n",
       "13            368  \n",
       "14            843  \n",
       "15            847  \n",
       "16            639  \n",
       "17            232  \n",
       "18            846  \n",
       "19           1651  \n",
       "20            347  \n",
       "21            846  \n",
       "22            846  \n",
       "23            241  \n",
       "24            347  \n",
       "25            846  \n",
       "26           1458  \n",
       "27            812  \n",
       "28            124  \n",
       "29            347  \n",
       "30            451  \n",
       "31           1541  \n",
       "32            270  \n",
       "33            429  \n",
       "34            852  \n",
       "35           1597  \n",
       "36           1309  \n",
       "37            347  \n",
       "38            371  \n",
       "39            842  \n",
       "40           1226  \n",
       "41            730  \n",
       "42            858  \n",
       "43            844  \n",
       "44            364  \n",
       "45            371  \n",
       "46            844  \n",
       "47           1019  \n",
       "48            364  \n",
       "49            858  "
      ]
     },
     "execution_count": 7,
     "metadata": {},
     "output_type": "execute_result"
    }
   ],
   "source": [
    "# Take a look to see what phone_brands look like now.\n",
    "phone_brands.head(50)"
   ]
  },
  {
   "cell_type": "markdown",
   "metadata": {},
   "source": [
    "# Merging Files Together"
   ]
  },
  {
   "cell_type": "code",
   "execution_count": 8,
   "metadata": {
    "scrolled": false
   },
   "outputs": [
    {
     "name": "stdout",
     "output_type": "stream",
     "text": [
      "(459943, 2)\n"
     ]
    },
    {
     "data": {
      "text/html": [
       "<div>\n",
       "<style scoped>\n",
       "    .dataframe tbody tr th:only-of-type {\n",
       "        vertical-align: middle;\n",
       "    }\n",
       "\n",
       "    .dataframe tbody tr th {\n",
       "        vertical-align: top;\n",
       "    }\n",
       "\n",
       "    .dataframe thead th {\n",
       "        text-align: right;\n",
       "    }\n",
       "</style>\n",
       "<table border=\"1\" class=\"dataframe\">\n",
       "  <thead>\n",
       "    <tr style=\"text-align: right;\">\n",
       "      <th></th>\n",
       "      <th>app_id</th>\n",
       "      <th>label_id</th>\n",
       "    </tr>\n",
       "  </thead>\n",
       "  <tbody>\n",
       "    <tr>\n",
       "      <th>0</th>\n",
       "      <td>7324884708820027918</td>\n",
       "      <td>251</td>\n",
       "    </tr>\n",
       "    <tr>\n",
       "      <th>1</th>\n",
       "      <td>-4494216993218550286</td>\n",
       "      <td>251</td>\n",
       "    </tr>\n",
       "    <tr>\n",
       "      <th>2</th>\n",
       "      <td>6058196446775239644</td>\n",
       "      <td>406</td>\n",
       "    </tr>\n",
       "    <tr>\n",
       "      <th>3</th>\n",
       "      <td>6058196446775239644</td>\n",
       "      <td>407</td>\n",
       "    </tr>\n",
       "    <tr>\n",
       "      <th>4</th>\n",
       "      <td>8694625920731541625</td>\n",
       "      <td>406</td>\n",
       "    </tr>\n",
       "  </tbody>\n",
       "</table>\n",
       "</div>"
      ],
      "text/plain": [
       "                app_id  label_id\n",
       "0  7324884708820027918       251\n",
       "1 -4494216993218550286       251\n",
       "2  6058196446775239644       406\n",
       "3  6058196446775239644       407\n",
       "4  8694625920731541625       406"
      ]
     },
     "execution_count": 8,
     "metadata": {},
     "output_type": "execute_result"
    }
   ],
   "source": [
    "print(app_labels.shape)\n",
    "app_labels.head()"
   ]
  },
  {
   "cell_type": "code",
   "execution_count": 9,
   "metadata": {},
   "outputs": [
    {
     "name": "stdout",
     "output_type": "stream",
     "text": [
      "(32473067, 3)\n"
     ]
    },
    {
     "data": {
      "text/html": [
       "<div>\n",
       "<style scoped>\n",
       "    .dataframe tbody tr th:only-of-type {\n",
       "        vertical-align: middle;\n",
       "    }\n",
       "\n",
       "    .dataframe tbody tr th {\n",
       "        vertical-align: top;\n",
       "    }\n",
       "\n",
       "    .dataframe thead th {\n",
       "        text-align: right;\n",
       "    }\n",
       "</style>\n",
       "<table border=\"1\" class=\"dataframe\">\n",
       "  <thead>\n",
       "    <tr style=\"text-align: right;\">\n",
       "      <th></th>\n",
       "      <th>event_id</th>\n",
       "      <th>app_id</th>\n",
       "      <th>is_active</th>\n",
       "    </tr>\n",
       "  </thead>\n",
       "  <tbody>\n",
       "    <tr>\n",
       "      <th>0</th>\n",
       "      <td>2</td>\n",
       "      <td>5927333115845830913</td>\n",
       "      <td>True</td>\n",
       "    </tr>\n",
       "    <tr>\n",
       "      <th>1</th>\n",
       "      <td>2</td>\n",
       "      <td>-5720078949152207372</td>\n",
       "      <td>False</td>\n",
       "    </tr>\n",
       "    <tr>\n",
       "      <th>2</th>\n",
       "      <td>2</td>\n",
       "      <td>-1633887856876571208</td>\n",
       "      <td>False</td>\n",
       "    </tr>\n",
       "    <tr>\n",
       "      <th>3</th>\n",
       "      <td>2</td>\n",
       "      <td>-653184325010919369</td>\n",
       "      <td>True</td>\n",
       "    </tr>\n",
       "    <tr>\n",
       "      <th>4</th>\n",
       "      <td>2</td>\n",
       "      <td>8693964245073640147</td>\n",
       "      <td>True</td>\n",
       "    </tr>\n",
       "  </tbody>\n",
       "</table>\n",
       "</div>"
      ],
      "text/plain": [
       "   event_id               app_id  is_active\n",
       "0         2  5927333115845830913       True\n",
       "1         2 -5720078949152207372      False\n",
       "2         2 -1633887856876571208      False\n",
       "3         2  -653184325010919369       True\n",
       "4         2  8693964245073640147       True"
      ]
     },
     "execution_count": 9,
     "metadata": {},
     "output_type": "execute_result"
    }
   ],
   "source": [
    "print(app_events.shape)\n",
    "app_events.head()"
   ]
  },
  {
   "cell_type": "markdown",
   "metadata": {},
   "source": [
    "Previously, my kernel would crash after merging the two files together without using drop dupes. My solution is to drop duplicates and thats why it is spelled 'ddupe' for drop dupe. The reason the kernel would crash shortly after the creation of the new file is due to the fact that the rows grew from 32 million to over 200 million. "
   ]
  },
  {
   "cell_type": "code",
   "execution_count": 10,
   "metadata": {},
   "outputs": [
    {
     "name": "stdout",
     "output_type": "stream",
     "text": [
      "(117374, 3)\n"
     ]
    },
    {
     "data": {
      "text/html": [
       "<div>\n",
       "<style scoped>\n",
       "    .dataframe tbody tr th:only-of-type {\n",
       "        vertical-align: middle;\n",
       "    }\n",
       "\n",
       "    .dataframe tbody tr th {\n",
       "        vertical-align: top;\n",
       "    }\n",
       "\n",
       "    .dataframe thead th {\n",
       "        text-align: right;\n",
       "    }\n",
       "</style>\n",
       "<table border=\"1\" class=\"dataframe\">\n",
       "  <thead>\n",
       "    <tr style=\"text-align: right;\">\n",
       "      <th></th>\n",
       "      <th>app_id</th>\n",
       "      <th>label_id</th>\n",
       "      <th>is_active</th>\n",
       "    </tr>\n",
       "  </thead>\n",
       "  <tbody>\n",
       "    <tr>\n",
       "      <th>0</th>\n",
       "      <td>7324884708820027918</td>\n",
       "      <td>251</td>\n",
       "      <td>False</td>\n",
       "    </tr>\n",
       "    <tr>\n",
       "      <th>6</th>\n",
       "      <td>7324884708820027918</td>\n",
       "      <td>251</td>\n",
       "      <td>True</td>\n",
       "    </tr>\n",
       "    <tr>\n",
       "      <th>11</th>\n",
       "      <td>7324884708820027918</td>\n",
       "      <td>691</td>\n",
       "      <td>False</td>\n",
       "    </tr>\n",
       "    <tr>\n",
       "      <th>17</th>\n",
       "      <td>7324884708820027918</td>\n",
       "      <td>691</td>\n",
       "      <td>True</td>\n",
       "    </tr>\n",
       "    <tr>\n",
       "      <th>22</th>\n",
       "      <td>7324884708820027918</td>\n",
       "      <td>751</td>\n",
       "      <td>False</td>\n",
       "    </tr>\n",
       "  </tbody>\n",
       "</table>\n",
       "</div>"
      ],
      "text/plain": [
       "                 app_id  label_id  is_active\n",
       "0   7324884708820027918       251      False\n",
       "6   7324884708820027918       251       True\n",
       "11  7324884708820027918       691      False\n",
       "17  7324884708820027918       691       True\n",
       "22  7324884708820027918       751      False"
      ]
     },
     "execution_count": 10,
     "metadata": {},
     "output_type": "execute_result"
    }
   ],
   "source": [
    "# Experimenting with how to handle dupes. \n",
    "# Adding labels to app_events\n",
    "apps_labeled = pd.merge(app_labels,\n",
    "                       app_events[['app_id', 'is_active']],\n",
    "                       on='app_id').dropna().drop_duplicates()\n",
    "\n",
    "print(apps_labeled.shape)\n",
    "apps_labeled.head()"
   ]
  },
  {
   "cell_type": "code",
   "execution_count": 11,
   "metadata": {
    "scrolled": true
   },
   "outputs": [
    {
     "name": "stdout",
     "output_type": "stream",
     "text": [
      "(1097150, 6)\n"
     ]
    },
    {
     "data": {
      "text/html": [
       "<div>\n",
       "<style scoped>\n",
       "    .dataframe tbody tr th:only-of-type {\n",
       "        vertical-align: middle;\n",
       "    }\n",
       "\n",
       "    .dataframe tbody tr th {\n",
       "        vertical-align: top;\n",
       "    }\n",
       "\n",
       "    .dataframe thead th {\n",
       "        text-align: right;\n",
       "    }\n",
       "</style>\n",
       "<table border=\"1\" class=\"dataframe\">\n",
       "  <thead>\n",
       "    <tr style=\"text-align: right;\">\n",
       "      <th></th>\n",
       "      <th>device_id</th>\n",
       "      <th>gender</th>\n",
       "      <th>age</th>\n",
       "      <th>group</th>\n",
       "      <th>app_id</th>\n",
       "      <th>is_active</th>\n",
       "    </tr>\n",
       "  </thead>\n",
       "  <tbody>\n",
       "    <tr>\n",
       "      <th>0</th>\n",
       "      <td>-8260683887967679142</td>\n",
       "      <td>M</td>\n",
       "      <td>35</td>\n",
       "      <td>M32-38</td>\n",
       "      <td>4287147352639325907</td>\n",
       "      <td>0</td>\n",
       "    </tr>\n",
       "    <tr>\n",
       "      <th>1</th>\n",
       "      <td>-8260683887967679142</td>\n",
       "      <td>M</td>\n",
       "      <td>35</td>\n",
       "      <td>M32-38</td>\n",
       "      <td>-4085686983594738208</td>\n",
       "      <td>0</td>\n",
       "    </tr>\n",
       "    <tr>\n",
       "      <th>2</th>\n",
       "      <td>-8260683887967679142</td>\n",
       "      <td>M</td>\n",
       "      <td>35</td>\n",
       "      <td>M32-38</td>\n",
       "      <td>6324194957022958681</td>\n",
       "      <td>0</td>\n",
       "    </tr>\n",
       "    <tr>\n",
       "      <th>3</th>\n",
       "      <td>-8260683887967679142</td>\n",
       "      <td>M</td>\n",
       "      <td>35</td>\n",
       "      <td>M32-38</td>\n",
       "      <td>-8687507491028761317</td>\n",
       "      <td>0</td>\n",
       "    </tr>\n",
       "    <tr>\n",
       "      <th>4</th>\n",
       "      <td>-8260683887967679142</td>\n",
       "      <td>M</td>\n",
       "      <td>35</td>\n",
       "      <td>M32-38</td>\n",
       "      <td>877288515501232570</td>\n",
       "      <td>1</td>\n",
       "    </tr>\n",
       "  </tbody>\n",
       "</table>\n",
       "</div>"
      ],
      "text/plain": [
       "             device_id gender  age   group               app_id  is_active\n",
       "0 -8260683887967679142      M   35  M32-38  4287147352639325907          0\n",
       "1 -8260683887967679142      M   35  M32-38 -4085686983594738208          0\n",
       "2 -8260683887967679142      M   35  M32-38  6324194957022958681          0\n",
       "3 -8260683887967679142      M   35  M32-38 -8687507491028761317          0\n",
       "4 -8260683887967679142      M   35  M32-38   877288515501232570          1"
      ]
     },
     "execution_count": 11,
     "metadata": {},
     "output_type": "execute_result"
    }
   ],
   "source": [
    "# Merge ga_train and device_apps\n",
    "ga_apps = pd.merge(ga_train,\n",
    "                  device_apps[['app_id', 'is_active', 'device_id']],\n",
    "                  on='device_id').dropna().drop_duplicates()\n",
    "#Shape of ga_apps\n",
    "print(ga_apps.shape)\n",
    "\n",
    "# Show how the new df looks.\n",
    "ga_apps.head()"
   ]
  },
  {
   "cell_type": "code",
   "execution_count": 12,
   "metadata": {},
   "outputs": [
    {
     "name": "stdout",
     "output_type": "stream",
     "text": [
      "(1097150, 7)\n"
     ]
    },
    {
     "data": {
      "text/html": [
       "<div>\n",
       "<style scoped>\n",
       "    .dataframe tbody tr th:only-of-type {\n",
       "        vertical-align: middle;\n",
       "    }\n",
       "\n",
       "    .dataframe tbody tr th {\n",
       "        vertical-align: top;\n",
       "    }\n",
       "\n",
       "    .dataframe thead th {\n",
       "        text-align: right;\n",
       "    }\n",
       "</style>\n",
       "<table border=\"1\" class=\"dataframe\">\n",
       "  <thead>\n",
       "    <tr style=\"text-align: right;\">\n",
       "      <th></th>\n",
       "      <th>device_id</th>\n",
       "      <th>gender</th>\n",
       "      <th>age</th>\n",
       "      <th>group</th>\n",
       "      <th>app_id</th>\n",
       "      <th>is_active</th>\n",
       "      <th>encoded_model</th>\n",
       "    </tr>\n",
       "  </thead>\n",
       "  <tbody>\n",
       "    <tr>\n",
       "      <th>0</th>\n",
       "      <td>-8260683887967679142</td>\n",
       "      <td>M</td>\n",
       "      <td>35</td>\n",
       "      <td>M32-38</td>\n",
       "      <td>4287147352639325907</td>\n",
       "      <td>0</td>\n",
       "      <td>843</td>\n",
       "    </tr>\n",
       "    <tr>\n",
       "      <th>1</th>\n",
       "      <td>-8260683887967679142</td>\n",
       "      <td>M</td>\n",
       "      <td>35</td>\n",
       "      <td>M32-38</td>\n",
       "      <td>-4085686983594738208</td>\n",
       "      <td>0</td>\n",
       "      <td>843</td>\n",
       "    </tr>\n",
       "    <tr>\n",
       "      <th>2</th>\n",
       "      <td>-8260683887967679142</td>\n",
       "      <td>M</td>\n",
       "      <td>35</td>\n",
       "      <td>M32-38</td>\n",
       "      <td>6324194957022958681</td>\n",
       "      <td>0</td>\n",
       "      <td>843</td>\n",
       "    </tr>\n",
       "    <tr>\n",
       "      <th>3</th>\n",
       "      <td>-8260683887967679142</td>\n",
       "      <td>M</td>\n",
       "      <td>35</td>\n",
       "      <td>M32-38</td>\n",
       "      <td>-8687507491028761317</td>\n",
       "      <td>0</td>\n",
       "      <td>843</td>\n",
       "    </tr>\n",
       "    <tr>\n",
       "      <th>4</th>\n",
       "      <td>-8260683887967679142</td>\n",
       "      <td>M</td>\n",
       "      <td>35</td>\n",
       "      <td>M32-38</td>\n",
       "      <td>877288515501232570</td>\n",
       "      <td>1</td>\n",
       "      <td>843</td>\n",
       "    </tr>\n",
       "  </tbody>\n",
       "</table>\n",
       "</div>"
      ],
      "text/plain": [
       "             device_id gender  age   group               app_id  is_active  \\\n",
       "0 -8260683887967679142      M   35  M32-38  4287147352639325907          0   \n",
       "1 -8260683887967679142      M   35  M32-38 -4085686983594738208          0   \n",
       "2 -8260683887967679142      M   35  M32-38  6324194957022958681          0   \n",
       "3 -8260683887967679142      M   35  M32-38 -8687507491028761317          0   \n",
       "4 -8260683887967679142      M   35  M32-38   877288515501232570          1   \n",
       "\n",
       "   encoded_model  \n",
       "0            843  \n",
       "1            843  \n",
       "2            843  \n",
       "3            843  \n",
       "4            843  "
      ]
     },
     "execution_count": 12,
     "metadata": {},
     "output_type": "execute_result"
    }
   ],
   "source": [
    "# Merge the previous data set with brands now. \n",
    "ga_apps_brands = pd.merge(ga_apps,\n",
    "                         phone_brands[['device_id', 'encoded_model']],\n",
    "                         on='device_id').dropna().drop_duplicates()\n",
    "#Show me the shape\n",
    "print(ga_apps_brands.shape)\n",
    "\n",
    "#Look at how the data looks.\n",
    "ga_apps_brands.head()"
   ]
  },
  {
   "cell_type": "code",
   "execution_count": 13,
   "metadata": {},
   "outputs": [
    {
     "name": "stdout",
     "output_type": "stream",
     "text": [
      "(7034111, 8)\n"
     ]
    },
    {
     "data": {
      "text/html": [
       "<div>\n",
       "<style scoped>\n",
       "    .dataframe tbody tr th:only-of-type {\n",
       "        vertical-align: middle;\n",
       "    }\n",
       "\n",
       "    .dataframe tbody tr th {\n",
       "        vertical-align: top;\n",
       "    }\n",
       "\n",
       "    .dataframe thead th {\n",
       "        text-align: right;\n",
       "    }\n",
       "</style>\n",
       "<table border=\"1\" class=\"dataframe\">\n",
       "  <thead>\n",
       "    <tr style=\"text-align: right;\">\n",
       "      <th></th>\n",
       "      <th>device_id</th>\n",
       "      <th>gender</th>\n",
       "      <th>age</th>\n",
       "      <th>group</th>\n",
       "      <th>app_id</th>\n",
       "      <th>is_active</th>\n",
       "      <th>encoded_model</th>\n",
       "      <th>label_id</th>\n",
       "    </tr>\n",
       "  </thead>\n",
       "  <tbody>\n",
       "    <tr>\n",
       "      <th>0</th>\n",
       "      <td>-8260683887967679142</td>\n",
       "      <td>M</td>\n",
       "      <td>35</td>\n",
       "      <td>M32-38</td>\n",
       "      <td>4287147352639325907</td>\n",
       "      <td>0</td>\n",
       "      <td>843</td>\n",
       "      <td>713</td>\n",
       "    </tr>\n",
       "    <tr>\n",
       "      <th>2</th>\n",
       "      <td>-8260683887967679142</td>\n",
       "      <td>M</td>\n",
       "      <td>35</td>\n",
       "      <td>M32-38</td>\n",
       "      <td>4287147352639325907</td>\n",
       "      <td>0</td>\n",
       "      <td>843</td>\n",
       "      <td>704</td>\n",
       "    </tr>\n",
       "    <tr>\n",
       "      <th>4</th>\n",
       "      <td>-8260683887967679142</td>\n",
       "      <td>M</td>\n",
       "      <td>35</td>\n",
       "      <td>M32-38</td>\n",
       "      <td>4287147352639325907</td>\n",
       "      <td>0</td>\n",
       "      <td>843</td>\n",
       "      <td>548</td>\n",
       "    </tr>\n",
       "    <tr>\n",
       "      <th>6</th>\n",
       "      <td>8761770737926125955</td>\n",
       "      <td>F</td>\n",
       "      <td>22</td>\n",
       "      <td>F23-</td>\n",
       "      <td>4287147352639325907</td>\n",
       "      <td>0</td>\n",
       "      <td>226</td>\n",
       "      <td>713</td>\n",
       "    </tr>\n",
       "    <tr>\n",
       "      <th>8</th>\n",
       "      <td>8761770737926125955</td>\n",
       "      <td>F</td>\n",
       "      <td>22</td>\n",
       "      <td>F23-</td>\n",
       "      <td>4287147352639325907</td>\n",
       "      <td>0</td>\n",
       "      <td>226</td>\n",
       "      <td>704</td>\n",
       "    </tr>\n",
       "  </tbody>\n",
       "</table>\n",
       "</div>"
      ],
      "text/plain": [
       "             device_id gender  age   group               app_id  is_active  \\\n",
       "0 -8260683887967679142      M   35  M32-38  4287147352639325907          0   \n",
       "2 -8260683887967679142      M   35  M32-38  4287147352639325907          0   \n",
       "4 -8260683887967679142      M   35  M32-38  4287147352639325907          0   \n",
       "6  8761770737926125955      F   22    F23-  4287147352639325907          0   \n",
       "8  8761770737926125955      F   22    F23-  4287147352639325907          0   \n",
       "\n",
       "   encoded_model  label_id  \n",
       "0            843       713  \n",
       "2            843       704  \n",
       "4            843       548  \n",
       "6            226       713  \n",
       "8            226       704  "
      ]
     },
     "execution_count": 13,
     "metadata": {},
     "output_type": "execute_result"
    }
   ],
   "source": [
    "# Putting all of the data sets together.\n",
    "ga_apps_labeled_brands = pd.merge(ga_apps_brands,\n",
    "                                 apps_labeled[['app_id', 'label_id']],\n",
    "                                 on='app_id').dropna().drop_duplicates()\n",
    "#Show me the shape\n",
    "print(ga_apps_labeled_brands.shape)\n",
    "\n",
    "#Look at how the data looks.\n",
    "ga_apps_labeled_brands.head()"
   ]
  },
  {
   "cell_type": "code",
   "execution_count": 14,
   "metadata": {},
   "outputs": [],
   "source": [
    "# Convert gender into a binary output\n",
    "ga_apps_labeled_brands['gender'] = ga_apps_labeled_brands['gender'].apply(lambda x: 1 if x == 'M' else 0 )"
   ]
  },
  {
   "cell_type": "code",
   "execution_count": 15,
   "metadata": {
    "scrolled": true
   },
   "outputs": [
    {
     "data": {
      "text/plain": [
       "1    4942458\n",
       "0    2091653\n",
       "Name: gender, dtype: int64"
      ]
     },
     "execution_count": 15,
     "metadata": {},
     "output_type": "execute_result"
    }
   ],
   "source": [
    "ga_apps_labeled_brands.gender.value_counts()"
   ]
  },
  {
   "cell_type": "code",
   "execution_count": 16,
   "metadata": {},
   "outputs": [
    {
     "name": "stdout",
     "output_type": "stream",
     "text": [
      "(7034111, 8)\n"
     ]
    },
    {
     "data": {
      "text/html": [
       "<div>\n",
       "<style scoped>\n",
       "    .dataframe tbody tr th:only-of-type {\n",
       "        vertical-align: middle;\n",
       "    }\n",
       "\n",
       "    .dataframe tbody tr th {\n",
       "        vertical-align: top;\n",
       "    }\n",
       "\n",
       "    .dataframe thead th {\n",
       "        text-align: right;\n",
       "    }\n",
       "</style>\n",
       "<table border=\"1\" class=\"dataframe\">\n",
       "  <thead>\n",
       "    <tr style=\"text-align: right;\">\n",
       "      <th></th>\n",
       "      <th>device_id</th>\n",
       "      <th>gender</th>\n",
       "      <th>age</th>\n",
       "      <th>group</th>\n",
       "      <th>app_id</th>\n",
       "      <th>is_active</th>\n",
       "      <th>encoded_model</th>\n",
       "      <th>label_id</th>\n",
       "    </tr>\n",
       "  </thead>\n",
       "  <tbody>\n",
       "    <tr>\n",
       "      <th>0</th>\n",
       "      <td>-8260683887967679142</td>\n",
       "      <td>1</td>\n",
       "      <td>35</td>\n",
       "      <td>M32-38</td>\n",
       "      <td>4287147352639325907</td>\n",
       "      <td>0</td>\n",
       "      <td>843</td>\n",
       "      <td>713</td>\n",
       "    </tr>\n",
       "    <tr>\n",
       "      <th>2</th>\n",
       "      <td>-8260683887967679142</td>\n",
       "      <td>1</td>\n",
       "      <td>35</td>\n",
       "      <td>M32-38</td>\n",
       "      <td>4287147352639325907</td>\n",
       "      <td>0</td>\n",
       "      <td>843</td>\n",
       "      <td>704</td>\n",
       "    </tr>\n",
       "    <tr>\n",
       "      <th>4</th>\n",
       "      <td>-8260683887967679142</td>\n",
       "      <td>1</td>\n",
       "      <td>35</td>\n",
       "      <td>M32-38</td>\n",
       "      <td>4287147352639325907</td>\n",
       "      <td>0</td>\n",
       "      <td>843</td>\n",
       "      <td>548</td>\n",
       "    </tr>\n",
       "    <tr>\n",
       "      <th>6</th>\n",
       "      <td>8761770737926125955</td>\n",
       "      <td>0</td>\n",
       "      <td>22</td>\n",
       "      <td>F23-</td>\n",
       "      <td>4287147352639325907</td>\n",
       "      <td>0</td>\n",
       "      <td>226</td>\n",
       "      <td>713</td>\n",
       "    </tr>\n",
       "    <tr>\n",
       "      <th>8</th>\n",
       "      <td>8761770737926125955</td>\n",
       "      <td>0</td>\n",
       "      <td>22</td>\n",
       "      <td>F23-</td>\n",
       "      <td>4287147352639325907</td>\n",
       "      <td>0</td>\n",
       "      <td>226</td>\n",
       "      <td>704</td>\n",
       "    </tr>\n",
       "  </tbody>\n",
       "</table>\n",
       "</div>"
      ],
      "text/plain": [
       "             device_id  gender  age   group               app_id  is_active  \\\n",
       "0 -8260683887967679142       1   35  M32-38  4287147352639325907          0   \n",
       "2 -8260683887967679142       1   35  M32-38  4287147352639325907          0   \n",
       "4 -8260683887967679142       1   35  M32-38  4287147352639325907          0   \n",
       "6  8761770737926125955       0   22    F23-  4287147352639325907          0   \n",
       "8  8761770737926125955       0   22    F23-  4287147352639325907          0   \n",
       "\n",
       "   encoded_model  label_id  \n",
       "0            843       713  \n",
       "2            843       704  \n",
       "4            843       548  \n",
       "6            226       713  \n",
       "8            226       704  "
      ]
     },
     "execution_count": 16,
     "metadata": {},
     "output_type": "execute_result"
    }
   ],
   "source": [
    "# Make another copy since the previous copy has already been dummified.\n",
    "# Putting all of the data sets together.\n",
    "ga_apps_labeled_brands2 = pd.merge(ga_apps_brands,\n",
    "                                 apps_labeled[['app_id', 'label_id']],\n",
    "                                 on='app_id').dropna().drop_duplicates()\n",
    "\n",
    "# Convert gender into a binary output\n",
    "ga_apps_labeled_brands2['gender'] = ga_apps_labeled_brands2['gender'].apply(lambda x: 1 if x == 'M' else 0 )\n",
    "\n",
    "#Show me the shape\n",
    "print(ga_apps_labeled_brands2.shape)\n",
    "\n",
    "#Look at how the data looks.\n",
    "ga_apps_labeled_brands2.head()"
   ]
  },
  {
   "cell_type": "code",
   "execution_count": 19,
   "metadata": {
    "scrolled": true
   },
   "outputs": [
    {
     "data": {
      "image/png": "[encoded data removed]",
      "text/plain": [
       "<Figure size 1152x1152 with 2 Axes>"
      ]
     },
     "metadata": {},
     "output_type": "display_data"
    }
   ],
   "source": [
    "# Create a heatmap to see if there is any multicollinearity.\n",
    "# Make a smaller data set to use because 7 million rows took too long.\n",
    "group_data_mini = ga_apps_labeled_brands2[:600000]\n",
    "\n",
    "# Group by group since that's the output that we care about.\n",
    "group_data_mini = group_data_mini.groupby('group')\n",
    "\n",
    "plt.rcParams['figure.figsize'] = (16.0, 16.0)\n",
    "plt.rcParams.update({'font.size': 14})\n",
    "sns.heatmap(group_data_mini.corr(), annot=True);"
   ]
  },
  {
   "cell_type": "markdown",
   "metadata": {},
   "source": [
    "From the heat map, we can see that there is low multicollinearity between the different features and the group that we want to identify. The extremely low numbers are a sign that this data will be hard to model since it means that on the surface, the information presented don't have any relation."
   ]
  },
  {
   "cell_type": "markdown",
   "metadata": {},
   "source": [
    "# Creating Dummies\n",
    "\n",
    "Creating dummies is the method that I want to use to utilize the app labels since the number of unique apps is less than the number of unique phone brands/companies. The reason I chose to encode phone brands is due to the volume of phones presented which would dilute the correlation of the features even more. Using dummies for the app labels will hopefully give more insight into the data at hand. "
   ]
  },
  {
   "cell_type": "code",
   "execution_count": 17,
   "metadata": {
    "scrolled": true
   },
   "outputs": [
    {
     "name": "stdout",
     "output_type": "stream",
     "text": [
      "(7034111, 493)\n"
     ]
    },
    {
     "data": {
      "text/html": [
       "<div>\n",
       "<style scoped>\n",
       "    .dataframe tbody tr th:only-of-type {\n",
       "        vertical-align: middle;\n",
       "    }\n",
       "\n",
       "    .dataframe tbody tr th {\n",
       "        vertical-align: top;\n",
       "    }\n",
       "\n",
       "    .dataframe thead th {\n",
       "        text-align: right;\n",
       "    }\n",
       "</style>\n",
       "<table border=\"1\" class=\"dataframe\">\n",
       "  <thead>\n",
       "    <tr style=\"text-align: right;\">\n",
       "      <th></th>\n",
       "      <th>device_id</th>\n",
       "      <th>gender</th>\n",
       "      <th>age</th>\n",
       "      <th>group</th>\n",
       "      <th>app_id</th>\n",
       "      <th>is_active</th>\n",
       "      <th>encoded_model</th>\n",
       "      <th>label_id</th>\n",
       "      <th>2</th>\n",
       "      <th>4</th>\n",
       "      <th>...</th>\n",
       "      <th>1012</th>\n",
       "      <th>1013</th>\n",
       "      <th>1014</th>\n",
       "      <th>1015</th>\n",
       "      <th>1016</th>\n",
       "      <th>1017</th>\n",
       "      <th>1018</th>\n",
       "      <th>1019</th>\n",
       "      <th>1020</th>\n",
       "      <th>1021</th>\n",
       "    </tr>\n",
       "  </thead>\n",
       "  <tbody>\n",
       "    <tr>\n",
       "      <th>0</th>\n",
       "      <td>-8260683887967679142</td>\n",
       "      <td>1</td>\n",
       "      <td>35</td>\n",
       "      <td>M32-38</td>\n",
       "      <td>4287147352639325907</td>\n",
       "      <td>0</td>\n",
       "      <td>843</td>\n",
       "      <td>713</td>\n",
       "      <td>0</td>\n",
       "      <td>0</td>\n",
       "      <td>...</td>\n",
       "      <td>0</td>\n",
       "      <td>0</td>\n",
       "      <td>0</td>\n",
       "      <td>0</td>\n",
       "      <td>0</td>\n",
       "      <td>0</td>\n",
       "      <td>0</td>\n",
       "      <td>0</td>\n",
       "      <td>0</td>\n",
       "      <td>0</td>\n",
       "    </tr>\n",
       "    <tr>\n",
       "      <th>2</th>\n",
       "      <td>-8260683887967679142</td>\n",
       "      <td>1</td>\n",
       "      <td>35</td>\n",
       "      <td>M32-38</td>\n",
       "      <td>4287147352639325907</td>\n",
       "      <td>0</td>\n",
       "      <td>843</td>\n",
       "      <td>704</td>\n",
       "      <td>0</td>\n",
       "      <td>0</td>\n",
       "      <td>...</td>\n",
       "      <td>0</td>\n",
       "      <td>0</td>\n",
       "      <td>0</td>\n",
       "      <td>0</td>\n",
       "      <td>0</td>\n",
       "      <td>0</td>\n",
       "      <td>0</td>\n",
       "      <td>0</td>\n",
       "      <td>0</td>\n",
       "      <td>0</td>\n",
       "    </tr>\n",
       "    <tr>\n",
       "      <th>4</th>\n",
       "      <td>-8260683887967679142</td>\n",
       "      <td>1</td>\n",
       "      <td>35</td>\n",
       "      <td>M32-38</td>\n",
       "      <td>4287147352639325907</td>\n",
       "      <td>0</td>\n",
       "      <td>843</td>\n",
       "      <td>548</td>\n",
       "      <td>0</td>\n",
       "      <td>0</td>\n",
       "      <td>...</td>\n",
       "      <td>0</td>\n",
       "      <td>0</td>\n",
       "      <td>0</td>\n",
       "      <td>0</td>\n",
       "      <td>0</td>\n",
       "      <td>0</td>\n",
       "      <td>0</td>\n",
       "      <td>0</td>\n",
       "      <td>0</td>\n",
       "      <td>0</td>\n",
       "    </tr>\n",
       "    <tr>\n",
       "      <th>6</th>\n",
       "      <td>8761770737926125955</td>\n",
       "      <td>0</td>\n",
       "      <td>22</td>\n",
       "      <td>F23-</td>\n",
       "      <td>4287147352639325907</td>\n",
       "      <td>0</td>\n",
       "      <td>226</td>\n",
       "      <td>713</td>\n",
       "      <td>0</td>\n",
       "      <td>0</td>\n",
       "      <td>...</td>\n",
       "      <td>0</td>\n",
       "      <td>0</td>\n",
       "      <td>0</td>\n",
       "      <td>0</td>\n",
       "      <td>0</td>\n",
       "      <td>0</td>\n",
       "      <td>0</td>\n",
       "      <td>0</td>\n",
       "      <td>0</td>\n",
       "      <td>0</td>\n",
       "    </tr>\n",
       "    <tr>\n",
       "      <th>8</th>\n",
       "      <td>8761770737926125955</td>\n",
       "      <td>0</td>\n",
       "      <td>22</td>\n",
       "      <td>F23-</td>\n",
       "      <td>4287147352639325907</td>\n",
       "      <td>0</td>\n",
       "      <td>226</td>\n",
       "      <td>704</td>\n",
       "      <td>0</td>\n",
       "      <td>0</td>\n",
       "      <td>...</td>\n",
       "      <td>0</td>\n",
       "      <td>0</td>\n",
       "      <td>0</td>\n",
       "      <td>0</td>\n",
       "      <td>0</td>\n",
       "      <td>0</td>\n",
       "      <td>0</td>\n",
       "      <td>0</td>\n",
       "      <td>0</td>\n",
       "      <td>0</td>\n",
       "    </tr>\n",
       "  </tbody>\n",
       "</table>\n",
       "<p>5 rows × 493 columns</p>\n",
       "</div>"
      ],
      "text/plain": [
       "             device_id  gender  age   group               app_id  is_active  \\\n",
       "0 -8260683887967679142       1   35  M32-38  4287147352639325907          0   \n",
       "2 -8260683887967679142       1   35  M32-38  4287147352639325907          0   \n",
       "4 -8260683887967679142       1   35  M32-38  4287147352639325907          0   \n",
       "6  8761770737926125955       0   22    F23-  4287147352639325907          0   \n",
       "8  8761770737926125955       0   22    F23-  4287147352639325907          0   \n",
       "\n",
       "   encoded_model  label_id  2  4  ...   1012  1013  1014  1015  1016  1017  \\\n",
       "0            843       713  0  0  ...      0     0     0     0     0     0   \n",
       "2            843       704  0  0  ...      0     0     0     0     0     0   \n",
       "4            843       548  0  0  ...      0     0     0     0     0     0   \n",
       "6            226       713  0  0  ...      0     0     0     0     0     0   \n",
       "8            226       704  0  0  ...      0     0     0     0     0     0   \n",
       "\n",
       "   1018  1019  1020  1021  \n",
       "0     0     0     0     0  \n",
       "2     0     0     0     0  \n",
       "4     0     0     0     0  \n",
       "6     0     0     0     0  \n",
       "8     0     0     0     0  \n",
       "\n",
       "[5 rows x 493 columns]"
      ]
     },
     "execution_count": 17,
     "metadata": {},
     "output_type": "execute_result"
    }
   ],
   "source": [
    "# Convert label_id into a continuous variable\n",
    "# even though it's numerical, it hasn't been standardized \n",
    "type_dummies = pd.get_dummies(ga_apps_labeled_brands['label_id'])\n",
    "\n",
    "# Concatenate the dummies with the original data set.\n",
    "ga_apps_labeled_brands = pd.concat([ga_apps_labeled_brands, type_dummies], axis=1)\n",
    "\n",
    "print(ga_apps_labeled_brands.shape)\n",
    "\n",
    "ga_apps_labeled_brands.head()"
   ]
  },
  {
   "cell_type": "markdown",
   "metadata": {},
   "source": [
    "# Addressing Class Imbalance\n",
    "\n",
    "Below, we can see that after merging all of the different files together, there were more than 7 million rows! In an effort to conserve calculation time, I decided to downsample the data and also to remedy the class imbalance that my data is facing. It's important to address class imbalance due to the fact that I don't want my model to only be accurate at identifying the dominant class."
   ]
  },
  {
   "cell_type": "code",
   "execution_count": 18,
   "metadata": {
    "scrolled": true
   },
   "outputs": [
    {
     "data": {
      "text/plain": [
       "M32-38    1185421\n",
       "M39+      1107632\n",
       "M23-26     817660\n",
       "M29-31     810956\n",
       "M27-28     530780\n",
       "F33-42     517420\n",
       "M22-       490009\n",
       "F43+       391188\n",
       "F29-32     368450\n",
       "F23-       303034\n",
       "F24-26     265262\n",
       "F27-28     246299\n",
       "Name: group, dtype: int64"
      ]
     },
     "execution_count": 18,
     "metadata": {},
     "output_type": "execute_result"
    }
   ],
   "source": [
    "# Take a look at the distribution of the group values.\n",
    "ga_apps_labeled_brands.group.value_counts()"
   ]
  },
  {
   "cell_type": "code",
   "execution_count": 19,
   "metadata": {},
   "outputs": [
    {
     "data": {
      "text/plain": [
       "M22-      50000\n",
       "M27-28    50000\n",
       "M29-31    50000\n",
       "F29-32    50000\n",
       "F33-42    50000\n",
       "M32-38    50000\n",
       "F27-28    50000\n",
       "M39+      50000\n",
       "F43+      50000\n",
       "M23-26    50000\n",
       "F23-      50000\n",
       "F24-26    50000\n",
       "Name: group, dtype: int64"
      ]
     },
     "execution_count": 19,
     "metadata": {},
     "output_type": "execute_result"
    }
   ],
   "source": [
    "# Downsampling the gender/age training set to 50000.\n",
    "ga_m_youngest = ga_apps_labeled_brands[ga_apps_labeled_brands.group=='M22-']\n",
    "ga_m_younger = ga_apps_labeled_brands[ga_apps_labeled_brands.group=='M23-26']\n",
    "ga_m_young = ga_apps_labeled_brands[ga_apps_labeled_brands.group=='M27-28']\n",
    "ga_m_old = ga_apps_labeled_brands[ga_apps_labeled_brands.group=='M29-31']\n",
    "ga_m_older = ga_apps_labeled_brands[ga_apps_labeled_brands.group=='M32-38']\n",
    "ga_m_oldest = ga_apps_labeled_brands[ga_apps_labeled_brands.group=='M39+']\n",
    "ga_f_youngest = ga_apps_labeled_brands[ga_apps_labeled_brands.group=='F23-']\n",
    "ga_f_younger = ga_apps_labeled_brands[ga_apps_labeled_brands.group=='F24-26']\n",
    "ga_f_young = ga_apps_labeled_brands[ga_apps_labeled_brands.group=='F27-28']\n",
    "ga_f_old = ga_apps_labeled_brands[ga_apps_labeled_brands.group=='F29-32']\n",
    "ga_f_older = ga_apps_labeled_brands[ga_apps_labeled_brands.group=='F33-42']\n",
    "ga_f_oldest = ga_apps_labeled_brands[ga_apps_labeled_brands.group=='F43+']\n",
    "\n",
    "# Downsample majority class\n",
    "ga_m_older_downsampled = resample(ga_m_older, \n",
    "                                 replace=True,     # sample with replacement\n",
    "                                 n_samples=50000)\n",
    "\n",
    "ga_m_oldest_downsampled = resample(ga_m_oldest, \n",
    "                                 replace=True,     # sample with replacement\n",
    "                                 n_samples=50000)\n",
    "\n",
    "ga_m_younger_downsampled = resample(ga_m_younger, \n",
    "                                 replace=True,     # sample with replacement\n",
    "                                 n_samples=50000)\n",
    "\n",
    "ga_m_youngest_downsampled = resample(ga_m_youngest, \n",
    "                                 replace=True,     # sample with replacement\n",
    "                                 n_samples=50000)  \n",
    " \n",
    "ga_m_old_downsampled = resample(ga_m_old, \n",
    "                                 replace=True,     # sample with replacement\n",
    "                                 n_samples=50000) \n",
    "\n",
    "ga_f_older_downsampled = resample(ga_f_older, \n",
    "                                 replace=True,     # sample with replacement\n",
    "                                 n_samples=50000) \n",
    "\n",
    "ga_m_young_downsampled = resample(ga_m_young, \n",
    "                                 replace=True,     # sample with replacement\n",
    "                                 n_samples=50000) \n",
    "\n",
    "ga_f_youngest_downsampled = resample(ga_f_youngest, \n",
    "                                 replace=True,     # sample with replacement\n",
    "                                 n_samples=50000) \n",
    "\n",
    "ga_f_old_downsampled = resample(ga_f_old, \n",
    "                                 replace=True,     # sample with replacement\n",
    "                                 n_samples=50000)\n",
    "\n",
    "ga_f_oldest_downsampled = resample(ga_f_oldest, \n",
    "                                 replace=True,     # sample with replacement\n",
    "                                 n_samples=50000)\n",
    "\n",
    "\n",
    "ga_f_younger_downsampled = resample(ga_f_younger, \n",
    "                                 replace=True,     # sample with replacement\n",
    "                                n_samples=50000)\n",
    "\n",
    "ga_f_young_downsampled = resample(ga_f_young, \n",
    "                                 replace=True,     # sample with replacement\n",
    "                                 n_samples=50000)\n",
    "\n",
    "# Combine downsampled majority class \n",
    "ga_apps_labeled_brands_resampled = pd.concat([ga_m_younger_downsampled, ga_m_older_downsampled,\n",
    "                               ga_m_oldest_downsampled, ga_m_youngest_downsampled,\n",
    "                               ga_m_old_downsampled, ga_f_older_downsampled,\n",
    "                               ga_m_young_downsampled, ga_f_youngest_downsampled,\n",
    "                               ga_f_old_downsampled, ga_f_oldest_downsampled,\n",
    "                               ga_f_younger_downsampled, ga_f_young_downsampled])\n",
    " \n",
    "# Display new class counts\n",
    "ga_apps_labeled_brands_resampled.group.value_counts()"
   ]
  },
  {
   "cell_type": "code",
   "execution_count": 20,
   "metadata": {},
   "outputs": [
    {
     "name": "stdout",
     "output_type": "stream",
     "text": [
      "(600000, 493)\n"
     ]
    },
    {
     "data": {
      "text/html": [
       "<div>\n",
       "<style scoped>\n",
       "    .dataframe tbody tr th:only-of-type {\n",
       "        vertical-align: middle;\n",
       "    }\n",
       "\n",
       "    .dataframe tbody tr th {\n",
       "        vertical-align: top;\n",
       "    }\n",
       "\n",
       "    .dataframe thead th {\n",
       "        text-align: right;\n",
       "    }\n",
       "</style>\n",
       "<table border=\"1\" class=\"dataframe\">\n",
       "  <thead>\n",
       "    <tr style=\"text-align: right;\">\n",
       "      <th></th>\n",
       "      <th>device_id</th>\n",
       "      <th>gender</th>\n",
       "      <th>age</th>\n",
       "      <th>group</th>\n",
       "      <th>app_id</th>\n",
       "      <th>is_active</th>\n",
       "      <th>encoded_model</th>\n",
       "      <th>label_id</th>\n",
       "      <th>2</th>\n",
       "      <th>4</th>\n",
       "      <th>...</th>\n",
       "      <th>1012</th>\n",
       "      <th>1013</th>\n",
       "      <th>1014</th>\n",
       "      <th>1015</th>\n",
       "      <th>1016</th>\n",
       "      <th>1017</th>\n",
       "      <th>1018</th>\n",
       "      <th>1019</th>\n",
       "      <th>1020</th>\n",
       "      <th>1021</th>\n",
       "    </tr>\n",
       "  </thead>\n",
       "  <tbody>\n",
       "    <tr>\n",
       "      <th>4221676</th>\n",
       "      <td>2698525505202181803</td>\n",
       "      <td>1</td>\n",
       "      <td>24</td>\n",
       "      <td>M23-26</td>\n",
       "      <td>4775896950989639373</td>\n",
       "      <td>0</td>\n",
       "      <td>848</td>\n",
       "      <td>549</td>\n",
       "      <td>0</td>\n",
       "      <td>0</td>\n",
       "      <td>...</td>\n",
       "      <td>0</td>\n",
       "      <td>0</td>\n",
       "      <td>0</td>\n",
       "      <td>0</td>\n",
       "      <td>0</td>\n",
       "      <td>0</td>\n",
       "      <td>0</td>\n",
       "      <td>0</td>\n",
       "      <td>0</td>\n",
       "      <td>0</td>\n",
       "    </tr>\n",
       "    <tr>\n",
       "      <th>5361540</th>\n",
       "      <td>-5692536910105530230</td>\n",
       "      <td>1</td>\n",
       "      <td>25</td>\n",
       "      <td>M23-26</td>\n",
       "      <td>4244331088397413857</td>\n",
       "      <td>1</td>\n",
       "      <td>558</td>\n",
       "      <td>128</td>\n",
       "      <td>0</td>\n",
       "      <td>0</td>\n",
       "      <td>...</td>\n",
       "      <td>0</td>\n",
       "      <td>0</td>\n",
       "      <td>0</td>\n",
       "      <td>0</td>\n",
       "      <td>0</td>\n",
       "      <td>0</td>\n",
       "      <td>0</td>\n",
       "      <td>0</td>\n",
       "      <td>0</td>\n",
       "      <td>0</td>\n",
       "    </tr>\n",
       "    <tr>\n",
       "      <th>5125940</th>\n",
       "      <td>7082933418488201352</td>\n",
       "      <td>1</td>\n",
       "      <td>25</td>\n",
       "      <td>M23-26</td>\n",
       "      <td>6666573792468194779</td>\n",
       "      <td>0</td>\n",
       "      <td>350</td>\n",
       "      <td>302</td>\n",
       "      <td>0</td>\n",
       "      <td>0</td>\n",
       "      <td>...</td>\n",
       "      <td>0</td>\n",
       "      <td>0</td>\n",
       "      <td>0</td>\n",
       "      <td>0</td>\n",
       "      <td>0</td>\n",
       "      <td>0</td>\n",
       "      <td>0</td>\n",
       "      <td>0</td>\n",
       "      <td>0</td>\n",
       "      <td>0</td>\n",
       "    </tr>\n",
       "    <tr>\n",
       "      <th>12402740</th>\n",
       "      <td>6419933246028865045</td>\n",
       "      <td>1</td>\n",
       "      <td>23</td>\n",
       "      <td>M23-26</td>\n",
       "      <td>3794287376801314145</td>\n",
       "      <td>0</td>\n",
       "      <td>848</td>\n",
       "      <td>136</td>\n",
       "      <td>0</td>\n",
       "      <td>0</td>\n",
       "      <td>...</td>\n",
       "      <td>0</td>\n",
       "      <td>0</td>\n",
       "      <td>0</td>\n",
       "      <td>0</td>\n",
       "      <td>0</td>\n",
       "      <td>0</td>\n",
       "      <td>0</td>\n",
       "      <td>0</td>\n",
       "      <td>0</td>\n",
       "      <td>0</td>\n",
       "    </tr>\n",
       "    <tr>\n",
       "      <th>7095668</th>\n",
       "      <td>-2407952486795033333</td>\n",
       "      <td>1</td>\n",
       "      <td>25</td>\n",
       "      <td>M23-26</td>\n",
       "      <td>7536856914263861653</td>\n",
       "      <td>0</td>\n",
       "      <td>738</td>\n",
       "      <td>158</td>\n",
       "      <td>0</td>\n",
       "      <td>0</td>\n",
       "      <td>...</td>\n",
       "      <td>0</td>\n",
       "      <td>0</td>\n",
       "      <td>0</td>\n",
       "      <td>0</td>\n",
       "      <td>0</td>\n",
       "      <td>0</td>\n",
       "      <td>0</td>\n",
       "      <td>0</td>\n",
       "      <td>0</td>\n",
       "      <td>0</td>\n",
       "    </tr>\n",
       "  </tbody>\n",
       "</table>\n",
       "<p>5 rows × 493 columns</p>\n",
       "</div>"
      ],
      "text/plain": [
       "                    device_id  gender  age   group               app_id  \\\n",
       "4221676   2698525505202181803       1   24  M23-26  4775896950989639373   \n",
       "5361540  -5692536910105530230       1   25  M23-26  4244331088397413857   \n",
       "5125940   7082933418488201352       1   25  M23-26  6666573792468194779   \n",
       "12402740  6419933246028865045       1   23  M23-26  3794287376801314145   \n",
       "7095668  -2407952486795033333       1   25  M23-26  7536856914263861653   \n",
       "\n",
       "          is_active  encoded_model  label_id  2  4  ...   1012  1013  1014  \\\n",
       "4221676           0            848       549  0  0  ...      0     0     0   \n",
       "5361540           1            558       128  0  0  ...      0     0     0   \n",
       "5125940           0            350       302  0  0  ...      0     0     0   \n",
       "12402740          0            848       136  0  0  ...      0     0     0   \n",
       "7095668           0            738       158  0  0  ...      0     0     0   \n",
       "\n",
       "          1015  1016  1017  1018  1019  1020  1021  \n",
       "4221676      0     0     0     0     0     0     0  \n",
       "5361540      0     0     0     0     0     0     0  \n",
       "5125940      0     0     0     0     0     0     0  \n",
       "12402740     0     0     0     0     0     0     0  \n",
       "7095668      0     0     0     0     0     0     0  \n",
       "\n",
       "[5 rows x 493 columns]"
      ]
     },
     "execution_count": 20,
     "metadata": {},
     "output_type": "execute_result"
    }
   ],
   "source": [
    "# Shape\n",
    "print(ga_apps_labeled_brands_resampled.shape)\n",
    "\n",
    "# Head\n",
    "ga_apps_labeled_brands_resampled.head()"
   ]
  },
  {
   "cell_type": "markdown",
   "metadata": {},
   "source": [
    "# Train Test Split"
   ]
  },
  {
   "cell_type": "code",
   "execution_count": 21,
   "metadata": {},
   "outputs": [],
   "source": [
    "# Create X and y \n",
    "X = ga_apps_labeled_brands_resampled.drop(['group'], axis=1)\n",
    "Y = ga_apps_labeled_brands_resampled['group'].values\n",
    "\n",
    "# Train test split\n",
    "X_train, X_test, y_train, y_test = train_test_split(X, Y, test_size=0.25)"
   ]
  },
  {
   "cell_type": "markdown",
   "metadata": {},
   "source": [
    "# Modeling"
   ]
  },
  {
   "cell_type": "code",
   "execution_count": 126,
   "metadata": {},
   "outputs": [
    {
     "data": {
      "text/plain": [
       "0.08616444444444445"
      ]
     },
     "execution_count": 126,
     "metadata": {},
     "output_type": "execute_result"
    }
   ],
   "source": [
    "lr2 = LogisticRegression(C=2, max_iter=1000, multi_class='multinomial', solver='lbfgs')\n",
    "\n",
    "lr2.fit(X_train, y_train)\n",
    "\n",
    "lr2.score(X_train, y_train)"
   ]
  },
  {
   "cell_type": "code",
   "execution_count": 127,
   "metadata": {},
   "outputs": [
    {
     "data": {
      "text/plain": [
       "array([0.08691739, 0.08606667, 0.08568984, 0.08668985, 0.0854584 ])"
      ]
     },
     "execution_count": 127,
     "metadata": {},
     "output_type": "execute_result"
    }
   ],
   "source": [
    "cross_val_score(lr2, X_train, y_train, cv=5)"
   ]
  },
  {
   "cell_type": "code",
   "execution_count": 128,
   "metadata": {},
   "outputs": [
    {
     "data": {
      "text/plain": [
       "array([[   0, 6135,    0,    0,    0,    0,    0,    0,    0,    0,    0,\n",
       "        6294],\n",
       "       [   0, 6633,    0,    0,    0,    0,    0,    0,    0,    0,    0,\n",
       "        6027],\n",
       "       [   0, 6244,    0,    0,    0,    0,    0,    0,    0,    0,    0,\n",
       "        6205],\n",
       "       [   0, 6118,    0,    0,    0,    0,    0,    0,    0,    0,    0,\n",
       "        6386],\n",
       "       [   0, 6105,    0,    0,    0,    0,    0,    0,    0,    0,    0,\n",
       "        6416],\n",
       "       [   0, 6080,    0,    0,    0,    0,    0,    0,    0,    0,    0,\n",
       "        6468],\n",
       "       [   0, 6193,    0,    0,    0,    0,    0,    0,    0,    0,    0,\n",
       "        6273],\n",
       "       [   0, 6112,    0,    0,    0,    0,    0,    0,    0,    0,    0,\n",
       "        6258],\n",
       "       [   0, 6388,    0,    0,    0,    0,    0,    0,    0,    0,    0,\n",
       "        6251],\n",
       "       [   0, 6213,    0,    0,    0,    0,    0,    0,    0,    0,    0,\n",
       "        6207],\n",
       "       [   0, 6241,    0,    0,    0,    0,    0,    0,    0,    0,    0,\n",
       "        6209],\n",
       "       [   0, 6080,    0,    0,    0,    0,    0,    0,    0,    0,    0,\n",
       "        6464]])"
      ]
     },
     "execution_count": 128,
     "metadata": {},
     "output_type": "execute_result"
    }
   ],
   "source": [
    "# Classify, storing the result in a new variable.\n",
    "lr2_pred = lr2.predict(X_test)\n",
    "\n",
    "# Create a confusion matrix.\n",
    "confusion_matrix(y_test, lr2_pred)"
   ]
  },
  {
   "cell_type": "code",
   "execution_count": 129,
   "metadata": {
    "scrolled": true
   },
   "outputs": [
    {
     "name": "stdout",
     "output_type": "stream",
     "text": [
      "             precision    recall  f1-score   support\n",
      "\n",
      "       F23-       0.00      0.00      0.00     12429\n",
      "     F24-26       0.09      0.52      0.15     12660\n",
      "     F27-28       0.00      0.00      0.00     12449\n",
      "     F29-32       0.00      0.00      0.00     12504\n",
      "     F33-42       0.00      0.00      0.00     12521\n",
      "       F43+       0.00      0.00      0.00     12548\n",
      "       M22-       0.00      0.00      0.00     12466\n",
      "     M23-26       0.00      0.00      0.00     12370\n",
      "     M27-28       0.00      0.00      0.00     12639\n",
      "     M29-31       0.00      0.00      0.00     12420\n",
      "     M32-38       0.00      0.00      0.00     12450\n",
      "       M39+       0.09      0.52      0.15     12544\n",
      "\n",
      "avg / total       0.01      0.09      0.03    150000\n",
      "\n"
     ]
    },
    {
     "name": "stderr",
     "output_type": "stream",
     "text": [
      "/anaconda3/lib/python3.6/site-packages/sklearn/metrics/classification.py:1135: UndefinedMetricWarning: Precision and F-score are ill-defined and being set to 0.0 in labels with no predicted samples.\n",
      "  'precision', 'predicted', average, warn_for)\n"
     ]
    }
   ],
   "source": [
    "# Create a classification report.\n",
    "print(classification_report(y_test, lr2_pred))"
   ]
  },
  {
   "cell_type": "markdown",
   "metadata": {},
   "source": [
    "# Analysis \n",
    "\n",
    "The performance of this model was less than ideal. Furthermore, due to the fact that my model was inaccurate rather than overfitting, I couldn't use any of the regularization techniques to remedy the situation. I set the logistic parameters so that it would be more ideal for multi class identification, but the improvements were minimal.\n",
    "\n",
    "The reason that this wasn't able to perform strongly enough is due to a multitude of reasons, including the large amount of features that were part of the equation, the large amount of classes it had to predict, and the low multicollinearity of the data. \n",
    "\n",
    "Below, I will try to use PCA to extract more information and consolidate the amount of parameters that this model has to estimate. "
   ]
  },
  {
   "cell_type": "markdown",
   "metadata": {},
   "source": [
    "# PCA Train/ Test Split"
   ]
  },
  {
   "cell_type": "code",
   "execution_count": 82,
   "metadata": {},
   "outputs": [],
   "source": [
    "# Instantiate StandardScaler\n",
    "ss = StandardScaler()\n",
    "\n",
    "# Set up the variables.\n",
    "prep_X = ga_apps_labeled_brands_resampled.drop(['group'], axis=1)\n",
    "prep_y = ga_apps_labeled_brands_resampled['group'].values\n",
    "\n",
    "# Standarize and fit the data first \n",
    "stand_x = ss.fit_transform(prep_X)"
   ]
  },
  {
   "cell_type": "code",
   "execution_count": 83,
   "metadata": {},
   "outputs": [
    {
     "data": {
      "text/plain": [
       "(600000, 382)"
      ]
     },
     "execution_count": 83,
     "metadata": {},
     "output_type": "execute_result"
    }
   ],
   "source": [
    "# Obtain the optimal amount of components\n",
    "pca = PCA(n_components=0.85)\n",
    "\n",
    "# Fit the standarized data into it.\n",
    "pca_X = pca.fit_transform(stand_x)\n",
    "\n",
    "# Check how many components were taken \n",
    "pca_X.shape"
   ]
  },
  {
   "cell_type": "code",
   "execution_count": 84,
   "metadata": {},
   "outputs": [],
   "source": [
    "# Create a new training and testing set specifically for PCA modeling.\n",
    "X_train2, X_test2, y_train2, y_test2 = train_test_split(pca_X, prep_y, test_size=0.25)"
   ]
  },
  {
   "cell_type": "markdown",
   "metadata": {},
   "source": [
    "# Logistic Regression with PCA"
   ]
  },
  {
   "cell_type": "code",
   "execution_count": 86,
   "metadata": {
    "scrolled": true
   },
   "outputs": [
    {
     "name": "stdout",
     "output_type": "stream",
     "text": [
      "Fitting 5 folds for each of 55 candidates, totalling 275 fits\n"
     ]
    },
    {
     "name": "stderr",
     "output_type": "stream",
     "text": [
      "[Parallel(n_jobs=-1)]: Done  34 tasks      | elapsed: 10.0min\n",
      "[Parallel(n_jobs=-1)]: Done 184 tasks      | elapsed: 194.4min\n",
      "[Parallel(n_jobs=-1)]: Done 275 out of 275 | elapsed: 701.3min finished\n"
     ]
    },
    {
     "name": "stdout",
     "output_type": "stream",
     "text": [
      "Best parameters:\n",
      "{'C': 10000, 'max_iter': 2000, 'multi_class': 'multinomial', 'solver': 'lbfgs'}\n",
      "Best Score:\n",
      "0.9981733333333334\n"
     ]
    }
   ],
   "source": [
    "# PCA logistic regression\n",
    "lr = LogisticRegression()\n",
    "\n",
    "# Use GS-CV to see which alpha level is best.\n",
    "parameters = {\n",
    "             'C':[0.000001,.00001,0.0001,0.001,0.01,0.1,1,10,100,10000,100000],\n",
    "             'multi_class':['multinomial'],\n",
    "             'solver':['lbfgs'],\n",
    "             'max_iter':[10, 100,500,1000,1500,2000]}\n",
    "\n",
    "lr_grid = GridSearchCV(lr, parameters, cv=5, verbose=1, n_jobs=-1)\n",
    "\n",
    "#Fit the logistic regression \n",
    "lr_grid.fit(X_train2, y_train2)\n",
    "\n",
    "#return best parameters and best score\n",
    "print('Best parameters:')\n",
    "print(lr_grid.best_params_)\n",
    "print('Best Score:')\n",
    "print(lr_grid.best_score_)"
   ]
  },
  {
   "cell_type": "code",
   "execution_count": 99,
   "metadata": {},
   "outputs": [
    {
     "data": {
      "text/plain": [
       "0.9213577777777778"
      ]
     },
     "execution_count": 99,
     "metadata": {},
     "output_type": "execute_result"
    }
   ],
   "source": [
    "# Set up best parameters\n",
    "lr3 = LogisticRegression(C=1000, max_iter=25, multi_class='multinomial', solver='lbfgs')\n",
    "\n",
    "# Fit the model\n",
    "lr3.fit(X_train2, y_train2)\n",
    "\n",
    "lr3.score(X_train2, y_train2)"
   ]
  },
  {
   "cell_type": "code",
   "execution_count": 100,
   "metadata": {},
   "outputs": [
    {
     "data": {
      "text/plain": [
       "array([0.92100351, 0.91295846, 0.91543333, 0.9228094 , 0.91363965])"
      ]
     },
     "execution_count": 100,
     "metadata": {},
     "output_type": "execute_result"
    }
   ],
   "source": [
    "# Cross validation.\n",
    "cross_val_score(lr3, X_train2, y_train2, cv=5, n_jobs=-1)\n"
   ]
  },
  {
   "cell_type": "code",
   "execution_count": 101,
   "metadata": {},
   "outputs": [
    {
     "data": {
      "text/plain": [
       "array([[12038,   542,    22,     0,     1,     1,    12,     0,     0,\n",
       "            0,     0,     0],\n",
       "       [  501, 11728,   310,    41,     0,     2,    15,     1,     0,\n",
       "            0,     0,     0],\n",
       "       [    4,   624, 11211,   653,    10,     1,    14,     0,     0,\n",
       "            0,     0,     0],\n",
       "       [    5,    15,   335, 11056,   889,    12,     5,    13,     0,\n",
       "            0,     0,     0],\n",
       "       [    2,     2,    23,  1220, 10701,   564,     2,     6,     0,\n",
       "            0,     0,     0],\n",
       "       [    0,     2,     4,    34,   385, 12098,     0,     3,     0,\n",
       "            0,     0,     1],\n",
       "       [    0,     0,     0,     5,    17,     1, 11673,   684,    22,\n",
       "            2,     0,     0],\n",
       "       [    0,     0,     0,     5,    53,     0,   574, 11299,   714,\n",
       "            9,     1,     1],\n",
       "       [    0,     0,     1,     2,    39,     0,     2,   750, 11138,\n",
       "          603,     3,     3],\n",
       "       [    0,     0,     0,     0,    16,     0,     1,    59,   291,\n",
       "        11883,   257,     3],\n",
       "       [    0,     0,     0,     1,     8,     0,     0,    13,    76,\n",
       "          625, 10929,   801],\n",
       "       [    0,     0,     0,     0,     0,     3,     0,     4,     8,\n",
       "           29,   310, 11974]])"
      ]
     },
     "execution_count": 101,
     "metadata": {},
     "output_type": "execute_result"
    }
   ],
   "source": [
    "# Classify, storing the result in a new variable.\n",
    "lr_pred = lr3.predict(X_test2)\n",
    "\n",
    "# Create a confusion matrix.\n",
    "confusion_matrix(y_test2, lr_pred)"
   ]
  },
  {
   "cell_type": "code",
   "execution_count": 102,
   "metadata": {},
   "outputs": [
    {
     "name": "stdout",
     "output_type": "stream",
     "text": [
      "             precision    recall  f1-score   support\n",
      "\n",
      "       F23-       0.96      0.95      0.96     12616\n",
      "     F24-26       0.91      0.93      0.92     12598\n",
      "     F27-28       0.94      0.90      0.92     12517\n",
      "     F29-32       0.85      0.90      0.87     12330\n",
      "     F33-42       0.88      0.85      0.87     12520\n",
      "       F43+       0.95      0.97      0.96     12527\n",
      "       M22-       0.95      0.94      0.95     12404\n",
      "     M23-26       0.88      0.89      0.89     12656\n",
      "     M27-28       0.91      0.89      0.90     12541\n",
      "     M29-31       0.90      0.95      0.93     12510\n",
      "     M32-38       0.95      0.88      0.91     12453\n",
      "       M39+       0.94      0.97      0.95     12328\n",
      "\n",
      "avg / total       0.92      0.92      0.92    150000\n",
      "\n"
     ]
    }
   ],
   "source": [
    "# Create a classification report.\n",
    "print(classification_report(y_test2, lr_pred))"
   ]
  },
  {
   "cell_type": "markdown",
   "metadata": {},
   "source": [
    "# Analysis\n",
    "\n",
    "The results of the logistic model has increased dramatically after performing PCA on the dataset. After using GridSearchCV on the model in order to find the optimal parameters, I found that the model became vastly overfitted. However, it helped me realized that I didn't need to inhibit the strength of the regularization factor since the optimal C was 10,000. I could also see that the number of iterations contributed greatly to overfitting so I naturally limited the number of iterations needed to reach convergence of the minimum for the cost function. The reason the grid thought that the optimal number of iterations was 2000 is because the model wanted to reach perfect convergence but that would overfit my model so I changed it.\n",
    "\n",
    "This model performed well due to the face that I had set up the logistic regression model in a way that prioritized solving the multiclass problem and that the PCA set up the data in a way that was more palatable for this model. Furthermore, a thing to take note of is that lbfgs is a parameter that uses L1 regularization instead of the L2 regularization so that means that features were being removed in order to find the minimum of the cost function. \n",
    "\n",
    "To summarize, using PCA to make it so that each feature (component) in this data set explained a certain amount of variance, using the lbfgs and multi-class parameters, and limiting the amount of iterations helped me make this model accurate and not overfit."
   ]
  },
  {
   "cell_type": "markdown",
   "metadata": {},
   "source": [
    "# KNN Model"
   ]
  },
  {
   "cell_type": "code",
   "execution_count": 36,
   "metadata": {},
   "outputs": [
    {
     "name": "stderr",
     "output_type": "stream",
     "text": [
      "/anaconda3/lib/python3.6/site-packages/sklearn/preprocessing/data.py:675: DeprecationWarning: The parameter y on transform() is deprecated since 0.19 and will be removed in 0.21\n",
      "  DeprecationWarning)\n"
     ]
    }
   ],
   "source": [
    "# Instantiate StandardScaler\n",
    "ss = StandardScaler()\n",
    "\n",
    "# Set up the variables.\n",
    "# Set up variables\n",
    "X = ga_apps_labeled_brands_resampled.drop(['group'], axis=1)\n",
    "ky = ga_apps_labeled_brands_resampled['group'].values.ravel()\n",
    "\n",
    "# Standarize the data first \n",
    "ss.fit(X,ky)\n",
    "\n",
    "# Now that the data is ready\n",
    "transform_x = ss.transform(X, ky)\n",
    "\n",
    "# Create training and testing set for knn\n",
    "knn_Xtrain, knn_Xtest, knn_ytrain, knn_ytest = train_test_split(transform_x, ky, test_size=0.3)"
   ]
  },
  {
   "cell_type": "code",
   "execution_count": 43,
   "metadata": {
    "scrolled": true
   },
   "outputs": [
    {
     "name": "stdout",
     "output_type": "stream",
     "text": [
      "(100000, 491)\n"
     ]
    }
   ],
   "source": [
    "# Model took too long to run, so I'm limiting the size again.\n",
    "# 420,000 rows after 4 hours, still no progress.\n",
    "knn_Xtrain2 = knn_Xtrain[:100000]\n",
    "knn_ytrain2 = knn_ytrain[:100000]\n",
    "\n",
    "print(knn_Xtrain2.shape)"
   ]
  },
  {
   "cell_type": "code",
   "execution_count": 45,
   "metadata": {
    "scrolled": true
   },
   "outputs": [
    {
     "name": "stdout",
     "output_type": "stream",
     "text": [
      "Fitting 5 folds for each of 10 candidates, totalling 50 fits\n"
     ]
    },
    {
     "name": "stderr",
     "output_type": "stream",
     "text": [
      "[Parallel(n_jobs=-1)]: Done  34 tasks      | elapsed: 591.3min\n",
      "[Parallel(n_jobs=-1)]: Done  50 out of  50 | elapsed: 779.0min finished\n"
     ]
    },
    {
     "name": "stdout",
     "output_type": "stream",
     "text": [
      "Best parameters:\n",
      "{'n_neighbors': 4}\n",
      "Best Score:\n",
      "0.39114\n"
     ]
    }
   ],
   "source": [
    "from sklearn.neighbors import KNeighborsClassifier\n",
    "# Initialize the model\n",
    "knn = KNeighborsClassifier()\n",
    "\n",
    "\n",
    "knn_params = {'n_neighbors':[2,4,5,7,9,10,12,14,20,30]}\n",
    "\n",
    "# Set up parameters\n",
    "knn_grid = GridSearchCV(knn, knn_params, cv=5, verbose=1, n_jobs=-1)\n",
    "\n",
    "# Fit the grid and obtain results\n",
    "knn_grid.fit(knn_Xtrain2, knn_ytrain2)\n",
    "\n",
    "# Return best parameters and best score\n",
    "print('Best parameters:')\n",
    "print(knn_grid.best_params_)\n",
    "print('Best Score:')\n",
    "print(knn_grid.best_score_)"
   ]
  },
  {
   "cell_type": "markdown",
   "metadata": {},
   "source": [
    "# Analysis of KNN \n",
    "\n",
    "For knn, I first standardized the data so that everything would be at the correct distance. I used grid search to search for the optimal parameters, but it took almost 24 hours to complete only to return such a low accuracy score. Furthermore, I had used only a smaller sample of the data set in order to speed up the process but it still took so long so I judged that it wasn't worth the effort to fine tune this model further. \n",
    "\n",
    "This is a steady improvement from the previous model and improvement continues. "
   ]
  },
  {
   "cell_type": "markdown",
   "metadata": {},
   "source": [
    "# Random Forest with and without different Feature Selection Methods"
   ]
  },
  {
   "cell_type": "code",
   "execution_count": 149,
   "metadata": {},
   "outputs": [
    {
     "data": {
      "text/plain": [
       "0.9403066666666666"
      ]
     },
     "execution_count": 149,
     "metadata": {},
     "output_type": "execute_result"
    }
   ],
   "source": [
    "# Setup random forest classifier.\n",
    "rfc = RandomForestClassifier(n_estimators=1000, max_features=8,\n",
    "                            max_depth=8, n_jobs=-1)\n",
    "\n",
    "# Fit the model\n",
    "rfc.fit(X_train, y_train)\n",
    "\n",
    "# Score of the model\n",
    "rfc.score(X_train, y_train)"
   ]
  },
  {
   "cell_type": "code",
   "execution_count": 150,
   "metadata": {},
   "outputs": [
    {
     "data": {
      "text/plain": [
       "array([0.93618061, 0.94454568, 0.92583416, 0.91045357, 0.94204122])"
      ]
     },
     "execution_count": 150,
     "metadata": {},
     "output_type": "execute_result"
    }
   ],
   "source": [
    "# Cross validation.\n",
    "cross_val_score(rfc, X_train, y_train, cv=5)"
   ]
  },
  {
   "cell_type": "code",
   "execution_count": 151,
   "metadata": {},
   "outputs": [
    {
     "data": {
      "text/plain": [
       "array([[11240,  1384,     0,     0,     0,     0,     0,     0,     0,\n",
       "            0,     0,     0],\n",
       "       [  378, 12042,     0,     0,     0,     0,     0,     0,     0,\n",
       "            0,     0,     0],\n",
       "       [    1,     0, 12414,     5,     0,     0,     0,     0,     0,\n",
       "            0,     0,     0],\n",
       "       [    0,     0,    10, 12010,   159,   428,     0,     0,     0,\n",
       "            0,     0,     0],\n",
       "       [    0,     1,    12,  1665,  9556,  1419,     0,     0,     0,\n",
       "            0,     0,     0],\n",
       "       [    0,     0,     6,   986,   247, 11142,     0,     0,     0,\n",
       "            0,     0,     0],\n",
       "       [    0,     0,     0,     0,     0,     0, 11534,   863,     0,\n",
       "            0,     0,     0],\n",
       "       [    0,     0,     0,     0,     0,     0,   555, 11879,     0,\n",
       "            0,     0,     0],\n",
       "       [    0,     0,     0,     0,     0,     0,     1,     1, 12361,\n",
       "            1,     1,     0],\n",
       "       [    0,     0,     0,     0,     0,     0,     0,     0,     0,\n",
       "        12516,    63,    13],\n",
       "       [    0,     0,     0,     0,     0,     0,     0,     0,     0,\n",
       "          301, 12063,    82],\n",
       "       [    0,     0,     0,     0,     0,     0,     0,     0,     2,\n",
       "          211,  1862, 10586]])"
      ]
     },
     "execution_count": 151,
     "metadata": {},
     "output_type": "execute_result"
    }
   ],
   "source": [
    "# Classify, storing the result in a new variable.\n",
    "rfc_pred = rfc.predict(X_test)\n",
    "\n",
    "# Create a confusion matrix.\n",
    "confusion_matrix(y_test, rfc_pred)"
   ]
  },
  {
   "cell_type": "code",
   "execution_count": 152,
   "metadata": {
    "scrolled": false
   },
   "outputs": [
    {
     "name": "stdout",
     "output_type": "stream",
     "text": [
      "             precision    recall  f1-score   support\n",
      "\n",
      "       F23-       0.97      0.89      0.93     12624\n",
      "     F24-26       0.90      0.97      0.93     12420\n",
      "     F27-28       1.00      1.00      1.00     12420\n",
      "     F29-32       0.82      0.95      0.88     12607\n",
      "     F33-42       0.96      0.76      0.85     12653\n",
      "       F43+       0.86      0.90      0.88     12381\n",
      "       M22-       0.95      0.93      0.94     12397\n",
      "     M23-26       0.93      0.96      0.94     12434\n",
      "     M27-28       1.00      1.00      1.00     12365\n",
      "     M29-31       0.96      0.99      0.98     12592\n",
      "     M32-38       0.86      0.97      0.91     12446\n",
      "       M39+       0.99      0.84      0.91     12661\n",
      "\n",
      "avg / total       0.93      0.93      0.93    150000\n",
      "\n"
     ]
    }
   ],
   "source": [
    "# Create a classification report.\n",
    "print(classification_report(y_test, rfc_pred))"
   ]
  },
  {
   "cell_type": "markdown",
   "metadata": {},
   "source": [
    "# Feature-less Analysis\n",
    "\n",
    "This is an ensemble method which means that this model is a conglomeration of weak learners, or in this case, 1000 trees. It's no surprise that this model did well due to the fact that given a deeper death, and more runs, this allows the model to know more about the dataset. Given more depth and features, the model can lower entropy from the data set that I fed it and accurately classify the data. "
   ]
  },
  {
   "cell_type": "code",
   "execution_count": 56,
   "metadata": {},
   "outputs": [
    {
     "name": "stdout",
     "output_type": "stream",
     "text": [
      "Fitting 5 folds for each of 10 candidates, totalling 50 fits\n"
     ]
    },
    {
     "name": "stderr",
     "output_type": "stream",
     "text": [
      "[Parallel(n_jobs=-1)]: Done  34 tasks      | elapsed: 148.4min\n",
      "[Parallel(n_jobs=-1)]: Done  50 out of  50 | elapsed: 189.6min finished\n"
     ]
    },
    {
     "name": "stdout",
     "output_type": "stream",
     "text": [
      "Best Parameter for data: {'kbest__k': 12, 'rfc__max_depth': 16, 'rfc__n_estimators': 1500, 'vt__threshold': 0}\n",
      "\n",
      "Best Score for data: 0.56202\n"
     ]
    }
   ],
   "source": [
    "# Feature Selection - SelectKBest\n",
    "from sklearn.pipeline import Pipeline\n",
    "from sklearn.feature_selection import SelectKBest, f_classif, VarianceThreshold\n",
    "from sklearn.feature_selection import VarianceThreshold\n",
    "\n",
    "# Instantiate models and pipelines.\n",
    "kbest = SelectKBest(f_classif)\n",
    "# Remove the 0 variance features b/c f_classif doesn't like dividing by 0\n",
    "VT = VarianceThreshold()\n",
    "rfc_pipeline = Pipeline([('vt', VT), ('kbest', kbest), ('rfc', ensemble.RandomForestClassifier())])\n",
    "\n",
    "# Create rfc parameters for GS-CV\n",
    "param_grid = {'kbest__k': [3,4,5,6,7,8,9,10,11,12],\n",
    "              'vt__threshold':[0],\n",
    "              'rfc__n_estimators': [1500],\n",
    "             'rfc__max_depth': [16]}\n",
    "\n",
    "# Set up GS-CV\n",
    "rfc_grid = GridSearchCV(rfc_pipeline, param_grid, cv=5, verbose=1, n_jobs=-1)\n",
    "\n",
    "# Fit the model.\n",
    "rfc_grid.fit(X_train, y_train)\n",
    "\n",
    "# Show the best parameter and best score for unfiltered\n",
    "print('Best Parameter for data:', rfc_grid.best_params_)\n",
    "print('\\nBest Score for data:', rfc_grid.best_score_)"
   ]
  },
  {
   "cell_type": "code",
   "execution_count": 57,
   "metadata": {},
   "outputs": [
    {
     "name": "stdout",
     "output_type": "stream",
     "text": [
      "Fitting 5 folds for each of 1 candidates, totalling 5 fits\n"
     ]
    },
    {
     "name": "stderr",
     "output_type": "stream",
     "text": [
      "[Parallel(n_jobs=-1)]: Done   2 out of   5 | elapsed: 14.2min remaining: 21.2min\n",
      "[Parallel(n_jobs=-1)]: Done   5 out of   5 | elapsed: 14.2min finished\n"
     ]
    },
    {
     "name": "stdout",
     "output_type": "stream",
     "text": [
      "Fitting 5 folds for each of 1 candidates, totalling 5 fits\n"
     ]
    },
    {
     "name": "stderr",
     "output_type": "stream",
     "text": [
      "[Parallel(n_jobs=-1)]: Done   2 out of   5 | elapsed: 13.1min remaining: 19.6min\n",
      "[Parallel(n_jobs=-1)]: Done   5 out of   5 | elapsed: 15.9min finished\n"
     ]
    },
    {
     "name": "stdout",
     "output_type": "stream",
     "text": [
      "Fitting 5 folds for each of 1 candidates, totalling 5 fits\n"
     ]
    },
    {
     "name": "stderr",
     "output_type": "stream",
     "text": [
      "[Parallel(n_jobs=-1)]: Done   2 out of   5 | elapsed: 13.2min remaining: 19.8min\n",
      "[Parallel(n_jobs=-1)]: Done   5 out of   5 | elapsed: 15.9min finished\n"
     ]
    },
    {
     "name": "stdout",
     "output_type": "stream",
     "text": [
      "Fitting 5 folds for each of 1 candidates, totalling 5 fits\n"
     ]
    },
    {
     "name": "stderr",
     "output_type": "stream",
     "text": [
      "[Parallel(n_jobs=-1)]: Done   2 out of   5 | elapsed: 13.5min remaining: 20.2min\n",
      "[Parallel(n_jobs=-1)]: Done   5 out of   5 | elapsed: 15.9min finished\n"
     ]
    },
    {
     "name": "stdout",
     "output_type": "stream",
     "text": [
      "Fitting 5 folds for each of 1 candidates, totalling 5 fits\n"
     ]
    },
    {
     "name": "stderr",
     "output_type": "stream",
     "text": [
      "[Parallel(n_jobs=-1)]: Done   2 out of   5 | elapsed: 14.0min remaining: 21.0min\n",
      "[Parallel(n_jobs=-1)]: Done   5 out of   5 | elapsed: 16.9min finished\n"
     ]
    },
    {
     "data": {
      "text/plain": [
       "array([0.5642131 , 0.56385414, 0.56175069, 0.56171248, 0.61859416])"
      ]
     },
     "execution_count": 57,
     "metadata": {},
     "output_type": "execute_result"
    }
   ],
   "source": [
    "# Set up the best parameters. Increase k\n",
    "best_param = {'kbest__k': [15],'rfc__max_depth': [16],\n",
    "              'rfc__n_estimators':[1500], 'vt__threshold':[0]}\n",
    "\n",
    "# Set up a new grid\n",
    "best_rfc_grid = GridSearchCV(rfc_pipeline, best_param, cv=5, verbose=1, n_jobs=-1)\n",
    "\n",
    "# Cross Validate the random forest model.  \n",
    "cross_val_score(best_rfc_grid, X_train, y_train, cv=5)"
   ]
  },
  {
   "cell_type": "code",
   "execution_count": 59,
   "metadata": {},
   "outputs": [
    {
     "name": "stdout",
     "output_type": "stream",
     "text": [
      "Fitting 5 folds for each of 1 candidates, totalling 5 fits\n"
     ]
    },
    {
     "name": "stderr",
     "output_type": "stream",
     "text": [
      "[Parallel(n_jobs=-1)]: Done   2 out of   5 | elapsed: 19.2min remaining: 28.8min\n",
      "[Parallel(n_jobs=-1)]: Done   5 out of   5 | elapsed: 22.4min finished\n"
     ]
    },
    {
     "data": {
      "text/plain": [
       "array([[ 3754,     0,     0,     0,     0,     0,  8112,   702,     0,\n",
       "            0,     0,     0],\n",
       "       [    0, 10438,     0,     0,     0,     0,     0,  2092,     0,\n",
       "            0,     0,     0],\n",
       "       [    0,     0,  6903,     0,     0,     0,     0,     0,  5600,\n",
       "            0,     0,     0],\n",
       "       [    0,     0,     0,  3296,     0,     0,     0,     0,     0,\n",
       "         8216,   978,     0],\n",
       "       [    0,     0,     0,     0,  3959,     0,     0,     0,     0,\n",
       "            0,  6281,  2209],\n",
       "       [    0,     0,     0,     0,     0, 12073,     0,     0,     0,\n",
       "            0,     0,   418],\n",
       "       [ 1555,     0,     0,     0,     0,     0, 10934,     0,     0,\n",
       "            0,     0,     0],\n",
       "       [ 1577,  7779,     0,     0,     0,     0,     0,  3284,     0,\n",
       "            0,     0,     0],\n",
       "       [    0,     0,  5788,     0,     0,     0,     0,     0,  6630,\n",
       "            0,     0,     0],\n",
       "       [    0,     0,     0,  1576,     0,     0,     0,     0,     0,\n",
       "        10773,     0,     0],\n",
       "       [    0,     0,     0,  1244,  2004,     0,     0,     0,     0,\n",
       "            0,  9249,     0],\n",
       "       [    0,     0,     0,     0,  1470,  7789,     0,     0,     0,\n",
       "            0,     0,  3317]])"
      ]
     },
     "execution_count": 59,
     "metadata": {},
     "output_type": "execute_result"
    }
   ],
   "source": [
    "# Fit our model to the data.\n",
    "best_rfc_grid.fit(X_train, y_train)\n",
    "\n",
    "# Classify, storing the result in a new variable.\n",
    "k_rfc_pred = best_rfc_grid.predict(X_test)\n",
    "\n",
    "# Create a confusion matrix.\n",
    "confusion_matrix(y_test, k_rfc_pred)"
   ]
  },
  {
   "cell_type": "code",
   "execution_count": 60,
   "metadata": {},
   "outputs": [
    {
     "name": "stdout",
     "output_type": "stream",
     "text": [
      "             precision    recall  f1-score   support\n",
      "\n",
      "       F23-       0.55      0.30      0.39     12568\n",
      "     F24-26       0.57      0.83      0.68     12530\n",
      "     F27-28       0.54      0.55      0.55     12503\n",
      "     F29-32       0.54      0.26      0.35     12490\n",
      "     F33-42       0.53      0.32      0.40     12449\n",
      "       F43+       0.61      0.97      0.75     12491\n",
      "       M22-       0.57      0.88      0.69     12489\n",
      "     M23-26       0.54      0.26      0.35     12640\n",
      "     M27-28       0.54      0.53      0.54     12418\n",
      "     M29-31       0.57      0.87      0.69     12349\n",
      "     M32-38       0.56      0.74      0.64     12497\n",
      "       M39+       0.56      0.26      0.36     12576\n",
      "\n",
      "avg / total       0.56      0.56      0.53    150000\n",
      "\n"
     ]
    }
   ],
   "source": [
    "# Create a classification report.\n",
    "print(classification_report(y_test, k_rfc_pred))"
   ]
  },
  {
   "cell_type": "markdown",
   "metadata": {},
   "source": [
    "# SKB Analysis\n",
    "\n",
    "In this model, I made the mistake of not including more features to be used which lead to the accuracy of the model decreasing.\n",
    "\n",
    "# Random Forest PCA"
   ]
  },
  {
   "cell_type": "code",
   "execution_count": 104,
   "metadata": {},
   "outputs": [
    {
     "data": {
      "text/plain": [
       "0.9171622222222222"
      ]
     },
     "execution_count": 104,
     "metadata": {},
     "output_type": "execute_result"
    }
   ],
   "source": [
    "# Implement different parameters\n",
    "rfc3 = ensemble.RandomForestClassifier(n_estimators=800, max_features=6,\n",
    "                                     max_depth=10, n_jobs=-1)\n",
    "# Fit the model\n",
    "rfc3.fit(X_train2, y_train2)\n",
    "\n",
    "# Obtain the score.\n",
    "rfc3.score(X_train2, y_train2)"
   ]
  },
  {
   "cell_type": "code",
   "execution_count": 105,
   "metadata": {},
   "outputs": [
    {
     "data": {
      "text/plain": [
       "array([0.89502689, 0.89111474, 0.89281111, 0.89487544, 0.89538308])"
      ]
     },
     "execution_count": 105,
     "metadata": {},
     "output_type": "execute_result"
    }
   ],
   "source": [
    "# Cross Validate the random forest model.  \n",
    "cross_val_score(rfc3, X_train2, y_train2, cv=5, n_jobs=-1)"
   ]
  },
  {
   "cell_type": "code",
   "execution_count": 106,
   "metadata": {},
   "outputs": [
    {
     "data": {
      "text/plain": [
       "array([[11827,   606,    88,    54,    10,     1,    28,     0,     1,\n",
       "            1,     0,     0],\n",
       "       [  980, 10390,   928,   228,    34,     4,    25,     0,     6,\n",
       "            2,     1,     0],\n",
       "       [  225,   754, 10484,   957,    61,     2,    22,     0,     5,\n",
       "            5,     2,     0],\n",
       "       [   67,    67,   686, 10840,   622,     7,    22,     1,    13,\n",
       "            2,     3,     0],\n",
       "       [   42,    10,    63,   443, 11320,   584,    35,     3,    11,\n",
       "            0,     7,     2],\n",
       "       [    7,     3,     0,    11,   126, 12339,    19,     2,     5,\n",
       "            1,     1,    13],\n",
       "       [    6,     3,     7,    20,     7,     3, 11508,   733,    99,\n",
       "           10,     6,     2],\n",
       "       [    2,     0,     3,    41,     4,     3,  1790,  9932,   795,\n",
       "           59,    25,     2],\n",
       "       [    1,     0,     1,    16,     3,     1,   371,   515, 10925,\n",
       "          594,   109,     5],\n",
       "       [    3,     0,     3,    28,     5,     5,   166,    46,   432,\n",
       "        10941,   868,    13],\n",
       "       [    1,     1,     6,    15,     8,     9,   100,     6,    45,\n",
       "          253, 11656,   353],\n",
       "       [    1,     0,     0,     7,     8,    14,    31,     1,     4,\n",
       "            7,   208, 12047]])"
      ]
     },
     "execution_count": 106,
     "metadata": {},
     "output_type": "execute_result"
    }
   ],
   "source": [
    "# Fit our model to the data.\n",
    "rfc3.fit(X_train2, y_train2)\n",
    "\n",
    "# Classify, storing the result in a new variable.\n",
    "rfc_pred2 = rfc3.predict(X_test2)\n",
    "\n",
    "# Create a confusion matrix.\n",
    "confusion_matrix(y_test2, rfc_pred2)"
   ]
  },
  {
   "cell_type": "code",
   "execution_count": 107,
   "metadata": {
    "scrolled": true
   },
   "outputs": [
    {
     "name": "stdout",
     "output_type": "stream",
     "text": [
      "             precision    recall  f1-score   support\n",
      "\n",
      "       F23-       0.90      0.94      0.92     12616\n",
      "     F24-26       0.88      0.82      0.85     12598\n",
      "     F27-28       0.85      0.84      0.85     12517\n",
      "     F29-32       0.86      0.88      0.87     12330\n",
      "     F33-42       0.93      0.90      0.92     12520\n",
      "       F43+       0.95      0.98      0.97     12527\n",
      "       M22-       0.82      0.93      0.87     12404\n",
      "     M23-26       0.88      0.78      0.83     12656\n",
      "     M27-28       0.89      0.87      0.88     12541\n",
      "     M29-31       0.92      0.87      0.90     12510\n",
      "     M32-38       0.90      0.94      0.92     12453\n",
      "       M39+       0.97      0.98      0.97     12328\n",
      "\n",
      "avg / total       0.90      0.89      0.89    150000\n",
      "\n"
     ]
    }
   ],
   "source": [
    "# Create a classification report.\n",
    "print(classification_report(y_test2, rfc_pred2))"
   ]
  },
  {
   "cell_type": "markdown",
   "metadata": {},
   "source": [
    "# PCA Analysis\n",
    "\n",
    "PCA is a dimension reductionality techique. However, I did not use GridSearch CV in order to obtain the optimal parameters due to the fact that I had really gotten rid of 100 columns, so I decided to save time. Secondly, using GridSearch CV would have probably overfitted my model so I decided to tune my model by hand.\n",
    "\n",
    "The reason that PCA works on random forest is because of the fact that I already got rid of a lot of noise in the dataset when I transformed it and made it so that each column would explain a certain amount of variance. Given the fact that random forest is a conglomeration of weak learners, and that I had given it so much space to expand, it was able to lower a lot of entropy. The slight decrease in model accuracy can be explained by the information loss that occurs when doing the PCA, but I could probably obtain equal or better results if I fine tuned it a bit more. \n",
    "\n",
    "Overall, the performance of this model is satisfactory."
   ]
  },
  {
   "cell_type": "markdown",
   "metadata": {},
   "source": [
    "# X Gradient Boosting Model"
   ]
  },
  {
   "cell_type": "code",
   "execution_count": 61,
   "metadata": {
    "scrolled": true
   },
   "outputs": [
    {
     "name": "stderr",
     "output_type": "stream",
     "text": [
      "/anaconda3/lib/python3.6/site-packages/sklearn/preprocessing/label.py:151: DeprecationWarning: The truth value of an empty array is ambiguous. Returning False, but in future this will result in an error. Use `array.size > 0` to check that an array is not empty.\n",
      "  if diff:\n"
     ]
    },
    {
     "data": {
      "text/plain": [
       "1.0"
      ]
     },
     "execution_count": 61,
     "metadata": {},
     "output_type": "execute_result"
    }
   ],
   "source": [
    "# X-Gradient boosted model\n",
    "clf = XGBClassifier(max_depth=5, reg_alpha=5000, reg_lambda=5000)\n",
    "\n",
    "# Fit the model.\n",
    "clf.fit(X_train, y_train)\n",
    "\n",
    "# Look at the score.\n",
    "clf.score(X_train, y_train)"
   ]
  },
  {
   "cell_type": "code",
   "execution_count": 63,
   "metadata": {},
   "outputs": [],
   "source": [
    "# Create a mini data set since no amount of regularization will work.\n",
    "Xtr_mini = X_train[:100000]\n",
    "ytr_mini = y_train[:100000]"
   ]
  },
  {
   "cell_type": "code",
   "execution_count": 69,
   "metadata": {},
   "outputs": [
    {
     "name": "stderr",
     "output_type": "stream",
     "text": [
      "/anaconda3/lib/python3.6/site-packages/sklearn/preprocessing/label.py:151: DeprecationWarning: The truth value of an empty array is ambiguous. Returning False, but in future this will result in an error. Use `array.size > 0` to check that an array is not empty.\n",
      "  if diff:\n"
     ]
    },
    {
     "data": {
      "text/plain": [
       "0.91751"
      ]
     },
     "execution_count": 69,
     "metadata": {},
     "output_type": "execute_result"
    }
   ],
   "source": [
    "# X-Gradient boosted model\n",
    "clf = XGBClassifier(max_depth=5, reg_alpha=4500, reg_lambda=5000)\n",
    "\n",
    "# Fit the model.\n",
    "clf.fit(Xtr_mini, ytr_mini)\n",
    "\n",
    "# Look at the score.\n",
    "clf.score(Xtr_mini, ytr_mini)"
   ]
  },
  {
   "cell_type": "code",
   "execution_count": 74,
   "metadata": {},
   "outputs": [
    {
     "name": "stderr",
     "output_type": "stream",
     "text": [
      "/anaconda3/lib/python3.6/site-packages/sklearn/preprocessing/label.py:151: DeprecationWarning: The truth value of an empty array is ambiguous. Returning False, but in future this will result in an error. Use `array.size > 0` to check that an array is not empty.\n",
      "  if diff:\n",
      "/anaconda3/lib/python3.6/site-packages/sklearn/preprocessing/label.py:151: DeprecationWarning: The truth value of an empty array is ambiguous. Returning False, but in future this will result in an error. Use `array.size > 0` to check that an array is not empty.\n",
      "  if diff:\n",
      "/anaconda3/lib/python3.6/site-packages/sklearn/preprocessing/label.py:151: DeprecationWarning: The truth value of an empty array is ambiguous. Returning False, but in future this will result in an error. Use `array.size > 0` to check that an array is not empty.\n",
      "  if diff:\n",
      "/anaconda3/lib/python3.6/site-packages/sklearn/preprocessing/label.py:151: DeprecationWarning: The truth value of an empty array is ambiguous. Returning False, but in future this will result in an error. Use `array.size > 0` to check that an array is not empty.\n",
      "  if diff:\n",
      "/anaconda3/lib/python3.6/site-packages/sklearn/preprocessing/label.py:151: DeprecationWarning: The truth value of an empty array is ambiguous. Returning False, but in future this will result in an error. Use `array.size > 0` to check that an array is not empty.\n",
      "  if diff:\n"
     ]
    },
    {
     "data": {
      "text/plain": [
       "array([0.75012499, 0.75012499, 0.75012499, 0.75012501, 0.75015003])"
      ]
     },
     "execution_count": 74,
     "metadata": {},
     "output_type": "execute_result"
    }
   ],
   "source": [
    "# Cross Validate the model. \n",
    "cross_val_score(clf, Xtr_mini, ytr_mini, cv=5)"
   ]
  },
  {
   "cell_type": "code",
   "execution_count": 71,
   "metadata": {},
   "outputs": [
    {
     "name": "stderr",
     "output_type": "stream",
     "text": [
      "/anaconda3/lib/python3.6/site-packages/sklearn/preprocessing/label.py:151: DeprecationWarning: The truth value of an empty array is ambiguous. Returning False, but in future this will result in an error. Use `array.size > 0` to check that an array is not empty.\n",
      "  if diff:\n"
     ]
    },
    {
     "data": {
      "text/plain": [
       "array([[12571,     0,     0,     0,     0,     0,     0,     0,     0,\n",
       "            0,     0,     0],\n",
       "       [    0, 12698,     0,     0,     0,     0,     0,     0,     0,\n",
       "            0,     0,     0],\n",
       "       [    0,     0, 12555,     0,     0,     0,     0,     0,     0,\n",
       "            0,     0,     0],\n",
       "       [    0,     0,     0, 12516,     0,     0,     0,     0,     0,\n",
       "            0,     0,     0],\n",
       "       [    0,     0,     0,     0, 12353,     0,     0,     0,     0,\n",
       "            0,     0,     0],\n",
       "       [    0,     0,     0,     0,     0, 12495,     0,     0,     0,\n",
       "            0,     0,     0],\n",
       "       [    0,     0,     0,     0,     0,     0, 12382,     0,     0,\n",
       "            0,     0,     0],\n",
       "       [    0,     0,     0,     0,     0,     0,     0, 12438,     0,\n",
       "            0,     0,     0],\n",
       "       [    0,     0,     0,     0,     0,     0,     0,     0, 12550,\n",
       "            0,     0,     0],\n",
       "       [    0,     0, 12401,     0,     0,     0,     0,     0,     0,\n",
       "            0,     0,     0],\n",
       "       [    0,     0,     0,     0,     0,     0,     0,     0,     0,\n",
       "            0, 12581,     0],\n",
       "       [    0,     0,     0,     0,     0,     0,     0,     0,     0,\n",
       "            0,     0, 12460]])"
      ]
     },
     "execution_count": 71,
     "metadata": {},
     "output_type": "execute_result"
    }
   ],
   "source": [
    "# Classify, storing the result in a new variable.\n",
    "clf_pred = clf.predict(X_test)\n",
    "\n",
    "# Create a confusion matrix.\n",
    "confusion_matrix(y_test, clf_pred)"
   ]
  },
  {
   "cell_type": "code",
   "execution_count": 73,
   "metadata": {},
   "outputs": [
    {
     "name": "stdout",
     "output_type": "stream",
     "text": [
      "             precision    recall  f1-score   support\n",
      "\n",
      "       F23-       1.00      1.00      1.00     12571\n",
      "     F24-26       1.00      1.00      1.00     12698\n",
      "     F27-28       0.50      1.00      0.67     12555\n",
      "     F29-32       1.00      1.00      1.00     12516\n",
      "     F33-42       1.00      1.00      1.00     12353\n",
      "       F43+       1.00      1.00      1.00     12495\n",
      "       M22-       1.00      1.00      1.00     12382\n",
      "     M23-26       1.00      1.00      1.00     12438\n",
      "     M27-28       1.00      1.00      1.00     12550\n",
      "     M29-31       0.00      0.00      0.00     12401\n",
      "     M32-38       1.00      1.00      1.00     12581\n",
      "       M39+       1.00      1.00      1.00     12460\n",
      "\n",
      "avg / total       0.88      0.92      0.89    150000\n",
      "\n"
     ]
    },
    {
     "name": "stderr",
     "output_type": "stream",
     "text": [
      "/anaconda3/lib/python3.6/site-packages/sklearn/metrics/classification.py:1135: UndefinedMetricWarning: Precision and F-score are ill-defined and being set to 0.0 in labels with no predicted samples.\n",
      "  'precision', 'predicted', average, warn_for)\n"
     ]
    }
   ],
   "source": [
    "# Create a classification report.\n",
    "print(classification_report(y_test, clf_pred))"
   ]
  },
  {
   "cell_type": "markdown",
   "metadata": {},
   "source": [
    "# Analysis \n",
    "\n",
    "First, I would like to state that I used XGB instead of regular gradient boosting because gradient boosting took too long and wasn't as accurate as XGB. The reason that it is faster is due to XGB's ability to parallel process which regular gradient boosting cannot do. \n",
    "\n",
    "Overfitting of XGB had occurred when I used the full data set since there was just so much data for it to learn from. I used the regularization method to inhibit the growth of the parameters, but it still wasn't enough. \n",
    "\n",
    "Afterwards, I used a smaller data set to achieve quicker results and to reduce overfitting of the model. XGB uses stochastic gradient descent which is an implementation of L1 and L2 regularization in order to help reduce the cost function and obtain the best score. Alpha is L1 (Lasso Regression), and lambda is L2 (Ridge Regression). Alpha was a strong regularization parameter since it just got rid of features that didn't pass its threshold. However, at its core XGB is just like GB since they are both an ensemble model that learns iteratively from the residual errors (boosting) instead of learning via bagging.\n",
    "\n",
    "The precision and recall of the results are both at an acceptable level, but it seems to be not as accurate when it comes to identifying young adult females, and fails to identify young adult men completely, but that is due to the fact that I took a sample of my training data set which may not have contained such individuals. I'm hoping that PCA will be able to help me alleviate that problem. "
   ]
  },
  {
   "cell_type": "code",
   "execution_count": null,
   "metadata": {},
   "outputs": [],
   "source": [
    "# X-Gradient boosted model with PCA\n",
    "clf2 = XGBClassifier(max_depth=6)\n",
    "\n",
    "# Fit the model. \n",
    "clf2.fit(X_train2, y_train2)\n",
    "\n",
    "# Get the score. \n",
    "clf2.score(X_train2, y_train2)"
   ]
  },
  {
   "cell_type": "code",
   "execution_count": 222,
   "metadata": {
    "scrolled": false
   },
   "outputs": [
    {
     "name": "stderr",
     "output_type": "stream",
     "text": [
      "/anaconda3/lib/python3.6/site-packages/sklearn/preprocessing/label.py:151: DeprecationWarning: The truth value of an empty array is ambiguous. Returning False, but in future this will result in an error. Use `array.size > 0` to check that an array is not empty.\n",
      "  if diff:\n",
      "/anaconda3/lib/python3.6/site-packages/sklearn/preprocessing/label.py:151: DeprecationWarning: The truth value of an empty array is ambiguous. Returning False, but in future this will result in an error. Use `array.size > 0` to check that an array is not empty.\n",
      "  if diff:\n",
      "/anaconda3/lib/python3.6/site-packages/sklearn/preprocessing/label.py:151: DeprecationWarning: The truth value of an empty array is ambiguous. Returning False, but in future this will result in an error. Use `array.size > 0` to check that an array is not empty.\n",
      "  if diff:\n",
      "/anaconda3/lib/python3.6/site-packages/sklearn/preprocessing/label.py:151: DeprecationWarning: The truth value of an empty array is ambiguous. Returning False, but in future this will result in an error. Use `array.size > 0` to check that an array is not empty.\n",
      "  if diff:\n",
      "/anaconda3/lib/python3.6/site-packages/sklearn/preprocessing/label.py:151: DeprecationWarning: The truth value of an empty array is ambiguous. Returning False, but in future this will result in an error. Use `array.size > 0` to check that an array is not empty.\n",
      "  if diff:\n"
     ]
    },
    {
     "data": {
      "text/plain": [
       "array([0.83166278, 0.83106556, 0.83185914, 0.83221029, 0.83144034])"
      ]
     },
     "execution_count": 222,
     "metadata": {},
     "output_type": "execute_result"
    }
   ],
   "source": [
    "# Cross Validate the model. \n",
    "cross_val_score(clf2, X_train_pca, y_train2, cv=5)"
   ]
  },
  {
   "cell_type": "code",
   "execution_count": 224,
   "metadata": {
    "scrolled": true
   },
   "outputs": [
    {
     "name": "stderr",
     "output_type": "stream",
     "text": [
      "/anaconda3/lib/python3.6/site-packages/sklearn/preprocessing/label.py:151: DeprecationWarning: The truth value of an empty array is ambiguous. Returning False, but in future this will result in an error. Use `array.size > 0` to check that an array is not empty.\n",
      "  if diff:\n"
     ]
    },
    {
     "data": {
      "text/plain": [
       "array([[    2,     2,     3,     0,    11,    11,     7,     1,     0,\n",
       "            0,     1, 15052],\n",
       "       [    4,     0,     1,     0,    12,     9,     4,     1,     0,\n",
       "            0,     4, 15062],\n",
       "       [    6,     1,     2,     0,    17,     9,     6,     2,     0,\n",
       "            0,     1, 14907],\n",
       "       [    4,     1,     0,     0,    15,     8,     3,     3,     0,\n",
       "            0,     3, 14834],\n",
       "       [    2,     0,     0,     0,    16,     8,    11,     2,     0,\n",
       "            0,     3, 14925],\n",
       "       [   23,    29,     6,     2,    18,   191,     6,     1,     0,\n",
       "           20,     2, 14773],\n",
       "       [    2,     0,     1,     0,    19,    11,    23,     0,     0,\n",
       "            0,     6, 15006],\n",
       "       [    2,     1,     2,     0,    20,     8,     9,     1,     0,\n",
       "            0,     6, 14925],\n",
       "       [    3,     0,     2,     0,    21,     6,     5,     0,     0,\n",
       "            0,     3, 14957],\n",
       "       [    2,     0,     1,     0,    26,     8,     6,     0,     0,\n",
       "            0,     4, 14933],\n",
       "       [    3,     0,     1,     0,    27,     9,    12,     0,     0,\n",
       "            0,     7, 14897],\n",
       "       [    9,    54,     2,     1,    28,    69,     5,     2,     1,\n",
       "           12,     7, 14788]])"
      ]
     },
     "execution_count": 224,
     "metadata": {},
     "output_type": "execute_result"
    }
   ],
   "source": [
    "# Classify, storing the result in a new variable.\n",
    "clf2_pred = clf2.predict(X_test_pca)\n",
    "\n",
    "# Create a confusion matrix.\n",
    "confusion_matrix(y_test2, clf2_pred)"
   ]
  },
  {
   "cell_type": "code",
   "execution_count": 225,
   "metadata": {},
   "outputs": [
    {
     "name": "stdout",
     "output_type": "stream",
     "text": [
      "             precision    recall  f1-score   support\n",
      "\n",
      "       F23-       0.03      0.00      0.00     15090\n",
      "     F24-26       0.00      0.00      0.00     15097\n",
      "     F27-28       0.10      0.00      0.00     14951\n",
      "     F29-32       0.00      0.00      0.00     14871\n",
      "     F33-42       0.07      0.00      0.00     14967\n",
      "       F43+       0.55      0.01      0.02     15071\n",
      "       M22-       0.24      0.00      0.00     15068\n",
      "     M23-26       0.08      0.00      0.00     14974\n",
      "     M27-28       0.00      0.00      0.00     14997\n",
      "     M29-31       0.00      0.00      0.00     14980\n",
      "     M32-38       0.15      0.00      0.00     14956\n",
      "       M39+       0.08      0.99      0.15     14978\n",
      "\n",
      "avg / total       0.11      0.08      0.02    180000\n",
      "\n"
     ]
    }
   ],
   "source": [
    "# Create a classification report.\n",
    "print(classification_report(y_test2, clf2_pred))"
   ]
  },
  {
   "cell_type": "markdown",
   "metadata": {},
   "source": [
    "# XGB with PCA Analysis\n",
    "\n",
    "The score after using PCA increased. I only needed to increase the depth level in order for the model to learn more specifically which made up for some of the variance loss that the PCA incurred. I didn't even need to increase the regularization parameters in order to remedy the overfitting since PCA already took care of it. \n",
    "\n",
    "However, it seems that after PCA is used, the classifcation report score will always decrease which is something to be careful of. "
   ]
  },
  {
   "cell_type": "markdown",
   "metadata": {},
   "source": [
    "# Deep Learning Models"
   ]
  },
  {
   "cell_type": "code",
   "execution_count": 19,
   "metadata": {},
   "outputs": [
    {
     "name": "stderr",
     "output_type": "stream",
     "text": [
      "Using TensorFlow backend.\n"
     ]
    }
   ],
   "source": [
    "import tensorflow as tf\n",
    "import keras\n",
    "\n",
    "# Import various componenets for model building\n",
    "from keras.models import Sequential\n",
    "from keras.layers import Dense, Dropout, Flatten, Conv1D, MaxPooling1D, MaxoutDense\n",
    "from keras.models import Model\n",
    "from keras.preprocessing import sequence\n",
    "from keras.optimizers import RMSprop, Adam, SGD, Adagrad\n",
    "from keras.utils import np_utils\n",
    "from keras.utils import to_categorical\n",
    "from keras.layers.normalization import BatchNormalization\n",
    "\n",
    "# Import the backend\n",
    "from keras import backend as K"
   ]
  },
  {
   "cell_type": "code",
   "execution_count": 20,
   "metadata": {},
   "outputs": [
    {
     "data": {
      "text/html": [
       "<div>\n",
       "<style scoped>\n",
       "    .dataframe tbody tr th:only-of-type {\n",
       "        vertical-align: middle;\n",
       "    }\n",
       "\n",
       "    .dataframe tbody tr th {\n",
       "        vertical-align: top;\n",
       "    }\n",
       "\n",
       "    .dataframe thead th {\n",
       "        text-align: right;\n",
       "    }\n",
       "</style>\n",
       "<table border=\"1\" class=\"dataframe\">\n",
       "  <thead>\n",
       "    <tr style=\"text-align: right;\">\n",
       "      <th></th>\n",
       "      <th>device_id</th>\n",
       "      <th>gender</th>\n",
       "      <th>age</th>\n",
       "      <th>group</th>\n",
       "      <th>app_id</th>\n",
       "      <th>is_active</th>\n",
       "      <th>encoded_model</th>\n",
       "      <th>label_id</th>\n",
       "      <th>2</th>\n",
       "      <th>4</th>\n",
       "      <th>...</th>\n",
       "      <th>1013</th>\n",
       "      <th>1014</th>\n",
       "      <th>1015</th>\n",
       "      <th>1016</th>\n",
       "      <th>1017</th>\n",
       "      <th>1018</th>\n",
       "      <th>1019</th>\n",
       "      <th>1020</th>\n",
       "      <th>1021</th>\n",
       "      <th>encoded_group</th>\n",
       "    </tr>\n",
       "  </thead>\n",
       "  <tbody>\n",
       "    <tr>\n",
       "      <th>2862313</th>\n",
       "      <td>7636272543666511219</td>\n",
       "      <td>1</td>\n",
       "      <td>24</td>\n",
       "      <td>M23-26</td>\n",
       "      <td>9112463114311278255</td>\n",
       "      <td>1</td>\n",
       "      <td>1097</td>\n",
       "      <td>714</td>\n",
       "      <td>0</td>\n",
       "      <td>0</td>\n",
       "      <td>...</td>\n",
       "      <td>0</td>\n",
       "      <td>0</td>\n",
       "      <td>0</td>\n",
       "      <td>0</td>\n",
       "      <td>0</td>\n",
       "      <td>0</td>\n",
       "      <td>0</td>\n",
       "      <td>0</td>\n",
       "      <td>0</td>\n",
       "      <td>7</td>\n",
       "    </tr>\n",
       "    <tr>\n",
       "      <th>4101144</th>\n",
       "      <td>8206431486042111291</td>\n",
       "      <td>1</td>\n",
       "      <td>23</td>\n",
       "      <td>M23-26</td>\n",
       "      <td>-653184324994839917</td>\n",
       "      <td>0</td>\n",
       "      <td>300</td>\n",
       "      <td>227</td>\n",
       "      <td>0</td>\n",
       "      <td>0</td>\n",
       "      <td>...</td>\n",
       "      <td>0</td>\n",
       "      <td>0</td>\n",
       "      <td>0</td>\n",
       "      <td>0</td>\n",
       "      <td>0</td>\n",
       "      <td>0</td>\n",
       "      <td>0</td>\n",
       "      <td>0</td>\n",
       "      <td>0</td>\n",
       "      <td>7</td>\n",
       "    </tr>\n",
       "    <tr>\n",
       "      <th>1252911</th>\n",
       "      <td>7363537917297697472</td>\n",
       "      <td>1</td>\n",
       "      <td>24</td>\n",
       "      <td>M23-26</td>\n",
       "      <td>8693964245073640147</td>\n",
       "      <td>0</td>\n",
       "      <td>115</td>\n",
       "      <td>548</td>\n",
       "      <td>0</td>\n",
       "      <td>0</td>\n",
       "      <td>...</td>\n",
       "      <td>0</td>\n",
       "      <td>0</td>\n",
       "      <td>0</td>\n",
       "      <td>0</td>\n",
       "      <td>0</td>\n",
       "      <td>0</td>\n",
       "      <td>0</td>\n",
       "      <td>0</td>\n",
       "      <td>0</td>\n",
       "      <td>7</td>\n",
       "    </tr>\n",
       "    <tr>\n",
       "      <th>287756</th>\n",
       "      <td>-9023589610046533587</td>\n",
       "      <td>1</td>\n",
       "      <td>25</td>\n",
       "      <td>M23-26</td>\n",
       "      <td>2870389134972125263</td>\n",
       "      <td>1</td>\n",
       "      <td>861</td>\n",
       "      <td>302</td>\n",
       "      <td>0</td>\n",
       "      <td>0</td>\n",
       "      <td>...</td>\n",
       "      <td>0</td>\n",
       "      <td>0</td>\n",
       "      <td>0</td>\n",
       "      <td>0</td>\n",
       "      <td>0</td>\n",
       "      <td>0</td>\n",
       "      <td>0</td>\n",
       "      <td>0</td>\n",
       "      <td>0</td>\n",
       "      <td>7</td>\n",
       "    </tr>\n",
       "    <tr>\n",
       "      <th>236210</th>\n",
       "      <td>3304264946378352356</td>\n",
       "      <td>1</td>\n",
       "      <td>24</td>\n",
       "      <td>M23-26</td>\n",
       "      <td>-5720078949152207372</td>\n",
       "      <td>1</td>\n",
       "      <td>745</td>\n",
       "      <td>303</td>\n",
       "      <td>0</td>\n",
       "      <td>0</td>\n",
       "      <td>...</td>\n",
       "      <td>0</td>\n",
       "      <td>0</td>\n",
       "      <td>0</td>\n",
       "      <td>0</td>\n",
       "      <td>0</td>\n",
       "      <td>0</td>\n",
       "      <td>0</td>\n",
       "      <td>0</td>\n",
       "      <td>0</td>\n",
       "      <td>7</td>\n",
       "    </tr>\n",
       "  </tbody>\n",
       "</table>\n",
       "<p>5 rows × 494 columns</p>\n",
       "</div>"
      ],
      "text/plain": [
       "                   device_id  gender  age   group               app_id  \\\n",
       "2862313  7636272543666511219       1   24  M23-26  9112463114311278255   \n",
       "4101144  8206431486042111291       1   23  M23-26  -653184324994839917   \n",
       "1252911  7363537917297697472       1   24  M23-26  8693964245073640147   \n",
       "287756  -9023589610046533587       1   25  M23-26  2870389134972125263   \n",
       "236210   3304264946378352356       1   24  M23-26 -5720078949152207372   \n",
       "\n",
       "         is_active  encoded_model  label_id  2  4      ...        1013  1014  \\\n",
       "2862313          1           1097       714  0  0      ...           0     0   \n",
       "4101144          0            300       227  0  0      ...           0     0   \n",
       "1252911          0            115       548  0  0      ...           0     0   \n",
       "287756           1            861       302  0  0      ...           0     0   \n",
       "236210           1            745       303  0  0      ...           0     0   \n",
       "\n",
       "         1015  1016  1017  1018  1019  1020  1021  encoded_group  \n",
       "2862313     0     0     0     0     0     0     0              7  \n",
       "4101144     0     0     0     0     0     0     0              7  \n",
       "1252911     0     0     0     0     0     0     0              7  \n",
       "287756      0     0     0     0     0     0     0              7  \n",
       "236210      0     0     0     0     0     0     0              7  \n",
       "\n",
       "[5 rows x 494 columns]"
      ]
     },
     "execution_count": 20,
     "metadata": {},
     "output_type": "execute_result"
    }
   ],
   "source": [
    "# Prepare to encode group.\n",
    "resampled2 = ga_apps_labeled_brands_resampled\n",
    "\n",
    "# Build numerical labels for our models\n",
    "groupencoder = LabelEncoder().fit(resampled2['group'])\n",
    "\n",
    "# Store in a new column\n",
    "resampled2['encoded_group'] = groupencoder.transform(resampled2['group'])\n",
    "\n",
    "resampled2.head()"
   ]
  },
  {
   "cell_type": "code",
   "execution_count": 134,
   "metadata": {},
   "outputs": [],
   "source": [
    "# Make a smaller data set to increase the accuracy of the model.\n",
    "resampled_mini = resampled2[:80000]"
   ]
  },
  {
   "cell_type": "code",
   "execution_count": 135,
   "metadata": {},
   "outputs": [],
   "source": [
    "# Recreate the test and training set.\n",
    "X2 = resampled_mini.drop(['group'], axis=1)\n",
    "Y2 = resampled_mini['encoded_group'].values\n",
    "\n",
    "# Normalize the data set.\n",
    "X2_norm = normalize(X2)\n",
    "\n",
    "# Train test split\n",
    "X_train2, X_test2, y_train2, y_test2 = train_test_split(X2_norm, Y2, test_size=0.25)"
   ]
  },
  {
   "cell_type": "code",
   "execution_count": 90,
   "metadata": {},
   "outputs": [],
   "source": [
    "# Instantiate StandardScaler for pca\n",
    "ss = StandardScaler()\n",
    "\n",
    "# Set up the variables.\n",
    "prep_X2 = X2\n",
    "prep_Y2 = Y2.reshape(-1, 1)\n",
    "\n",
    "\n",
    "# Standarize and fit the data first \n",
    "stand_x2 = ss.fit_transform(prep_X2)"
   ]
  },
  {
   "cell_type": "code",
   "execution_count": 91,
   "metadata": {},
   "outputs": [],
   "source": [
    "# Create a new training and testing set\n",
    "X_train3, X_test3, y_train3, y_test3 = train_test_split(stand_x2, Y2, test_size=0.25)\n",
    "\n",
    "# Use 4 components since it will explain most of the variance.\n",
    "pca = PCA(n_components=4)\n",
    "\n",
    "# Fit and transform training and testing dataset with PCA\n",
    "X_train_pca2 = pca.fit_transform(X_train2)\n",
    "X_test_pca2 = pca.fit_transform(X_test2)"
   ]
  },
  {
   "cell_type": "code",
   "execution_count": 103,
   "metadata": {
    "scrolled": true
   },
   "outputs": [
    {
     "name": "stdout",
     "output_type": "stream",
     "text": [
      "_________________________________________________________________\n",
      "Layer (type)                 Output Shape              Param #   \n",
      "=================================================================\n",
      "dense_101 (Dense)            (None, 128)               63232     \n",
      "_________________________________________________________________\n",
      "dropout_140 (Dropout)        (None, 128)               0         \n",
      "_________________________________________________________________\n",
      "dense_102 (Dense)            (None, 64)                8256      \n",
      "_________________________________________________________________\n",
      "batch_normalization_129 (Bat (None, 64)                256       \n",
      "_________________________________________________________________\n",
      "dropout_141 (Dropout)        (None, 64)                0         \n",
      "_________________________________________________________________\n",
      "dense_103 (Dense)            (None, 64)                4160      \n",
      "_________________________________________________________________\n",
      "batch_normalization_130 (Bat (None, 64)                256       \n",
      "_________________________________________________________________\n",
      "dropout_142 (Dropout)        (None, 64)                0         \n",
      "_________________________________________________________________\n",
      "dense_104 (Dense)            (None, 64)                4160      \n",
      "_________________________________________________________________\n",
      "batch_normalization_131 (Bat (None, 64)                256       \n",
      "_________________________________________________________________\n",
      "dropout_143 (Dropout)        (None, 64)                0         \n",
      "_________________________________________________________________\n",
      "dense_105 (Dense)            (None, 64)                4160      \n",
      "_________________________________________________________________\n",
      "batch_normalization_132 (Bat (None, 64)                256       \n",
      "_________________________________________________________________\n",
      "dropout_144 (Dropout)        (None, 64)                0         \n",
      "_________________________________________________________________\n",
      "dense_106 (Dense)            (None, 64)                4160      \n",
      "_________________________________________________________________\n",
      "batch_normalization_133 (Bat (None, 64)                256       \n",
      "_________________________________________________________________\n",
      "dropout_145 (Dropout)        (None, 64)                0         \n",
      "_________________________________________________________________\n",
      "dense_107 (Dense)            (None, 64)                4160      \n",
      "_________________________________________________________________\n",
      "batch_normalization_134 (Bat (None, 64)                256       \n",
      "_________________________________________________________________\n",
      "dropout_146 (Dropout)        (None, 64)                0         \n",
      "_________________________________________________________________\n",
      "dense_108 (Dense)            (None, 12)                780       \n",
      "=================================================================\n",
      "Total params: 94,604\n",
      "Trainable params: 93,836\n",
      "Non-trainable params: 768\n",
      "_________________________________________________________________\n"
     ]
    }
   ],
   "source": [
    "# Start with a simple sequential model.\n",
    "model = Sequential()\n",
    "\n",
    "# Add dense layers to create a fully connected MLP\n",
    "# Note that we specify an input shape for the first layer, but only the first layer.\n",
    "# Relu is the activation function used\n",
    "model.add(Dense(128, activation='elu', input_shape=(493,)))\n",
    "# Dropout layers remove features and fight overfitting\n",
    "model.add(Dropout(0.1))\n",
    "model.add(Dense(64, activation='elu'))\n",
    "model.add(BatchNormalization())\n",
    "model.add(Dropout(0.3))\n",
    "model.add(Dense(64, activation='elu'))\n",
    "model.add(BatchNormalization())\n",
    "model.add(Dropout(0.3))\n",
    "model.add(Dense(64, activation='elu'))\n",
    "model.add(BatchNormalization())\n",
    "model.add(Dropout(0.5))\n",
    "model.add(Dense(64, activation='elu'))\n",
    "model.add(BatchNormalization())\n",
    "model.add(Dropout(0.5))\n",
    "model.add(Dense(64, activation='elu'))\n",
    "model.add(BatchNormalization())\n",
    "model.add(Dropout(0.5))\n",
    "model.add(Dense(64, activation='elu'))\n",
    "model.add(BatchNormalization())\n",
    "model.add(Dropout(0.3))\n",
    "\n",
    "# End with a number of units equal to the number of classes we have for our outcome\n",
    "model.add(Dense(12, activation='softmax'))\n",
    "\n",
    "\n",
    "model.summary()\n",
    "\n",
    "# Compile the model to put it all together.\n",
    "model.compile(loss='sparse_categorical_crossentropy',\n",
    "              optimizer=Adam(),\n",
    "              metrics=['accuracy'])"
   ]
  },
  {
   "cell_type": "code",
   "execution_count": 104,
   "metadata": {
    "scrolled": true
   },
   "outputs": [
    {
     "name": "stdout",
     "output_type": "stream",
     "text": [
      "Train on 60000 samples, validate on 20000 samples\n",
      "Epoch 1/100\n",
      "60000/60000 [==============================] - 8s 134us/step - loss: 2.8726 - acc: 0.1206 - val_loss: 2.0096 - val_acc: 0.5208\n",
      "Epoch 2/100\n",
      "60000/60000 [==============================] - 2s 28us/step - loss: 2.2062 - acc: 0.2824 - val_loss: 1.5517 - val_acc: 0.5894\n",
      "Epoch 3/100\n",
      "60000/60000 [==============================] - 2s 29us/step - loss: 1.5771 - acc: 0.4649 - val_loss: 1.0280 - val_acc: 0.6210\n",
      "Epoch 4/100\n",
      "60000/60000 [==============================] - 2s 29us/step - loss: 1.1123 - acc: 0.5510 - val_loss: 0.7985 - val_acc: 0.6210\n",
      "Epoch 5/100\n",
      "60000/60000 [==============================] - 2s 28us/step - loss: 0.8916 - acc: 0.5729 - val_loss: 0.7176 - val_acc: 0.6210\n",
      "Epoch 6/100\n",
      "60000/60000 [==============================] - 2s 28us/step - loss: 0.7933 - acc: 0.5865 - val_loss: 0.6941 - val_acc: 0.6210\n",
      "Epoch 7/100\n",
      "60000/60000 [==============================] - 2s 28us/step - loss: 0.7429 - acc: 0.6000 - val_loss: 0.6811 - val_acc: 0.6210\n",
      "Epoch 8/100\n",
      "60000/60000 [==============================] - 2s 29us/step - loss: 0.7152 - acc: 0.6095 - val_loss: 0.6756 - val_acc: 0.6210\n",
      "Epoch 9/100\n",
      "60000/60000 [==============================] - 2s 29us/step - loss: 0.6996 - acc: 0.6191 - val_loss: 0.6720 - val_acc: 0.6210\n",
      "Epoch 10/100\n",
      "60000/60000 [==============================] - 2s 29us/step - loss: 0.6892 - acc: 0.6234 - val_loss: 0.6693 - val_acc: 0.6210\n",
      "Epoch 11/100\n",
      "60000/60000 [==============================] - 2s 29us/step - loss: 0.6831 - acc: 0.6243 - val_loss: 0.6679 - val_acc: 0.6210\n",
      "Epoch 12/100\n",
      "60000/60000 [==============================] - 2s 31us/step - loss: 0.6787 - acc: 0.6251 - val_loss: 0.6670 - val_acc: 0.6210\n",
      "Epoch 13/100\n",
      "60000/60000 [==============================] - 2s 28us/step - loss: 0.6750 - acc: 0.6261 - val_loss: 0.6665 - val_acc: 0.6210\n",
      "Epoch 14/100\n",
      "60000/60000 [==============================] - 2s 29us/step - loss: 0.6730 - acc: 0.6261 - val_loss: 0.6663 - val_acc: 0.6210\n",
      "Epoch 15/100\n",
      "60000/60000 [==============================] - 2s 29us/step - loss: 0.6712 - acc: 0.6259 - val_loss: 0.6656 - val_acc: 0.6210\n",
      "Epoch 16/100\n",
      "60000/60000 [==============================] - 2s 28us/step - loss: 0.6700 - acc: 0.6261 - val_loss: 0.6652 - val_acc: 0.6210\n",
      "Epoch 17/100\n",
      "60000/60000 [==============================] - 2s 29us/step - loss: 0.6689 - acc: 0.6262 - val_loss: 0.6649 - val_acc: 0.6210\n",
      "Epoch 18/100\n",
      "60000/60000 [==============================] - 2s 28us/step - loss: 0.6683 - acc: 0.6262 - val_loss: 0.6648 - val_acc: 0.6210\n",
      "Epoch 19/100\n",
      "60000/60000 [==============================] - 2s 28us/step - loss: 0.6674 - acc: 0.6263 - val_loss: 0.6646 - val_acc: 0.6210\n",
      "Epoch 20/100\n",
      "60000/60000 [==============================] - 2s 28us/step - loss: 0.6668 - acc: 0.6261 - val_loss: 0.6645 - val_acc: 0.6210\n",
      "Epoch 21/100\n",
      "60000/60000 [==============================] - 2s 29us/step - loss: 0.6668 - acc: 0.6261 - val_loss: 0.6645 - val_acc: 0.6210\n",
      "Epoch 22/100\n",
      "60000/60000 [==============================] - 2s 30us/step - loss: 0.6662 - acc: 0.6262 - val_loss: 0.6645 - val_acc: 0.6210\n",
      "Epoch 23/100\n",
      "60000/60000 [==============================] - 2s 29us/step - loss: 0.6658 - acc: 0.6263 - val_loss: 0.6643 - val_acc: 0.6210\n",
      "Epoch 24/100\n",
      "60000/60000 [==============================] - 2s 29us/step - loss: 0.6649 - acc: 0.6263 - val_loss: 0.6644 - val_acc: 0.6210\n",
      "Epoch 25/100\n",
      "60000/60000 [==============================] - 2s 30us/step - loss: 0.6648 - acc: 0.6263 - val_loss: 0.6643 - val_acc: 0.6210\n",
      "Epoch 26/100\n",
      "60000/60000 [==============================] - 2s 28us/step - loss: 0.6653 - acc: 0.6262 - val_loss: 0.6640 - val_acc: 0.6210\n",
      "Epoch 27/100\n",
      "60000/60000 [==============================] - 2s 30us/step - loss: 0.6641 - acc: 0.6263 - val_loss: 0.6642 - val_acc: 0.6210\n",
      "Epoch 28/100\n",
      "60000/60000 [==============================] - 2s 29us/step - loss: 0.6639 - acc: 0.6263 - val_loss: 0.6641 - val_acc: 0.6210\n",
      "Epoch 29/100\n",
      "60000/60000 [==============================] - 2s 30us/step - loss: 0.6642 - acc: 0.6263 - val_loss: 0.6640 - val_acc: 0.6210\n",
      "Epoch 30/100\n",
      "60000/60000 [==============================] - 2s 29us/step - loss: 0.6639 - acc: 0.6262 - val_loss: 0.6641 - val_acc: 0.6210\n",
      "Epoch 31/100\n",
      "60000/60000 [==============================] - 2s 28us/step - loss: 0.6637 - acc: 0.6263 - val_loss: 0.6639 - val_acc: 0.6210\n",
      "Epoch 32/100\n",
      "60000/60000 [==============================] - 2s 28us/step - loss: 0.6638 - acc: 0.6262 - val_loss: 0.6639 - val_acc: 0.6210\n",
      "Epoch 33/100\n",
      "60000/60000 [==============================] - 2s 28us/step - loss: 0.6637 - acc: 0.6262 - val_loss: 0.6645 - val_acc: 0.6210\n",
      "Epoch 34/100\n",
      "60000/60000 [==============================] - 2s 30us/step - loss: 0.6636 - acc: 0.6263 - val_loss: 0.6639 - val_acc: 0.6210\n",
      "Epoch 35/100\n",
      "60000/60000 [==============================] - 2s 28us/step - loss: 0.6634 - acc: 0.6263 - val_loss: 0.6640 - val_acc: 0.6210\n",
      "Epoch 36/100\n",
      "60000/60000 [==============================] - 2s 28us/step - loss: 0.6631 - acc: 0.6263 - val_loss: 0.6639 - val_acc: 0.6210\n",
      "Epoch 37/100\n",
      "60000/60000 [==============================] - 2s 29us/step - loss: 0.6625 - acc: 0.6263 - val_loss: 0.6638 - val_acc: 0.6210\n",
      "Epoch 38/100\n",
      "60000/60000 [==============================] - 2s 29us/step - loss: 0.6632 - acc: 0.6263 - val_loss: 0.6638 - val_acc: 0.6210\n",
      "Epoch 39/100\n",
      "60000/60000 [==============================] - 2s 29us/step - loss: 0.6625 - acc: 0.6263 - val_loss: 0.6638 - val_acc: 0.6210\n",
      "Epoch 40/100\n",
      "60000/60000 [==============================] - 2s 27us/step - loss: 0.6627 - acc: 0.6263 - val_loss: 0.6638 - val_acc: 0.6210\n",
      "Epoch 41/100\n",
      "60000/60000 [==============================] - 2s 28us/step - loss: 0.6624 - acc: 0.6263 - val_loss: 0.6638 - val_acc: 0.6210\n",
      "Epoch 42/100\n",
      "60000/60000 [==============================] - 2s 29us/step - loss: 0.6627 - acc: 0.6263 - val_loss: 0.6642 - val_acc: 0.6210\n",
      "Epoch 43/100\n",
      "60000/60000 [==============================] - 2s 28us/step - loss: 0.6628 - acc: 0.6263 - val_loss: 0.6640 - val_acc: 0.6210\n",
      "Epoch 44/100\n",
      "60000/60000 [==============================] - 2s 29us/step - loss: 0.6629 - acc: 0.6263 - val_loss: 0.6642 - val_acc: 0.6210\n",
      "Epoch 45/100\n",
      "60000/60000 [==============================] - 2s 28us/step - loss: 0.6625 - acc: 0.6263 - val_loss: 0.6639 - val_acc: 0.6210\n",
      "Epoch 46/100\n",
      "60000/60000 [==============================] - 2s 28us/step - loss: 0.6624 - acc: 0.6263 - val_loss: 0.6640 - val_acc: 0.6210\n",
      "Epoch 47/100\n",
      "60000/60000 [==============================] - 2s 28us/step - loss: 0.6626 - acc: 0.6263 - val_loss: 0.6644 - val_acc: 0.6210\n",
      "Epoch 48/100\n",
      "60000/60000 [==============================] - 2s 28us/step - loss: 0.6623 - acc: 0.6263 - val_loss: 0.6637 - val_acc: 0.6210\n",
      "Epoch 49/100\n",
      "60000/60000 [==============================] - 2s 30us/step - loss: 0.6625 - acc: 0.6263 - val_loss: 0.6638 - val_acc: 0.6210\n",
      "Epoch 50/100\n",
      "60000/60000 [==============================] - 2s 28us/step - loss: 0.6623 - acc: 0.6263 - val_loss: 0.6640 - val_acc: 0.6210\n",
      "Epoch 51/100\n",
      "60000/60000 [==============================] - 2s 29us/step - loss: 0.6622 - acc: 0.6263 - val_loss: 0.6639 - val_acc: 0.6210\n",
      "Epoch 52/100\n",
      "60000/60000 [==============================] - 2s 30us/step - loss: 0.6623 - acc: 0.6263 - val_loss: 0.6637 - val_acc: 0.6210\n",
      "Epoch 53/100\n",
      "60000/60000 [==============================] - 2s 29us/step - loss: 0.6621 - acc: 0.6263 - val_loss: 0.6640 - val_acc: 0.6210\n",
      "Epoch 54/100\n",
      "60000/60000 [==============================] - 2s 28us/step - loss: 0.6622 - acc: 0.6263 - val_loss: 0.6637 - val_acc: 0.6210\n",
      "Epoch 55/100\n",
      "60000/60000 [==============================] - 2s 29us/step - loss: 0.6624 - acc: 0.6262 - val_loss: 0.6645 - val_acc: 0.6210\n",
      "Epoch 56/100\n",
      "60000/60000 [==============================] - 2s 27us/step - loss: 0.6621 - acc: 0.6263 - val_loss: 0.6638 - val_acc: 0.6210\n",
      "Epoch 57/100\n",
      "60000/60000 [==============================] - 2s 28us/step - loss: 0.6620 - acc: 0.6263 - val_loss: 0.6637 - val_acc: 0.6210\n",
      "Epoch 58/100\n",
      "60000/60000 [==============================] - 2s 29us/step - loss: 0.6620 - acc: 0.6263 - val_loss: 0.6637 - val_acc: 0.6210\n",
      "Epoch 59/100\n",
      "60000/60000 [==============================] - 2s 28us/step - loss: 0.6620 - acc: 0.6263 - val_loss: 0.6640 - val_acc: 0.6210\n",
      "Epoch 60/100\n",
      "60000/60000 [==============================] - 2s 28us/step - loss: 0.6621 - acc: 0.6263 - val_loss: 0.6636 - val_acc: 0.6210\n",
      "Epoch 61/100\n",
      "60000/60000 [==============================] - 2s 28us/step - loss: 0.6620 - acc: 0.6263 - val_loss: 0.6636 - val_acc: 0.6210\n",
      "Epoch 62/100\n",
      "60000/60000 [==============================] - 2s 28us/step - loss: 0.6621 - acc: 0.6263 - val_loss: 0.6639 - val_acc: 0.6210\n",
      "Epoch 63/100\n",
      "60000/60000 [==============================] - 2s 30us/step - loss: 0.6614 - acc: 0.6263 - val_loss: 0.6638 - val_acc: 0.6210\n",
      "Epoch 64/100\n",
      "60000/60000 [==============================] - 2s 30us/step - loss: 0.6617 - acc: 0.6263 - val_loss: 0.6638 - val_acc: 0.6210\n",
      "Epoch 65/100\n",
      "60000/60000 [==============================] - 2s 29us/step - loss: 0.6619 - acc: 0.6263 - val_loss: 0.6637 - val_acc: 0.6210\n",
      "Epoch 66/100\n",
      "60000/60000 [==============================] - 2s 28us/step - loss: 0.6617 - acc: 0.6263 - val_loss: 0.6636 - val_acc: 0.6210\n",
      "Epoch 67/100\n",
      "60000/60000 [==============================] - 2s 29us/step - loss: 0.6619 - acc: 0.6263 - val_loss: 0.6638 - val_acc: 0.6210\n",
      "Epoch 68/100\n",
      "60000/60000 [==============================] - 2s 29us/step - loss: 0.6619 - acc: 0.6263 - val_loss: 0.6640 - val_acc: 0.6210\n",
      "Epoch 69/100\n",
      "60000/60000 [==============================] - 2s 28us/step - loss: 0.6617 - acc: 0.6263 - val_loss: 0.6636 - val_acc: 0.6210\n",
      "Epoch 70/100\n",
      "60000/60000 [==============================] - 2s 28us/step - loss: 0.6617 - acc: 0.6263 - val_loss: 0.6638 - val_acc: 0.6210\n",
      "Epoch 71/100\n",
      "60000/60000 [==============================] - 2s 28us/step - loss: 0.6615 - acc: 0.6263 - val_loss: 0.6639 - val_acc: 0.6210\n",
      "Epoch 72/100\n",
      "60000/60000 [==============================] - 2s 28us/step - loss: 0.6614 - acc: 0.6263 - val_loss: 0.6637 - val_acc: 0.6210\n",
      "Epoch 73/100\n",
      "60000/60000 [==============================] - 2s 29us/step - loss: 0.6618 - acc: 0.6263 - val_loss: 0.6636 - val_acc: 0.6210\n",
      "Epoch 74/100\n",
      "60000/60000 [==============================] - 2s 29us/step - loss: 0.6615 - acc: 0.6263 - val_loss: 0.6638 - val_acc: 0.6210\n",
      "Epoch 75/100\n",
      "60000/60000 [==============================] - 2s 30us/step - loss: 0.6616 - acc: 0.6263 - val_loss: 0.6636 - val_acc: 0.6210\n",
      "Epoch 76/100\n",
      "60000/60000 [==============================] - 2s 29us/step - loss: 0.6616 - acc: 0.6263 - val_loss: 0.6641 - val_acc: 0.6210\n",
      "Epoch 77/100\n",
      "60000/60000 [==============================] - 2s 30us/step - loss: 0.6617 - acc: 0.6263 - val_loss: 0.6636 - val_acc: 0.6210\n",
      "Epoch 78/100\n",
      "60000/60000 [==============================] - 2s 29us/step - loss: 0.6615 - acc: 0.6263 - val_loss: 0.6639 - val_acc: 0.6210\n",
      "Epoch 79/100\n",
      "60000/60000 [==============================] - 2s 29us/step - loss: 0.6616 - acc: 0.6263 - val_loss: 0.6639 - val_acc: 0.6210\n",
      "Epoch 80/100\n",
      "60000/60000 [==============================] - 2s 29us/step - loss: 0.6613 - acc: 0.6263 - val_loss: 0.6637 - val_acc: 0.6210\n",
      "Epoch 81/100\n",
      "60000/60000 [==============================] - 2s 28us/step - loss: 0.6614 - acc: 0.6263 - val_loss: 0.6636 - val_acc: 0.6210\n",
      "Epoch 82/100\n",
      "60000/60000 [==============================] - 2s 29us/step - loss: 0.6615 - acc: 0.6263 - val_loss: 0.6641 - val_acc: 0.6210\n",
      "Epoch 83/100\n",
      "60000/60000 [==============================] - 2s 28us/step - loss: 0.6616 - acc: 0.6263 - val_loss: 0.6643 - val_acc: 0.6210\n",
      "Epoch 84/100\n",
      "60000/60000 [==============================] - 2s 29us/step - loss: 0.6615 - acc: 0.6263 - val_loss: 0.6639 - val_acc: 0.6210\n",
      "Epoch 85/100\n",
      "60000/60000 [==============================] - 2s 30us/step - loss: 0.6613 - acc: 0.6263 - val_loss: 0.6637 - val_acc: 0.6210\n",
      "Epoch 86/100\n",
      "60000/60000 [==============================] - 2s 28us/step - loss: 0.6613 - acc: 0.6263 - val_loss: 0.6637 - val_acc: 0.6210\n",
      "Epoch 87/100\n",
      "60000/60000 [==============================] - 2s 28us/step - loss: 0.6615 - acc: 0.6263 - val_loss: 0.6637 - val_acc: 0.6210\n",
      "Epoch 88/100\n",
      "60000/60000 [==============================] - 2s 29us/step - loss: 0.6616 - acc: 0.6263 - val_loss: 0.6637 - val_acc: 0.6210\n",
      "Epoch 89/100\n",
      "60000/60000 [==============================] - 2s 29us/step - loss: 0.6615 - acc: 0.6263 - val_loss: 0.6638 - val_acc: 0.6210\n",
      "Epoch 90/100\n",
      "60000/60000 [==============================] - 2s 29us/step - loss: 0.6615 - acc: 0.6263 - val_loss: 0.6641 - val_acc: 0.6210\n",
      "Epoch 91/100\n",
      "60000/60000 [==============================] - 2s 29us/step - loss: 0.6615 - acc: 0.6263 - val_loss: 0.6637 - val_acc: 0.6210\n",
      "Epoch 92/100\n",
      "60000/60000 [==============================] - 2s 28us/step - loss: 0.6615 - acc: 0.6263 - val_loss: 0.6638 - val_acc: 0.6210\n",
      "Epoch 93/100\n",
      "60000/60000 [==============================] - 2s 28us/step - loss: 0.6612 - acc: 0.6263 - val_loss: 0.6639 - val_acc: 0.6210\n",
      "Epoch 94/100\n",
      "60000/60000 [==============================] - 2s 28us/step - loss: 0.6616 - acc: 0.6263 - val_loss: 0.6638 - val_acc: 0.6210\n",
      "Epoch 95/100\n",
      "60000/60000 [==============================] - 2s 29us/step - loss: 0.6614 - acc: 0.6263 - val_loss: 0.6636 - val_acc: 0.6210\n",
      "Epoch 96/100\n",
      "60000/60000 [==============================] - 2s 28us/step - loss: 0.6616 - acc: 0.6263 - val_loss: 0.6637 - val_acc: 0.6210\n",
      "Epoch 97/100\n",
      "60000/60000 [==============================] - 2s 28us/step - loss: 0.6615 - acc: 0.6263 - val_loss: 0.6638 - val_acc: 0.6210\n",
      "Epoch 98/100\n",
      "60000/60000 [==============================] - 2s 29us/step - loss: 0.6615 - acc: 0.6263 - val_loss: 0.6637 - val_acc: 0.6210\n",
      "Epoch 99/100\n",
      "60000/60000 [==============================] - 2s 28us/step - loss: 0.6614 - acc: 0.6263 - val_loss: 0.6636 - val_acc: 0.6210\n",
      "Epoch 100/100\n",
      "60000/60000 [==============================] - 2s 29us/step - loss: 0.6616 - acc: 0.6263 - val_loss: 0.6636 - val_acc: 0.6210\n",
      "Test loss: 0.663571468257904\n",
      "Test accuracy: 0.62105\n"
     ]
    }
   ],
   "source": [
    "history = model.fit(X_train2, y_train2,\n",
    "                    batch_size=1300,\n",
    "                    epochs=100,\n",
    "                    verbose=1,\n",
    "                    validation_data=(X_test2, y_test2))\n",
    "score = model.evaluate(X_test2, y_test2, verbose=0)\n",
    "print('Test loss:', score[0])\n",
    "print('Test accuracy:', score[1])"
   ]
  },
  {
   "cell_type": "markdown",
   "metadata": {},
   "source": [
    "# Analyis\n",
    "\n",
    "For my neural network, I initially had a lot of issues with it since I had to encode my test data in order to use the neural network because my test data was all strings. So I had the option of encoding it one-hot encoding or encoding it as integers. I chose the integer method in order to keep the column and reduce the number of columns that the hot encoding would have returned to me in matrix form. Because I chose integers, I had to use sparse categorical crossentropy as my loss function which is meant for multiclass identification. \n",
    "\n",
    "Afterwards, I chose to use the PCA data set in order to obtain a better score. The neural network training score ended up overfitting so I had to think of another method to use my neural network. Ultimately, I had to scale down my data set in order to create a model that was more accurate. Scaling down the model also made the neural network run faster. Due to the fact that my neural network was essentially ineffective on a larger scale, I was forced to downsize to a smaller sample set to show that the neural network is useful given certain conditions. \n",
    "\n",
    "Lastly, I could have chosen between log loss and accuracy as my measurement of my model's performance. Log loss measures the performance of a classification model where the prediction input is a probability value between 0 and 1 and the goal is to get it to 0. Log loss gives a more nuanced view into the performance of the model since it takes into account the uncertainity of the prediction based on how much it varies from the actual label, which means that there's a heavier penalty when the model is confident and wrong compared to when the model is unconfident and wrong. However, I chose to use accuracy because it's much more cut and dry and easier to explain to people, since the average person may not know what the log loss of 2.42 is compared to the log loss of 0.6.\n",
    "\n",
    "# Convolutional Neural Network"
   ]
  },
  {
   "cell_type": "code",
   "execution_count": 45,
   "metadata": {},
   "outputs": [],
   "source": [
    "resampled3_mini = resampled2[:65000]"
   ]
  },
  {
   "cell_type": "code",
   "execution_count": 46,
   "metadata": {},
   "outputs": [],
   "source": [
    "# Recreate the test and training set.\n",
    "X4 = resampled3_mini.drop(['group'], axis=1)\n",
    "Y4 = resampled3_mini['encoded_group'].values\n",
    "\n",
    "# Instantiate StandardScaler\n",
    "ss = StandardScaler()\n",
    "\n",
    "# Set up the variables.\n",
    "prep_X4 = X4\n",
    "prep_Y4 = Y4.reshape(-1, 1)\n",
    "\n",
    "\n",
    "# Standarize and fit the data first \n",
    "stand_x4 = ss.fit_transform(prep_X4)"
   ]
  },
  {
   "cell_type": "code",
   "execution_count": 47,
   "metadata": {},
   "outputs": [],
   "source": [
    "# Create a new training and testing set\n",
    "X_train4, X_test4, y_train4, y_test4 = train_test_split(stand_x4, Y4, test_size=0.25)\n",
    "\n",
    "# Use 4 components since it will explain most of the variance.\n",
    "pca = PCA(n_components=4)\n",
    "\n",
    "# Fit and transform training and testing dataset with PCA\n",
    "X_train_pca3 = pca.fit_transform(X_train4)\n",
    "X_test_pca3 = pca.fit_transform(X_test4)"
   ]
  },
  {
   "cell_type": "code",
   "execution_count": 48,
   "metadata": {},
   "outputs": [],
   "source": [
    "# Increase the dimensional size of X_train/test_pca\n",
    "# in order for Conv1d to run smoothly.\n",
    "X_train_pca_mod = np.expand_dims(X_train_pca3, axis=2)\n",
    "X_test_pca_mod = np.expand_dims(X_test_pca3, axis=2)"
   ]
  },
  {
   "cell_type": "code",
   "execution_count": 49,
   "metadata": {},
   "outputs": [],
   "source": [
    "# Recreate the test and training set.\n",
    "X5 = resampled3_mini.drop(['group'], axis=1)\n",
    "Y5 = resampled3_mini['encoded_group'].values\n",
    "\n",
    "\n",
    "X5_norm =normalize(X5)\n",
    "\n",
    "# Create a new training and testing set\n",
    "X_train5, X_test5, y_train4, y_test4 = train_test_split(X5_norm, Y5, test_size=0.25)"
   ]
  },
  {
   "cell_type": "code",
   "execution_count": 50,
   "metadata": {},
   "outputs": [],
   "source": [
    "# Increase the dimensional size of X_train/test_pca\n",
    "# in order for Conv1d to run smoothly.\n",
    "X_train_mod = np.expand_dims(X_train5, axis=2)\n",
    "X_test_mod = np.expand_dims(X_test5, axis=2)"
   ]
  },
  {
   "cell_type": "code",
   "execution_count": 51,
   "metadata": {},
   "outputs": [],
   "source": [
    "# Encode y into 12 different vectors for CNN.\n",
    "y_train_CNN = np_utils.to_categorical(y_train4, 12)\n",
    "y_test_CNN = np_utils.to_categorical(y_test4, 12)"
   ]
  },
  {
   "cell_type": "code",
   "execution_count": 52,
   "metadata": {},
   "outputs": [
    {
     "name": "stderr",
     "output_type": "stream",
     "text": [
      "/anaconda3/lib/python3.6/site-packages/keras/legacy/layers.py:534: UserWarning: The `MaxoutDense` layer is deprecated and will be removed after 06/2017.\n",
      "  warnings.warn('The `MaxoutDense` layer is deprecated '\n"
     ]
    },
    {
     "name": "stdout",
     "output_type": "stream",
     "text": [
      "_________________________________________________________________\n",
      "Layer (type)                 Output Shape              Param #   \n",
      "=================================================================\n",
      "conv1d_25 (Conv1D)           (None, 500, 64)           704       \n",
      "_________________________________________________________________\n",
      "conv1d_26 (Conv1D)           (None, 481, 64)           81984     \n",
      "_________________________________________________________________\n",
      "batch_normalization_35 (Batc (None, 481, 64)           256       \n",
      "_________________________________________________________________\n",
      "conv1d_27 (Conv1D)           (None, 462, 32)           40992     \n",
      "_________________________________________________________________\n",
      "batch_normalization_36 (Batc (None, 462, 32)           128       \n",
      "_________________________________________________________________\n",
      "conv1d_28 (Conv1D)           (None, 448, 32)           15392     \n",
      "_________________________________________________________________\n",
      "max_pooling1d_9 (MaxPooling1 (None, 30, 32)            0         \n",
      "_________________________________________________________________\n",
      "batch_normalization_37 (Batc (None, 30, 32)            128       \n",
      "_________________________________________________________________\n",
      "dropout_23 (Dropout)         (None, 30, 32)            0         \n",
      "_________________________________________________________________\n",
      "conv1d_29 (Conv1D)           (None, 11, 32)            20512     \n",
      "_________________________________________________________________\n",
      "batch_normalization_38 (Batc (None, 11, 32)            128       \n",
      "_________________________________________________________________\n",
      "conv1d_30 (Conv1D)           (None, 2, 32)             10272     \n",
      "_________________________________________________________________\n",
      "max_pooling1d_10 (MaxPooling (None, 1, 32)             0         \n",
      "_________________________________________________________________\n",
      "batch_normalization_39 (Batc (None, 1, 32)             128       \n",
      "_________________________________________________________________\n",
      "dropout_24 (Dropout)         (None, 1, 32)             0         \n",
      "_________________________________________________________________\n",
      "flatten_5 (Flatten)          (None, 32)                0         \n",
      "_________________________________________________________________\n",
      "maxout_dense_15 (MaxoutDense (None, 32)                12672     \n",
      "_________________________________________________________________\n",
      "batch_normalization_40 (Batc (None, 32)                128       \n",
      "_________________________________________________________________\n",
      "dropout_25 (Dropout)         (None, 32)                0         \n",
      "_________________________________________________________________\n",
      "maxout_dense_16 (MaxoutDense (None, 32)                12672     \n",
      "_________________________________________________________________\n",
      "batch_normalization_41 (Batc (None, 32)                128       \n",
      "_________________________________________________________________\n",
      "dropout_26 (Dropout)         (None, 32)                0         \n",
      "_________________________________________________________________\n",
      "maxout_dense_17 (MaxoutDense (None, 32)                12672     \n",
      "_________________________________________________________________\n",
      "batch_normalization_42 (Batc (None, 32)                128       \n",
      "_________________________________________________________________\n",
      "dropout_27 (Dropout)         (None, 32)                0         \n",
      "_________________________________________________________________\n",
      "dense_5 (Dense)              (None, 12)                396       \n",
      "=================================================================\n",
      "Total params: 209,420\n",
      "Trainable params: 208,844\n",
      "Non-trainable params: 576\n",
      "_________________________________________________________________\n"
     ]
    }
   ],
   "source": [
    "# Building the Convolutionals Model\n",
    "model = Sequential()\n",
    "\n",
    "# Set up some parameters\n",
    "input_dim = 1\n",
    "\n",
    "# Convert X_train and X_test to numpy array\n",
    "max_review_length = 500 \n",
    "X_train_CNN = sequence.pad_sequences(X_train_pca_mod, maxlen=max_review_length) \n",
    "X_test_CNN = sequence.pad_sequences(X_test_pca_mod, maxlen=max_review_length)\n",
    "\n",
    "\n",
    "X_train_CNN2 = sequence.pad_sequences(X_train_mod, maxlen=max_review_length) \n",
    "X_test_CNN2 = sequence.pad_sequences(X_test_mod, maxlen=max_review_length)\n",
    "\n",
    "# First convolutional layer, note the specification of shape\n",
    "model.add(Conv1D(64, kernel_size=10,\n",
    "                 padding='same',\n",
    "                 input_shape=(max_review_length, input_dim),\n",
    "                 activation='elu',\n",
    "                 strides=1))\n",
    "model.add(Conv1D(64, kernel_size=20, activation='elu'))\n",
    "model.add(BatchNormalization())\n",
    "model.add(Conv1D(32, kernel_size=20, activation='elu'))\n",
    "model.add(BatchNormalization())\n",
    "model.add(Conv1D(32, kernel_size=15, activation='elu'))\n",
    "model.add(MaxPooling1D(pool_size=15,\n",
    "                       padding='same'))\n",
    "model.add(BatchNormalization())\n",
    "model.add(Dropout(0.25))\n",
    "model.add(Conv1D(32, kernel_size=20, activation='elu'))\n",
    "model.add(BatchNormalization())\n",
    "model.add(Conv1D(32, kernel_size=10, activation='elu'))\n",
    "model.add(MaxPooling1D(pool_size=25,\n",
    "                       padding='same'))\n",
    "model.add(BatchNormalization())\n",
    "model.add(Dropout(0.3))\n",
    "model.add(Flatten())\n",
    "model.add(MaxoutDense(32, nb_feature=12))\n",
    "model.add(BatchNormalization())\n",
    "model.add(Dropout(0.3))\n",
    "model.add(MaxoutDense(32, nb_feature=12))\n",
    "model.add(BatchNormalization())\n",
    "model.add(Dropout(0.5))\n",
    "model.add(MaxoutDense(32, nb_feature=12))\n",
    "model.add(BatchNormalization())\n",
    "model.add(Dropout(0.5))\n",
    "model.add(Dense(12, activation='softmax'))\n",
    "model.compile(loss=keras.losses.categorical_crossentropy,\n",
    "              optimizer=keras.optimizers.Adagrad(),\n",
    "              metrics=['accuracy'])\n",
    "\n",
    "model.summary()"
   ]
  },
  {
   "cell_type": "code",
   "execution_count": 53,
   "metadata": {},
   "outputs": [
    {
     "name": "stdout",
     "output_type": "stream",
     "text": [
      "Train on 48750 samples, validate on 16250 samples\n",
      "Epoch 1/12\n",
      "48750/48750 [==============================] - 302s 6ms/step - loss: 2.3735 - acc: 0.3601 - val_loss: 16.1181 - val_acc: 0.0000e+00\n",
      "Epoch 2/12\n",
      "48750/48750 [==============================] - 299s 6ms/step - loss: 1.6047 - acc: 0.6903 - val_loss: 16.1181 - val_acc: 0.0000e+00\n",
      "Epoch 3/12\n",
      "48750/48750 [==============================] - 306s 6ms/step - loss: 1.2047 - acc: 0.7378 - val_loss: 12.3856 - val_acc: 0.2316\n",
      "Epoch 4/12\n",
      "48750/48750 [==============================] - 301s 6ms/step - loss: 0.9956 - acc: 0.7505 - val_loss: 3.7325 - val_acc: 0.7684\n",
      "Epoch 5/12\n",
      "48750/48750 [==============================] - 299s 6ms/step - loss: 0.8748 - acc: 0.7554 - val_loss: 3.7325 - val_acc: 0.7684\n",
      "Epoch 6/12\n",
      "48750/48750 [==============================] - 298s 6ms/step - loss: 0.8048 - acc: 0.7592 - val_loss: 3.7325 - val_acc: 0.7684\n",
      "Epoch 7/12\n",
      "48750/48750 [==============================] - 297s 6ms/step - loss: 0.7540 - acc: 0.7611 - val_loss: 3.7325 - val_acc: 0.7684\n",
      "Epoch 8/12\n",
      "48750/48750 [==============================] - 304s 6ms/step - loss: 0.7152 - acc: 0.7633 - val_loss: 3.7325 - val_acc: 0.7684\n",
      "Epoch 9/12\n",
      "48750/48750 [==============================] - 302s 6ms/step - loss: 0.6927 - acc: 0.7637 - val_loss: 3.7325 - val_acc: 0.7684\n",
      "Epoch 10/12\n",
      "48750/48750 [==============================] - 299s 6ms/step - loss: 0.6749 - acc: 0.7640 - val_loss: 3.7325 - val_acc: 0.7684\n",
      "Epoch 11/12\n",
      "48750/48750 [==============================] - 305s 6ms/step - loss: 0.6581 - acc: 0.7648 - val_loss: 3.7325 - val_acc: 0.7684\n",
      "Epoch 12/12\n",
      "48750/48750 [==============================] - 300s 6ms/step - loss: 0.6523 - acc: 0.7655 - val_loss: 3.7325 - val_acc: 0.7684\n",
      "Test loss: 3.732454973602295\n",
      "Test accuracy: 0.7684307692014254\n"
     ]
    }
   ],
   "source": [
    "model.fit(X_train_CNN2, y_train_CNN,\n",
    "          batch_size=1250,\n",
    "          epochs=12,\n",
    "          verbose=1,\n",
    "          validation_data=(X_test_CNN2, y_test_CNN))\n",
    "\n",
    "score = model.evaluate(X_test_CNN2, y_test_CNN, verbose=0)\n",
    "print('Test loss:', score[0])\n",
    "print('Test accuracy:', score[1])"
   ]
  },
  {
   "cell_type": "markdown",
   "metadata": {},
   "source": [
    "# Analysis\n",
    "\n",
    "After tuning the hyperparameters, changing up the optimizers, adding more convolutional layers, adding more dense layers, removing these layers, adding/removing neurons, it was all for naught. I had even tried pre processing my data again to see if there would be any way to improve the accuracy of the CNN model, but it was to no avail. I ran PCA on my data set to see if removing the noise would help with improving the score, but that was also unsuccessful. My CNN ran into similar problems as my ANN where the result would hit a bottleneck even after being given more epochs. \n",
    "\n",
    "This leads me to believe that in the way that I pre-processed the data, it wasn't suitable for the neural networks. However, by normalizing the weights of each layer, increasing the batch size, and downsampling further, I was able to obtain a stronger score so that I can say that the CNN model is effective given up to a certain data size. \n",
    "\n",
    "\n",
    "\n",
    "# Unsupervised Learning"
   ]
  },
  {
   "cell_type": "code",
   "execution_count": 38,
   "metadata": {},
   "outputs": [
    {
     "name": "stdout",
     "output_type": "stream",
     "text": [
      "(600000, 490)\n"
     ]
    },
    {
     "data": {
      "text/html": [
       "<div>\n",
       "<style scoped>\n",
       "    .dataframe tbody tr th:only-of-type {\n",
       "        vertical-align: middle;\n",
       "    }\n",
       "\n",
       "    .dataframe tbody tr th {\n",
       "        vertical-align: top;\n",
       "    }\n",
       "\n",
       "    .dataframe thead th {\n",
       "        text-align: right;\n",
       "    }\n",
       "</style>\n",
       "<table border=\"1\" class=\"dataframe\">\n",
       "  <thead>\n",
       "    <tr style=\"text-align: right;\">\n",
       "      <th></th>\n",
       "      <th>device_id</th>\n",
       "      <th>gender</th>\n",
       "      <th>age</th>\n",
       "      <th>is_active</th>\n",
       "      <th>label_id</th>\n",
       "      <th>2</th>\n",
       "      <th>4</th>\n",
       "      <th>6</th>\n",
       "      <th>7</th>\n",
       "      <th>8</th>\n",
       "      <th>...</th>\n",
       "      <th>1012</th>\n",
       "      <th>1013</th>\n",
       "      <th>1014</th>\n",
       "      <th>1015</th>\n",
       "      <th>1016</th>\n",
       "      <th>1017</th>\n",
       "      <th>1018</th>\n",
       "      <th>1019</th>\n",
       "      <th>1020</th>\n",
       "      <th>1021</th>\n",
       "    </tr>\n",
       "  </thead>\n",
       "  <tbody>\n",
       "    <tr>\n",
       "      <th>3181223</th>\n",
       "      <td>-5422222189097128376</td>\n",
       "      <td>1</td>\n",
       "      <td>23</td>\n",
       "      <td>0</td>\n",
       "      <td>710</td>\n",
       "      <td>0</td>\n",
       "      <td>0</td>\n",
       "      <td>0</td>\n",
       "      <td>0</td>\n",
       "      <td>0</td>\n",
       "      <td>...</td>\n",
       "      <td>0</td>\n",
       "      <td>0</td>\n",
       "      <td>0</td>\n",
       "      <td>0</td>\n",
       "      <td>0</td>\n",
       "      <td>0</td>\n",
       "      <td>0</td>\n",
       "      <td>0</td>\n",
       "      <td>0</td>\n",
       "      <td>0</td>\n",
       "    </tr>\n",
       "    <tr>\n",
       "      <th>12465750</th>\n",
       "      <td>-1909840803012691378</td>\n",
       "      <td>1</td>\n",
       "      <td>23</td>\n",
       "      <td>0</td>\n",
       "      <td>719</td>\n",
       "      <td>0</td>\n",
       "      <td>0</td>\n",
       "      <td>0</td>\n",
       "      <td>0</td>\n",
       "      <td>0</td>\n",
       "      <td>...</td>\n",
       "      <td>0</td>\n",
       "      <td>0</td>\n",
       "      <td>0</td>\n",
       "      <td>0</td>\n",
       "      <td>0</td>\n",
       "      <td>0</td>\n",
       "      <td>0</td>\n",
       "      <td>0</td>\n",
       "      <td>0</td>\n",
       "      <td>0</td>\n",
       "    </tr>\n",
       "    <tr>\n",
       "      <th>5864016</th>\n",
       "      <td>-3950380121994356121</td>\n",
       "      <td>1</td>\n",
       "      <td>25</td>\n",
       "      <td>0</td>\n",
       "      <td>549</td>\n",
       "      <td>0</td>\n",
       "      <td>0</td>\n",
       "      <td>0</td>\n",
       "      <td>0</td>\n",
       "      <td>0</td>\n",
       "      <td>...</td>\n",
       "      <td>0</td>\n",
       "      <td>0</td>\n",
       "      <td>0</td>\n",
       "      <td>0</td>\n",
       "      <td>0</td>\n",
       "      <td>0</td>\n",
       "      <td>0</td>\n",
       "      <td>0</td>\n",
       "      <td>0</td>\n",
       "      <td>0</td>\n",
       "    </tr>\n",
       "    <tr>\n",
       "      <th>2574694</th>\n",
       "      <td>-691042505889609750</td>\n",
       "      <td>1</td>\n",
       "      <td>24</td>\n",
       "      <td>0</td>\n",
       "      <td>549</td>\n",
       "      <td>0</td>\n",
       "      <td>0</td>\n",
       "      <td>0</td>\n",
       "      <td>0</td>\n",
       "      <td>0</td>\n",
       "      <td>...</td>\n",
       "      <td>0</td>\n",
       "      <td>0</td>\n",
       "      <td>0</td>\n",
       "      <td>0</td>\n",
       "      <td>0</td>\n",
       "      <td>0</td>\n",
       "      <td>0</td>\n",
       "      <td>0</td>\n",
       "      <td>0</td>\n",
       "      <td>0</td>\n",
       "    </tr>\n",
       "    <tr>\n",
       "      <th>2006630</th>\n",
       "      <td>-8010454263681268365</td>\n",
       "      <td>1</td>\n",
       "      <td>26</td>\n",
       "      <td>0</td>\n",
       "      <td>780</td>\n",
       "      <td>0</td>\n",
       "      <td>0</td>\n",
       "      <td>0</td>\n",
       "      <td>0</td>\n",
       "      <td>0</td>\n",
       "      <td>...</td>\n",
       "      <td>0</td>\n",
       "      <td>0</td>\n",
       "      <td>0</td>\n",
       "      <td>0</td>\n",
       "      <td>0</td>\n",
       "      <td>0</td>\n",
       "      <td>0</td>\n",
       "      <td>0</td>\n",
       "      <td>0</td>\n",
       "      <td>0</td>\n",
       "    </tr>\n",
       "  </tbody>\n",
       "</table>\n",
       "<p>5 rows × 490 columns</p>\n",
       "</div>"
      ],
      "text/plain": [
       "                    device_id  gender  age  is_active  label_id  2  4  6  7  \\\n",
       "3181223  -5422222189097128376       1   23          0       710  0  0  0  0   \n",
       "12465750 -1909840803012691378       1   23          0       719  0  0  0  0   \n",
       "5864016  -3950380121994356121       1   25          0       549  0  0  0  0   \n",
       "2574694   -691042505889609750       1   24          0       549  0  0  0  0   \n",
       "2006630  -8010454263681268365       1   26          0       780  0  0  0  0   \n",
       "\n",
       "          8  ...   1012  1013  1014  1015  1016  1017  1018  1019  1020  1021  \n",
       "3181223   0  ...      0     0     0     0     0     0     0     0     0     0  \n",
       "12465750  0  ...      0     0     0     0     0     0     0     0     0     0  \n",
       "5864016   0  ...      0     0     0     0     0     0     0     0     0     0  \n",
       "2574694   0  ...      0     0     0     0     0     0     0     0     0     0  \n",
       "2006630   0  ...      0     0     0     0     0     0     0     0     0     0  \n",
       "\n",
       "[5 rows x 490 columns]"
      ]
     },
     "execution_count": 38,
     "metadata": {},
     "output_type": "execute_result"
    }
   ],
   "source": [
    "print(X.shape)\n",
    "X.head()"
   ]
  },
  {
   "cell_type": "code",
   "execution_count": 36,
   "metadata": {},
   "outputs": [],
   "source": [
    "# Prepare for k-means X.\n",
    "km_X = X_train\n",
    "km_Xte = X_test\n",
    "# Normalize\n",
    "X_norm = normalize(km_X)\n",
    "X_norm_test = normalize(km_Xte)\n",
    "\n",
    "# Create the two-feature PCA for graphing purposes.\n",
    "pca = PCA(n_components=2)\n",
    "kmX_pca = pca.fit_transform(X_norm)\n",
    "kmX_test_pca = pca.fit_transform(X_norm_test)"
   ]
  },
  {
   "cell_type": "markdown",
   "metadata": {},
   "source": [
    "# K-means\n",
    "\n",
    "Let's first use 12 clusters as the starting point since logic dictates there should be 12 clusters because I have 12 separate classes in my test data."
   ]
  },
  {
   "cell_type": "code",
   "execution_count": 37,
   "metadata": {},
   "outputs": [
    {
     "data": {
      "text/html": [
       "<div>\n",
       "<style scoped>\n",
       "    .dataframe tbody tr th:only-of-type {\n",
       "        vertical-align: middle;\n",
       "    }\n",
       "\n",
       "    .dataframe tbody tr th {\n",
       "        vertical-align: top;\n",
       "    }\n",
       "\n",
       "    .dataframe thead th {\n",
       "        text-align: right;\n",
       "    }\n",
       "</style>\n",
       "<table border=\"1\" class=\"dataframe\">\n",
       "  <thead>\n",
       "    <tr style=\"text-align: right;\">\n",
       "      <th>col_0</th>\n",
       "      <th>0</th>\n",
       "      <th>3</th>\n",
       "      <th>4</th>\n",
       "      <th>5</th>\n",
       "      <th>6</th>\n",
       "      <th>7</th>\n",
       "      <th>8</th>\n",
       "      <th>9</th>\n",
       "      <th>10</th>\n",
       "      <th>11</th>\n",
       "    </tr>\n",
       "    <tr>\n",
       "      <th>row_0</th>\n",
       "      <th></th>\n",
       "      <th></th>\n",
       "      <th></th>\n",
       "      <th></th>\n",
       "      <th></th>\n",
       "      <th></th>\n",
       "      <th></th>\n",
       "      <th></th>\n",
       "      <th></th>\n",
       "      <th></th>\n",
       "    </tr>\n",
       "  </thead>\n",
       "  <tbody>\n",
       "    <tr>\n",
       "      <th>F23-</th>\n",
       "      <td>18929</td>\n",
       "      <td>0</td>\n",
       "      <td>0</td>\n",
       "      <td>0</td>\n",
       "      <td>0</td>\n",
       "      <td>0</td>\n",
       "      <td>0</td>\n",
       "      <td>0</td>\n",
       "      <td>0</td>\n",
       "      <td>18737</td>\n",
       "    </tr>\n",
       "    <tr>\n",
       "      <th>F24-26</th>\n",
       "      <td>18097</td>\n",
       "      <td>0</td>\n",
       "      <td>0</td>\n",
       "      <td>0</td>\n",
       "      <td>0</td>\n",
       "      <td>0</td>\n",
       "      <td>0</td>\n",
       "      <td>0</td>\n",
       "      <td>0</td>\n",
       "      <td>19552</td>\n",
       "    </tr>\n",
       "    <tr>\n",
       "      <th>F27-28</th>\n",
       "      <td>18644</td>\n",
       "      <td>0</td>\n",
       "      <td>0</td>\n",
       "      <td>0</td>\n",
       "      <td>0</td>\n",
       "      <td>0</td>\n",
       "      <td>0</td>\n",
       "      <td>0</td>\n",
       "      <td>0</td>\n",
       "      <td>18864</td>\n",
       "    </tr>\n",
       "    <tr>\n",
       "      <th>F29-32</th>\n",
       "      <td>19203</td>\n",
       "      <td>0</td>\n",
       "      <td>0</td>\n",
       "      <td>0</td>\n",
       "      <td>0</td>\n",
       "      <td>0</td>\n",
       "      <td>0</td>\n",
       "      <td>0</td>\n",
       "      <td>0</td>\n",
       "      <td>18428</td>\n",
       "    </tr>\n",
       "    <tr>\n",
       "      <th>F33-42</th>\n",
       "      <td>19436</td>\n",
       "      <td>0</td>\n",
       "      <td>0</td>\n",
       "      <td>0</td>\n",
       "      <td>0</td>\n",
       "      <td>0</td>\n",
       "      <td>0</td>\n",
       "      <td>0</td>\n",
       "      <td>0</td>\n",
       "      <td>17993</td>\n",
       "    </tr>\n",
       "    <tr>\n",
       "      <th>F43+</th>\n",
       "      <td>19252</td>\n",
       "      <td>0</td>\n",
       "      <td>0</td>\n",
       "      <td>0</td>\n",
       "      <td>0</td>\n",
       "      <td>0</td>\n",
       "      <td>0</td>\n",
       "      <td>0</td>\n",
       "      <td>0</td>\n",
       "      <td>18256</td>\n",
       "    </tr>\n",
       "    <tr>\n",
       "      <th>M22-</th>\n",
       "      <td>18623</td>\n",
       "      <td>0</td>\n",
       "      <td>0</td>\n",
       "      <td>0</td>\n",
       "      <td>0</td>\n",
       "      <td>0</td>\n",
       "      <td>0</td>\n",
       "      <td>0</td>\n",
       "      <td>0</td>\n",
       "      <td>18868</td>\n",
       "    </tr>\n",
       "    <tr>\n",
       "      <th>M23-26</th>\n",
       "      <td>18796</td>\n",
       "      <td>0</td>\n",
       "      <td>0</td>\n",
       "      <td>0</td>\n",
       "      <td>0</td>\n",
       "      <td>0</td>\n",
       "      <td>0</td>\n",
       "      <td>0</td>\n",
       "      <td>0</td>\n",
       "      <td>18533</td>\n",
       "    </tr>\n",
       "    <tr>\n",
       "      <th>M27-28</th>\n",
       "      <td>18439</td>\n",
       "      <td>0</td>\n",
       "      <td>0</td>\n",
       "      <td>0</td>\n",
       "      <td>0</td>\n",
       "      <td>0</td>\n",
       "      <td>0</td>\n",
       "      <td>0</td>\n",
       "      <td>0</td>\n",
       "      <td>19017</td>\n",
       "    </tr>\n",
       "    <tr>\n",
       "      <th>M29-31</th>\n",
       "      <td>18726</td>\n",
       "      <td>0</td>\n",
       "      <td>0</td>\n",
       "      <td>0</td>\n",
       "      <td>0</td>\n",
       "      <td>0</td>\n",
       "      <td>0</td>\n",
       "      <td>0</td>\n",
       "      <td>0</td>\n",
       "      <td>18722</td>\n",
       "    </tr>\n",
       "    <tr>\n",
       "      <th>M32-38</th>\n",
       "      <td>18827</td>\n",
       "      <td>0</td>\n",
       "      <td>0</td>\n",
       "      <td>0</td>\n",
       "      <td>0</td>\n",
       "      <td>0</td>\n",
       "      <td>0</td>\n",
       "      <td>0</td>\n",
       "      <td>0</td>\n",
       "      <td>18690</td>\n",
       "    </tr>\n",
       "    <tr>\n",
       "      <th>M39+</th>\n",
       "      <td>18970</td>\n",
       "      <td>1</td>\n",
       "      <td>1</td>\n",
       "      <td>1</td>\n",
       "      <td>1</td>\n",
       "      <td>1</td>\n",
       "      <td>1</td>\n",
       "      <td>1</td>\n",
       "      <td>1</td>\n",
       "      <td>18390</td>\n",
       "    </tr>\n",
       "  </tbody>\n",
       "</table>\n",
       "</div>"
      ],
      "text/plain": [
       "col_0      0   3   4   5   6   7   8   9   10     11\n",
       "row_0                                               \n",
       "F23-    18929   0   0   0   0   0   0   0   0  18737\n",
       "F24-26  18097   0   0   0   0   0   0   0   0  19552\n",
       "F27-28  18644   0   0   0   0   0   0   0   0  18864\n",
       "F29-32  19203   0   0   0   0   0   0   0   0  18428\n",
       "F33-42  19436   0   0   0   0   0   0   0   0  17993\n",
       "F43+    19252   0   0   0   0   0   0   0   0  18256\n",
       "M22-    18623   0   0   0   0   0   0   0   0  18868\n",
       "M23-26  18796   0   0   0   0   0   0   0   0  18533\n",
       "M27-28  18439   0   0   0   0   0   0   0   0  19017\n",
       "M29-31  18726   0   0   0   0   0   0   0   0  18722\n",
       "M32-38  18827   0   0   0   0   0   0   0   0  18690\n",
       "M39+    18970   1   1   1   1   1   1   1   1  18390"
      ]
     },
     "execution_count": 37,
     "metadata": {},
     "output_type": "execute_result"
    }
   ],
   "source": [
    "# Calulate predicted values\n",
    "kmeans = KMeans(n_clusters=12, init='k-means++', random_state=42, n_init=20, n_jobs=-1)\n",
    "y_pred = kmeans.fit_predict(X_norm)\n",
    "\n",
    "pd.crosstab(y_train, y_pred)"
   ]
  },
  {
   "cell_type": "markdown",
   "metadata": {},
   "source": [
    "It seems that the best cluster to use will be two. Now I will also use PCA in order to reduce the run time for k-means.\n",
    "\n",
    "# K-means using PCA\n",
    "\n",
    "I chose to use 2 principal components for the convenience of plotting the data later and that 2 components should already explain the majority of the variance in the data set."
   ]
  },
  {
   "cell_type": "code",
   "execution_count": 32,
   "metadata": {
    "scrolled": true
   },
   "outputs": [
    {
     "data": {
      "text/html": [
       "<div>\n",
       "<style scoped>\n",
       "    .dataframe tbody tr th:only-of-type {\n",
       "        vertical-align: middle;\n",
       "    }\n",
       "\n",
       "    .dataframe tbody tr th {\n",
       "        vertical-align: top;\n",
       "    }\n",
       "\n",
       "    .dataframe thead th {\n",
       "        text-align: right;\n",
       "    }\n",
       "</style>\n",
       "<table border=\"1\" class=\"dataframe\">\n",
       "  <thead>\n",
       "    <tr style=\"text-align: right;\">\n",
       "      <th>col_0</th>\n",
       "      <th>0</th>\n",
       "      <th>1</th>\n",
       "    </tr>\n",
       "    <tr>\n",
       "      <th>row_0</th>\n",
       "      <th></th>\n",
       "      <th></th>\n",
       "    </tr>\n",
       "  </thead>\n",
       "  <tbody>\n",
       "    <tr>\n",
       "      <th>F23-</th>\n",
       "      <td>18986</td>\n",
       "      <td>18516</td>\n",
       "    </tr>\n",
       "    <tr>\n",
       "      <th>F24-26</th>\n",
       "      <td>18067</td>\n",
       "      <td>19466</td>\n",
       "    </tr>\n",
       "    <tr>\n",
       "      <th>F27-28</th>\n",
       "      <td>18480</td>\n",
       "      <td>18928</td>\n",
       "    </tr>\n",
       "    <tr>\n",
       "      <th>F29-32</th>\n",
       "      <td>19246</td>\n",
       "      <td>18264</td>\n",
       "    </tr>\n",
       "    <tr>\n",
       "      <th>F33-42</th>\n",
       "      <td>19319</td>\n",
       "      <td>18193</td>\n",
       "    </tr>\n",
       "    <tr>\n",
       "      <th>F43+</th>\n",
       "      <td>19109</td>\n",
       "      <td>18427</td>\n",
       "    </tr>\n",
       "    <tr>\n",
       "      <th>M22-</th>\n",
       "      <td>18582</td>\n",
       "      <td>18914</td>\n",
       "    </tr>\n",
       "    <tr>\n",
       "      <th>M23-26</th>\n",
       "      <td>18928</td>\n",
       "      <td>18627</td>\n",
       "    </tr>\n",
       "    <tr>\n",
       "      <th>M27-28</th>\n",
       "      <td>18523</td>\n",
       "      <td>18896</td>\n",
       "    </tr>\n",
       "    <tr>\n",
       "      <th>M29-31</th>\n",
       "      <td>18667</td>\n",
       "      <td>18764</td>\n",
       "    </tr>\n",
       "    <tr>\n",
       "      <th>M32-38</th>\n",
       "      <td>18804</td>\n",
       "      <td>18737</td>\n",
       "    </tr>\n",
       "    <tr>\n",
       "      <th>M39+</th>\n",
       "      <td>19089</td>\n",
       "      <td>18468</td>\n",
       "    </tr>\n",
       "  </tbody>\n",
       "</table>\n",
       "</div>"
      ],
      "text/plain": [
       "col_0       0      1\n",
       "row_0               \n",
       "F23-    18986  18516\n",
       "F24-26  18067  19466\n",
       "F27-28  18480  18928\n",
       "F29-32  19246  18264\n",
       "F33-42  19319  18193\n",
       "F43+    19109  18427\n",
       "M22-    18582  18914\n",
       "M23-26  18928  18627\n",
       "M27-28  18523  18896\n",
       "M29-31  18667  18764\n",
       "M32-38  18804  18737\n",
       "M39+    19089  18468"
      ]
     },
     "execution_count": 32,
     "metadata": {},
     "output_type": "execute_result"
    }
   ],
   "source": [
    "# Calulate predicted values\n",
    "kmeans = KMeans(n_clusters=2, init='k-means++', random_state=42, n_init=20, n_jobs=-1)\n",
    "y_pred = kmeans.fit_predict(kmX_pca)\n",
    "\n",
    "pd.crosstab(y_train, y_pred)"
   ]
  },
  {
   "cell_type": "code",
   "execution_count": 155,
   "metadata": {},
   "outputs": [
    {
     "name": "stdout",
     "output_type": "stream",
     "text": [
      "Adjusted Rand Score: 8.065058e-05\n"
     ]
    }
   ],
   "source": [
    "from sklearn.metrics import adjusted_rand_score\n",
    "print('Adjusted Rand Score: {:0.7}'.format(adjusted_rand_score(y_train, y_pred)))"
   ]
  },
  {
   "cell_type": "code",
   "execution_count": 156,
   "metadata": {},
   "outputs": [
    {
     "data": {
      "image/png": "[encoded data removed]",
      "text/plain": [
       "<Figure size 1152x1152 with 1 Axes>"
      ]
     },
     "metadata": {},
     "output_type": "display_data"
    }
   ],
   "source": [
    "from scipy.spatial.distance import cdist\n",
    "# Use the elbow method to see what is the optimal amount of clusters.\n",
    "\n",
    "# k means determine k\n",
    "distortions = []\n",
    "K = range(1,20)\n",
    "for k in K:\n",
    "    kmeanModel = KMeans(n_clusters=k).fit(kmX_pca)\n",
    "    kmeanModel.fit(kmX_pca)\n",
    "    distortions.append(sum(np.min(cdist(kmX_pca, kmeanModel.cluster_centers_, 'euclidean'), axis=1)) / kmX_pca.shape[0])\n",
    "\n",
    "# Plot the elbow\n",
    "sns.set_style('darkgrid')\n",
    "plt.plot(K, distortions, 'bx-')\n",
    "plt.xlabel('k')\n",
    "plt.ylabel('Distortion')\n",
    "plt.title('The Elbow Method showing the optimal k')\n",
    "plt.show()"
   ]
  },
  {
   "cell_type": "code",
   "execution_count": 46,
   "metadata": {},
   "outputs": [
    {
     "name": "stdout",
     "output_type": "stream",
     "text": [
      "0\n",
      "\n",
      "\n",
      "          device_id    gender            age      is_active       label_id  \\\n",
      "count  3.037450e+05  303745.0  303745.000000  303745.000000  303745.000000   \n",
      "mean  -4.552825e+18       1.0      31.384859       0.289341     586.524634   \n",
      "std    2.674008e+18       0.0       9.740515       0.453457     239.637685   \n",
      "min   -9.222957e+18       1.0      11.000000       0.000000       6.000000   \n",
      "25%   -6.851784e+18       1.0      25.000000       0.000000     405.000000   \n",
      "50%   -4.522266e+18       1.0      29.000000       0.000000     704.000000   \n",
      "75%   -2.255756e+18       1.0      35.000000       1.000000     756.000000   \n",
      "max    7.684152e+16       1.0      86.000000       1.000000    1021.000000   \n",
      "\n",
      "              2         4              6              7              8  \\\n",
      "count  303745.0  303745.0  303745.000000  303745.000000  303745.000000   \n",
      "mean        0.0       0.0       0.000020       0.000013       0.000211   \n",
      "std         0.0       0.0       0.004444       0.003629       0.014514   \n",
      "min         0.0       0.0       0.000000       0.000000       0.000000   \n",
      "25%         0.0       0.0       0.000000       0.000000       0.000000   \n",
      "50%         0.0       0.0       0.000000       0.000000       0.000000   \n",
      "75%         0.0       0.0       0.000000       0.000000       0.000000   \n",
      "max         0.0       0.0       1.000000       1.000000       1.000000   \n",
      "\n",
      "              ...                   1013           1014           1015  \\\n",
      "count         ...          303745.000000  303745.000000  303745.000000   \n",
      "mean          ...               0.000336       0.003826       0.004655   \n",
      "std           ...               0.018322       0.061733       0.068070   \n",
      "min           ...               0.000000       0.000000       0.000000   \n",
      "25%           ...               0.000000       0.000000       0.000000   \n",
      "50%           ...               0.000000       0.000000       0.000000   \n",
      "75%           ...               0.000000       0.000000       0.000000   \n",
      "max           ...               1.000000       1.000000       1.000000   \n",
      "\n",
      "                1016           1017           1018           1019  \\\n",
      "count  303745.000000  303745.000000  303745.000000  303745.000000   \n",
      "mean        0.000148       0.000461       0.000665       0.001007   \n",
      "std         0.012171       0.021464       0.025780       0.031724   \n",
      "min         0.000000       0.000000       0.000000       0.000000   \n",
      "25%         0.000000       0.000000       0.000000       0.000000   \n",
      "50%         0.000000       0.000000       0.000000       0.000000   \n",
      "75%         0.000000       0.000000       0.000000       0.000000   \n",
      "max         1.000000       1.000000       1.000000       1.000000   \n",
      "\n",
      "                1020           1021  cluster_assignment  \n",
      "count  303745.000000  303745.000000            303745.0  \n",
      "mean        0.001067       0.000007                 0.0  \n",
      "std         0.032643       0.002566                 0.0  \n",
      "min         0.000000       0.000000                 0.0  \n",
      "25%         0.000000       0.000000                 0.0  \n",
      "50%         0.000000       0.000000                 0.0  \n",
      "75%         0.000000       0.000000                 0.0  \n",
      "max         1.000000       1.000000                 0.0  \n",
      "\n",
      "[8 rows x 491 columns]\n",
      "1\n",
      "\n",
      "\n",
      "          device_id    gender            age      is_active       label_id  \\\n",
      "count  2.962550e+05  296255.0  296255.000000  296255.000000  296255.000000   \n",
      "mean   4.710805e+18       1.0      31.197225       0.294091     587.896272   \n",
      "std    2.636603e+18       0.0       9.649379       0.455634     238.490414   \n",
      "min    7.697913e+16       1.0      11.000000       0.000000       6.000000   \n",
      "25%    2.436234e+18       1.0      25.000000       0.000000     405.000000   \n",
      "50%    4.742301e+18       1.0      28.000000       0.000000     704.000000   \n",
      "75%    6.973595e+18       1.0      35.000000       1.000000     756.000000   \n",
      "max    9.220915e+18       1.0      89.000000       1.000000    1021.000000   \n",
      "\n",
      "              2         4             6             7              8  \\\n",
      "count  296255.0  296255.0  296255.00000  296255.00000  296255.000000   \n",
      "mean        0.0       0.0       0.00002       0.00002       0.000145   \n",
      "std         0.0       0.0       0.00450       0.00450       0.012047   \n",
      "min         0.0       0.0       0.00000       0.00000       0.000000   \n",
      "25%         0.0       0.0       0.00000       0.00000       0.000000   \n",
      "50%         0.0       0.0       0.00000       0.00000       0.000000   \n",
      "75%         0.0       0.0       0.00000       0.00000       0.000000   \n",
      "max         0.0       0.0       1.00000       1.00000       1.000000   \n",
      "\n",
      "              ...                   1013           1014           1015  \\\n",
      "count         ...          296255.000000  296255.000000  296255.000000   \n",
      "mean          ...               0.000354       0.003730       0.004651   \n",
      "std           ...               0.018823       0.060959       0.068042   \n",
      "min           ...               0.000000       0.000000       0.000000   \n",
      "25%           ...               0.000000       0.000000       0.000000   \n",
      "50%           ...               0.000000       0.000000       0.000000   \n",
      "75%           ...               0.000000       0.000000       0.000000   \n",
      "max           ...               1.000000       1.000000       1.000000   \n",
      "\n",
      "                1016           1017           1018           1019  \\\n",
      "count  296255.000000  296255.000000  296255.000000  296255.000000   \n",
      "mean        0.000186       0.000392       0.000564       0.001087   \n",
      "std         0.013624       0.019784       0.023736       0.032950   \n",
      "min         0.000000       0.000000       0.000000       0.000000   \n",
      "25%         0.000000       0.000000       0.000000       0.000000   \n",
      "50%         0.000000       0.000000       0.000000       0.000000   \n",
      "75%         0.000000       0.000000       0.000000       0.000000   \n",
      "max         1.000000       1.000000       1.000000       1.000000   \n",
      "\n",
      "                1020           1021  cluster_assignment  \n",
      "count  296255.000000  296255.000000            296255.0  \n",
      "mean        0.001036       0.000014                 1.0  \n",
      "std         0.032175       0.003674                 0.0  \n",
      "min         0.000000       0.000000                 1.0  \n",
      "25%         0.000000       0.000000                 1.0  \n",
      "50%         0.000000       0.000000                 1.0  \n",
      "75%         0.000000       0.000000                 1.0  \n",
      "max         1.000000       1.000000                 1.0  \n",
      "\n",
      "[8 rows x 491 columns]\n",
      "2\n",
      "\n",
      "\n",
      "       device_id  gender  age  is_active  label_id    2    4    6    7    8  \\\n",
      "count        0.0     0.0  0.0        0.0       0.0  0.0  0.0  0.0  0.0  0.0   \n",
      "mean         NaN     NaN  NaN        NaN       NaN  NaN  NaN  NaN  NaN  NaN   \n",
      "std          NaN     NaN  NaN        NaN       NaN  NaN  NaN  NaN  NaN  NaN   \n",
      "min          NaN     NaN  NaN        NaN       NaN  NaN  NaN  NaN  NaN  NaN   \n",
      "25%          NaN     NaN  NaN        NaN       NaN  NaN  NaN  NaN  NaN  NaN   \n",
      "50%          NaN     NaN  NaN        NaN       NaN  NaN  NaN  NaN  NaN  NaN   \n",
      "75%          NaN     NaN  NaN        NaN       NaN  NaN  NaN  NaN  NaN  NaN   \n",
      "max          NaN     NaN  NaN        NaN       NaN  NaN  NaN  NaN  NaN  NaN   \n",
      "\n",
      "              ...          1013  1014  1015  1016  1017  1018  1019  1020  \\\n",
      "count         ...           0.0   0.0   0.0   0.0   0.0   0.0   0.0   0.0   \n",
      "mean          ...           NaN   NaN   NaN   NaN   NaN   NaN   NaN   NaN   \n",
      "std           ...           NaN   NaN   NaN   NaN   NaN   NaN   NaN   NaN   \n",
      "min           ...           NaN   NaN   NaN   NaN   NaN   NaN   NaN   NaN   \n",
      "25%           ...           NaN   NaN   NaN   NaN   NaN   NaN   NaN   NaN   \n",
      "50%           ...           NaN   NaN   NaN   NaN   NaN   NaN   NaN   NaN   \n",
      "75%           ...           NaN   NaN   NaN   NaN   NaN   NaN   NaN   NaN   \n",
      "max           ...           NaN   NaN   NaN   NaN   NaN   NaN   NaN   NaN   \n",
      "\n",
      "       1021  cluster_assignment  \n",
      "count   0.0                 0.0  \n",
      "mean    NaN                 NaN  \n",
      "std     NaN                 NaN  \n",
      "min     NaN                 NaN  \n",
      "25%     NaN                 NaN  \n",
      "50%     NaN                 NaN  \n",
      "75%     NaN                 NaN  \n",
      "max     NaN                 NaN  \n",
      "\n",
      "[8 rows x 491 columns]\n"
     ]
    }
   ],
   "source": [
    "# Cluster Analysis\n",
    "cluster_pred = KMeans(n_clusters=2, random_state=42, n_jobs=-1).fit_predict(X)\n",
    "X_pred = X.copy()\n",
    "X_pred['cluster_assignment'] = cluster_pred\n",
    "\n",
    "cluster_dataframes = {}\n",
    "for n_clust in range(3):\n",
    "    cluster_dataframes[n_clust] = X_pred.loc[X_pred['cluster_assignment'] == n_clust]\n",
    "\n",
    "for name, frame in cluster_dataframes.items():\n",
    "    print(name)\n",
    "    print('\\n')\n",
    "    print(frame.describe())"
   ]
  },
  {
   "cell_type": "markdown",
   "metadata": {},
   "source": [
    "# K-means Analysis \n",
    "\n",
    "It is standard practice to standardize data and run PCA on the data set in order for k-means to function properly since, k-means concept is similar to knn in terms of distances and creating data points that aren't skewed by standarding them first. However, k-means have centroids where these data points will go to and form a cluster that will tell the user about what characteristics these clusters share.\n",
    "\n",
    "The reason I chose to use two clusters is because I ran PCA on my data set and set the dimensions to 2 so the optimal amount of clusters should also be 2 as presented below using the elbow method. I chose n_init as 20 in order to try different centroid seeds in order to obtain the best output in terms of minimizing inertia or the sum of squared errors for each cluster (aka the cost function). "
   ]
  },
  {
   "cell_type": "code",
   "execution_count": 33,
   "metadata": {},
   "outputs": [
    {
     "data": {
      "text/html": [
       "<div>\n",
       "<style scoped>\n",
       "    .dataframe tbody tr th:only-of-type {\n",
       "        vertical-align: middle;\n",
       "    }\n",
       "\n",
       "    .dataframe tbody tr th {\n",
       "        vertical-align: top;\n",
       "    }\n",
       "\n",
       "    .dataframe thead th {\n",
       "        text-align: right;\n",
       "    }\n",
       "</style>\n",
       "<table border=\"1\" class=\"dataframe\">\n",
       "  <thead>\n",
       "    <tr style=\"text-align: right;\">\n",
       "      <th></th>\n",
       "      <th>Cluster</th>\n",
       "    </tr>\n",
       "  </thead>\n",
       "  <tbody>\n",
       "    <tr>\n",
       "      <th>0</th>\n",
       "      <td>1</td>\n",
       "    </tr>\n",
       "    <tr>\n",
       "      <th>1</th>\n",
       "      <td>0</td>\n",
       "    </tr>\n",
       "    <tr>\n",
       "      <th>2</th>\n",
       "      <td>0</td>\n",
       "    </tr>\n",
       "    <tr>\n",
       "      <th>3</th>\n",
       "      <td>1</td>\n",
       "    </tr>\n",
       "    <tr>\n",
       "      <th>4</th>\n",
       "      <td>0</td>\n",
       "    </tr>\n",
       "  </tbody>\n",
       "</table>\n",
       "</div>"
      ],
      "text/plain": [
       "   Cluster\n",
       "0        1\n",
       "1        0\n",
       "2        0\n",
       "3        1\n",
       "4        0"
      ]
     },
     "execution_count": 33,
     "metadata": {},
     "output_type": "execute_result"
    }
   ],
   "source": [
    "# Turn the clusters into a data frame so that I can put it back\n",
    "# in the data set. \n",
    "df_y = pd.DataFrame(y_pred)\n",
    "df_y.columns = ['Cluster']\n",
    "df_y.head()"
   ]
  },
  {
   "cell_type": "code",
   "execution_count": 34,
   "metadata": {},
   "outputs": [
    {
     "data": {
      "text/html": [
       "<div>\n",
       "<style scoped>\n",
       "    .dataframe tbody tr th:only-of-type {\n",
       "        vertical-align: middle;\n",
       "    }\n",
       "\n",
       "    .dataframe tbody tr th {\n",
       "        vertical-align: top;\n",
       "    }\n",
       "\n",
       "    .dataframe thead th {\n",
       "        text-align: right;\n",
       "    }\n",
       "</style>\n",
       "<table border=\"1\" class=\"dataframe\">\n",
       "  <thead>\n",
       "    <tr style=\"text-align: right;\">\n",
       "      <th></th>\n",
       "      <th>device_id</th>\n",
       "      <th>gender</th>\n",
       "      <th>age</th>\n",
       "      <th>is_active</th>\n",
       "      <th>encoded_model</th>\n",
       "      <th>label_id</th>\n",
       "      <th>2</th>\n",
       "      <th>4</th>\n",
       "      <th>6</th>\n",
       "      <th>7</th>\n",
       "      <th>...</th>\n",
       "      <th>1013</th>\n",
       "      <th>1014</th>\n",
       "      <th>1015</th>\n",
       "      <th>1016</th>\n",
       "      <th>1017</th>\n",
       "      <th>1018</th>\n",
       "      <th>1019</th>\n",
       "      <th>1020</th>\n",
       "      <th>1021</th>\n",
       "      <th>Cluster</th>\n",
       "    </tr>\n",
       "  </thead>\n",
       "  <tbody>\n",
       "    <tr>\n",
       "      <th>46</th>\n",
       "      <td>5500093691849381863</td>\n",
       "      <td>1</td>\n",
       "      <td>30</td>\n",
       "      <td>0</td>\n",
       "      <td>865</td>\n",
       "      <td>548</td>\n",
       "      <td>0</td>\n",
       "      <td>0</td>\n",
       "      <td>0</td>\n",
       "      <td>0</td>\n",
       "      <td>...</td>\n",
       "      <td>0</td>\n",
       "      <td>0</td>\n",
       "      <td>0</td>\n",
       "      <td>0</td>\n",
       "      <td>0</td>\n",
       "      <td>0</td>\n",
       "      <td>0</td>\n",
       "      <td>0</td>\n",
       "      <td>0</td>\n",
       "      <td>0</td>\n",
       "    </tr>\n",
       "    <tr>\n",
       "      <th>46</th>\n",
       "      <td>5500093691849381863</td>\n",
       "      <td>1</td>\n",
       "      <td>30</td>\n",
       "      <td>0</td>\n",
       "      <td>865</td>\n",
       "      <td>548</td>\n",
       "      <td>0</td>\n",
       "      <td>0</td>\n",
       "      <td>0</td>\n",
       "      <td>0</td>\n",
       "      <td>...</td>\n",
       "      <td>0</td>\n",
       "      <td>0</td>\n",
       "      <td>0</td>\n",
       "      <td>0</td>\n",
       "      <td>0</td>\n",
       "      <td>0</td>\n",
       "      <td>0</td>\n",
       "      <td>0</td>\n",
       "      <td>0</td>\n",
       "      <td>0</td>\n",
       "    </tr>\n",
       "    <tr>\n",
       "      <th>176</th>\n",
       "      <td>-4863195921899852917</td>\n",
       "      <td>1</td>\n",
       "      <td>30</td>\n",
       "      <td>0</td>\n",
       "      <td>368</td>\n",
       "      <td>704</td>\n",
       "      <td>0</td>\n",
       "      <td>0</td>\n",
       "      <td>0</td>\n",
       "      <td>0</td>\n",
       "      <td>...</td>\n",
       "      <td>0</td>\n",
       "      <td>0</td>\n",
       "      <td>0</td>\n",
       "      <td>0</td>\n",
       "      <td>0</td>\n",
       "      <td>0</td>\n",
       "      <td>0</td>\n",
       "      <td>0</td>\n",
       "      <td>0</td>\n",
       "      <td>0</td>\n",
       "    </tr>\n",
       "    <tr>\n",
       "      <th>254</th>\n",
       "      <td>7064488711104523514</td>\n",
       "      <td>1</td>\n",
       "      <td>31</td>\n",
       "      <td>0</td>\n",
       "      <td>1461</td>\n",
       "      <td>704</td>\n",
       "      <td>0</td>\n",
       "      <td>0</td>\n",
       "      <td>0</td>\n",
       "      <td>0</td>\n",
       "      <td>...</td>\n",
       "      <td>0</td>\n",
       "      <td>0</td>\n",
       "      <td>0</td>\n",
       "      <td>0</td>\n",
       "      <td>0</td>\n",
       "      <td>0</td>\n",
       "      <td>0</td>\n",
       "      <td>0</td>\n",
       "      <td>0</td>\n",
       "      <td>0</td>\n",
       "    </tr>\n",
       "    <tr>\n",
       "      <th>314</th>\n",
       "      <td>-7409267423009514170</td>\n",
       "      <td>0</td>\n",
       "      <td>19</td>\n",
       "      <td>0</td>\n",
       "      <td>1659</td>\n",
       "      <td>704</td>\n",
       "      <td>0</td>\n",
       "      <td>0</td>\n",
       "      <td>0</td>\n",
       "      <td>0</td>\n",
       "      <td>...</td>\n",
       "      <td>0</td>\n",
       "      <td>0</td>\n",
       "      <td>0</td>\n",
       "      <td>0</td>\n",
       "      <td>0</td>\n",
       "      <td>0</td>\n",
       "      <td>0</td>\n",
       "      <td>0</td>\n",
       "      <td>0</td>\n",
       "      <td>1</td>\n",
       "    </tr>\n",
       "  </tbody>\n",
       "</table>\n",
       "<p>5 rows × 492 columns</p>\n",
       "</div>"
      ],
      "text/plain": [
       "               device_id  gender  age  is_active  encoded_model  label_id  2  \\\n",
       "46   5500093691849381863       1   30          0            865       548  0   \n",
       "46   5500093691849381863       1   30          0            865       548  0   \n",
       "176 -4863195921899852917       1   30          0            368       704  0   \n",
       "254  7064488711104523514       1   31          0           1461       704  0   \n",
       "314 -7409267423009514170       0   19          0           1659       704  0   \n",
       "\n",
       "     4  6  7   ...     1013  1014  1015  1016  1017  1018  1019  1020  1021  \\\n",
       "46   0  0  0   ...        0     0     0     0     0     0     0     0     0   \n",
       "46   0  0  0   ...        0     0     0     0     0     0     0     0     0   \n",
       "176  0  0  0   ...        0     0     0     0     0     0     0     0     0   \n",
       "254  0  0  0   ...        0     0     0     0     0     0     0     0     0   \n",
       "314  0  0  0   ...        0     0     0     0     0     0     0     0     0   \n",
       "\n",
       "     Cluster  \n",
       "46         0  \n",
       "46         0  \n",
       "176        0  \n",
       "254        0  \n",
       "314        1  \n",
       "\n",
       "[5 rows x 492 columns]"
      ]
     },
     "execution_count": 34,
     "metadata": {},
     "output_type": "execute_result"
    }
   ],
   "source": [
    "# Attach clusters to the data frame.\n",
    "clustered_x = X.join(df_y, how='inner')\n",
    "\n",
    "clustered_x.head()"
   ]
  },
  {
   "cell_type": "code",
   "execution_count": 35,
   "metadata": {},
   "outputs": [],
   "source": [
    "# Create age method.\n",
    "\n",
    "def age_bucket(age):\n",
    "    output = ''\n",
    "    if age <=20:\n",
    "        output = 'Under 20'\n",
    "    elif (age > 20 and age <= 30):\n",
    "        output = 'Between 20 and 30'\n",
    "    elif (age > 30 and age <= 40):\n",
    "        output = 'Between 30 and 40'\n",
    "    elif (age > 40 and age <= 50):\n",
    "        output = 'Between 40 and 50'\n",
    "    elif (age > 50 and age <= 60):\n",
    "        output = 'Between 50 and 60'\n",
    "    else:\n",
    "        output = 'Over 60'\n",
    "    \n",
    "    return output"
   ]
  },
  {
   "cell_type": "code",
   "execution_count": 36,
   "metadata": {},
   "outputs": [],
   "source": [
    "# Apply the method I just wrote. \n",
    "clustered_x['Age Bucket'] = clustered_x['age'].apply(lambda x: age_bucket(x))"
   ]
  },
  {
   "cell_type": "code",
   "execution_count": 48,
   "metadata": {},
   "outputs": [
    {
     "name": "stdout",
     "output_type": "stream",
     "text": [
      "Distribution of Age in Clusters\n"
     ]
    },
    {
     "data": {
      "text/plain": [
       "<Figure size 1152x576 with 0 Axes>"
      ]
     },
     "metadata": {},
     "output_type": "display_data"
    },
    {
     "data": {
      "image/png": "[encoded data removed]",
      "text/plain": [
       "<Figure size 1152x576 with 2 Axes>"
      ]
     },
     "metadata": {},
     "output_type": "display_data"
    }
   ],
   "source": [
    "# Look at Age Breakdown for Count\n",
    "plt.figure(figsize=(16,8))\n",
    "print('Distribution of Age in Clusters')\n",
    "sns.set(font_scale=1)\n",
    "sns.factorplot(x='Age Bucket', col='Cluster', kind=\"count\", data=clustered_x, size=8)\n",
    "plt.show()"
   ]
  },
  {
   "cell_type": "code",
   "execution_count": 47,
   "metadata": {},
   "outputs": [
    {
     "name": "stdout",
     "output_type": "stream",
     "text": [
      "Distribution of Gender in Clusters:\n",
      "0=females, 1=males\n"
     ]
    },
    {
     "data": {
      "image/png": "[encoded data removed]",
      "text/plain": [
       "<Figure size 720x360 with 2 Axes>"
      ]
     },
     "metadata": {},
     "output_type": "display_data"
    }
   ],
   "source": [
    "# Take a look at gender\n",
    "print('Distribution of Gender in Clusters:')\n",
    "print('0=females, 1=males')\n",
    "sns.factorplot(x='gender', col='Cluster', kind=\"count\", data=clustered_x, size=5)\n",
    "plt.show()"
   ]
  },
  {
   "cell_type": "code",
   "execution_count": 50,
   "metadata": {},
   "outputs": [
    {
     "name": "stdout",
     "output_type": "stream",
     "text": [
      "Distribution of Clusters on whether User is Active or Not:\n",
      "0=inactive, 1=active\n"
     ]
    },
    {
     "data": {
      "image/png": "[encoded data removed]",
      "text/plain": [
       "<Figure size 720x360 with 2 Axes>"
      ]
     },
     "metadata": {},
     "output_type": "display_data"
    }
   ],
   "source": [
    "# Take a look at is_active\n",
    "print('Distribution of Clusters on whether User is Active or Not:')\n",
    "print('0=inactive, 1=active')\n",
    "sns.factorplot(x='is_active', col='Cluster', kind=\"count\", data=clustered_x, size=5)\n",
    "plt.show()"
   ]
  },
  {
   "cell_type": "markdown",
   "metadata": {},
   "source": [
    "# Analysis\n",
    "\n",
    "Initially, I assumed that 12 clusters would be the optimal amount of clusters due to the fact that I had 12 independent classes that I wanted the model to correctly identify. However, initial results showed that the optimal amount of clusters was 2.\n",
    "\n",
    "In terms of age range, state of activity, and gender distribution, the two clusters are equally distributed."
   ]
  },
  {
   "cell_type": "markdown",
   "metadata": {},
   "source": [
    "# Conclusion\n",
    "\n",
    "In an effort to find the best way to identify a customer's age range and gender given these particular parameters, I have at the same time come up with several different model's to see which model would most accurately identify a user's age range and gender. There was some tuning involved in each of these model's of course, some model's had more tuning than other models, but in the end, I had two exceptionally strong models and one that I did modestly. \n",
    "\n",
    "Similar to my previous capstone, my strongest performing models were once again the random forest and the X gradient boosted model which is another type of gradient boosting. Similar to before, my XGB model suffered from overfitting only, it was so extreme that I had to instill some heavy penalizations in order to achieve success. Furthermore, I also tried PCA on both models this time, but the results weren't as good as before due to the classification report showing me that after using PCA on both models, the models would have low precision and low recall scores. \n",
    "\n",
    "I tried running a logistic regression model and KNN model on this project, but the accuracy of both models left much to be desired for so I put both of those models on ice in order to work on my main focus of the project, using deep learning to see if I can create the same amount of accuracy. For my ANN and CNN, I found that no matter how I tuned the parameters, my results would not be very good until I downsampled, normalized the weights, and increase the batch size. After that, my results for my neural networks would improve. This shows that my pre-processed data has too much noise for this model to be effective, but since I was able to obtain good results with my other two models, it means that the way the data was pre-processed was not well suited for ANN or CNN.\n",
    "\n",
    "In my opinion, even though XGB performed extremely well, it was too prone for overfitting which I had to control for, so the random forest model was the best model in terms of effectively recognizing the age range and gender given this data set. However, there are things to take note of, such as how the random forest is a black box model so I don't know what type of calculations were made by the model in order for it to come to its conclusion. Lastly, this project is doable on a household computer, but it did take me a long time so using a cloud computing service would have been more efficient. \n",
    "\n"
   ]
  }
 ],
 "metadata": {
  "kernelspec": {
   "display_name": "Python 3",
   "language": "python",
   "name": "python3"
  },
  "language_info": {
   "codemirror_mode": {
    "name": "ipython",
    "version": 3
   },
   "file_extension": ".py",
   "mimetype": "text/x-python",
   "name": "python",
   "nbconvert_exporter": "python",
   "pygments_lexer": "ipython3",
   "version": "3.6.4"
  }
 },
 "nbformat": 4,
 "nbformat_minor": 2
}
