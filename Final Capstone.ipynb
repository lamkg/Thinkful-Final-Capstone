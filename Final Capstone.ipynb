{
 "cells": [
  {
   "cell_type": "code",
   "execution_count": 6,
   "metadata": {},
   "outputs": [],
   "source": [
    "import pandas as pd\n",
    "import numpy as np\n",
    "%matplotlib inline\n",
    "import seaborn as sns\n",
    "import matplotlib.pyplot as plt\n",
    "\n",
    "from sklearn import ensemble\n",
    "from sklearn.preprocessing import LabelEncoder, LabelBinarizer\n",
    "from sklearn.utils import resample\n",
    "from sklearn.decomposition import PCA\n",
    "from sklearn.preprocessing import normalize\n",
    "from sklearn.cluster import KMeans\n",
    "from sklearn.preprocessing import StandardScaler\n",
    "from sklearn.model_selection import train_test_split, GridSearchCV\n",
    "from sklearn.linear_model import LogisticRegression\n",
    "from sklearn.ensemble import RandomForestClassifier\n",
    "from xgboost import XGBClassifier\n",
    "from sklearn.neural_network import MLPClassifier\n",
    "from sklearn.model_selection import cross_val_score\n",
    "from sklearn.metrics import confusion_matrix, classification_report\n",
    "sns.set_style('darkgrid')"
   ]
  },
  {
   "cell_type": "markdown",
   "metadata": {},
   "source": [
    "# Background \n",
    "\n",
    "TalkingData, China's largest third-party mobile data platform wanted to use their data to help its clients better understand and interact with their indivudal audiences. Contained within this file of folders include individual csv files that includes a file based on user's age and gender, a file for the phone brands of the users, a file for the user's location, a file for when a user uses TalkingData SDK, the event gets logged in this data which also contains the user's location data, and a file for the name of the apps that a user uses. \n",
    "\n",
    "This is one of the bigger data sets which contain 1.28 gigabits worth of information. The data set can be foudn here on kaggle: https://www.kaggle.com/c/talkingdata-mobile-user-demographics\n",
    "\n",
    "# Project Goal:\n",
    "\n",
    "Given the data sets that I have access to, I want to use the gender, age, type of device, and which phone a user has in order to accurately classify and predict the age range and gender of that individual. This is valuable being able to correctly identify the characteristics of one's audience can save financial resources since a company can focus their resources on a more specific target given this information. Furthermore, advertising can become more personalized and perhaps knowing the user's details can help with building a better recommendation engine whether it be in ads or a similar concept like Netflix show recommendations as an example. "
   ]
  },
  {
   "cell_type": "code",
   "execution_count": 7,
   "metadata": {},
   "outputs": [],
   "source": [
    "# Load up the data.\n",
    "#ga stands for gender/age\n",
    "ga_train = pd.read_csv('gender_age_train.csv')\n",
    "ga_test = pd.read_csv('gender_age_test.csv' )\n",
    "# \n",
    "phone_brands = pd.read_csv('phone_brand_device_model.csv')\n",
    "# Get rid of duplicate device ids in phone\n",
    "phone_brands = phone_brands.drop_duplicates('device_id',keep='first')\n",
    "# Location data\n",
    "events = pd.read_csv('events.csv', usecols = ['event_id', 'device_id'])\n",
    "app_events = pd.read_csv('app_events.csv', usecols=['event_id','app_id','is_active'],\n",
    "                        dtype={'is_active':bool})\n",
    "app_labels = pd.read_csv('app_labels.csv')\n",
    "label_cats = pd.read_csv('label_categories.csv', index_col='label_id',squeeze=True)"
   ]
  },
  {
   "cell_type": "markdown",
   "metadata": {},
   "source": [
    "# Exploratory Data Analysis"
   ]
  },
  {
   "cell_type": "code",
   "execution_count": 3,
   "metadata": {},
   "outputs": [
    {
     "name": "stdout",
     "output_type": "stream",
     "text": [
      "Shape of ga_train data set:\n",
      "(74645, 4)\n"
     ]
    },
    {
     "data": {
      "text/html": [
       "<div>\n",
       "<style scoped>\n",
       "    .dataframe tbody tr th:only-of-type {\n",
       "        vertical-align: middle;\n",
       "    }\n",
       "\n",
       "    .dataframe tbody tr th {\n",
       "        vertical-align: top;\n",
       "    }\n",
       "\n",
       "    .dataframe thead th {\n",
       "        text-align: right;\n",
       "    }\n",
       "</style>\n",
       "<table border=\"1\" class=\"dataframe\">\n",
       "  <thead>\n",
       "    <tr style=\"text-align: right;\">\n",
       "      <th></th>\n",
       "      <th>device_id</th>\n",
       "      <th>gender</th>\n",
       "      <th>age</th>\n",
       "      <th>group</th>\n",
       "    </tr>\n",
       "  </thead>\n",
       "  <tbody>\n",
       "    <tr>\n",
       "      <th>0</th>\n",
       "      <td>-8076087639492063270</td>\n",
       "      <td>M</td>\n",
       "      <td>35</td>\n",
       "      <td>M32-38</td>\n",
       "    </tr>\n",
       "    <tr>\n",
       "      <th>1</th>\n",
       "      <td>-2897161552818060146</td>\n",
       "      <td>M</td>\n",
       "      <td>35</td>\n",
       "      <td>M32-38</td>\n",
       "    </tr>\n",
       "    <tr>\n",
       "      <th>2</th>\n",
       "      <td>-8260683887967679142</td>\n",
       "      <td>M</td>\n",
       "      <td>35</td>\n",
       "      <td>M32-38</td>\n",
       "    </tr>\n",
       "    <tr>\n",
       "      <th>3</th>\n",
       "      <td>-4938849341048082022</td>\n",
       "      <td>M</td>\n",
       "      <td>30</td>\n",
       "      <td>M29-31</td>\n",
       "    </tr>\n",
       "    <tr>\n",
       "      <th>4</th>\n",
       "      <td>245133531816851882</td>\n",
       "      <td>M</td>\n",
       "      <td>30</td>\n",
       "      <td>M29-31</td>\n",
       "    </tr>\n",
       "  </tbody>\n",
       "</table>\n",
       "</div>"
      ],
      "text/plain": [
       "             device_id gender  age   group\n",
       "0 -8076087639492063270      M   35  M32-38\n",
       "1 -2897161552818060146      M   35  M32-38\n",
       "2 -8260683887967679142      M   35  M32-38\n",
       "3 -4938849341048082022      M   30  M29-31\n",
       "4   245133531816851882      M   30  M29-31"
      ]
     },
     "execution_count": 3,
     "metadata": {},
     "output_type": "execute_result"
    }
   ],
   "source": [
    "print('Shape of ga_train data set:')\n",
    "print(ga_train.shape)\n",
    "ga_train.head()"
   ]
  },
  {
   "cell_type": "code",
   "execution_count": 4,
   "metadata": {},
   "outputs": [
    {
     "data": {
      "image/png": "[encoded data removed]",
      "text/plain": [
       "<Figure size 720x576 with 1 Axes>"
      ]
     },
     "metadata": {},
     "output_type": "display_data"
    }
   ],
   "source": [
    "# Distribution of age based users.\n",
    "fig,ax = plt.subplots(figsize=(10,8))\n",
    "ga_train.group.value_counts().plot(kind='barh')\n",
    "plt.title('Age Group Distribution')\n",
    "plt.ylabel('Gender/Age Ranges')\n",
    "plt.xlabel('Count');"
   ]
  },
  {
   "cell_type": "markdown",
   "metadata": {},
   "source": [
    "From this horizontal bar graph, we can see that most of the users happen to be young adult males, but we can do better than eyeball from this graph. "
   ]
  },
  {
   "cell_type": "code",
   "execution_count": 5,
   "metadata": {},
   "outputs": [
    {
     "data": {
      "image/png": "[encoded data removed]",
      "text/plain": [
       "<Figure size 720x576 with 1 Axes>"
      ]
     },
     "metadata": {},
     "output_type": "display_data"
    }
   ],
   "source": [
    "# Gender Distribution\n",
    "fig,ax = plt.subplots(figsize=(10,8))\n",
    "ga_train.gender.value_counts().plot(kind='barh')\n",
    "plt.title('Gender Distribution')\n",
    "plt.xlabel('Count')\n",
    "plt.ylabel('Gender');"
   ]
  },
  {
   "cell_type": "markdown",
   "metadata": {},
   "source": [
    "This is clear that there are almost double amount of males compared to the amount of females. "
   ]
  },
  {
   "cell_type": "code",
   "execution_count": 6,
   "metadata": {},
   "outputs": [
    {
     "name": "stderr",
     "output_type": "stream",
     "text": [
      "/anaconda3/lib/python3.6/site-packages/matplotlib/axes/_axes.py:6462: UserWarning: The 'normed' kwarg is deprecated, and has been replaced by the 'density' kwarg.\n",
      "  warnings.warn(\"The 'normed' kwarg is deprecated, and has been \"\n"
     ]
    },
    {
     "data": {
      "image/png": "[encoded data removed]",
      "text/plain": [
       "<Figure size 864x576 with 1 Axes>"
      ]
     },
     "metadata": {},
     "output_type": "display_data"
    }
   ],
   "source": [
    "# Age Distribution\n",
    "fig,ax = plt.subplots(figsize=(12,8))\n",
    "plt.title('Age Distribution')\n",
    "plt.xlabel('Ages')\n",
    "plt.ylabel('Count')\n",
    "sns.distplot(ga_train.age);"
   ]
  },
  {
   "cell_type": "code",
   "execution_count": 7,
   "metadata": {},
   "outputs": [
    {
     "name": "stdout",
     "output_type": "stream",
     "text": [
      "Shape of phone brands data set:\n",
      "(186716, 3)\n"
     ]
    },
    {
     "data": {
      "text/html": [
       "<div>\n",
       "<style scoped>\n",
       "    .dataframe tbody tr th:only-of-type {\n",
       "        vertical-align: middle;\n",
       "    }\n",
       "\n",
       "    .dataframe tbody tr th {\n",
       "        vertical-align: top;\n",
       "    }\n",
       "\n",
       "    .dataframe thead th {\n",
       "        text-align: right;\n",
       "    }\n",
       "</style>\n",
       "<table border=\"1\" class=\"dataframe\">\n",
       "  <thead>\n",
       "    <tr style=\"text-align: right;\">\n",
       "      <th></th>\n",
       "      <th>device_id</th>\n",
       "      <th>phone_brand</th>\n",
       "      <th>device_model</th>\n",
       "    </tr>\n",
       "  </thead>\n",
       "  <tbody>\n",
       "    <tr>\n",
       "      <th>0</th>\n",
       "      <td>-8890648629457979026</td>\n",
       "      <td>小米</td>\n",
       "      <td>红米</td>\n",
       "    </tr>\n",
       "    <tr>\n",
       "      <th>1</th>\n",
       "      <td>1277779817574759137</td>\n",
       "      <td>小米</td>\n",
       "      <td>MI 2</td>\n",
       "    </tr>\n",
       "    <tr>\n",
       "      <th>2</th>\n",
       "      <td>5137427614288105724</td>\n",
       "      <td>三星</td>\n",
       "      <td>Galaxy S4</td>\n",
       "    </tr>\n",
       "    <tr>\n",
       "      <th>3</th>\n",
       "      <td>3669464369358936369</td>\n",
       "      <td>SUGAR</td>\n",
       "      <td>时尚手机</td>\n",
       "    </tr>\n",
       "    <tr>\n",
       "      <th>4</th>\n",
       "      <td>-5019277647504317457</td>\n",
       "      <td>三星</td>\n",
       "      <td>Galaxy Note 2</td>\n",
       "    </tr>\n",
       "  </tbody>\n",
       "</table>\n",
       "</div>"
      ],
      "text/plain": [
       "             device_id phone_brand   device_model\n",
       "0 -8890648629457979026          小米             红米\n",
       "1  1277779817574759137          小米           MI 2\n",
       "2  5137427614288105724          三星      Galaxy S4\n",
       "3  3669464369358936369       SUGAR           时尚手机\n",
       "4 -5019277647504317457          三星  Galaxy Note 2"
      ]
     },
     "execution_count": 7,
     "metadata": {},
     "output_type": "execute_result"
    }
   ],
   "source": [
    "print('Shape of phone brands data set:')\n",
    "print(phone_brands.shape)\n",
    "phone_brands.head()"
   ]
  },
  {
   "cell_type": "code",
   "execution_count": 8,
   "metadata": {},
   "outputs": [
    {
     "name": "stdout",
     "output_type": "stream",
     "text": [
      "Number of unique brands:\n",
      "131\n",
      "\n",
      "Number of unique models:\n",
      "1599\n"
     ]
    }
   ],
   "source": [
    "print('Number of unique brands:')\n",
    "print(phone_brands.phone_brand.nunique())\n",
    "\n",
    "print('\\nNumber of unique models:')\n",
    "print(phone_brands.device_model.nunique())"
   ]
  },
  {
   "cell_type": "code",
   "execution_count": 9,
   "metadata": {
    "scrolled": true
   },
   "outputs": [
    {
     "data": {
      "text/plain": [
       "1    1545\n",
       "2      43\n",
       "3       8\n",
       "4       3\n",
       "Name: phone_brand, dtype: int64"
      ]
     },
     "execution_count": 9,
     "metadata": {},
     "output_type": "execute_result"
    }
   ],
   "source": [
    "# Check to see if there is over representation of any one brand. \n",
    "device_count = phone_brands.groupby(['device_model'])['phone_brand'].apply(pd.Series.nunique)\n",
    "device_count.value_counts()"
   ]
  },
  {
   "cell_type": "code",
   "execution_count": 10,
   "metadata": {},
   "outputs": [
    {
     "name": "stdout",
     "output_type": "stream",
     "text": [
      "shape of events data set:\n",
      "(32473067, 3)\n"
     ]
    },
    {
     "data": {
      "text/html": [
       "<div>\n",
       "<style scoped>\n",
       "    .dataframe tbody tr th:only-of-type {\n",
       "        vertical-align: middle;\n",
       "    }\n",
       "\n",
       "    .dataframe tbody tr th {\n",
       "        vertical-align: top;\n",
       "    }\n",
       "\n",
       "    .dataframe thead th {\n",
       "        text-align: right;\n",
       "    }\n",
       "</style>\n",
       "<table border=\"1\" class=\"dataframe\">\n",
       "  <thead>\n",
       "    <tr style=\"text-align: right;\">\n",
       "      <th></th>\n",
       "      <th>event_id</th>\n",
       "      <th>app_id</th>\n",
       "      <th>is_active</th>\n",
       "    </tr>\n",
       "  </thead>\n",
       "  <tbody>\n",
       "    <tr>\n",
       "      <th>0</th>\n",
       "      <td>2</td>\n",
       "      <td>5927333115845830913</td>\n",
       "      <td>True</td>\n",
       "    </tr>\n",
       "    <tr>\n",
       "      <th>1</th>\n",
       "      <td>2</td>\n",
       "      <td>-5720078949152207372</td>\n",
       "      <td>False</td>\n",
       "    </tr>\n",
       "    <tr>\n",
       "      <th>2</th>\n",
       "      <td>2</td>\n",
       "      <td>-1633887856876571208</td>\n",
       "      <td>False</td>\n",
       "    </tr>\n",
       "    <tr>\n",
       "      <th>3</th>\n",
       "      <td>2</td>\n",
       "      <td>-653184325010919369</td>\n",
       "      <td>True</td>\n",
       "    </tr>\n",
       "    <tr>\n",
       "      <th>4</th>\n",
       "      <td>2</td>\n",
       "      <td>8693964245073640147</td>\n",
       "      <td>True</td>\n",
       "    </tr>\n",
       "    <tr>\n",
       "      <th>5</th>\n",
       "      <td>2</td>\n",
       "      <td>4775896950989639373</td>\n",
       "      <td>True</td>\n",
       "    </tr>\n",
       "    <tr>\n",
       "      <th>6</th>\n",
       "      <td>2</td>\n",
       "      <td>-8022267440849930066</td>\n",
       "      <td>False</td>\n",
       "    </tr>\n",
       "    <tr>\n",
       "      <th>7</th>\n",
       "      <td>2</td>\n",
       "      <td>9112463267739110219</td>\n",
       "      <td>False</td>\n",
       "    </tr>\n",
       "    <tr>\n",
       "      <th>8</th>\n",
       "      <td>2</td>\n",
       "      <td>-3725672010020973973</td>\n",
       "      <td>False</td>\n",
       "    </tr>\n",
       "    <tr>\n",
       "      <th>9</th>\n",
       "      <td>2</td>\n",
       "      <td>7167114343576723123</td>\n",
       "      <td>True</td>\n",
       "    </tr>\n",
       "    <tr>\n",
       "      <th>10</th>\n",
       "      <td>2</td>\n",
       "      <td>487766649788038994</td>\n",
       "      <td>False</td>\n",
       "    </tr>\n",
       "    <tr>\n",
       "      <th>11</th>\n",
       "      <td>2</td>\n",
       "      <td>7460082553072507347</td>\n",
       "      <td>False</td>\n",
       "    </tr>\n",
       "    <tr>\n",
       "      <th>12</th>\n",
       "      <td>2</td>\n",
       "      <td>628020936226491308</td>\n",
       "      <td>False</td>\n",
       "    </tr>\n",
       "    <tr>\n",
       "      <th>13</th>\n",
       "      <td>2</td>\n",
       "      <td>701031210314548601</td>\n",
       "      <td>False</td>\n",
       "    </tr>\n",
       "    <tr>\n",
       "      <th>14</th>\n",
       "      <td>2</td>\n",
       "      <td>-1758857579862594461</td>\n",
       "      <td>False</td>\n",
       "    </tr>\n",
       "    <tr>\n",
       "      <th>15</th>\n",
       "      <td>2</td>\n",
       "      <td>4348659952760821294</td>\n",
       "      <td>False</td>\n",
       "    </tr>\n",
       "    <tr>\n",
       "      <th>16</th>\n",
       "      <td>2</td>\n",
       "      <td>-8942695423876075857</td>\n",
       "      <td>False</td>\n",
       "    </tr>\n",
       "    <tr>\n",
       "      <th>17</th>\n",
       "      <td>2</td>\n",
       "      <td>5497109940653330488</td>\n",
       "      <td>True</td>\n",
       "    </tr>\n",
       "    <tr>\n",
       "      <th>18</th>\n",
       "      <td>2</td>\n",
       "      <td>3717049149426646122</td>\n",
       "      <td>False</td>\n",
       "    </tr>\n",
       "    <tr>\n",
       "      <th>19</th>\n",
       "      <td>6</td>\n",
       "      <td>-7377004479023402858</td>\n",
       "      <td>True</td>\n",
       "    </tr>\n",
       "    <tr>\n",
       "      <th>20</th>\n",
       "      <td>6</td>\n",
       "      <td>6284164581582112235</td>\n",
       "      <td>True</td>\n",
       "    </tr>\n",
       "    <tr>\n",
       "      <th>21</th>\n",
       "      <td>6</td>\n",
       "      <td>5927333115845830913</td>\n",
       "      <td>True</td>\n",
       "    </tr>\n",
       "    <tr>\n",
       "      <th>22</th>\n",
       "      <td>6</td>\n",
       "      <td>3433289601737013244</td>\n",
       "      <td>True</td>\n",
       "    </tr>\n",
       "    <tr>\n",
       "      <th>23</th>\n",
       "      <td>6</td>\n",
       "      <td>-3467200097934864127</td>\n",
       "      <td>True</td>\n",
       "    </tr>\n",
       "    <tr>\n",
       "      <th>24</th>\n",
       "      <td>6</td>\n",
       "      <td>6924337203824723352</td>\n",
       "      <td>False</td>\n",
       "    </tr>\n",
       "  </tbody>\n",
       "</table>\n",
       "</div>"
      ],
      "text/plain": [
       "    event_id               app_id  is_active\n",
       "0          2  5927333115845830913       True\n",
       "1          2 -5720078949152207372      False\n",
       "2          2 -1633887856876571208      False\n",
       "3          2  -653184325010919369       True\n",
       "4          2  8693964245073640147       True\n",
       "5          2  4775896950989639373       True\n",
       "6          2 -8022267440849930066      False\n",
       "7          2  9112463267739110219      False\n",
       "8          2 -3725672010020973973      False\n",
       "9          2  7167114343576723123       True\n",
       "10         2   487766649788038994      False\n",
       "11         2  7460082553072507347      False\n",
       "12         2   628020936226491308      False\n",
       "13         2   701031210314548601      False\n",
       "14         2 -1758857579862594461      False\n",
       "15         2  4348659952760821294      False\n",
       "16         2 -8942695423876075857      False\n",
       "17         2  5497109940653330488       True\n",
       "18         2  3717049149426646122      False\n",
       "19         6 -7377004479023402858       True\n",
       "20         6  6284164581582112235       True\n",
       "21         6  5927333115845830913       True\n",
       "22         6  3433289601737013244       True\n",
       "23         6 -3467200097934864127       True\n",
       "24         6  6924337203824723352      False"
      ]
     },
     "execution_count": 10,
     "metadata": {},
     "output_type": "execute_result"
    }
   ],
   "source": [
    "# App events overlook\n",
    "print('shape of events data set:')\n",
    "print(app_events.shape)\n",
    "app_events.head(25)"
   ]
  },
  {
   "cell_type": "code",
   "execution_count": 11,
   "metadata": {},
   "outputs": [
    {
     "data": {
      "image/png": "[encoded data removed]",
      "text/plain": [
       "<Figure size 720x576 with 1 Axes>"
      ]
     },
     "metadata": {},
     "output_type": "display_data"
    }
   ],
   "source": [
    "fig,ax = plt.subplots(figsize=(10,8))\n",
    "plt.title('Is the User Active?')\n",
    "app_events['is_active'].value_counts().plot(kind='bar');"
   ]
  },
  {
   "cell_type": "code",
   "execution_count": 12,
   "metadata": {},
   "outputs": [
    {
     "name": "stdout",
     "output_type": "stream",
     "text": [
      "Shape of events:\n",
      "(3252950, 2)\n"
     ]
    },
    {
     "data": {
      "text/html": [
       "<div>\n",
       "<style scoped>\n",
       "    .dataframe tbody tr th:only-of-type {\n",
       "        vertical-align: middle;\n",
       "    }\n",
       "\n",
       "    .dataframe tbody tr th {\n",
       "        vertical-align: top;\n",
       "    }\n",
       "\n",
       "    .dataframe thead th {\n",
       "        text-align: right;\n",
       "    }\n",
       "</style>\n",
       "<table border=\"1\" class=\"dataframe\">\n",
       "  <thead>\n",
       "    <tr style=\"text-align: right;\">\n",
       "      <th></th>\n",
       "      <th>event_id</th>\n",
       "      <th>device_id</th>\n",
       "    </tr>\n",
       "  </thead>\n",
       "  <tbody>\n",
       "    <tr>\n",
       "      <th>0</th>\n",
       "      <td>1</td>\n",
       "      <td>29182687948017175</td>\n",
       "    </tr>\n",
       "    <tr>\n",
       "      <th>1</th>\n",
       "      <td>2</td>\n",
       "      <td>-6401643145415154744</td>\n",
       "    </tr>\n",
       "    <tr>\n",
       "      <th>2</th>\n",
       "      <td>3</td>\n",
       "      <td>-4833982096941402721</td>\n",
       "    </tr>\n",
       "    <tr>\n",
       "      <th>3</th>\n",
       "      <td>4</td>\n",
       "      <td>-6815121365017318426</td>\n",
       "    </tr>\n",
       "    <tr>\n",
       "      <th>4</th>\n",
       "      <td>5</td>\n",
       "      <td>-5373797595892518570</td>\n",
       "    </tr>\n",
       "  </tbody>\n",
       "</table>\n",
       "</div>"
      ],
      "text/plain": [
       "   event_id            device_id\n",
       "0         1    29182687948017175\n",
       "1         2 -6401643145415154744\n",
       "2         3 -4833982096941402721\n",
       "3         4 -6815121365017318426\n",
       "4         5 -5373797595892518570"
      ]
     },
     "execution_count": 12,
     "metadata": {},
     "output_type": "execute_result"
    }
   ],
   "source": [
    "print('Shape of events:')\n",
    "print(events.shape)\n",
    "events.head()"
   ]
  },
  {
   "cell_type": "markdown",
   "metadata": {},
   "source": [
    "# Data Exploration (No Graphs)"
   ]
  },
  {
   "cell_type": "code",
   "execution_count": 8,
   "metadata": {
    "scrolled": true
   },
   "outputs": [
    {
     "data": {
      "text/plain": [
       "M23-26    9605\n",
       "M32-38    9476\n",
       "M39+      8581\n",
       "M22-      7488\n",
       "M29-31    7309\n",
       "F33-42    5561\n",
       "M27-28    5445\n",
       "F23-      5050\n",
       "F29-32    4628\n",
       "F43+      4194\n",
       "F24-26    4190\n",
       "F27-28    3118\n",
       "Name: group, dtype: int64"
      ]
     },
     "execution_count": 8,
     "metadata": {},
     "output_type": "execute_result"
    }
   ],
   "source": [
    "# Check numerical value of age groups\n",
    "ga_train.group.value_counts()"
   ]
  },
  {
   "cell_type": "code",
   "execution_count": 9,
   "metadata": {},
   "outputs": [],
   "source": [
    "# Re-import app_events for the binary output of is_active\n",
    "app_events2 = pd.read_csv('app_events.csv', usecols=['event_id','app_id','is_active'])"
   ]
  },
  {
   "cell_type": "code",
   "execution_count": 10,
   "metadata": {},
   "outputs": [
    {
     "data": {
      "text/html": [
       "<div>\n",
       "<style scoped>\n",
       "    .dataframe tbody tr th:only-of-type {\n",
       "        vertical-align: middle;\n",
       "    }\n",
       "\n",
       "    .dataframe tbody tr th {\n",
       "        vertical-align: top;\n",
       "    }\n",
       "\n",
       "    .dataframe thead th {\n",
       "        text-align: right;\n",
       "    }\n",
       "</style>\n",
       "<table border=\"1\" class=\"dataframe\">\n",
       "  <thead>\n",
       "    <tr style=\"text-align: right;\">\n",
       "      <th></th>\n",
       "      <th>app_id</th>\n",
       "      <th>is_active</th>\n",
       "      <th>device_id</th>\n",
       "    </tr>\n",
       "  </thead>\n",
       "  <tbody>\n",
       "    <tr>\n",
       "      <th>0</th>\n",
       "      <td>5927333115845830913</td>\n",
       "      <td>1</td>\n",
       "      <td>-6401643145415154744</td>\n",
       "    </tr>\n",
       "    <tr>\n",
       "      <th>1</th>\n",
       "      <td>-5720078949152207372</td>\n",
       "      <td>0</td>\n",
       "      <td>-6401643145415154744</td>\n",
       "    </tr>\n",
       "    <tr>\n",
       "      <th>2</th>\n",
       "      <td>-1633887856876571208</td>\n",
       "      <td>0</td>\n",
       "      <td>-6401643145415154744</td>\n",
       "    </tr>\n",
       "    <tr>\n",
       "      <th>3</th>\n",
       "      <td>-653184325010919369</td>\n",
       "      <td>1</td>\n",
       "      <td>-6401643145415154744</td>\n",
       "    </tr>\n",
       "    <tr>\n",
       "      <th>4</th>\n",
       "      <td>8693964245073640147</td>\n",
       "      <td>1</td>\n",
       "      <td>-6401643145415154744</td>\n",
       "    </tr>\n",
       "  </tbody>\n",
       "</table>\n",
       "</div>"
      ],
      "text/plain": [
       "                app_id  is_active            device_id\n",
       "0  5927333115845830913          1 -6401643145415154744\n",
       "1 -5720078949152207372          0 -6401643145415154744\n",
       "2 -1633887856876571208          0 -6401643145415154744\n",
       "3  -653184325010919369          1 -6401643145415154744\n",
       "4  8693964245073640147          1 -6401643145415154744"
      ]
     },
     "execution_count": 10,
     "metadata": {},
     "output_type": "execute_result"
    }
   ],
   "source": [
    "device_apps = (\n",
    "    app_events2\n",
    "    \n",
    "     # Merge on event_id\n",
    "    .merge(events, how = 'left', left_on = 'event_id', right_on = 'event_id')\n",
    "    \n",
    "     # event_id itself is not interesting\n",
    "    .drop('event_id', axis = 1)\n",
    "    \n",
    "     # Because the events correspond to more than just\n",
    "     # being installed, there are many duplicates\n",
    "    .drop_duplicates()\n",
    ")\n",
    "\n",
    "# Our data now looks like this\n",
    "device_apps.head()"
   ]
  },
  {
   "cell_type": "code",
   "execution_count": 11,
   "metadata": {},
   "outputs": [
    {
     "data": {
      "text/plain": [
       "(2840343, 3)"
      ]
     },
     "execution_count": 11,
     "metadata": {},
     "output_type": "execute_result"
    }
   ],
   "source": [
    "device_apps.shape"
   ]
  },
  {
   "cell_type": "code",
   "execution_count": 12,
   "metadata": {
    "scrolled": false
   },
   "outputs": [
    {
     "data": {
      "text/html": [
       "<div>\n",
       "<style scoped>\n",
       "    .dataframe tbody tr th:only-of-type {\n",
       "        vertical-align: middle;\n",
       "    }\n",
       "\n",
       "    .dataframe tbody tr th {\n",
       "        vertical-align: top;\n",
       "    }\n",
       "\n",
       "    .dataframe thead th {\n",
       "        text-align: right;\n",
       "    }\n",
       "</style>\n",
       "<table border=\"1\" class=\"dataframe\">\n",
       "  <thead>\n",
       "    <tr style=\"text-align: right;\">\n",
       "      <th></th>\n",
       "      <th>device_id</th>\n",
       "      <th>phone_brand</th>\n",
       "      <th>device_model</th>\n",
       "    </tr>\n",
       "  </thead>\n",
       "  <tbody>\n",
       "    <tr>\n",
       "      <th>0</th>\n",
       "      <td>-8890648629457979026</td>\n",
       "      <td>小米</td>\n",
       "      <td>红米</td>\n",
       "    </tr>\n",
       "    <tr>\n",
       "      <th>1</th>\n",
       "      <td>1277779817574759137</td>\n",
       "      <td>小米</td>\n",
       "      <td>MI 2</td>\n",
       "    </tr>\n",
       "    <tr>\n",
       "      <th>2</th>\n",
       "      <td>5137427614288105724</td>\n",
       "      <td>三星</td>\n",
       "      <td>Galaxy S4</td>\n",
       "    </tr>\n",
       "    <tr>\n",
       "      <th>3</th>\n",
       "      <td>3669464369358936369</td>\n",
       "      <td>SUGAR</td>\n",
       "      <td>时尚手机</td>\n",
       "    </tr>\n",
       "    <tr>\n",
       "      <th>4</th>\n",
       "      <td>-5019277647504317457</td>\n",
       "      <td>三星</td>\n",
       "      <td>Galaxy Note 2</td>\n",
       "    </tr>\n",
       "  </tbody>\n",
       "</table>\n",
       "</div>"
      ],
      "text/plain": [
       "             device_id phone_brand   device_model\n",
       "0 -8890648629457979026          小米             红米\n",
       "1  1277779817574759137          小米           MI 2\n",
       "2  5137427614288105724          三星      Galaxy S4\n",
       "3  3669464369358936369       SUGAR           时尚手机\n",
       "4 -5019277647504317457          三星  Galaxy Note 2"
      ]
     },
     "execution_count": 12,
     "metadata": {},
     "output_type": "execute_result"
    }
   ],
   "source": [
    "# Encode the device_model and phone_brand to use as a feature.\n",
    "phone_brands.head()"
   ]
  },
  {
   "cell_type": "code",
   "execution_count": 13,
   "metadata": {},
   "outputs": [
    {
     "name": "stdout",
     "output_type": "stream",
     "text": [
      "Number of distinct model names: 1599\n",
      "Number of distinct brand+model names: 1667\n"
     ]
    }
   ],
   "source": [
    "# It seems like some brands don't have specific model names.\n",
    "print('Number of distinct model names: ' + str(phone_brands.groupby(['device_model']).size().shape[0]))\n",
    "print('Number of distinct brand+model names: ' + str(phone_brands.groupby(['phone_brand','device_model']).size().shape[0]))"
   ]
  },
  {
   "cell_type": "code",
   "execution_count": 14,
   "metadata": {},
   "outputs": [],
   "source": [
    "# Combine the two columns\n",
    "phone_brands['brand_and_model'] = phone_brands['phone_brand'].astype(str) + phone_brands['device_model']\n",
    "\n",
    "# Build numerical labels for our models\n",
    "modelencoder = LabelEncoder().fit(phone_brands['brand_and_model'])\n",
    "\n",
    "# Store in a new column\n",
    "phone_brands['encoded_model'] = modelencoder.transform(phone_brands['brand_and_model'])"
   ]
  },
  {
   "cell_type": "code",
   "execution_count": 15,
   "metadata": {
    "scrolled": true
   },
   "outputs": [
    {
     "data": {
      "text/html": [
       "<div>\n",
       "<style scoped>\n",
       "    .dataframe tbody tr th:only-of-type {\n",
       "        vertical-align: middle;\n",
       "    }\n",
       "\n",
       "    .dataframe tbody tr th {\n",
       "        vertical-align: top;\n",
       "    }\n",
       "\n",
       "    .dataframe thead th {\n",
       "        text-align: right;\n",
       "    }\n",
       "</style>\n",
       "<table border=\"1\" class=\"dataframe\">\n",
       "  <thead>\n",
       "    <tr style=\"text-align: right;\">\n",
       "      <th></th>\n",
       "      <th>device_id</th>\n",
       "      <th>phone_brand</th>\n",
       "      <th>device_model</th>\n",
       "      <th>brand_and_model</th>\n",
       "      <th>encoded_model</th>\n",
       "    </tr>\n",
       "  </thead>\n",
       "  <tbody>\n",
       "    <tr>\n",
       "      <th>0</th>\n",
       "      <td>-8890648629457979026</td>\n",
       "      <td>小米</td>\n",
       "      <td>红米</td>\n",
       "      <td>小米红米</td>\n",
       "      <td>858</td>\n",
       "    </tr>\n",
       "    <tr>\n",
       "      <th>1</th>\n",
       "      <td>1277779817574759137</td>\n",
       "      <td>小米</td>\n",
       "      <td>MI 2</td>\n",
       "      <td>小米MI 2</td>\n",
       "      <td>843</td>\n",
       "    </tr>\n",
       "    <tr>\n",
       "      <th>2</th>\n",
       "      <td>5137427614288105724</td>\n",
       "      <td>三星</td>\n",
       "      <td>Galaxy S4</td>\n",
       "      <td>三星Galaxy S4</td>\n",
       "      <td>371</td>\n",
       "    </tr>\n",
       "    <tr>\n",
       "      <th>3</th>\n",
       "      <td>3669464369358936369</td>\n",
       "      <td>SUGAR</td>\n",
       "      <td>时尚手机</td>\n",
       "      <td>SUGAR时尚手机</td>\n",
       "      <td>166</td>\n",
       "    </tr>\n",
       "    <tr>\n",
       "      <th>4</th>\n",
       "      <td>-5019277647504317457</td>\n",
       "      <td>三星</td>\n",
       "      <td>Galaxy Note 2</td>\n",
       "      <td>三星Galaxy Note 2</td>\n",
       "      <td>347</td>\n",
       "    </tr>\n",
       "    <tr>\n",
       "      <th>5</th>\n",
       "      <td>3238009352149731868</td>\n",
       "      <td>华为</td>\n",
       "      <td>Mate</td>\n",
       "      <td>华为Mate</td>\n",
       "      <td>671</td>\n",
       "    </tr>\n",
       "    <tr>\n",
       "      <th>6</th>\n",
       "      <td>-3883532755183027260</td>\n",
       "      <td>小米</td>\n",
       "      <td>MI 2S</td>\n",
       "      <td>小米MI 2S</td>\n",
       "      <td>846</td>\n",
       "    </tr>\n",
       "    <tr>\n",
       "      <th>7</th>\n",
       "      <td>-2972199645857147708</td>\n",
       "      <td>华为</td>\n",
       "      <td>G610S</td>\n",
       "      <td>华为G610S</td>\n",
       "      <td>648</td>\n",
       "    </tr>\n",
       "    <tr>\n",
       "      <th>8</th>\n",
       "      <td>-5827952925479472594</td>\n",
       "      <td>小米</td>\n",
       "      <td>MI One Plus</td>\n",
       "      <td>小米MI One Plus</td>\n",
       "      <td>852</td>\n",
       "    </tr>\n",
       "    <tr>\n",
       "      <th>9</th>\n",
       "      <td>-8262508968076336275</td>\n",
       "      <td>vivo</td>\n",
       "      <td>S7I</td>\n",
       "      <td>vivoS7I</td>\n",
       "      <td>214</td>\n",
       "    </tr>\n",
       "    <tr>\n",
       "      <th>10</th>\n",
       "      <td>5840378295166286440</td>\n",
       "      <td>三星</td>\n",
       "      <td>Galaxy S3</td>\n",
       "      <td>三星Galaxy S3</td>\n",
       "      <td>368</td>\n",
       "    </tr>\n",
       "    <tr>\n",
       "      <th>11</th>\n",
       "      <td>-5776341595519925628</td>\n",
       "      <td>小米</td>\n",
       "      <td>MI 2A</td>\n",
       "      <td>小米MI 2A</td>\n",
       "      <td>844</td>\n",
       "    </tr>\n",
       "    <tr>\n",
       "      <th>12</th>\n",
       "      <td>3437705102632680210</td>\n",
       "      <td>三星</td>\n",
       "      <td>Galaxy S3</td>\n",
       "      <td>三星Galaxy S3</td>\n",
       "      <td>368</td>\n",
       "    </tr>\n",
       "    <tr>\n",
       "      <th>13</th>\n",
       "      <td>-3568334676360016285</td>\n",
       "      <td>三星</td>\n",
       "      <td>Galaxy S3</td>\n",
       "      <td>三星Galaxy S3</td>\n",
       "      <td>368</td>\n",
       "    </tr>\n",
       "    <tr>\n",
       "      <th>14</th>\n",
       "      <td>556978549708484782</td>\n",
       "      <td>小米</td>\n",
       "      <td>MI 2</td>\n",
       "      <td>小米MI 2</td>\n",
       "      <td>843</td>\n",
       "    </tr>\n",
       "    <tr>\n",
       "      <th>15</th>\n",
       "      <td>5694497738268412307</td>\n",
       "      <td>小米</td>\n",
       "      <td>MI 3</td>\n",
       "      <td>小米MI 3</td>\n",
       "      <td>847</td>\n",
       "    </tr>\n",
       "    <tr>\n",
       "      <th>16</th>\n",
       "      <td>6327116114284382479</td>\n",
       "      <td>华为</td>\n",
       "      <td>G520-0000</td>\n",
       "      <td>华为G520-0000</td>\n",
       "      <td>639</td>\n",
       "    </tr>\n",
       "    <tr>\n",
       "      <th>17</th>\n",
       "      <td>773248989809697210</td>\n",
       "      <td>vivo</td>\n",
       "      <td>X5Pro</td>\n",
       "      <td>vivoX5Pro</td>\n",
       "      <td>232</td>\n",
       "    </tr>\n",
       "    <tr>\n",
       "      <th>18</th>\n",
       "      <td>-686020914357018824</td>\n",
       "      <td>小米</td>\n",
       "      <td>MI 2S</td>\n",
       "      <td>小米MI 2S</td>\n",
       "      <td>846</td>\n",
       "    </tr>\n",
       "    <tr>\n",
       "      <th>19</th>\n",
       "      <td>6936613487637228956</td>\n",
       "      <td>魅族</td>\n",
       "      <td>MX2</td>\n",
       "      <td>魅族MX2</td>\n",
       "      <td>1651</td>\n",
       "    </tr>\n",
       "    <tr>\n",
       "      <th>20</th>\n",
       "      <td>-3875043166283300758</td>\n",
       "      <td>三星</td>\n",
       "      <td>Galaxy Note 2</td>\n",
       "      <td>三星Galaxy Note 2</td>\n",
       "      <td>347</td>\n",
       "    </tr>\n",
       "    <tr>\n",
       "      <th>21</th>\n",
       "      <td>-6964140211214884922</td>\n",
       "      <td>小米</td>\n",
       "      <td>MI 2S</td>\n",
       "      <td>小米MI 2S</td>\n",
       "      <td>846</td>\n",
       "    </tr>\n",
       "    <tr>\n",
       "      <th>22</th>\n",
       "      <td>-30236203766311351</td>\n",
       "      <td>小米</td>\n",
       "      <td>MI 2S</td>\n",
       "      <td>小米MI 2S</td>\n",
       "      <td>846</td>\n",
       "    </tr>\n",
       "    <tr>\n",
       "      <th>23</th>\n",
       "      <td>4887985552773989409</td>\n",
       "      <td>vivo</td>\n",
       "      <td>Xplay</td>\n",
       "      <td>vivoXplay</td>\n",
       "      <td>241</td>\n",
       "    </tr>\n",
       "    <tr>\n",
       "      <th>24</th>\n",
       "      <td>7206202610070842107</td>\n",
       "      <td>三星</td>\n",
       "      <td>Galaxy Note 2</td>\n",
       "      <td>三星Galaxy Note 2</td>\n",
       "      <td>347</td>\n",
       "    </tr>\n",
       "    <tr>\n",
       "      <th>25</th>\n",
       "      <td>-39620037751344714</td>\n",
       "      <td>小米</td>\n",
       "      <td>MI 2S</td>\n",
       "      <td>小米MI 2S</td>\n",
       "      <td>846</td>\n",
       "    </tr>\n",
       "    <tr>\n",
       "      <th>26</th>\n",
       "      <td>7223189369472462826</td>\n",
       "      <td>酷派</td>\n",
       "      <td>7270</td>\n",
       "      <td>酷派7270</td>\n",
       "      <td>1458</td>\n",
       "    </tr>\n",
       "    <tr>\n",
       "      <th>27</th>\n",
       "      <td>-3998002640294516352</td>\n",
       "      <td>天语</td>\n",
       "      <td>Touch 3</td>\n",
       "      <td>天语Touch 3</td>\n",
       "      <td>812</td>\n",
       "    </tr>\n",
       "    <tr>\n",
       "      <th>28</th>\n",
       "      <td>2527845705328727233</td>\n",
       "      <td>OPPO</td>\n",
       "      <td>R2017</td>\n",
       "      <td>OPPOR2017</td>\n",
       "      <td>124</td>\n",
       "    </tr>\n",
       "    <tr>\n",
       "      <th>29</th>\n",
       "      <td>-3157952721100703520</td>\n",
       "      <td>三星</td>\n",
       "      <td>Galaxy Note 2</td>\n",
       "      <td>三星Galaxy Note 2</td>\n",
       "      <td>347</td>\n",
       "    </tr>\n",
       "    <tr>\n",
       "      <th>30</th>\n",
       "      <td>-6083057230710001248</td>\n",
       "      <td>中兴</td>\n",
       "      <td>795+</td>\n",
       "      <td>中兴795+</td>\n",
       "      <td>451</td>\n",
       "    </tr>\n",
       "    <tr>\n",
       "      <th>31</th>\n",
       "      <td>-4083221898711926203</td>\n",
       "      <td>酷派</td>\n",
       "      <td>大神Note</td>\n",
       "      <td>酷派大神Note</td>\n",
       "      <td>1541</td>\n",
       "    </tr>\n",
       "    <tr>\n",
       "      <th>32</th>\n",
       "      <td>-4523542780146466405</td>\n",
       "      <td>vivo</td>\n",
       "      <td>Y3T</td>\n",
       "      <td>vivoY3T</td>\n",
       "      <td>270</td>\n",
       "    </tr>\n",
       "    <tr>\n",
       "      <th>33</th>\n",
       "      <td>-5913071468598874323</td>\n",
       "      <td>三星</td>\n",
       "      <td>S7566</td>\n",
       "      <td>三星S7566</td>\n",
       "      <td>429</td>\n",
       "    </tr>\n",
       "    <tr>\n",
       "      <th>34</th>\n",
       "      <td>-2339363715932966819</td>\n",
       "      <td>小米</td>\n",
       "      <td>MI One Plus</td>\n",
       "      <td>小米MI One Plus</td>\n",
       "      <td>852</td>\n",
       "    </tr>\n",
       "    <tr>\n",
       "      <th>35</th>\n",
       "      <td>4106908628505542038</td>\n",
       "      <td>金立</td>\n",
       "      <td>GN708W</td>\n",
       "      <td>金立GN708W</td>\n",
       "      <td>1597</td>\n",
       "    </tr>\n",
       "    <tr>\n",
       "      <th>36</th>\n",
       "      <td>-613324030015638453</td>\n",
       "      <td>联想</td>\n",
       "      <td>乐檬K3 Note</td>\n",
       "      <td>联想乐檬K3 Note</td>\n",
       "      <td>1309</td>\n",
       "    </tr>\n",
       "    <tr>\n",
       "      <th>37</th>\n",
       "      <td>-2943457097948271624</td>\n",
       "      <td>三星</td>\n",
       "      <td>Galaxy Note 2</td>\n",
       "      <td>三星Galaxy Note 2</td>\n",
       "      <td>347</td>\n",
       "    </tr>\n",
       "    <tr>\n",
       "      <th>38</th>\n",
       "      <td>-8617503367917252519</td>\n",
       "      <td>三星</td>\n",
       "      <td>Galaxy S4</td>\n",
       "      <td>三星Galaxy S4</td>\n",
       "      <td>371</td>\n",
       "    </tr>\n",
       "    <tr>\n",
       "      <th>39</th>\n",
       "      <td>8749105586608216142</td>\n",
       "      <td>小米</td>\n",
       "      <td>MI 1S</td>\n",
       "      <td>小米MI 1S</td>\n",
       "      <td>842</td>\n",
       "    </tr>\n",
       "    <tr>\n",
       "      <th>40</th>\n",
       "      <td>1170363371146351661</td>\n",
       "      <td>联想</td>\n",
       "      <td>A820t</td>\n",
       "      <td>联想A820t</td>\n",
       "      <td>1226</td>\n",
       "    </tr>\n",
       "    <tr>\n",
       "      <th>41</th>\n",
       "      <td>-5155397683752679020</td>\n",
       "      <td>华为</td>\n",
       "      <td>荣耀3C</td>\n",
       "      <td>华为荣耀3C</td>\n",
       "      <td>730</td>\n",
       "    </tr>\n",
       "    <tr>\n",
       "      <th>42</th>\n",
       "      <td>3933889243973057197</td>\n",
       "      <td>小米</td>\n",
       "      <td>红米</td>\n",
       "      <td>小米红米</td>\n",
       "      <td>858</td>\n",
       "    </tr>\n",
       "    <tr>\n",
       "      <th>43</th>\n",
       "      <td>7257880420181554729</td>\n",
       "      <td>小米</td>\n",
       "      <td>MI 2A</td>\n",
       "      <td>小米MI 2A</td>\n",
       "      <td>844</td>\n",
       "    </tr>\n",
       "    <tr>\n",
       "      <th>44</th>\n",
       "      <td>1234582813120123953</td>\n",
       "      <td>三星</td>\n",
       "      <td>Galaxy S2</td>\n",
       "      <td>三星Galaxy S2</td>\n",
       "      <td>364</td>\n",
       "    </tr>\n",
       "    <tr>\n",
       "      <th>45</th>\n",
       "      <td>-4733939105220796309</td>\n",
       "      <td>三星</td>\n",
       "      <td>Galaxy S4</td>\n",
       "      <td>三星Galaxy S4</td>\n",
       "      <td>371</td>\n",
       "    </tr>\n",
       "    <tr>\n",
       "      <th>46</th>\n",
       "      <td>8879737470175624918</td>\n",
       "      <td>小米</td>\n",
       "      <td>MI 2A</td>\n",
       "      <td>小米MI 2A</td>\n",
       "      <td>844</td>\n",
       "    </tr>\n",
       "    <tr>\n",
       "      <th>47</th>\n",
       "      <td>-8763379009069417607</td>\n",
       "      <td>海信</td>\n",
       "      <td>EG966</td>\n",
       "      <td>海信EG966</td>\n",
       "      <td>1019</td>\n",
       "    </tr>\n",
       "    <tr>\n",
       "      <th>48</th>\n",
       "      <td>-1183635331565164049</td>\n",
       "      <td>三星</td>\n",
       "      <td>Galaxy S2</td>\n",
       "      <td>三星Galaxy S2</td>\n",
       "      <td>364</td>\n",
       "    </tr>\n",
       "    <tr>\n",
       "      <th>49</th>\n",
       "      <td>3379712123596745643</td>\n",
       "      <td>小米</td>\n",
       "      <td>红米</td>\n",
       "      <td>小米红米</td>\n",
       "      <td>858</td>\n",
       "    </tr>\n",
       "  </tbody>\n",
       "</table>\n",
       "</div>"
      ],
      "text/plain": [
       "              device_id phone_brand   device_model  brand_and_model  \\\n",
       "0  -8890648629457979026          小米             红米             小米红米   \n",
       "1   1277779817574759137          小米           MI 2           小米MI 2   \n",
       "2   5137427614288105724          三星      Galaxy S4      三星Galaxy S4   \n",
       "3   3669464369358936369       SUGAR           时尚手机        SUGAR时尚手机   \n",
       "4  -5019277647504317457          三星  Galaxy Note 2  三星Galaxy Note 2   \n",
       "5   3238009352149731868          华为           Mate           华为Mate   \n",
       "6  -3883532755183027260          小米          MI 2S          小米MI 2S   \n",
       "7  -2972199645857147708          华为          G610S          华为G610S   \n",
       "8  -5827952925479472594          小米    MI One Plus    小米MI One Plus   \n",
       "9  -8262508968076336275        vivo            S7I          vivoS7I   \n",
       "10  5840378295166286440          三星      Galaxy S3      三星Galaxy S3   \n",
       "11 -5776341595519925628          小米          MI 2A          小米MI 2A   \n",
       "12  3437705102632680210          三星      Galaxy S3      三星Galaxy S3   \n",
       "13 -3568334676360016285          三星      Galaxy S3      三星Galaxy S3   \n",
       "14   556978549708484782          小米           MI 2           小米MI 2   \n",
       "15  5694497738268412307          小米           MI 3           小米MI 3   \n",
       "16  6327116114284382479          华为      G520-0000      华为G520-0000   \n",
       "17   773248989809697210        vivo          X5Pro        vivoX5Pro   \n",
       "18  -686020914357018824          小米          MI 2S          小米MI 2S   \n",
       "19  6936613487637228956          魅族            MX2            魅族MX2   \n",
       "20 -3875043166283300758          三星  Galaxy Note 2  三星Galaxy Note 2   \n",
       "21 -6964140211214884922          小米          MI 2S          小米MI 2S   \n",
       "22   -30236203766311351          小米          MI 2S          小米MI 2S   \n",
       "23  4887985552773989409        vivo          Xplay        vivoXplay   \n",
       "24  7206202610070842107          三星  Galaxy Note 2  三星Galaxy Note 2   \n",
       "25   -39620037751344714          小米          MI 2S          小米MI 2S   \n",
       "26  7223189369472462826          酷派           7270           酷派7270   \n",
       "27 -3998002640294516352          天语        Touch 3        天语Touch 3   \n",
       "28  2527845705328727233        OPPO          R2017        OPPOR2017   \n",
       "29 -3157952721100703520          三星  Galaxy Note 2  三星Galaxy Note 2   \n",
       "30 -6083057230710001248          中兴           795+           中兴795+   \n",
       "31 -4083221898711926203          酷派         大神Note         酷派大神Note   \n",
       "32 -4523542780146466405        vivo            Y3T          vivoY3T   \n",
       "33 -5913071468598874323          三星          S7566          三星S7566   \n",
       "34 -2339363715932966819          小米    MI One Plus    小米MI One Plus   \n",
       "35  4106908628505542038          金立         GN708W         金立GN708W   \n",
       "36  -613324030015638453          联想      乐檬K3 Note      联想乐檬K3 Note   \n",
       "37 -2943457097948271624          三星  Galaxy Note 2  三星Galaxy Note 2   \n",
       "38 -8617503367917252519          三星      Galaxy S4      三星Galaxy S4   \n",
       "39  8749105586608216142          小米          MI 1S          小米MI 1S   \n",
       "40  1170363371146351661          联想          A820t          联想A820t   \n",
       "41 -5155397683752679020          华为           荣耀3C           华为荣耀3C   \n",
       "42  3933889243973057197          小米             红米             小米红米   \n",
       "43  7257880420181554729          小米          MI 2A          小米MI 2A   \n",
       "44  1234582813120123953          三星      Galaxy S2      三星Galaxy S2   \n",
       "45 -4733939105220796309          三星      Galaxy S4      三星Galaxy S4   \n",
       "46  8879737470175624918          小米          MI 2A          小米MI 2A   \n",
       "47 -8763379009069417607          海信          EG966          海信EG966   \n",
       "48 -1183635331565164049          三星      Galaxy S2      三星Galaxy S2   \n",
       "49  3379712123596745643          小米             红米             小米红米   \n",
       "\n",
       "    encoded_model  \n",
       "0             858  \n",
       "1             843  \n",
       "2             371  \n",
       "3             166  \n",
       "4             347  \n",
       "5             671  \n",
       "6             846  \n",
       "7             648  \n",
       "8             852  \n",
       "9             214  \n",
       "10            368  \n",
       "11            844  \n",
       "12            368  \n",
       "13            368  \n",
       "14            843  \n",
       "15            847  \n",
       "16            639  \n",
       "17            232  \n",
       "18            846  \n",
       "19           1651  \n",
       "20            347  \n",
       "21            846  \n",
       "22            846  \n",
       "23            241  \n",
       "24            347  \n",
       "25            846  \n",
       "26           1458  \n",
       "27            812  \n",
       "28            124  \n",
       "29            347  \n",
       "30            451  \n",
       "31           1541  \n",
       "32            270  \n",
       "33            429  \n",
       "34            852  \n",
       "35           1597  \n",
       "36           1309  \n",
       "37            347  \n",
       "38            371  \n",
       "39            842  \n",
       "40           1226  \n",
       "41            730  \n",
       "42            858  \n",
       "43            844  \n",
       "44            364  \n",
       "45            371  \n",
       "46            844  \n",
       "47           1019  \n",
       "48            364  \n",
       "49            858  "
      ]
     },
     "execution_count": 15,
     "metadata": {},
     "output_type": "execute_result"
    }
   ],
   "source": [
    "# Take a look to see what phone_brands look like now.\n",
    "phone_brands.head(50)"
   ]
  },
  {
   "cell_type": "markdown",
   "metadata": {},
   "source": [
    "# Merging Files Together"
   ]
  },
  {
   "cell_type": "code",
   "execution_count": 16,
   "metadata": {
    "scrolled": true
   },
   "outputs": [
    {
     "name": "stdout",
     "output_type": "stream",
     "text": [
      "(459943, 2)\n"
     ]
    },
    {
     "data": {
      "text/html": [
       "<div>\n",
       "<style scoped>\n",
       "    .dataframe tbody tr th:only-of-type {\n",
       "        vertical-align: middle;\n",
       "    }\n",
       "\n",
       "    .dataframe tbody tr th {\n",
       "        vertical-align: top;\n",
       "    }\n",
       "\n",
       "    .dataframe thead th {\n",
       "        text-align: right;\n",
       "    }\n",
       "</style>\n",
       "<table border=\"1\" class=\"dataframe\">\n",
       "  <thead>\n",
       "    <tr style=\"text-align: right;\">\n",
       "      <th></th>\n",
       "      <th>app_id</th>\n",
       "      <th>label_id</th>\n",
       "    </tr>\n",
       "  </thead>\n",
       "  <tbody>\n",
       "    <tr>\n",
       "      <th>0</th>\n",
       "      <td>7324884708820027918</td>\n",
       "      <td>251</td>\n",
       "    </tr>\n",
       "    <tr>\n",
       "      <th>1</th>\n",
       "      <td>-4494216993218550286</td>\n",
       "      <td>251</td>\n",
       "    </tr>\n",
       "    <tr>\n",
       "      <th>2</th>\n",
       "      <td>6058196446775239644</td>\n",
       "      <td>406</td>\n",
       "    </tr>\n",
       "    <tr>\n",
       "      <th>3</th>\n",
       "      <td>6058196446775239644</td>\n",
       "      <td>407</td>\n",
       "    </tr>\n",
       "    <tr>\n",
       "      <th>4</th>\n",
       "      <td>8694625920731541625</td>\n",
       "      <td>406</td>\n",
       "    </tr>\n",
       "  </tbody>\n",
       "</table>\n",
       "</div>"
      ],
      "text/plain": [
       "                app_id  label_id\n",
       "0  7324884708820027918       251\n",
       "1 -4494216993218550286       251\n",
       "2  6058196446775239644       406\n",
       "3  6058196446775239644       407\n",
       "4  8694625920731541625       406"
      ]
     },
     "execution_count": 16,
     "metadata": {},
     "output_type": "execute_result"
    }
   ],
   "source": [
    "print(app_labels.shape)\n",
    "app_labels.head()"
   ]
  },
  {
   "cell_type": "code",
   "execution_count": 17,
   "metadata": {},
   "outputs": [
    {
     "name": "stdout",
     "output_type": "stream",
     "text": [
      "(32473067, 3)\n"
     ]
    },
    {
     "data": {
      "text/html": [
       "<div>\n",
       "<style scoped>\n",
       "    .dataframe tbody tr th:only-of-type {\n",
       "        vertical-align: middle;\n",
       "    }\n",
       "\n",
       "    .dataframe tbody tr th {\n",
       "        vertical-align: top;\n",
       "    }\n",
       "\n",
       "    .dataframe thead th {\n",
       "        text-align: right;\n",
       "    }\n",
       "</style>\n",
       "<table border=\"1\" class=\"dataframe\">\n",
       "  <thead>\n",
       "    <tr style=\"text-align: right;\">\n",
       "      <th></th>\n",
       "      <th>event_id</th>\n",
       "      <th>app_id</th>\n",
       "      <th>is_active</th>\n",
       "    </tr>\n",
       "  </thead>\n",
       "  <tbody>\n",
       "    <tr>\n",
       "      <th>0</th>\n",
       "      <td>2</td>\n",
       "      <td>5927333115845830913</td>\n",
       "      <td>True</td>\n",
       "    </tr>\n",
       "    <tr>\n",
       "      <th>1</th>\n",
       "      <td>2</td>\n",
       "      <td>-5720078949152207372</td>\n",
       "      <td>False</td>\n",
       "    </tr>\n",
       "    <tr>\n",
       "      <th>2</th>\n",
       "      <td>2</td>\n",
       "      <td>-1633887856876571208</td>\n",
       "      <td>False</td>\n",
       "    </tr>\n",
       "    <tr>\n",
       "      <th>3</th>\n",
       "      <td>2</td>\n",
       "      <td>-653184325010919369</td>\n",
       "      <td>True</td>\n",
       "    </tr>\n",
       "    <tr>\n",
       "      <th>4</th>\n",
       "      <td>2</td>\n",
       "      <td>8693964245073640147</td>\n",
       "      <td>True</td>\n",
       "    </tr>\n",
       "  </tbody>\n",
       "</table>\n",
       "</div>"
      ],
      "text/plain": [
       "   event_id               app_id  is_active\n",
       "0         2  5927333115845830913       True\n",
       "1         2 -5720078949152207372      False\n",
       "2         2 -1633887856876571208      False\n",
       "3         2  -653184325010919369       True\n",
       "4         2  8693964245073640147       True"
      ]
     },
     "execution_count": 17,
     "metadata": {},
     "output_type": "execute_result"
    }
   ],
   "source": [
    "print(app_events.shape)\n",
    "app_events.head()"
   ]
  },
  {
   "cell_type": "markdown",
   "metadata": {},
   "source": [
    "Previously, my kernel would crash after merging the two files together without using drop dupes. My solution is to drop duplicates and thats why it is spelled 'ddupe' for drop dupe. The reason the kernel would crash shortly after the creation of the new file is due to the fact that the rows grew from 32 million to over 200 million. "
   ]
  },
  {
   "cell_type": "code",
   "execution_count": 18,
   "metadata": {},
   "outputs": [
    {
     "name": "stdout",
     "output_type": "stream",
     "text": [
      "(117374, 3)\n"
     ]
    },
    {
     "data": {
      "text/html": [
       "<div>\n",
       "<style scoped>\n",
       "    .dataframe tbody tr th:only-of-type {\n",
       "        vertical-align: middle;\n",
       "    }\n",
       "\n",
       "    .dataframe tbody tr th {\n",
       "        vertical-align: top;\n",
       "    }\n",
       "\n",
       "    .dataframe thead th {\n",
       "        text-align: right;\n",
       "    }\n",
       "</style>\n",
       "<table border=\"1\" class=\"dataframe\">\n",
       "  <thead>\n",
       "    <tr style=\"text-align: right;\">\n",
       "      <th></th>\n",
       "      <th>app_id</th>\n",
       "      <th>label_id</th>\n",
       "      <th>is_active</th>\n",
       "    </tr>\n",
       "  </thead>\n",
       "  <tbody>\n",
       "    <tr>\n",
       "      <th>0</th>\n",
       "      <td>7324884708820027918</td>\n",
       "      <td>251</td>\n",
       "      <td>False</td>\n",
       "    </tr>\n",
       "    <tr>\n",
       "      <th>6</th>\n",
       "      <td>7324884708820027918</td>\n",
       "      <td>251</td>\n",
       "      <td>True</td>\n",
       "    </tr>\n",
       "    <tr>\n",
       "      <th>11</th>\n",
       "      <td>7324884708820027918</td>\n",
       "      <td>691</td>\n",
       "      <td>False</td>\n",
       "    </tr>\n",
       "    <tr>\n",
       "      <th>17</th>\n",
       "      <td>7324884708820027918</td>\n",
       "      <td>691</td>\n",
       "      <td>True</td>\n",
       "    </tr>\n",
       "    <tr>\n",
       "      <th>22</th>\n",
       "      <td>7324884708820027918</td>\n",
       "      <td>751</td>\n",
       "      <td>False</td>\n",
       "    </tr>\n",
       "  </tbody>\n",
       "</table>\n",
       "</div>"
      ],
      "text/plain": [
       "                 app_id  label_id  is_active\n",
       "0   7324884708820027918       251      False\n",
       "6   7324884708820027918       251       True\n",
       "11  7324884708820027918       691      False\n",
       "17  7324884708820027918       691       True\n",
       "22  7324884708820027918       751      False"
      ]
     },
     "execution_count": 18,
     "metadata": {},
     "output_type": "execute_result"
    }
   ],
   "source": [
    "# Experimenting with how to handle dupes. \n",
    "# Adding labels to app_events\n",
    "apps_labeled = pd.merge(app_labels,\n",
    "                       app_events[['app_id', 'is_active']],\n",
    "                       on='app_id').dropna().drop_duplicates()\n",
    "\n",
    "print(apps_labeled.shape)\n",
    "apps_labeled.head()"
   ]
  },
  {
   "cell_type": "code",
   "execution_count": 19,
   "metadata": {
    "scrolled": true
   },
   "outputs": [
    {
     "name": "stdout",
     "output_type": "stream",
     "text": [
      "(1097150, 6)\n"
     ]
    },
    {
     "data": {
      "text/html": [
       "<div>\n",
       "<style scoped>\n",
       "    .dataframe tbody tr th:only-of-type {\n",
       "        vertical-align: middle;\n",
       "    }\n",
       "\n",
       "    .dataframe tbody tr th {\n",
       "        vertical-align: top;\n",
       "    }\n",
       "\n",
       "    .dataframe thead th {\n",
       "        text-align: right;\n",
       "    }\n",
       "</style>\n",
       "<table border=\"1\" class=\"dataframe\">\n",
       "  <thead>\n",
       "    <tr style=\"text-align: right;\">\n",
       "      <th></th>\n",
       "      <th>device_id</th>\n",
       "      <th>gender</th>\n",
       "      <th>age</th>\n",
       "      <th>group</th>\n",
       "      <th>app_id</th>\n",
       "      <th>is_active</th>\n",
       "    </tr>\n",
       "  </thead>\n",
       "  <tbody>\n",
       "    <tr>\n",
       "      <th>0</th>\n",
       "      <td>-8260683887967679142</td>\n",
       "      <td>M</td>\n",
       "      <td>35</td>\n",
       "      <td>M32-38</td>\n",
       "      <td>4287147352639325907</td>\n",
       "      <td>0</td>\n",
       "    </tr>\n",
       "    <tr>\n",
       "      <th>1</th>\n",
       "      <td>-8260683887967679142</td>\n",
       "      <td>M</td>\n",
       "      <td>35</td>\n",
       "      <td>M32-38</td>\n",
       "      <td>-4085686983594738208</td>\n",
       "      <td>0</td>\n",
       "    </tr>\n",
       "    <tr>\n",
       "      <th>2</th>\n",
       "      <td>-8260683887967679142</td>\n",
       "      <td>M</td>\n",
       "      <td>35</td>\n",
       "      <td>M32-38</td>\n",
       "      <td>6324194957022958681</td>\n",
       "      <td>0</td>\n",
       "    </tr>\n",
       "    <tr>\n",
       "      <th>3</th>\n",
       "      <td>-8260683887967679142</td>\n",
       "      <td>M</td>\n",
       "      <td>35</td>\n",
       "      <td>M32-38</td>\n",
       "      <td>-8687507491028761317</td>\n",
       "      <td>0</td>\n",
       "    </tr>\n",
       "    <tr>\n",
       "      <th>4</th>\n",
       "      <td>-8260683887967679142</td>\n",
       "      <td>M</td>\n",
       "      <td>35</td>\n",
       "      <td>M32-38</td>\n",
       "      <td>877288515501232570</td>\n",
       "      <td>1</td>\n",
       "    </tr>\n",
       "  </tbody>\n",
       "</table>\n",
       "</div>"
      ],
      "text/plain": [
       "             device_id gender  age   group               app_id  is_active\n",
       "0 -8260683887967679142      M   35  M32-38  4287147352639325907          0\n",
       "1 -8260683887967679142      M   35  M32-38 -4085686983594738208          0\n",
       "2 -8260683887967679142      M   35  M32-38  6324194957022958681          0\n",
       "3 -8260683887967679142      M   35  M32-38 -8687507491028761317          0\n",
       "4 -8260683887967679142      M   35  M32-38   877288515501232570          1"
      ]
     },
     "execution_count": 19,
     "metadata": {},
     "output_type": "execute_result"
    }
   ],
   "source": [
    "# Merge ga_train and device_apps\n",
    "ga_apps = pd.merge(ga_train,\n",
    "                  device_apps[['app_id', 'is_active', 'device_id']],\n",
    "                  on='device_id').dropna()\n",
    "#Shape of ga_apps\n",
    "print(ga_apps.shape)\n",
    "\n",
    "# Show how the new df looks.\n",
    "ga_apps.head()"
   ]
  },
  {
   "cell_type": "code",
   "execution_count": 20,
   "metadata": {},
   "outputs": [
    {
     "name": "stdout",
     "output_type": "stream",
     "text": [
      "(1097150, 7)\n"
     ]
    },
    {
     "data": {
      "text/html": [
       "<div>\n",
       "<style scoped>\n",
       "    .dataframe tbody tr th:only-of-type {\n",
       "        vertical-align: middle;\n",
       "    }\n",
       "\n",
       "    .dataframe tbody tr th {\n",
       "        vertical-align: top;\n",
       "    }\n",
       "\n",
       "    .dataframe thead th {\n",
       "        text-align: right;\n",
       "    }\n",
       "</style>\n",
       "<table border=\"1\" class=\"dataframe\">\n",
       "  <thead>\n",
       "    <tr style=\"text-align: right;\">\n",
       "      <th></th>\n",
       "      <th>device_id</th>\n",
       "      <th>gender</th>\n",
       "      <th>age</th>\n",
       "      <th>group</th>\n",
       "      <th>app_id</th>\n",
       "      <th>is_active</th>\n",
       "      <th>encoded_model</th>\n",
       "    </tr>\n",
       "  </thead>\n",
       "  <tbody>\n",
       "    <tr>\n",
       "      <th>0</th>\n",
       "      <td>-8260683887967679142</td>\n",
       "      <td>M</td>\n",
       "      <td>35</td>\n",
       "      <td>M32-38</td>\n",
       "      <td>4287147352639325907</td>\n",
       "      <td>0</td>\n",
       "      <td>843</td>\n",
       "    </tr>\n",
       "    <tr>\n",
       "      <th>1</th>\n",
       "      <td>-8260683887967679142</td>\n",
       "      <td>M</td>\n",
       "      <td>35</td>\n",
       "      <td>M32-38</td>\n",
       "      <td>-4085686983594738208</td>\n",
       "      <td>0</td>\n",
       "      <td>843</td>\n",
       "    </tr>\n",
       "    <tr>\n",
       "      <th>2</th>\n",
       "      <td>-8260683887967679142</td>\n",
       "      <td>M</td>\n",
       "      <td>35</td>\n",
       "      <td>M32-38</td>\n",
       "      <td>6324194957022958681</td>\n",
       "      <td>0</td>\n",
       "      <td>843</td>\n",
       "    </tr>\n",
       "    <tr>\n",
       "      <th>3</th>\n",
       "      <td>-8260683887967679142</td>\n",
       "      <td>M</td>\n",
       "      <td>35</td>\n",
       "      <td>M32-38</td>\n",
       "      <td>-8687507491028761317</td>\n",
       "      <td>0</td>\n",
       "      <td>843</td>\n",
       "    </tr>\n",
       "    <tr>\n",
       "      <th>4</th>\n",
       "      <td>-8260683887967679142</td>\n",
       "      <td>M</td>\n",
       "      <td>35</td>\n",
       "      <td>M32-38</td>\n",
       "      <td>877288515501232570</td>\n",
       "      <td>1</td>\n",
       "      <td>843</td>\n",
       "    </tr>\n",
       "  </tbody>\n",
       "</table>\n",
       "</div>"
      ],
      "text/plain": [
       "             device_id gender  age   group               app_id  is_active  \\\n",
       "0 -8260683887967679142      M   35  M32-38  4287147352639325907          0   \n",
       "1 -8260683887967679142      M   35  M32-38 -4085686983594738208          0   \n",
       "2 -8260683887967679142      M   35  M32-38  6324194957022958681          0   \n",
       "3 -8260683887967679142      M   35  M32-38 -8687507491028761317          0   \n",
       "4 -8260683887967679142      M   35  M32-38   877288515501232570          1   \n",
       "\n",
       "   encoded_model  \n",
       "0            843  \n",
       "1            843  \n",
       "2            843  \n",
       "3            843  \n",
       "4            843  "
      ]
     },
     "execution_count": 20,
     "metadata": {},
     "output_type": "execute_result"
    }
   ],
   "source": [
    "# Merge the previous data set with brands now. \n",
    "ga_apps_brands = pd.merge(ga_apps,\n",
    "                         phone_brands[['device_id', 'encoded_model']],\n",
    "                         on='device_id').dropna()\n",
    "#Show me the shape\n",
    "print(ga_apps_brands.shape)\n",
    "\n",
    "#Look at how the data looks.\n",
    "ga_apps_brands.head()"
   ]
  },
  {
   "cell_type": "code",
   "execution_count": 21,
   "metadata": {},
   "outputs": [
    {
     "name": "stdout",
     "output_type": "stream",
     "text": [
      "(7034111, 8)\n"
     ]
    },
    {
     "data": {
      "text/html": [
       "<div>\n",
       "<style scoped>\n",
       "    .dataframe tbody tr th:only-of-type {\n",
       "        vertical-align: middle;\n",
       "    }\n",
       "\n",
       "    .dataframe tbody tr th {\n",
       "        vertical-align: top;\n",
       "    }\n",
       "\n",
       "    .dataframe thead th {\n",
       "        text-align: right;\n",
       "    }\n",
       "</style>\n",
       "<table border=\"1\" class=\"dataframe\">\n",
       "  <thead>\n",
       "    <tr style=\"text-align: right;\">\n",
       "      <th></th>\n",
       "      <th>device_id</th>\n",
       "      <th>gender</th>\n",
       "      <th>age</th>\n",
       "      <th>group</th>\n",
       "      <th>app_id</th>\n",
       "      <th>is_active</th>\n",
       "      <th>encoded_model</th>\n",
       "      <th>label_id</th>\n",
       "    </tr>\n",
       "  </thead>\n",
       "  <tbody>\n",
       "    <tr>\n",
       "      <th>0</th>\n",
       "      <td>-8260683887967679142</td>\n",
       "      <td>M</td>\n",
       "      <td>35</td>\n",
       "      <td>M32-38</td>\n",
       "      <td>4287147352639325907</td>\n",
       "      <td>0</td>\n",
       "      <td>843</td>\n",
       "      <td>713</td>\n",
       "    </tr>\n",
       "    <tr>\n",
       "      <th>2</th>\n",
       "      <td>-8260683887967679142</td>\n",
       "      <td>M</td>\n",
       "      <td>35</td>\n",
       "      <td>M32-38</td>\n",
       "      <td>4287147352639325907</td>\n",
       "      <td>0</td>\n",
       "      <td>843</td>\n",
       "      <td>704</td>\n",
       "    </tr>\n",
       "    <tr>\n",
       "      <th>4</th>\n",
       "      <td>-8260683887967679142</td>\n",
       "      <td>M</td>\n",
       "      <td>35</td>\n",
       "      <td>M32-38</td>\n",
       "      <td>4287147352639325907</td>\n",
       "      <td>0</td>\n",
       "      <td>843</td>\n",
       "      <td>548</td>\n",
       "    </tr>\n",
       "    <tr>\n",
       "      <th>6</th>\n",
       "      <td>8761770737926125955</td>\n",
       "      <td>F</td>\n",
       "      <td>22</td>\n",
       "      <td>F23-</td>\n",
       "      <td>4287147352639325907</td>\n",
       "      <td>0</td>\n",
       "      <td>226</td>\n",
       "      <td>713</td>\n",
       "    </tr>\n",
       "    <tr>\n",
       "      <th>8</th>\n",
       "      <td>8761770737926125955</td>\n",
       "      <td>F</td>\n",
       "      <td>22</td>\n",
       "      <td>F23-</td>\n",
       "      <td>4287147352639325907</td>\n",
       "      <td>0</td>\n",
       "      <td>226</td>\n",
       "      <td>704</td>\n",
       "    </tr>\n",
       "  </tbody>\n",
       "</table>\n",
       "</div>"
      ],
      "text/plain": [
       "             device_id gender  age   group               app_id  is_active  \\\n",
       "0 -8260683887967679142      M   35  M32-38  4287147352639325907          0   \n",
       "2 -8260683887967679142      M   35  M32-38  4287147352639325907          0   \n",
       "4 -8260683887967679142      M   35  M32-38  4287147352639325907          0   \n",
       "6  8761770737926125955      F   22    F23-  4287147352639325907          0   \n",
       "8  8761770737926125955      F   22    F23-  4287147352639325907          0   \n",
       "\n",
       "   encoded_model  label_id  \n",
       "0            843       713  \n",
       "2            843       704  \n",
       "4            843       548  \n",
       "6            226       713  \n",
       "8            226       704  "
      ]
     },
     "execution_count": 21,
     "metadata": {},
     "output_type": "execute_result"
    }
   ],
   "source": [
    "# Putting all of the data sets together.\n",
    "ga_apps_labeled_brands = pd.merge(ga_apps_brands,\n",
    "                                 apps_labeled[['app_id', 'label_id']],\n",
    "                                 on='app_id').dropna().drop_duplicates()\n",
    "#Show me the shape\n",
    "print(ga_apps_labeled_brands.shape)\n",
    "\n",
    "#Look at how the data looks.\n",
    "ga_apps_labeled_brands.head()"
   ]
  },
  {
   "cell_type": "code",
   "execution_count": 22,
   "metadata": {},
   "outputs": [],
   "source": [
    "# Convert gender into a binary output\n",
    "ga_apps_labeled_brands['gender'] = ga_apps_labeled_brands['gender'].apply(lambda x: 1 if x == 'M' else 0 )"
   ]
  },
  {
   "cell_type": "code",
   "execution_count": 23,
   "metadata": {},
   "outputs": [
    {
     "data": {
      "text/plain": [
       "1    4942458\n",
       "0    2091653\n",
       "Name: gender, dtype: int64"
      ]
     },
     "execution_count": 23,
     "metadata": {},
     "output_type": "execute_result"
    }
   ],
   "source": [
    "ga_apps_labeled_brands.gender.value_counts()"
   ]
  },
  {
   "cell_type": "code",
   "execution_count": 24,
   "metadata": {},
   "outputs": [
    {
     "name": "stdout",
     "output_type": "stream",
     "text": [
      "(7034111, 8)\n"
     ]
    },
    {
     "data": {
      "text/html": [
       "<div>\n",
       "<style scoped>\n",
       "    .dataframe tbody tr th:only-of-type {\n",
       "        vertical-align: middle;\n",
       "    }\n",
       "\n",
       "    .dataframe tbody tr th {\n",
       "        vertical-align: top;\n",
       "    }\n",
       "\n",
       "    .dataframe thead th {\n",
       "        text-align: right;\n",
       "    }\n",
       "</style>\n",
       "<table border=\"1\" class=\"dataframe\">\n",
       "  <thead>\n",
       "    <tr style=\"text-align: right;\">\n",
       "      <th></th>\n",
       "      <th>device_id</th>\n",
       "      <th>gender</th>\n",
       "      <th>age</th>\n",
       "      <th>group</th>\n",
       "      <th>app_id</th>\n",
       "      <th>is_active</th>\n",
       "      <th>encoded_model</th>\n",
       "      <th>label_id</th>\n",
       "    </tr>\n",
       "  </thead>\n",
       "  <tbody>\n",
       "    <tr>\n",
       "      <th>0</th>\n",
       "      <td>-8260683887967679142</td>\n",
       "      <td>1</td>\n",
       "      <td>35</td>\n",
       "      <td>M32-38</td>\n",
       "      <td>4287147352639325907</td>\n",
       "      <td>0</td>\n",
       "      <td>843</td>\n",
       "      <td>713</td>\n",
       "    </tr>\n",
       "    <tr>\n",
       "      <th>2</th>\n",
       "      <td>-8260683887967679142</td>\n",
       "      <td>1</td>\n",
       "      <td>35</td>\n",
       "      <td>M32-38</td>\n",
       "      <td>4287147352639325907</td>\n",
       "      <td>0</td>\n",
       "      <td>843</td>\n",
       "      <td>704</td>\n",
       "    </tr>\n",
       "    <tr>\n",
       "      <th>4</th>\n",
       "      <td>-8260683887967679142</td>\n",
       "      <td>1</td>\n",
       "      <td>35</td>\n",
       "      <td>M32-38</td>\n",
       "      <td>4287147352639325907</td>\n",
       "      <td>0</td>\n",
       "      <td>843</td>\n",
       "      <td>548</td>\n",
       "    </tr>\n",
       "    <tr>\n",
       "      <th>6</th>\n",
       "      <td>8761770737926125955</td>\n",
       "      <td>0</td>\n",
       "      <td>22</td>\n",
       "      <td>F23-</td>\n",
       "      <td>4287147352639325907</td>\n",
       "      <td>0</td>\n",
       "      <td>226</td>\n",
       "      <td>713</td>\n",
       "    </tr>\n",
       "    <tr>\n",
       "      <th>8</th>\n",
       "      <td>8761770737926125955</td>\n",
       "      <td>0</td>\n",
       "      <td>22</td>\n",
       "      <td>F23-</td>\n",
       "      <td>4287147352639325907</td>\n",
       "      <td>0</td>\n",
       "      <td>226</td>\n",
       "      <td>704</td>\n",
       "    </tr>\n",
       "  </tbody>\n",
       "</table>\n",
       "</div>"
      ],
      "text/plain": [
       "             device_id  gender  age   group               app_id  is_active  \\\n",
       "0 -8260683887967679142       1   35  M32-38  4287147352639325907          0   \n",
       "2 -8260683887967679142       1   35  M32-38  4287147352639325907          0   \n",
       "4 -8260683887967679142       1   35  M32-38  4287147352639325907          0   \n",
       "6  8761770737926125955       0   22    F23-  4287147352639325907          0   \n",
       "8  8761770737926125955       0   22    F23-  4287147352639325907          0   \n",
       "\n",
       "   encoded_model  label_id  \n",
       "0            843       713  \n",
       "2            843       704  \n",
       "4            843       548  \n",
       "6            226       713  \n",
       "8            226       704  "
      ]
     },
     "execution_count": 24,
     "metadata": {},
     "output_type": "execute_result"
    }
   ],
   "source": [
    "# Make another copy since the previous copy has already been dummified.\n",
    "# Putting all of the data sets together.\n",
    "ga_apps_labeled_brands2 = pd.merge(ga_apps_brands,\n",
    "                                 apps_labeled[['app_id', 'label_id']],\n",
    "                                 on='app_id').dropna().drop_duplicates()\n",
    "\n",
    "# Convert gender into a binary output\n",
    "ga_apps_labeled_brands2['gender'] = ga_apps_labeled_brands2['gender'].apply(lambda x: 1 if x == 'M' else 0 )\n",
    "\n",
    "#Show me the shape\n",
    "print(ga_apps_labeled_brands2.shape)\n",
    "\n",
    "#Look at how the data looks.\n",
    "ga_apps_labeled_brands2.head()"
   ]
  },
  {
   "cell_type": "code",
   "execution_count": 25,
   "metadata": {
    "scrolled": true
   },
   "outputs": [
    {
     "data": {
      "image/png": "[encoded data removed]",
      "text/plain": [
       "<Figure size 1152x1152 with 2 Axes>"
      ]
     },
     "metadata": {},
     "output_type": "display_data"
    }
   ],
   "source": [
    "# Create a heatmap to see if there is any multicollinearity.\n",
    "# Make a smaller data set to use because 7 million rows took too long.\n",
    "group_data_mini = ga_apps_labeled_brands2[:600000]\n",
    "\n",
    "# Group by group since that's the output that we care about.\n",
    "group_data_mini = group_data_mini.groupby('group')\n",
    "\n",
    "plt.rcParams['figure.figsize'] = (16.0, 16.0)\n",
    "plt.rcParams.update({'font.size': 14})\n",
    "sns.heatmap(group_data_mini.corr(), annot=True);"
   ]
  },
  {
   "cell_type": "markdown",
   "metadata": {},
   "source": [
    "From the heat map, we can see that there is low multicollinearity between the different features and the group that we want to identify. The extremely low numbers are a sign that this data will be hard to model since it means that on the surface, the information presented don't have any relation."
   ]
  },
  {
   "cell_type": "markdown",
   "metadata": {},
   "source": [
    "# Creating Dummies\n",
    "\n",
    "Creating dummies is the method that I want to use to utilize the app labels since the number of unique apps is less than the number of unique phone brands/companies. The reason I chose to encode phone brands is due to the volume of phones presented which would dilute the correlation of the features even more. Using dummies for the app labels will hopefully give more insight into the data at hand. "
   ]
  },
  {
   "cell_type": "code",
   "execution_count": 26,
   "metadata": {},
   "outputs": [
    {
     "name": "stdout",
     "output_type": "stream",
     "text": [
      "(7034111, 493)\n"
     ]
    },
    {
     "data": {
      "text/html": [
       "<div>\n",
       "<style scoped>\n",
       "    .dataframe tbody tr th:only-of-type {\n",
       "        vertical-align: middle;\n",
       "    }\n",
       "\n",
       "    .dataframe tbody tr th {\n",
       "        vertical-align: top;\n",
       "    }\n",
       "\n",
       "    .dataframe thead th {\n",
       "        text-align: right;\n",
       "    }\n",
       "</style>\n",
       "<table border=\"1\" class=\"dataframe\">\n",
       "  <thead>\n",
       "    <tr style=\"text-align: right;\">\n",
       "      <th></th>\n",
       "      <th>device_id</th>\n",
       "      <th>gender</th>\n",
       "      <th>age</th>\n",
       "      <th>group</th>\n",
       "      <th>app_id</th>\n",
       "      <th>is_active</th>\n",
       "      <th>encoded_model</th>\n",
       "      <th>label_id</th>\n",
       "      <th>2</th>\n",
       "      <th>4</th>\n",
       "      <th>...</th>\n",
       "      <th>1012</th>\n",
       "      <th>1013</th>\n",
       "      <th>1014</th>\n",
       "      <th>1015</th>\n",
       "      <th>1016</th>\n",
       "      <th>1017</th>\n",
       "      <th>1018</th>\n",
       "      <th>1019</th>\n",
       "      <th>1020</th>\n",
       "      <th>1021</th>\n",
       "    </tr>\n",
       "  </thead>\n",
       "  <tbody>\n",
       "    <tr>\n",
       "      <th>0</th>\n",
       "      <td>-8260683887967679142</td>\n",
       "      <td>1</td>\n",
       "      <td>35</td>\n",
       "      <td>M32-38</td>\n",
       "      <td>4287147352639325907</td>\n",
       "      <td>0</td>\n",
       "      <td>843</td>\n",
       "      <td>713</td>\n",
       "      <td>0</td>\n",
       "      <td>0</td>\n",
       "      <td>...</td>\n",
       "      <td>0</td>\n",
       "      <td>0</td>\n",
       "      <td>0</td>\n",
       "      <td>0</td>\n",
       "      <td>0</td>\n",
       "      <td>0</td>\n",
       "      <td>0</td>\n",
       "      <td>0</td>\n",
       "      <td>0</td>\n",
       "      <td>0</td>\n",
       "    </tr>\n",
       "    <tr>\n",
       "      <th>2</th>\n",
       "      <td>-8260683887967679142</td>\n",
       "      <td>1</td>\n",
       "      <td>35</td>\n",
       "      <td>M32-38</td>\n",
       "      <td>4287147352639325907</td>\n",
       "      <td>0</td>\n",
       "      <td>843</td>\n",
       "      <td>704</td>\n",
       "      <td>0</td>\n",
       "      <td>0</td>\n",
       "      <td>...</td>\n",
       "      <td>0</td>\n",
       "      <td>0</td>\n",
       "      <td>0</td>\n",
       "      <td>0</td>\n",
       "      <td>0</td>\n",
       "      <td>0</td>\n",
       "      <td>0</td>\n",
       "      <td>0</td>\n",
       "      <td>0</td>\n",
       "      <td>0</td>\n",
       "    </tr>\n",
       "    <tr>\n",
       "      <th>4</th>\n",
       "      <td>-8260683887967679142</td>\n",
       "      <td>1</td>\n",
       "      <td>35</td>\n",
       "      <td>M32-38</td>\n",
       "      <td>4287147352639325907</td>\n",
       "      <td>0</td>\n",
       "      <td>843</td>\n",
       "      <td>548</td>\n",
       "      <td>0</td>\n",
       "      <td>0</td>\n",
       "      <td>...</td>\n",
       "      <td>0</td>\n",
       "      <td>0</td>\n",
       "      <td>0</td>\n",
       "      <td>0</td>\n",
       "      <td>0</td>\n",
       "      <td>0</td>\n",
       "      <td>0</td>\n",
       "      <td>0</td>\n",
       "      <td>0</td>\n",
       "      <td>0</td>\n",
       "    </tr>\n",
       "    <tr>\n",
       "      <th>6</th>\n",
       "      <td>8761770737926125955</td>\n",
       "      <td>0</td>\n",
       "      <td>22</td>\n",
       "      <td>F23-</td>\n",
       "      <td>4287147352639325907</td>\n",
       "      <td>0</td>\n",
       "      <td>226</td>\n",
       "      <td>713</td>\n",
       "      <td>0</td>\n",
       "      <td>0</td>\n",
       "      <td>...</td>\n",
       "      <td>0</td>\n",
       "      <td>0</td>\n",
       "      <td>0</td>\n",
       "      <td>0</td>\n",
       "      <td>0</td>\n",
       "      <td>0</td>\n",
       "      <td>0</td>\n",
       "      <td>0</td>\n",
       "      <td>0</td>\n",
       "      <td>0</td>\n",
       "    </tr>\n",
       "    <tr>\n",
       "      <th>8</th>\n",
       "      <td>8761770737926125955</td>\n",
       "      <td>0</td>\n",
       "      <td>22</td>\n",
       "      <td>F23-</td>\n",
       "      <td>4287147352639325907</td>\n",
       "      <td>0</td>\n",
       "      <td>226</td>\n",
       "      <td>704</td>\n",
       "      <td>0</td>\n",
       "      <td>0</td>\n",
       "      <td>...</td>\n",
       "      <td>0</td>\n",
       "      <td>0</td>\n",
       "      <td>0</td>\n",
       "      <td>0</td>\n",
       "      <td>0</td>\n",
       "      <td>0</td>\n",
       "      <td>0</td>\n",
       "      <td>0</td>\n",
       "      <td>0</td>\n",
       "      <td>0</td>\n",
       "    </tr>\n",
       "  </tbody>\n",
       "</table>\n",
       "<p>5 rows × 493 columns</p>\n",
       "</div>"
      ],
      "text/plain": [
       "             device_id  gender  age   group               app_id  is_active  \\\n",
       "0 -8260683887967679142       1   35  M32-38  4287147352639325907          0   \n",
       "2 -8260683887967679142       1   35  M32-38  4287147352639325907          0   \n",
       "4 -8260683887967679142       1   35  M32-38  4287147352639325907          0   \n",
       "6  8761770737926125955       0   22    F23-  4287147352639325907          0   \n",
       "8  8761770737926125955       0   22    F23-  4287147352639325907          0   \n",
       "\n",
       "   encoded_model  label_id  2  4  ...   1012  1013  1014  1015  1016  1017  \\\n",
       "0            843       713  0  0  ...      0     0     0     0     0     0   \n",
       "2            843       704  0  0  ...      0     0     0     0     0     0   \n",
       "4            843       548  0  0  ...      0     0     0     0     0     0   \n",
       "6            226       713  0  0  ...      0     0     0     0     0     0   \n",
       "8            226       704  0  0  ...      0     0     0     0     0     0   \n",
       "\n",
       "   1018  1019  1020  1021  \n",
       "0     0     0     0     0  \n",
       "2     0     0     0     0  \n",
       "4     0     0     0     0  \n",
       "6     0     0     0     0  \n",
       "8     0     0     0     0  \n",
       "\n",
       "[5 rows x 493 columns]"
      ]
     },
     "execution_count": 26,
     "metadata": {},
     "output_type": "execute_result"
    }
   ],
   "source": [
    "# Convert label_id into a continuous variable\n",
    "# even though it's numerical, it hasn't been standardized \n",
    "type_dummies = pd.get_dummies(ga_apps_labeled_brands['label_id'])\n",
    "\n",
    "# Concatenate the dummies with the original data set.\n",
    "ga_apps_labeled_brands = pd.concat([ga_apps_labeled_brands, type_dummies], axis=1)\n",
    "\n",
    "print(ga_apps_labeled_brands.shape)\n",
    "\n",
    "ga_apps_labeled_brands.head()"
   ]
  },
  {
   "cell_type": "markdown",
   "metadata": {},
   "source": [
    "# Addressing Class Imbalance\n",
    "\n",
    "Below, we can see that after merging all of the different files together, there were more than 7 million rows! In an effort to conserve calculation time, I decided to downsample the data and also to remedy the class imbalance that my data is facing. It's important to address class imbalance due to the fact that I don't want my model to only be accurate at identifying the dominant class."
   ]
  },
  {
   "cell_type": "code",
   "execution_count": 27,
   "metadata": {
    "scrolled": true
   },
   "outputs": [
    {
     "data": {
      "text/plain": [
       "M32-38    1185421\n",
       "M39+      1107632\n",
       "M23-26     817660\n",
       "M29-31     810956\n",
       "M27-28     530780\n",
       "F33-42     517420\n",
       "M22-       490009\n",
       "F43+       391188\n",
       "F29-32     368450\n",
       "F23-       303034\n",
       "F24-26     265262\n",
       "F27-28     246299\n",
       "Name: group, dtype: int64"
      ]
     },
     "execution_count": 27,
     "metadata": {},
     "output_type": "execute_result"
    }
   ],
   "source": [
    "# Take a look at the distribution of the group values.\n",
    "ga_apps_labeled_brands.group.value_counts()"
   ]
  },
  {
   "cell_type": "code",
   "execution_count": 28,
   "metadata": {},
   "outputs": [
    {
     "data": {
      "text/plain": [
       "F43+      50000\n",
       "M22-      50000\n",
       "F23-      50000\n",
       "F33-42    50000\n",
       "M29-31    50000\n",
       "M23-26    50000\n",
       "F24-26    50000\n",
       "M27-28    50000\n",
       "F29-32    50000\n",
       "M32-38    50000\n",
       "M39+      50000\n",
       "F27-28    50000\n",
       "Name: group, dtype: int64"
      ]
     },
     "execution_count": 28,
     "metadata": {},
     "output_type": "execute_result"
    }
   ],
   "source": [
    "# Downsampling the gender/age training set to 50000.\n",
    "ga_m_youngest = ga_apps_labeled_brands[ga_apps_labeled_brands.group=='M22-']\n",
    "ga_m_younger = ga_apps_labeled_brands[ga_apps_labeled_brands.group=='M23-26']\n",
    "ga_m_young = ga_apps_labeled_brands[ga_apps_labeled_brands.group=='M27-28']\n",
    "ga_m_old = ga_apps_labeled_brands[ga_apps_labeled_brands.group=='M29-31']\n",
    "ga_m_older = ga_apps_labeled_brands[ga_apps_labeled_brands.group=='M32-38']\n",
    "ga_m_oldest = ga_apps_labeled_brands[ga_apps_labeled_brands.group=='M39+']\n",
    "ga_f_youngest = ga_apps_labeled_brands[ga_apps_labeled_brands.group=='F23-']\n",
    "ga_f_younger = ga_apps_labeled_brands[ga_apps_labeled_brands.group=='F24-26']\n",
    "ga_f_young = ga_apps_labeled_brands[ga_apps_labeled_brands.group=='F27-28']\n",
    "ga_f_old = ga_apps_labeled_brands[ga_apps_labeled_brands.group=='F29-32']\n",
    "ga_f_older = ga_apps_labeled_brands[ga_apps_labeled_brands.group=='F33-42']\n",
    "ga_f_oldest = ga_apps_labeled_brands[ga_apps_labeled_brands.group=='F43+']\n",
    "\n",
    "# Downsample majority class\n",
    "ga_m_older_downsampled = resample(ga_m_older, \n",
    "                                 replace=True,     # sample with replacement\n",
    "                                 n_samples=50000)\n",
    "\n",
    "ga_m_oldest_downsampled = resample(ga_m_oldest, \n",
    "                                 replace=True,     # sample with replacement\n",
    "                                 n_samples=50000)\n",
    "\n",
    "ga_m_younger_downsampled = resample(ga_m_younger, \n",
    "                                 replace=True,     # sample with replacement\n",
    "                                 n_samples=50000)\n",
    "\n",
    "ga_m_youngest_downsampled = resample(ga_m_youngest, \n",
    "                                 replace=True,     # sample with replacement\n",
    "                                 n_samples=50000)  \n",
    " \n",
    "ga_m_old_downsampled = resample(ga_m_old, \n",
    "                                 replace=True,     # sample with replacement\n",
    "                                 n_samples=50000) \n",
    "\n",
    "ga_f_older_downsampled = resample(ga_f_older, \n",
    "                                 replace=True,     # sample with replacement\n",
    "                                 n_samples=50000) \n",
    "\n",
    "ga_m_young_downsampled = resample(ga_m_young, \n",
    "                                 replace=True,     # sample with replacement\n",
    "                                 n_samples=50000) \n",
    "\n",
    "ga_f_youngest_downsampled = resample(ga_f_youngest, \n",
    "                                 replace=True,     # sample with replacement\n",
    "                                 n_samples=50000) \n",
    "\n",
    "ga_f_old_downsampled = resample(ga_f_old, \n",
    "                                 replace=True,     # sample with replacement\n",
    "                                 n_samples=50000)\n",
    "\n",
    "ga_f_oldest_downsampled = resample(ga_f_oldest, \n",
    "                                 replace=True,     # sample with replacement\n",
    "                                 n_samples=50000)\n",
    "\n",
    "\n",
    "ga_f_younger_downsampled = resample(ga_f_younger, \n",
    "                                 replace=True,     # sample with replacement\n",
    "                                n_samples=50000)\n",
    "\n",
    "ga_f_young_downsampled = resample(ga_f_young, \n",
    "                                 replace=True,     # sample with replacement\n",
    "                                 n_samples=50000)\n",
    "\n",
    "# Combine downsampled majority class \n",
    "ga_apps_labeled_brands_resampled = pd.concat([ga_m_younger_downsampled, ga_m_older_downsampled,\n",
    "                               ga_m_oldest_downsampled, ga_m_youngest_downsampled,\n",
    "                               ga_m_old_downsampled, ga_f_older_downsampled,\n",
    "                               ga_m_young_downsampled, ga_f_youngest_downsampled,\n",
    "                               ga_f_old_downsampled, ga_f_oldest_downsampled,\n",
    "                               ga_f_younger_downsampled, ga_f_young_downsampled])\n",
    " \n",
    "# Display new class counts\n",
    "ga_apps_labeled_brands_resampled.group.value_counts()"
   ]
  },
  {
   "cell_type": "code",
   "execution_count": 29,
   "metadata": {},
   "outputs": [
    {
     "name": "stdout",
     "output_type": "stream",
     "text": [
      "(600000, 493)\n"
     ]
    },
    {
     "data": {
      "text/html": [
       "<div>\n",
       "<style scoped>\n",
       "    .dataframe tbody tr th:only-of-type {\n",
       "        vertical-align: middle;\n",
       "    }\n",
       "\n",
       "    .dataframe tbody tr th {\n",
       "        vertical-align: top;\n",
       "    }\n",
       "\n",
       "    .dataframe thead th {\n",
       "        text-align: right;\n",
       "    }\n",
       "</style>\n",
       "<table border=\"1\" class=\"dataframe\">\n",
       "  <thead>\n",
       "    <tr style=\"text-align: right;\">\n",
       "      <th></th>\n",
       "      <th>device_id</th>\n",
       "      <th>gender</th>\n",
       "      <th>age</th>\n",
       "      <th>group</th>\n",
       "      <th>app_id</th>\n",
       "      <th>is_active</th>\n",
       "      <th>encoded_model</th>\n",
       "      <th>label_id</th>\n",
       "      <th>2</th>\n",
       "      <th>4</th>\n",
       "      <th>...</th>\n",
       "      <th>1012</th>\n",
       "      <th>1013</th>\n",
       "      <th>1014</th>\n",
       "      <th>1015</th>\n",
       "      <th>1016</th>\n",
       "      <th>1017</th>\n",
       "      <th>1018</th>\n",
       "      <th>1019</th>\n",
       "      <th>1020</th>\n",
       "      <th>1021</th>\n",
       "    </tr>\n",
       "  </thead>\n",
       "  <tbody>\n",
       "    <tr>\n",
       "      <th>9521049</th>\n",
       "      <td>3157067638012012187</td>\n",
       "      <td>1</td>\n",
       "      <td>24</td>\n",
       "      <td>M23-26</td>\n",
       "      <td>5190837081340518879</td>\n",
       "      <td>0</td>\n",
       "      <td>558</td>\n",
       "      <td>302</td>\n",
       "      <td>0</td>\n",
       "      <td>0</td>\n",
       "      <td>...</td>\n",
       "      <td>0</td>\n",
       "      <td>0</td>\n",
       "      <td>0</td>\n",
       "      <td>0</td>\n",
       "      <td>0</td>\n",
       "      <td>0</td>\n",
       "      <td>0</td>\n",
       "      <td>0</td>\n",
       "      <td>0</td>\n",
       "      <td>0</td>\n",
       "    </tr>\n",
       "    <tr>\n",
       "      <th>12285138</th>\n",
       "      <td>-1351462401524912611</td>\n",
       "      <td>1</td>\n",
       "      <td>24</td>\n",
       "      <td>M23-26</td>\n",
       "      <td>2887917423598475134</td>\n",
       "      <td>0</td>\n",
       "      <td>857</td>\n",
       "      <td>775</td>\n",
       "      <td>0</td>\n",
       "      <td>0</td>\n",
       "      <td>...</td>\n",
       "      <td>0</td>\n",
       "      <td>0</td>\n",
       "      <td>0</td>\n",
       "      <td>0</td>\n",
       "      <td>0</td>\n",
       "      <td>0</td>\n",
       "      <td>0</td>\n",
       "      <td>0</td>\n",
       "      <td>0</td>\n",
       "      <td>0</td>\n",
       "    </tr>\n",
       "    <tr>\n",
       "      <th>5269642</th>\n",
       "      <td>-729061070712766363</td>\n",
       "      <td>1</td>\n",
       "      <td>24</td>\n",
       "      <td>M23-26</td>\n",
       "      <td>4244331088397413857</td>\n",
       "      <td>0</td>\n",
       "      <td>236</td>\n",
       "      <td>704</td>\n",
       "      <td>0</td>\n",
       "      <td>0</td>\n",
       "      <td>...</td>\n",
       "      <td>0</td>\n",
       "      <td>0</td>\n",
       "      <td>0</td>\n",
       "      <td>0</td>\n",
       "      <td>0</td>\n",
       "      <td>0</td>\n",
       "      <td>0</td>\n",
       "      <td>0</td>\n",
       "      <td>0</td>\n",
       "      <td>0</td>\n",
       "    </tr>\n",
       "    <tr>\n",
       "      <th>12763113</th>\n",
       "      <td>-3710894276888499361</td>\n",
       "      <td>1</td>\n",
       "      <td>24</td>\n",
       "      <td>M23-26</td>\n",
       "      <td>7318956472058153296</td>\n",
       "      <td>1</td>\n",
       "      <td>731</td>\n",
       "      <td>405</td>\n",
       "      <td>0</td>\n",
       "      <td>0</td>\n",
       "      <td>...</td>\n",
       "      <td>0</td>\n",
       "      <td>0</td>\n",
       "      <td>0</td>\n",
       "      <td>0</td>\n",
       "      <td>0</td>\n",
       "      <td>0</td>\n",
       "      <td>0</td>\n",
       "      <td>0</td>\n",
       "      <td>0</td>\n",
       "      <td>0</td>\n",
       "    </tr>\n",
       "    <tr>\n",
       "      <th>12917432</th>\n",
       "      <td>584364271345729137</td>\n",
       "      <td>1</td>\n",
       "      <td>23</td>\n",
       "      <td>M23-26</td>\n",
       "      <td>-4866707337108514028</td>\n",
       "      <td>0</td>\n",
       "      <td>121</td>\n",
       "      <td>548</td>\n",
       "      <td>0</td>\n",
       "      <td>0</td>\n",
       "      <td>...</td>\n",
       "      <td>0</td>\n",
       "      <td>0</td>\n",
       "      <td>0</td>\n",
       "      <td>0</td>\n",
       "      <td>0</td>\n",
       "      <td>0</td>\n",
       "      <td>0</td>\n",
       "      <td>0</td>\n",
       "      <td>0</td>\n",
       "      <td>0</td>\n",
       "    </tr>\n",
       "  </tbody>\n",
       "</table>\n",
       "<p>5 rows × 493 columns</p>\n",
       "</div>"
      ],
      "text/plain": [
       "                    device_id  gender  age   group               app_id  \\\n",
       "9521049   3157067638012012187       1   24  M23-26  5190837081340518879   \n",
       "12285138 -1351462401524912611       1   24  M23-26  2887917423598475134   \n",
       "5269642   -729061070712766363       1   24  M23-26  4244331088397413857   \n",
       "12763113 -3710894276888499361       1   24  M23-26  7318956472058153296   \n",
       "12917432   584364271345729137       1   23  M23-26 -4866707337108514028   \n",
       "\n",
       "          is_active  encoded_model  label_id  2  4  ...   1012  1013  1014  \\\n",
       "9521049           0            558       302  0  0  ...      0     0     0   \n",
       "12285138          0            857       775  0  0  ...      0     0     0   \n",
       "5269642           0            236       704  0  0  ...      0     0     0   \n",
       "12763113          1            731       405  0  0  ...      0     0     0   \n",
       "12917432          0            121       548  0  0  ...      0     0     0   \n",
       "\n",
       "          1015  1016  1017  1018  1019  1020  1021  \n",
       "9521049      0     0     0     0     0     0     0  \n",
       "12285138     0     0     0     0     0     0     0  \n",
       "5269642      0     0     0     0     0     0     0  \n",
       "12763113     0     0     0     0     0     0     0  \n",
       "12917432     0     0     0     0     0     0     0  \n",
       "\n",
       "[5 rows x 493 columns]"
      ]
     },
     "execution_count": 29,
     "metadata": {},
     "output_type": "execute_result"
    }
   ],
   "source": [
    "# Shape\n",
    "print(ga_apps_labeled_brands_resampled.shape)\n",
    "\n",
    "# Head\n",
    "ga_apps_labeled_brands_resampled.head()"
   ]
  },
  {
   "cell_type": "markdown",
   "metadata": {},
   "source": [
    "# Train Test Split"
   ]
  },
  {
   "cell_type": "code",
   "execution_count": 30,
   "metadata": {},
   "outputs": [],
   "source": [
    "# Create X and y \n",
    "X = ga_apps_labeled_brands_resampled.drop(['group', 'app_id'], axis=1)\n",
    "Y = ga_apps_labeled_brands_resampled['group'].values\n",
    "\n",
    "# Train test split\n",
    "X_train, X_test, y_train, y_test = train_test_split(X, Y, test_size=0.25)"
   ]
  },
  {
   "cell_type": "markdown",
   "metadata": {},
   "source": [
    "# Modeling"
   ]
  },
  {
   "cell_type": "code",
   "execution_count": 126,
   "metadata": {},
   "outputs": [
    {
     "data": {
      "text/plain": [
       "0.08616444444444445"
      ]
     },
     "execution_count": 126,
     "metadata": {},
     "output_type": "execute_result"
    }
   ],
   "source": [
    "lr2 = LogisticRegression(C=2, max_iter=1000, multi_class='multinomial', solver='lbfgs')\n",
    "\n",
    "lr2.fit(X_train, y_train)\n",
    "\n",
    "lr2.score(X_train, y_train)"
   ]
  },
  {
   "cell_type": "code",
   "execution_count": 127,
   "metadata": {},
   "outputs": [
    {
     "data": {
      "text/plain": [
       "array([0.08691739, 0.08606667, 0.08568984, 0.08668985, 0.0854584 ])"
      ]
     },
     "execution_count": 127,
     "metadata": {},
     "output_type": "execute_result"
    }
   ],
   "source": [
    "cross_val_score(lr2, X_train, y_train, cv=5)"
   ]
  },
  {
   "cell_type": "code",
   "execution_count": 128,
   "metadata": {},
   "outputs": [
    {
     "data": {
      "text/plain": [
       "array([[   0, 6135,    0,    0,    0,    0,    0,    0,    0,    0,    0,\n",
       "        6294],\n",
       "       [   0, 6633,    0,    0,    0,    0,    0,    0,    0,    0,    0,\n",
       "        6027],\n",
       "       [   0, 6244,    0,    0,    0,    0,    0,    0,    0,    0,    0,\n",
       "        6205],\n",
       "       [   0, 6118,    0,    0,    0,    0,    0,    0,    0,    0,    0,\n",
       "        6386],\n",
       "       [   0, 6105,    0,    0,    0,    0,    0,    0,    0,    0,    0,\n",
       "        6416],\n",
       "       [   0, 6080,    0,    0,    0,    0,    0,    0,    0,    0,    0,\n",
       "        6468],\n",
       "       [   0, 6193,    0,    0,    0,    0,    0,    0,    0,    0,    0,\n",
       "        6273],\n",
       "       [   0, 6112,    0,    0,    0,    0,    0,    0,    0,    0,    0,\n",
       "        6258],\n",
       "       [   0, 6388,    0,    0,    0,    0,    0,    0,    0,    0,    0,\n",
       "        6251],\n",
       "       [   0, 6213,    0,    0,    0,    0,    0,    0,    0,    0,    0,\n",
       "        6207],\n",
       "       [   0, 6241,    0,    0,    0,    0,    0,    0,    0,    0,    0,\n",
       "        6209],\n",
       "       [   0, 6080,    0,    0,    0,    0,    0,    0,    0,    0,    0,\n",
       "        6464]])"
      ]
     },
     "execution_count": 128,
     "metadata": {},
     "output_type": "execute_result"
    }
   ],
   "source": [
    "# Classify, storing the result in a new variable.\n",
    "lr2_pred = lr2.predict(X_test)\n",
    "\n",
    "# Create a confusion matrix.\n",
    "confusion_matrix(y_test, lr2_pred)"
   ]
  },
  {
   "cell_type": "code",
   "execution_count": 129,
   "metadata": {
    "scrolled": true
   },
   "outputs": [
    {
     "name": "stdout",
     "output_type": "stream",
     "text": [
      "             precision    recall  f1-score   support\n",
      "\n",
      "       F23-       0.00      0.00      0.00     12429\n",
      "     F24-26       0.09      0.52      0.15     12660\n",
      "     F27-28       0.00      0.00      0.00     12449\n",
      "     F29-32       0.00      0.00      0.00     12504\n",
      "     F33-42       0.00      0.00      0.00     12521\n",
      "       F43+       0.00      0.00      0.00     12548\n",
      "       M22-       0.00      0.00      0.00     12466\n",
      "     M23-26       0.00      0.00      0.00     12370\n",
      "     M27-28       0.00      0.00      0.00     12639\n",
      "     M29-31       0.00      0.00      0.00     12420\n",
      "     M32-38       0.00      0.00      0.00     12450\n",
      "       M39+       0.09      0.52      0.15     12544\n",
      "\n",
      "avg / total       0.01      0.09      0.03    150000\n",
      "\n"
     ]
    },
    {
     "name": "stderr",
     "output_type": "stream",
     "text": [
      "/anaconda3/lib/python3.6/site-packages/sklearn/metrics/classification.py:1135: UndefinedMetricWarning: Precision and F-score are ill-defined and being set to 0.0 in labels with no predicted samples.\n",
      "  'precision', 'predicted', average, warn_for)\n"
     ]
    }
   ],
   "source": [
    "# Create a classification report.\n",
    "print(classification_report(y_test, lr2_pred))"
   ]
  },
  {
   "cell_type": "markdown",
   "metadata": {},
   "source": [
    "# Analysis \n",
    "\n",
    "The performance of this model was less than ideal. Furthermore, due to the fact that my model was inaccurate rather than overfitting, I couldn't use any of the regularization techniques to remedy the situation. I set the logistic parameters so that it would be more ideal for multi class identification, but the improvements were minimal.\n",
    "\n",
    "The reason that this wasn't able to perform strongly enough is due to a multitude of reasons, including the large amount of features that were part of the equation, the large amount of classes it had to predict, and the low multicollinearity of the data. \n",
    "\n",
    "Below, I will try to use PCA to extract more information and consolidate the amount of parameters that this model has to estimate. "
   ]
  },
  {
   "cell_type": "markdown",
   "metadata": {},
   "source": [
    "# PCA Train/ Test Split"
   ]
  },
  {
   "cell_type": "code",
   "execution_count": 26,
   "metadata": {},
   "outputs": [],
   "source": [
    "# Prepare the data first for PCA\n",
    "\n",
    "# Instantiate StandardScaler\n",
    "ss = StandardScaler()\n",
    "\n",
    "# Set up the variables.\n",
    "prep_X = ga_apps_labeled_brands_resampled.drop(['group', 'app_id'], axis=1)\n",
    "prep_y = ga_apps_labeled_brands_resampled['group'].values.ravel()\n",
    "\n",
    "# Standarize and fit the data first \n",
    "stand_x = ss.fit_transform(prep_X)"
   ]
  },
  {
   "cell_type": "code",
   "execution_count": 27,
   "metadata": {},
   "outputs": [],
   "source": [
    "# Use 4 components since it will explain most of the variance.\n",
    "pca = PCA(n_components=4)\n",
    "\n",
    "# Create a new training and testing set\n",
    "X_train2, X_test2, y_train2, y_test2 = train_test_split(stand_x, prep_y, test_size=0.3)\n",
    "\n",
    "# Fit and transform training and testing dataset with PCA\n",
    "X_train_pca = pca.fit_transform(X_train2)\n",
    "X_test_pca = pca.fit_transform(X_test2)"
   ]
  },
  {
   "cell_type": "code",
   "execution_count": 134,
   "metadata": {
    "scrolled": true
   },
   "outputs": [
    {
     "name": "stdout",
     "output_type": "stream",
     "text": [
      "Fitting 5 folds for each of 55 candidates, totalling 275 fits\n"
     ]
    },
    {
     "name": "stderr",
     "output_type": "stream",
     "text": [
      "[Parallel(n_jobs=-1)]: Done  34 tasks      | elapsed:   44.5s\n",
      "[Parallel(n_jobs=-1)]: Done 184 tasks      | elapsed:  5.8min\n",
      "[Parallel(n_jobs=-1)]: Done 275 out of 275 | elapsed:  9.4min finished\n"
     ]
    },
    {
     "name": "stdout",
     "output_type": "stream",
     "text": [
      "Best parameters:\n",
      "{'C': 10000, 'max_iter': 100, 'multi_class': 'multinomial', 'solver': 'lbfgs'}\n",
      "Best Score:\n",
      "0.15940714285714286\n"
     ]
    }
   ],
   "source": [
    "# PCA logistic regression\n",
    "lr = LogisticRegression()\n",
    "\n",
    "# Use GS-CV to see which alpha level is best.\n",
    "parameters = {\n",
    "             'C':[0.000001,.00001,0.0001,0.001,0.01,0.1,1,10,100,10000,100000],\n",
    "             'multi_class':['multinomial'],\n",
    "             'solver':['lbfgs'],\n",
    "             'max_iter':[100,500,1000,1500,2000]}\n",
    "\n",
    "lr_grid = GridSearchCV(lr, parameters, cv=5, verbose=1, n_jobs=-1)\n",
    "\n",
    "#Fit the logistic regression \n",
    "lr_grid.fit(X_train_pca, y_train2)\n",
    "\n",
    "#return best parameters and best score\n",
    "print('Best parameters:')\n",
    "print(lr_grid.best_params_)\n",
    "print('Best Score:')\n",
    "print(lr_grid.best_score_)"
   ]
  },
  {
   "cell_type": "code",
   "execution_count": 135,
   "metadata": {},
   "outputs": [
    {
     "data": {
      "text/plain": [
       "array([0.15970858, 0.1576272 , 0.16276993, 0.15695612, 0.1599619 ])"
      ]
     },
     "execution_count": 135,
     "metadata": {},
     "output_type": "execute_result"
    }
   ],
   "source": [
    "# Set up best parameters\n",
    "lr3 = LogisticRegression(C=10000, max_iter=100, multi_class='multinomial', solver='lbfgs')\n",
    "\n",
    "# Fit the model\n",
    "lr3.fit(X_train_pca, y_train2)\n",
    "\n",
    "# Cross validation.\n",
    "cross_val_score(lr3, X_train_pca, y_train2, cv=5)"
   ]
  },
  {
   "cell_type": "code",
   "execution_count": 136,
   "metadata": {},
   "outputs": [
    {
     "data": {
      "text/plain": [
       "array([[    1,     2,    69,  2746,     3,     5,    10,  1822,   782,\n",
       "         9576,     1,     8],\n",
       "       [    1,     0,    67,  3906,     5,     4,     6,  1322,   610,\n",
       "         9111,     2,     6],\n",
       "       [    1,     0,    83,  4320,     1,    10,     2,  1251,   551,\n",
       "         8828,     0,     4],\n",
       "       [    1,     0,   105,  4794,     2,    13,     4,  1086,   454,\n",
       "         8434,     0,     9],\n",
       "       [    0,     0,    76,  6521,     1,     6,     3,   678,   252,\n",
       "         7476,     0,     4],\n",
       "       [    0,     0,   127, 10016,     2,     7,     1,   227,    80,\n",
       "         4475,     0,     1],\n",
       "       [    1,     4,    75,  3460,     2,    10,     3,   498,  1355,\n",
       "         9715,     0,     9],\n",
       "       [    0,     2,    50,  4296,     7,    10,     4,   365,   950,\n",
       "         9359,     1,     7],\n",
       "       [    0,     0,    32,  4986,     5,    10,     3,   266,   730,\n",
       "         8919,     0,     6],\n",
       "       [    0,     0,    39,  5594,     3,     3,     1,   239,   625,\n",
       "         8388,     0,     2],\n",
       "       [    0,     2,    43,  6631,     7,    17,     4,   178,   383,\n",
       "         7724,     0,     6],\n",
       "       [    0,     2,    35,  9492,    12,     5,     1,    82,   113,\n",
       "         5253,     1,     4]])"
      ]
     },
     "execution_count": 136,
     "metadata": {},
     "output_type": "execute_result"
    }
   ],
   "source": [
    "# Classify, storing the result in a new variable.\n",
    "lr_pred = lr3.predict(X_test_pca)\n",
    "\n",
    "# Create a confusion matrix.\n",
    "confusion_matrix(y_test2, lr_pred)"
   ]
  },
  {
   "cell_type": "code",
   "execution_count": 137,
   "metadata": {},
   "outputs": [
    {
     "name": "stdout",
     "output_type": "stream",
     "text": [
      "             precision    recall  f1-score   support\n",
      "\n",
      "       F23-       0.20      0.00      0.00     15025\n",
      "     F24-26       0.00      0.00      0.00     15040\n",
      "     F27-28       0.10      0.01      0.01     15051\n",
      "     F29-32       0.07      0.32      0.12     14902\n",
      "     F33-42       0.02      0.00      0.00     15017\n",
      "       F43+       0.07      0.00      0.00     14936\n",
      "       M22-       0.07      0.00      0.00     15132\n",
      "     M23-26       0.05      0.02      0.03     15051\n",
      "     M27-28       0.11      0.05      0.07     14957\n",
      "     M29-31       0.09      0.56      0.15     14894\n",
      "     M32-38       0.00      0.00      0.00     14995\n",
      "       M39+       0.06      0.00      0.00     15000\n",
      "\n",
      "avg / total       0.07      0.08      0.03    180000\n",
      "\n"
     ]
    }
   ],
   "source": [
    "# Create a classification report.\n",
    "print(classification_report(y_test2, lr_pred))"
   ]
  },
  {
   "cell_type": "markdown",
   "metadata": {},
   "source": [
    "# Analysis\n",
    "\n",
    "The results of the logistic model has increased 100% after using PCA as a feature selection method and using Grid Search CV to find the optimal parameters. Unfortunately, 100% of 8 is still 8, so the improvement is only minimal. The reason that this model fails to perform is due to the fact that there wasn't much variance that this data could explain on its own. "
   ]
  },
  {
   "cell_type": "markdown",
   "metadata": {},
   "source": [
    "# KNN Model"
   ]
  },
  {
   "cell_type": "code",
   "execution_count": 36,
   "metadata": {},
   "outputs": [
    {
     "name": "stderr",
     "output_type": "stream",
     "text": [
      "/anaconda3/lib/python3.6/site-packages/sklearn/preprocessing/data.py:675: DeprecationWarning: The parameter y on transform() is deprecated since 0.19 and will be removed in 0.21\n",
      "  DeprecationWarning)\n"
     ]
    }
   ],
   "source": [
    "# Instantiate StandardScaler\n",
    "ss = StandardScaler()\n",
    "\n",
    "# Set up the variables.\n",
    "# Set up variables\n",
    "X = ga_apps_labeled_brands_resampled.drop(['group', 'encoded_model'], axis=1)\n",
    "ky = ga_apps_labeled_brands_resampled['group'].values.ravel()\n",
    "\n",
    "# Standarize the data first \n",
    "ss.fit(X,ky)\n",
    "\n",
    "# Now that the data is ready\n",
    "transform_x = ss.transform(X, ky)\n",
    "\n",
    "# Create training and testing set for knn\n",
    "knn_Xtrain, knn_Xtest, knn_ytrain, knn_ytest = train_test_split(transform_x, ky, test_size=0.3)"
   ]
  },
  {
   "cell_type": "code",
   "execution_count": 43,
   "metadata": {
    "scrolled": true
   },
   "outputs": [
    {
     "name": "stdout",
     "output_type": "stream",
     "text": [
      "(100000, 491)\n"
     ]
    }
   ],
   "source": [
    "# Model took too long to run, so I'm limiting the size again.\n",
    "# 420,000 rows after 4 hours, still no progress.\n",
    "knn_Xtrain2 = knn_Xtrain[:100000]\n",
    "knn_ytrain2 = knn_ytrain[:100000]\n",
    "\n",
    "print(knn_Xtrain2.shape)"
   ]
  },
  {
   "cell_type": "code",
   "execution_count": 45,
   "metadata": {
    "scrolled": true
   },
   "outputs": [
    {
     "name": "stdout",
     "output_type": "stream",
     "text": [
      "Fitting 5 folds for each of 10 candidates, totalling 50 fits\n"
     ]
    },
    {
     "name": "stderr",
     "output_type": "stream",
     "text": [
      "[Parallel(n_jobs=-1)]: Done  34 tasks      | elapsed: 591.3min\n",
      "[Parallel(n_jobs=-1)]: Done  50 out of  50 | elapsed: 779.0min finished\n"
     ]
    },
    {
     "name": "stdout",
     "output_type": "stream",
     "text": [
      "Best parameters:\n",
      "{'n_neighbors': 4}\n",
      "Best Score:\n",
      "0.39114\n"
     ]
    }
   ],
   "source": [
    "from sklearn.neighbors import KNeighborsClassifier\n",
    "# Initialize the model\n",
    "knn = KNeighborsClassifier()\n",
    "\n",
    "\n",
    "knn_params = {'n_neighbors':[2,4,5,7,9,10,12,14,20,30]}\n",
    "\n",
    "# Set up parameters\n",
    "knn_grid = GridSearchCV(knn, knn_params, cv=5, verbose=1, n_jobs=-1)\n",
    "\n",
    "# Fit the grid and obtain results\n",
    "knn_grid.fit(knn_Xtrain2, knn_ytrain2)\n",
    "\n",
    "# Return best parameters and best score\n",
    "print('Best parameters:')\n",
    "print(knn_grid.best_params_)\n",
    "print('Best Score:')\n",
    "print(knn_grid.best_score_)"
   ]
  },
  {
   "cell_type": "markdown",
   "metadata": {},
   "source": [
    "# Analysis of KNN \n",
    "\n",
    "For knn, I first standardized the data so that everything would be at the correct distance. I used grid search to search for the optimal parameters, but it took almost 24 hours to complete only to return such a low accuracy score. Furthermore, I had used only a smaller sample of the data set in order to speed up the process but it still took so long so I judged that it wasn't worth the effort to fine tune this model further. \n",
    "\n",
    "This is a steady improvement from the previous model and improvement continues. "
   ]
  },
  {
   "cell_type": "markdown",
   "metadata": {},
   "source": [
    "# Random Forest with and without different Feature Selection Methods"
   ]
  },
  {
   "cell_type": "code",
   "execution_count": 149,
   "metadata": {},
   "outputs": [
    {
     "data": {
      "text/plain": [
       "0.9403066666666666"
      ]
     },
     "execution_count": 149,
     "metadata": {},
     "output_type": "execute_result"
    }
   ],
   "source": [
    "# Setup random forest classifier.\n",
    "rfc = RandomForestClassifier(n_estimators=1000, max_features=8,\n",
    "                            max_depth=8, n_jobs=-1)\n",
    "\n",
    "# Fit the model\n",
    "rfc.fit(X_train, y_train)\n",
    "\n",
    "# Score of the model\n",
    "rfc.score(X_train, y_train)"
   ]
  },
  {
   "cell_type": "code",
   "execution_count": 150,
   "metadata": {},
   "outputs": [
    {
     "data": {
      "text/plain": [
       "array([0.93618061, 0.94454568, 0.92583416, 0.91045357, 0.94204122])"
      ]
     },
     "execution_count": 150,
     "metadata": {},
     "output_type": "execute_result"
    }
   ],
   "source": [
    "# Cross validation.\n",
    "cross_val_score(rfc, X_train, y_train, cv=5)"
   ]
  },
  {
   "cell_type": "code",
   "execution_count": 151,
   "metadata": {},
   "outputs": [
    {
     "data": {
      "text/plain": [
       "array([[11240,  1384,     0,     0,     0,     0,     0,     0,     0,\n",
       "            0,     0,     0],\n",
       "       [  378, 12042,     0,     0,     0,     0,     0,     0,     0,\n",
       "            0,     0,     0],\n",
       "       [    1,     0, 12414,     5,     0,     0,     0,     0,     0,\n",
       "            0,     0,     0],\n",
       "       [    0,     0,    10, 12010,   159,   428,     0,     0,     0,\n",
       "            0,     0,     0],\n",
       "       [    0,     1,    12,  1665,  9556,  1419,     0,     0,     0,\n",
       "            0,     0,     0],\n",
       "       [    0,     0,     6,   986,   247, 11142,     0,     0,     0,\n",
       "            0,     0,     0],\n",
       "       [    0,     0,     0,     0,     0,     0, 11534,   863,     0,\n",
       "            0,     0,     0],\n",
       "       [    0,     0,     0,     0,     0,     0,   555, 11879,     0,\n",
       "            0,     0,     0],\n",
       "       [    0,     0,     0,     0,     0,     0,     1,     1, 12361,\n",
       "            1,     1,     0],\n",
       "       [    0,     0,     0,     0,     0,     0,     0,     0,     0,\n",
       "        12516,    63,    13],\n",
       "       [    0,     0,     0,     0,     0,     0,     0,     0,     0,\n",
       "          301, 12063,    82],\n",
       "       [    0,     0,     0,     0,     0,     0,     0,     0,     2,\n",
       "          211,  1862, 10586]])"
      ]
     },
     "execution_count": 151,
     "metadata": {},
     "output_type": "execute_result"
    }
   ],
   "source": [
    "# Classify, storing the result in a new variable.\n",
    "rfc_pred = rfc.predict(X_test)\n",
    "\n",
    "# Create a confusion matrix.\n",
    "confusion_matrix(y_test, rfc_pred)"
   ]
  },
  {
   "cell_type": "code",
   "execution_count": 152,
   "metadata": {
    "scrolled": false
   },
   "outputs": [
    {
     "name": "stdout",
     "output_type": "stream",
     "text": [
      "             precision    recall  f1-score   support\n",
      "\n",
      "       F23-       0.97      0.89      0.93     12624\n",
      "     F24-26       0.90      0.97      0.93     12420\n",
      "     F27-28       1.00      1.00      1.00     12420\n",
      "     F29-32       0.82      0.95      0.88     12607\n",
      "     F33-42       0.96      0.76      0.85     12653\n",
      "       F43+       0.86      0.90      0.88     12381\n",
      "       M22-       0.95      0.93      0.94     12397\n",
      "     M23-26       0.93      0.96      0.94     12434\n",
      "     M27-28       1.00      1.00      1.00     12365\n",
      "     M29-31       0.96      0.99      0.98     12592\n",
      "     M32-38       0.86      0.97      0.91     12446\n",
      "       M39+       0.99      0.84      0.91     12661\n",
      "\n",
      "avg / total       0.93      0.93      0.93    150000\n",
      "\n"
     ]
    }
   ],
   "source": [
    "# Create a classification report.\n",
    "print(classification_report(y_test, rfc_pred))"
   ]
  },
  {
   "cell_type": "markdown",
   "metadata": {},
   "source": [
    "# Feature-less Analysis\n",
    "\n",
    "This is an ensemble method which means that this model is a conglomeration of weak learners, or in this case, 1000 trees. It's no surprise that this model did well due to the fact that given a deeper death, and more runs, this allows the model to know more about the dataset. Given more depth and features, the model can lower entropy from the data set that I fed it and accurately classify the data. "
   ]
  },
  {
   "cell_type": "code",
   "execution_count": 56,
   "metadata": {},
   "outputs": [
    {
     "name": "stdout",
     "output_type": "stream",
     "text": [
      "Fitting 5 folds for each of 10 candidates, totalling 50 fits\n"
     ]
    },
    {
     "name": "stderr",
     "output_type": "stream",
     "text": [
      "[Parallel(n_jobs=-1)]: Done  34 tasks      | elapsed: 148.4min\n",
      "[Parallel(n_jobs=-1)]: Done  50 out of  50 | elapsed: 189.6min finished\n"
     ]
    },
    {
     "name": "stdout",
     "output_type": "stream",
     "text": [
      "Best Parameter for data: {'kbest__k': 12, 'rfc__max_depth': 16, 'rfc__n_estimators': 1500, 'vt__threshold': 0}\n",
      "\n",
      "Best Score for data: 0.56202\n"
     ]
    }
   ],
   "source": [
    "# Feature Selection - SelectKBest\n",
    "from sklearn.pipeline import Pipeline\n",
    "from sklearn.feature_selection import SelectKBest, f_classif, VarianceThreshold\n",
    "from sklearn.feature_selection import VarianceThreshold\n",
    "\n",
    "# Instantiate models and pipelines.\n",
    "kbest = SelectKBest(f_classif)\n",
    "# Remove the 0 variance features b/c f_classif doesn't like dividing by 0\n",
    "VT = VarianceThreshold()\n",
    "rfc_pipeline = Pipeline([('vt', VT), ('kbest', kbest), ('rfc', ensemble.RandomForestClassifier())])\n",
    "\n",
    "# Create rfc parameters for GS-CV\n",
    "param_grid = {'kbest__k': [3,4,5,6,7,8,9,10,11,12],\n",
    "              'vt__threshold':[0],\n",
    "              'rfc__n_estimators': [1500],\n",
    "             'rfc__max_depth': [16]}\n",
    "\n",
    "# Set up GS-CV\n",
    "rfc_grid = GridSearchCV(rfc_pipeline, param_grid, cv=5, verbose=1, n_jobs=-1)\n",
    "\n",
    "# Fit the model.\n",
    "rfc_grid.fit(X_train, y_train)\n",
    "\n",
    "# Show the best parameter and best score for unfiltered\n",
    "print('Best Parameter for data:', rfc_grid.best_params_)\n",
    "print('\\nBest Score for data:', rfc_grid.best_score_)"
   ]
  },
  {
   "cell_type": "code",
   "execution_count": 57,
   "metadata": {},
   "outputs": [
    {
     "name": "stdout",
     "output_type": "stream",
     "text": [
      "Fitting 5 folds for each of 1 candidates, totalling 5 fits\n"
     ]
    },
    {
     "name": "stderr",
     "output_type": "stream",
     "text": [
      "[Parallel(n_jobs=-1)]: Done   2 out of   5 | elapsed: 14.2min remaining: 21.2min\n",
      "[Parallel(n_jobs=-1)]: Done   5 out of   5 | elapsed: 14.2min finished\n"
     ]
    },
    {
     "name": "stdout",
     "output_type": "stream",
     "text": [
      "Fitting 5 folds for each of 1 candidates, totalling 5 fits\n"
     ]
    },
    {
     "name": "stderr",
     "output_type": "stream",
     "text": [
      "[Parallel(n_jobs=-1)]: Done   2 out of   5 | elapsed: 13.1min remaining: 19.6min\n",
      "[Parallel(n_jobs=-1)]: Done   5 out of   5 | elapsed: 15.9min finished\n"
     ]
    },
    {
     "name": "stdout",
     "output_type": "stream",
     "text": [
      "Fitting 5 folds for each of 1 candidates, totalling 5 fits\n"
     ]
    },
    {
     "name": "stderr",
     "output_type": "stream",
     "text": [
      "[Parallel(n_jobs=-1)]: Done   2 out of   5 | elapsed: 13.2min remaining: 19.8min\n",
      "[Parallel(n_jobs=-1)]: Done   5 out of   5 | elapsed: 15.9min finished\n"
     ]
    },
    {
     "name": "stdout",
     "output_type": "stream",
     "text": [
      "Fitting 5 folds for each of 1 candidates, totalling 5 fits\n"
     ]
    },
    {
     "name": "stderr",
     "output_type": "stream",
     "text": [
      "[Parallel(n_jobs=-1)]: Done   2 out of   5 | elapsed: 13.5min remaining: 20.2min\n",
      "[Parallel(n_jobs=-1)]: Done   5 out of   5 | elapsed: 15.9min finished\n"
     ]
    },
    {
     "name": "stdout",
     "output_type": "stream",
     "text": [
      "Fitting 5 folds for each of 1 candidates, totalling 5 fits\n"
     ]
    },
    {
     "name": "stderr",
     "output_type": "stream",
     "text": [
      "[Parallel(n_jobs=-1)]: Done   2 out of   5 | elapsed: 14.0min remaining: 21.0min\n",
      "[Parallel(n_jobs=-1)]: Done   5 out of   5 | elapsed: 16.9min finished\n"
     ]
    },
    {
     "data": {
      "text/plain": [
       "array([0.5642131 , 0.56385414, 0.56175069, 0.56171248, 0.61859416])"
      ]
     },
     "execution_count": 57,
     "metadata": {},
     "output_type": "execute_result"
    }
   ],
   "source": [
    "# Set up the best parameters. Increase k\n",
    "best_param = {'kbest__k': [15],'rfc__max_depth': [16],\n",
    "              'rfc__n_estimators':[1500], 'vt__threshold':[0]}\n",
    "\n",
    "# Set up a new grid\n",
    "best_rfc_grid = GridSearchCV(rfc_pipeline, best_param, cv=5, verbose=1, n_jobs=-1)\n",
    "\n",
    "# Cross Validate the random forest model.  \n",
    "cross_val_score(best_rfc_grid, X_train, y_train, cv=5)"
   ]
  },
  {
   "cell_type": "code",
   "execution_count": 59,
   "metadata": {},
   "outputs": [
    {
     "name": "stdout",
     "output_type": "stream",
     "text": [
      "Fitting 5 folds for each of 1 candidates, totalling 5 fits\n"
     ]
    },
    {
     "name": "stderr",
     "output_type": "stream",
     "text": [
      "[Parallel(n_jobs=-1)]: Done   2 out of   5 | elapsed: 19.2min remaining: 28.8min\n",
      "[Parallel(n_jobs=-1)]: Done   5 out of   5 | elapsed: 22.4min finished\n"
     ]
    },
    {
     "data": {
      "text/plain": [
       "array([[ 3754,     0,     0,     0,     0,     0,  8112,   702,     0,\n",
       "            0,     0,     0],\n",
       "       [    0, 10438,     0,     0,     0,     0,     0,  2092,     0,\n",
       "            0,     0,     0],\n",
       "       [    0,     0,  6903,     0,     0,     0,     0,     0,  5600,\n",
       "            0,     0,     0],\n",
       "       [    0,     0,     0,  3296,     0,     0,     0,     0,     0,\n",
       "         8216,   978,     0],\n",
       "       [    0,     0,     0,     0,  3959,     0,     0,     0,     0,\n",
       "            0,  6281,  2209],\n",
       "       [    0,     0,     0,     0,     0, 12073,     0,     0,     0,\n",
       "            0,     0,   418],\n",
       "       [ 1555,     0,     0,     0,     0,     0, 10934,     0,     0,\n",
       "            0,     0,     0],\n",
       "       [ 1577,  7779,     0,     0,     0,     0,     0,  3284,     0,\n",
       "            0,     0,     0],\n",
       "       [    0,     0,  5788,     0,     0,     0,     0,     0,  6630,\n",
       "            0,     0,     0],\n",
       "       [    0,     0,     0,  1576,     0,     0,     0,     0,     0,\n",
       "        10773,     0,     0],\n",
       "       [    0,     0,     0,  1244,  2004,     0,     0,     0,     0,\n",
       "            0,  9249,     0],\n",
       "       [    0,     0,     0,     0,  1470,  7789,     0,     0,     0,\n",
       "            0,     0,  3317]])"
      ]
     },
     "execution_count": 59,
     "metadata": {},
     "output_type": "execute_result"
    }
   ],
   "source": [
    "# Fit our model to the data.\n",
    "best_rfc_grid.fit(X_train, y_train)\n",
    "\n",
    "# Classify, storing the result in a new variable.\n",
    "k_rfc_pred = best_rfc_grid.predict(X_test)\n",
    "\n",
    "# Create a confusion matrix.\n",
    "confusion_matrix(y_test, k_rfc_pred)"
   ]
  },
  {
   "cell_type": "code",
   "execution_count": 60,
   "metadata": {},
   "outputs": [
    {
     "name": "stdout",
     "output_type": "stream",
     "text": [
      "             precision    recall  f1-score   support\n",
      "\n",
      "       F23-       0.55      0.30      0.39     12568\n",
      "     F24-26       0.57      0.83      0.68     12530\n",
      "     F27-28       0.54      0.55      0.55     12503\n",
      "     F29-32       0.54      0.26      0.35     12490\n",
      "     F33-42       0.53      0.32      0.40     12449\n",
      "       F43+       0.61      0.97      0.75     12491\n",
      "       M22-       0.57      0.88      0.69     12489\n",
      "     M23-26       0.54      0.26      0.35     12640\n",
      "     M27-28       0.54      0.53      0.54     12418\n",
      "     M29-31       0.57      0.87      0.69     12349\n",
      "     M32-38       0.56      0.74      0.64     12497\n",
      "       M39+       0.56      0.26      0.36     12576\n",
      "\n",
      "avg / total       0.56      0.56      0.53    150000\n",
      "\n"
     ]
    }
   ],
   "source": [
    "# Create a classification report.\n",
    "print(classification_report(y_test, k_rfc_pred))"
   ]
  },
  {
   "cell_type": "markdown",
   "metadata": {},
   "source": [
    "# SKB Analysis\n",
    "\n",
    "In this model, I made the mistake of not including more features to be used which lead to the accuracy of the model decreasing."
   ]
  },
  {
   "cell_type": "code",
   "execution_count": 143,
   "metadata": {
    "scrolled": true
   },
   "outputs": [
    {
     "name": "stdout",
     "output_type": "stream",
     "text": [
      "Fitting 5 folds for each of 20 candidates, totalling 100 fits\n"
     ]
    },
    {
     "name": "stderr",
     "output_type": "stream",
     "text": [
      "[Parallel(n_jobs=-1)]: Done  34 tasks      | elapsed: 19.2min\n",
      "[Parallel(n_jobs=-1)]: Done 100 out of 100 | elapsed: 119.5min finished\n"
     ]
    },
    {
     "name": "stdout",
     "output_type": "stream",
     "text": [
      "Best Parameter for data: {'max_depth': 8, 'n_estimators': 500}\n",
      "\n",
      "Best Score for data: 0.4088880952380952\n"
     ]
    }
   ],
   "source": [
    "# Instantiate model\n",
    "rfc2 = ensemble.RandomForestClassifier()\n",
    "\n",
    "# Create rfc parameters for GS-CV\n",
    "param_grid = {'n_estimators': [100, 200, 500, 800, 1000],\n",
    "             'max_depth': [2, 4, 6, 8]}\n",
    "\n",
    "# Set up GS-CV\n",
    "grid = GridSearchCV(rfc2, param_grid, cv=5, verbose=1, n_jobs=-1)\n",
    "\n",
    "grid.fit(X_train_pca, y_train2)\n",
    "\n",
    "# Show the best parameter and best score for unfiltered\n",
    "print('Best Parameter for data:', grid.best_params_)\n",
    "print('\\nBest Score for data:', grid.best_score_)"
   ]
  },
  {
   "cell_type": "code",
   "execution_count": 195,
   "metadata": {},
   "outputs": [
    {
     "data": {
      "text/plain": [
       "0.7292190476190477"
      ]
     },
     "execution_count": 195,
     "metadata": {},
     "output_type": "execute_result"
    }
   ],
   "source": [
    "# Implement different parameters\n",
    "rfc3 = ensemble.RandomForestClassifier(n_estimators=1000, max_features='auto',\n",
    "                                     max_depth=12, n_jobs=-1)\n",
    "\n",
    "rfc3.fit(X_train_pca, y_train2)\n",
    "\n",
    "rfc3.score(X_train_pca, y_train2)"
   ]
  },
  {
   "cell_type": "code",
   "execution_count": 196,
   "metadata": {},
   "outputs": [
    {
     "data": {
      "text/plain": [
       "array([0.67828913, 0.67969001, 0.68153951, 0.68094478, 0.68259638])"
      ]
     },
     "execution_count": 196,
     "metadata": {},
     "output_type": "execute_result"
    }
   ],
   "source": [
    "# Cross Validate the random forest model.  \n",
    "cross_val_score(rfc3, X_train_pca, y_train2, cv=5)"
   ]
  },
  {
   "cell_type": "code",
   "execution_count": 197,
   "metadata": {},
   "outputs": [
    {
     "data": {
      "text/plain": [
       "array([[    5,     4,     0,     0,     1,     9,     8,     0,     0,\n",
       "            0,     1, 15062],\n",
       "       [    3,     0,     1,     0,     0,     5,     5,     1,     0,\n",
       "            0,     3, 15079],\n",
       "       [    4,     2,     1,     0,     0,     5,    10,     2,     0,\n",
       "            0,     1, 14926],\n",
       "       [    5,     1,     0,     0,     0,     7,     7,     0,     0,\n",
       "            0,     3, 14848],\n",
       "       [    7,     4,     2,     0,     0,     6,    12,     1,     0,\n",
       "            0,     2, 14933],\n",
       "       [    3,     0,     0,     0,     0,    66,     8,     0,     0,\n",
       "            0,     1, 14993],\n",
       "       [    6,     2,     3,     0,     0,     5,    23,     0,     0,\n",
       "            3,     5, 15021],\n",
       "       [    4,     2,     1,     0,     0,     5,    11,     0,     0,\n",
       "            1,     5, 14945],\n",
       "       [    5,     3,     3,     0,     0,     3,    10,     0,     0,\n",
       "            0,     2, 14971],\n",
       "       [    3,     5,     2,     0,     0,     9,    11,     0,     0,\n",
       "            0,     4, 14946],\n",
       "       [    3,     5,     4,     0,     1,     8,    14,     0,     0,\n",
       "            0,     6, 14915],\n",
       "       [    6,     4,     0,     0,     1,    19,     9,     0,     0,\n",
       "            0,     4, 14935]])"
      ]
     },
     "execution_count": 197,
     "metadata": {},
     "output_type": "execute_result"
    }
   ],
   "source": [
    "# Fit our model to the data.\n",
    "rfc3.fit(X_train_pca, y_train2)\n",
    "\n",
    "# Classify, storing the result in a new variable.\n",
    "rfc_pred2 = rfc3.predict(X_test_pca)\n",
    "\n",
    "# Create a confusion matrix.\n",
    "confusion_matrix(y_test2, rfc_pred2)"
   ]
  },
  {
   "cell_type": "code",
   "execution_count": 198,
   "metadata": {
    "scrolled": true
   },
   "outputs": [
    {
     "name": "stdout",
     "output_type": "stream",
     "text": [
      "             precision    recall  f1-score   support\n",
      "\n",
      "       F23-       0.09      0.00      0.00     15090\n",
      "     F24-26       0.00      0.00      0.00     15097\n",
      "     F27-28       0.06      0.00      0.00     14951\n",
      "     F29-32       0.00      0.00      0.00     14871\n",
      "     F33-42       0.00      0.00      0.00     14967\n",
      "       F43+       0.45      0.00      0.01     15071\n",
      "       M22-       0.18      0.00      0.00     15068\n",
      "     M23-26       0.00      0.00      0.00     14974\n",
      "     M27-28       0.00      0.00      0.00     14997\n",
      "     M29-31       0.00      0.00      0.00     14980\n",
      "     M32-38       0.16      0.00      0.00     14956\n",
      "       M39+       0.08      1.00      0.15     14978\n",
      "\n",
      "avg / total       0.09      0.08      0.01    180000\n",
      "\n"
     ]
    },
    {
     "name": "stderr",
     "output_type": "stream",
     "text": [
      "/anaconda3/lib/python3.6/site-packages/sklearn/metrics/classification.py:1135: UndefinedMetricWarning: Precision and F-score are ill-defined and being set to 0.0 in labels with no predicted samples.\n",
      "  'precision', 'predicted', average, warn_for)\n"
     ]
    }
   ],
   "source": [
    "# Create a classification report.\n",
    "print(classification_report(y_test2, rfc_pred2))"
   ]
  },
  {
   "cell_type": "markdown",
   "metadata": {},
   "source": [
    "# PCA Analysis\n",
    "\n",
    "PCA is a dimension reductionality techique. It will create new independent features that explain the majority of the variance of the data set. However, there will still be a bit of data loss included in the data set. I did not anticipate that using PCA would worsen the predictive capability of my model. However, I increased the amount of depth in order to lower the entropy of the model and increase it's predictive accuracy."
   ]
  },
  {
   "cell_type": "markdown",
   "metadata": {},
   "source": [
    "# X Gradient Boosting Model"
   ]
  },
  {
   "cell_type": "code",
   "execution_count": 61,
   "metadata": {
    "scrolled": true
   },
   "outputs": [
    {
     "name": "stderr",
     "output_type": "stream",
     "text": [
      "/anaconda3/lib/python3.6/site-packages/sklearn/preprocessing/label.py:151: DeprecationWarning: The truth value of an empty array is ambiguous. Returning False, but in future this will result in an error. Use `array.size > 0` to check that an array is not empty.\n",
      "  if diff:\n"
     ]
    },
    {
     "data": {
      "text/plain": [
       "1.0"
      ]
     },
     "execution_count": 61,
     "metadata": {},
     "output_type": "execute_result"
    }
   ],
   "source": [
    "# X-Gradient boosted model\n",
    "clf = XGBClassifier(max_depth=5, reg_alpha=5000, reg_lambda=5000)\n",
    "\n",
    "# Fit the model.\n",
    "clf.fit(X_train, y_train)\n",
    "\n",
    "# Look at the score.\n",
    "clf.score(X_train, y_train)"
   ]
  },
  {
   "cell_type": "code",
   "execution_count": 63,
   "metadata": {},
   "outputs": [],
   "source": [
    "# Create a mini data set since no amount of inhibition will work.\n",
    "Xtr_mini = X_train[:100000]\n",
    "ytr_mini = y_train[:100000]"
   ]
  },
  {
   "cell_type": "code",
   "execution_count": 69,
   "metadata": {},
   "outputs": [
    {
     "name": "stderr",
     "output_type": "stream",
     "text": [
      "/anaconda3/lib/python3.6/site-packages/sklearn/preprocessing/label.py:151: DeprecationWarning: The truth value of an empty array is ambiguous. Returning False, but in future this will result in an error. Use `array.size > 0` to check that an array is not empty.\n",
      "  if diff:\n"
     ]
    },
    {
     "data": {
      "text/plain": [
       "0.91751"
      ]
     },
     "execution_count": 69,
     "metadata": {},
     "output_type": "execute_result"
    }
   ],
   "source": [
    "# X-Gradient boosted model\n",
    "clf = XGBClassifier(max_depth=5, reg_alpha=4500, reg_lambda=5000)\n",
    "\n",
    "# Fit the model.\n",
    "clf.fit(Xtr_mini, ytr_mini)\n",
    "\n",
    "# Look at the score.\n",
    "clf.score(Xtr_mini, ytr_mini)"
   ]
  },
  {
   "cell_type": "code",
   "execution_count": 74,
   "metadata": {},
   "outputs": [
    {
     "name": "stderr",
     "output_type": "stream",
     "text": [
      "/anaconda3/lib/python3.6/site-packages/sklearn/preprocessing/label.py:151: DeprecationWarning: The truth value of an empty array is ambiguous. Returning False, but in future this will result in an error. Use `array.size > 0` to check that an array is not empty.\n",
      "  if diff:\n",
      "/anaconda3/lib/python3.6/site-packages/sklearn/preprocessing/label.py:151: DeprecationWarning: The truth value of an empty array is ambiguous. Returning False, but in future this will result in an error. Use `array.size > 0` to check that an array is not empty.\n",
      "  if diff:\n",
      "/anaconda3/lib/python3.6/site-packages/sklearn/preprocessing/label.py:151: DeprecationWarning: The truth value of an empty array is ambiguous. Returning False, but in future this will result in an error. Use `array.size > 0` to check that an array is not empty.\n",
      "  if diff:\n",
      "/anaconda3/lib/python3.6/site-packages/sklearn/preprocessing/label.py:151: DeprecationWarning: The truth value of an empty array is ambiguous. Returning False, but in future this will result in an error. Use `array.size > 0` to check that an array is not empty.\n",
      "  if diff:\n",
      "/anaconda3/lib/python3.6/site-packages/sklearn/preprocessing/label.py:151: DeprecationWarning: The truth value of an empty array is ambiguous. Returning False, but in future this will result in an error. Use `array.size > 0` to check that an array is not empty.\n",
      "  if diff:\n"
     ]
    },
    {
     "data": {
      "text/plain": [
       "array([0.75012499, 0.75012499, 0.75012499, 0.75012501, 0.75015003])"
      ]
     },
     "execution_count": 74,
     "metadata": {},
     "output_type": "execute_result"
    }
   ],
   "source": [
    "# Cross Validate the model. \n",
    "cross_val_score(clf, Xtr_mini, ytr_mini, cv=5)"
   ]
  },
  {
   "cell_type": "code",
   "execution_count": 71,
   "metadata": {},
   "outputs": [
    {
     "name": "stderr",
     "output_type": "stream",
     "text": [
      "/anaconda3/lib/python3.6/site-packages/sklearn/preprocessing/label.py:151: DeprecationWarning: The truth value of an empty array is ambiguous. Returning False, but in future this will result in an error. Use `array.size > 0` to check that an array is not empty.\n",
      "  if diff:\n"
     ]
    },
    {
     "data": {
      "text/plain": [
       "array([[12571,     0,     0,     0,     0,     0,     0,     0,     0,\n",
       "            0,     0,     0],\n",
       "       [    0, 12698,     0,     0,     0,     0,     0,     0,     0,\n",
       "            0,     0,     0],\n",
       "       [    0,     0, 12555,     0,     0,     0,     0,     0,     0,\n",
       "            0,     0,     0],\n",
       "       [    0,     0,     0, 12516,     0,     0,     0,     0,     0,\n",
       "            0,     0,     0],\n",
       "       [    0,     0,     0,     0, 12353,     0,     0,     0,     0,\n",
       "            0,     0,     0],\n",
       "       [    0,     0,     0,     0,     0, 12495,     0,     0,     0,\n",
       "            0,     0,     0],\n",
       "       [    0,     0,     0,     0,     0,     0, 12382,     0,     0,\n",
       "            0,     0,     0],\n",
       "       [    0,     0,     0,     0,     0,     0,     0, 12438,     0,\n",
       "            0,     0,     0],\n",
       "       [    0,     0,     0,     0,     0,     0,     0,     0, 12550,\n",
       "            0,     0,     0],\n",
       "       [    0,     0, 12401,     0,     0,     0,     0,     0,     0,\n",
       "            0,     0,     0],\n",
       "       [    0,     0,     0,     0,     0,     0,     0,     0,     0,\n",
       "            0, 12581,     0],\n",
       "       [    0,     0,     0,     0,     0,     0,     0,     0,     0,\n",
       "            0,     0, 12460]])"
      ]
     },
     "execution_count": 71,
     "metadata": {},
     "output_type": "execute_result"
    }
   ],
   "source": [
    "# Classify, storing the result in a new variable.\n",
    "clf_pred = clf.predict(X_test)\n",
    "\n",
    "# Create a confusion matrix.\n",
    "confusion_matrix(y_test, clf_pred)"
   ]
  },
  {
   "cell_type": "code",
   "execution_count": 73,
   "metadata": {},
   "outputs": [
    {
     "name": "stdout",
     "output_type": "stream",
     "text": [
      "             precision    recall  f1-score   support\n",
      "\n",
      "       F23-       1.00      1.00      1.00     12571\n",
      "     F24-26       1.00      1.00      1.00     12698\n",
      "     F27-28       0.50      1.00      0.67     12555\n",
      "     F29-32       1.00      1.00      1.00     12516\n",
      "     F33-42       1.00      1.00      1.00     12353\n",
      "       F43+       1.00      1.00      1.00     12495\n",
      "       M22-       1.00      1.00      1.00     12382\n",
      "     M23-26       1.00      1.00      1.00     12438\n",
      "     M27-28       1.00      1.00      1.00     12550\n",
      "     M29-31       0.00      0.00      0.00     12401\n",
      "     M32-38       1.00      1.00      1.00     12581\n",
      "       M39+       1.00      1.00      1.00     12460\n",
      "\n",
      "avg / total       0.88      0.92      0.89    150000\n",
      "\n"
     ]
    },
    {
     "name": "stderr",
     "output_type": "stream",
     "text": [
      "/anaconda3/lib/python3.6/site-packages/sklearn/metrics/classification.py:1135: UndefinedMetricWarning: Precision and F-score are ill-defined and being set to 0.0 in labels with no predicted samples.\n",
      "  'precision', 'predicted', average, warn_for)\n"
     ]
    }
   ],
   "source": [
    "# Create a classification report.\n",
    "print(classification_report(y_test, clf_pred))"
   ]
  },
  {
   "cell_type": "markdown",
   "metadata": {},
   "source": [
    "# Analysis \n",
    "\n",
    "First, I would like to state that I used XGB instead of regular gradient boosting because gradient boosting took too long and wasn't as accurate as XGB. The reason that it is faster is due to XGB's ability to parallel process which regular gradient boosting cannot do. \n",
    "\n",
    "Overfitting of XGB had occurred when I used the full data set since there was just so much data for it to learn from. I used the regularization method to inhibit the growth of the parameters, but it still wasn't enough. \n",
    "\n",
    "Afterwards, I used a smaller data set to achieve quicker results and to reduce overfitting of the model. XGB uses stochastic gradient descent which is an implementation of L1 and L2 regularization in order to help reduce the cost function and obtain the best score. Alpha is L1 (Lasso Regression), and lambda is L2 (Ridge Regression). Alpha was a strong regularization parameter since it just got rid of features that didn't pass its threshold. However, at its core XGB is just like GB since they are both an ensemble model that learns iteratively from the residual errors (boosting) instead of learning via bagging.\n",
    "\n",
    "The precision and recall of the results are both at an acceptable level, but it seems to be not as accurate when it comes to identifying young adult females, and fails to identify young adult men completely, but that is due to the fact that I took a sample of my training data set which may not have contained such individuals. "
   ]
  },
  {
   "cell_type": "code",
   "execution_count": 219,
   "metadata": {},
   "outputs": [
    {
     "name": "stderr",
     "output_type": "stream",
     "text": [
      "/anaconda3/lib/python3.6/site-packages/sklearn/preprocessing/label.py:151: DeprecationWarning: The truth value of an empty array is ambiguous. Returning False, but in future this will result in an error. Use `array.size > 0` to check that an array is not empty.\n",
      "  if diff:\n"
     ]
    },
    {
     "data": {
      "text/plain": [
       "0.9398214285714286"
      ]
     },
     "execution_count": 219,
     "metadata": {},
     "output_type": "execute_result"
    }
   ],
   "source": [
    "# X-Gradient boosted model with PCA\n",
    "clf2 = XGBClassifier(max_depth=12)\n",
    "\n",
    "clf2.fit(X_train_pca, y_train2)\n",
    "\n",
    "clf2.score(X_train_pca, y_train2)"
   ]
  },
  {
   "cell_type": "code",
   "execution_count": 222,
   "metadata": {
    "scrolled": false
   },
   "outputs": [
    {
     "name": "stderr",
     "output_type": "stream",
     "text": [
      "/anaconda3/lib/python3.6/site-packages/sklearn/preprocessing/label.py:151: DeprecationWarning: The truth value of an empty array is ambiguous. Returning False, but in future this will result in an error. Use `array.size > 0` to check that an array is not empty.\n",
      "  if diff:\n",
      "/anaconda3/lib/python3.6/site-packages/sklearn/preprocessing/label.py:151: DeprecationWarning: The truth value of an empty array is ambiguous. Returning False, but in future this will result in an error. Use `array.size > 0` to check that an array is not empty.\n",
      "  if diff:\n",
      "/anaconda3/lib/python3.6/site-packages/sklearn/preprocessing/label.py:151: DeprecationWarning: The truth value of an empty array is ambiguous. Returning False, but in future this will result in an error. Use `array.size > 0` to check that an array is not empty.\n",
      "  if diff:\n",
      "/anaconda3/lib/python3.6/site-packages/sklearn/preprocessing/label.py:151: DeprecationWarning: The truth value of an empty array is ambiguous. Returning False, but in future this will result in an error. Use `array.size > 0` to check that an array is not empty.\n",
      "  if diff:\n",
      "/anaconda3/lib/python3.6/site-packages/sklearn/preprocessing/label.py:151: DeprecationWarning: The truth value of an empty array is ambiguous. Returning False, but in future this will result in an error. Use `array.size > 0` to check that an array is not empty.\n",
      "  if diff:\n"
     ]
    },
    {
     "data": {
      "text/plain": [
       "array([0.83166278, 0.83106556, 0.83185914, 0.83221029, 0.83144034])"
      ]
     },
     "execution_count": 222,
     "metadata": {},
     "output_type": "execute_result"
    }
   ],
   "source": [
    "# Cross Validate the model. \n",
    "cross_val_score(clf2, X_train_pca, y_train2, cv=5)"
   ]
  },
  {
   "cell_type": "code",
   "execution_count": 224,
   "metadata": {
    "scrolled": true
   },
   "outputs": [
    {
     "name": "stderr",
     "output_type": "stream",
     "text": [
      "/anaconda3/lib/python3.6/site-packages/sklearn/preprocessing/label.py:151: DeprecationWarning: The truth value of an empty array is ambiguous. Returning False, but in future this will result in an error. Use `array.size > 0` to check that an array is not empty.\n",
      "  if diff:\n"
     ]
    },
    {
     "data": {
      "text/plain": [
       "array([[    2,     2,     3,     0,    11,    11,     7,     1,     0,\n",
       "            0,     1, 15052],\n",
       "       [    4,     0,     1,     0,    12,     9,     4,     1,     0,\n",
       "            0,     4, 15062],\n",
       "       [    6,     1,     2,     0,    17,     9,     6,     2,     0,\n",
       "            0,     1, 14907],\n",
       "       [    4,     1,     0,     0,    15,     8,     3,     3,     0,\n",
       "            0,     3, 14834],\n",
       "       [    2,     0,     0,     0,    16,     8,    11,     2,     0,\n",
       "            0,     3, 14925],\n",
       "       [   23,    29,     6,     2,    18,   191,     6,     1,     0,\n",
       "           20,     2, 14773],\n",
       "       [    2,     0,     1,     0,    19,    11,    23,     0,     0,\n",
       "            0,     6, 15006],\n",
       "       [    2,     1,     2,     0,    20,     8,     9,     1,     0,\n",
       "            0,     6, 14925],\n",
       "       [    3,     0,     2,     0,    21,     6,     5,     0,     0,\n",
       "            0,     3, 14957],\n",
       "       [    2,     0,     1,     0,    26,     8,     6,     0,     0,\n",
       "            0,     4, 14933],\n",
       "       [    3,     0,     1,     0,    27,     9,    12,     0,     0,\n",
       "            0,     7, 14897],\n",
       "       [    9,    54,     2,     1,    28,    69,     5,     2,     1,\n",
       "           12,     7, 14788]])"
      ]
     },
     "execution_count": 224,
     "metadata": {},
     "output_type": "execute_result"
    }
   ],
   "source": [
    "# Classify, storing the result in a new variable.\n",
    "clf2_pred = clf2.predict(X_test_pca)\n",
    "\n",
    "# Create a confusion matrix.\n",
    "confusion_matrix(y_test2, clf2_pred)"
   ]
  },
  {
   "cell_type": "code",
   "execution_count": 225,
   "metadata": {},
   "outputs": [
    {
     "name": "stdout",
     "output_type": "stream",
     "text": [
      "             precision    recall  f1-score   support\n",
      "\n",
      "       F23-       0.03      0.00      0.00     15090\n",
      "     F24-26       0.00      0.00      0.00     15097\n",
      "     F27-28       0.10      0.00      0.00     14951\n",
      "     F29-32       0.00      0.00      0.00     14871\n",
      "     F33-42       0.07      0.00      0.00     14967\n",
      "       F43+       0.55      0.01      0.02     15071\n",
      "       M22-       0.24      0.00      0.00     15068\n",
      "     M23-26       0.08      0.00      0.00     14974\n",
      "     M27-28       0.00      0.00      0.00     14997\n",
      "     M29-31       0.00      0.00      0.00     14980\n",
      "     M32-38       0.15      0.00      0.00     14956\n",
      "       M39+       0.08      0.99      0.15     14978\n",
      "\n",
      "avg / total       0.11      0.08      0.02    180000\n",
      "\n"
     ]
    }
   ],
   "source": [
    "# Create a classification report.\n",
    "print(classification_report(y_test2, clf2_pred))"
   ]
  },
  {
   "cell_type": "markdown",
   "metadata": {},
   "source": [
    "# XGB with PCA Analysis\n",
    "\n",
    "The score after using PCA increased. I only needed to increase the depth level in order for the model to learn more specifically which made up for some of the variance loss that the PCA incurred. I didn't even need to increase the regularization parameters in order to remedy the overfitting since PCA already took care of it. \n",
    "\n",
    "However, it seems that after PCA is used, the classifcation report score will always decrease which is something to be careful of. "
   ]
  },
  {
   "cell_type": "markdown",
   "metadata": {},
   "source": [
    "# Deep Learning Models"
   ]
  },
  {
   "cell_type": "code",
   "execution_count": 41,
   "metadata": {},
   "outputs": [],
   "source": [
    "import tensorflow as tf\n",
    "import keras\n",
    "\n",
    "# Import various componenets for model building\n",
    "from keras.models import Sequential\n",
    "from keras.layers import Dense, Dropout, Flatten, Conv1D, MaxPooling1D \n",
    "from keras.layers import LSTM, Input, TimeDistributed\n",
    "from keras.models import Model\n",
    "from keras.preprocessing import sequence\n",
    "from keras.optimizers import RMSprop, Adam\n",
    "from keras.utils import np_utils\n",
    "from keras.utils import to_categorical\n",
    "\n",
    "# Import the backend\n",
    "from keras import backend as K"
   ]
  },
  {
   "cell_type": "code",
   "execution_count": 53,
   "metadata": {},
   "outputs": [],
   "source": [
    "from sklearn.preprocessing import LabelEncoder\n",
    "label_encoder = LabelEncoder()\n",
    "ytr_int_encoded = label_encoder.fit_transform(y_train2)\n",
    "yte_int_encoded = label_encoder.fit_transform(y_test2)"
   ]
  },
  {
   "cell_type": "code",
   "execution_count": 58,
   "metadata": {},
   "outputs": [
    {
     "name": "stdout",
     "output_type": "stream",
     "text": [
      "_________________________________________________________________\n",
      "Layer (type)                 Output Shape              Param #   \n",
      "=================================================================\n",
      "dense_50 (Dense)             (None, 1024)              5120      \n",
      "_________________________________________________________________\n",
      "dropout_43 (Dropout)         (None, 1024)              0         \n",
      "_________________________________________________________________\n",
      "dense_51 (Dense)             (None, 128)               131200    \n",
      "_________________________________________________________________\n",
      "dropout_44 (Dropout)         (None, 128)               0         \n",
      "_________________________________________________________________\n",
      "dense_52 (Dense)             (None, 64)                8256      \n",
      "_________________________________________________________________\n",
      "dropout_45 (Dropout)         (None, 64)                0         \n",
      "_________________________________________________________________\n",
      "dense_53 (Dense)             (None, 64)                4160      \n",
      "_________________________________________________________________\n",
      "dropout_46 (Dropout)         (None, 64)                0         \n",
      "_________________________________________________________________\n",
      "dense_54 (Dense)             (None, 64)                4160      \n",
      "_________________________________________________________________\n",
      "dropout_47 (Dropout)         (None, 64)                0         \n",
      "_________________________________________________________________\n",
      "dense_55 (Dense)             (None, 64)                4160      \n",
      "_________________________________________________________________\n",
      "dropout_48 (Dropout)         (None, 64)                0         \n",
      "_________________________________________________________________\n",
      "dense_56 (Dense)             (None, 12)                780       \n",
      "=================================================================\n",
      "Total params: 157,836\n",
      "Trainable params: 157,836\n",
      "Non-trainable params: 0\n",
      "_________________________________________________________________\n"
     ]
    }
   ],
   "source": [
    "# Start with a simple sequential model.\n",
    "model = Sequential()\n",
    "\n",
    "# Add dense layers to create a fully connected MLP\n",
    "# Note that we specify an input shape for the first layer, but only the first layer.\n",
    "# Relu is the activation function used\n",
    "model.add(Dense(1024, activation='relu', input_shape=(4,)))\n",
    "# Dropout layers remove features and fight overfitting\n",
    "model.add(Dropout(0.1))\n",
    "model.add(Dense(128, activation='relu'))\n",
    "model.add(Dropout(0.1))\n",
    "model.add(Dense(64, activation='tanh'))\n",
    "model.add(Dropout(0.3))\n",
    "model.add(Dense(64, activation='sigmoid'))\n",
    "model.add(Dropout(0.3))\n",
    "model.add(Dense(64, activation='tanh'))\n",
    "model.add(Dropout(0.3))\n",
    "model.add(Dense(64, activation='sigmoid'))\n",
    "model.add(Dropout(0.3))\n",
    "# End with a number of units equal to the number of classes we have for our outcome\n",
    "model.add(Dense(12, activation='softmax'))\n",
    "\n",
    "model.summary()\n",
    "\n",
    "# Compile the model to put it all together.\n",
    "model.compile(loss='sparse_categorical_crossentropy',\n",
    "              optimizer=Adam(),\n",
    "              metrics=['accuracy'])"
   ]
  },
  {
   "cell_type": "code",
   "execution_count": 61,
   "metadata": {
    "scrolled": true
   },
   "outputs": [
    {
     "name": "stdout",
     "output_type": "stream",
     "text": [
      "Train on 420000 samples, validate on 180000 samples\n",
      "Epoch 1/200\n",
      "420000/420000 [==============================] - 22s 52us/step - loss: 1.3301 - acc: 0.5214 - val_loss: 8.5426 - val_acc: 0.0835\n",
      "Epoch 2/200\n",
      "420000/420000 [==============================] - 22s 52us/step - loss: 1.3291 - acc: 0.5206 - val_loss: 8.7356 - val_acc: 0.0833\n",
      "Epoch 3/200\n",
      "420000/420000 [==============================] - 22s 52us/step - loss: 1.3296 - acc: 0.5205 - val_loss: 8.8799 - val_acc: 0.0843\n",
      "Epoch 4/200\n",
      "420000/420000 [==============================] - 22s 52us/step - loss: 1.3308 - acc: 0.5192 - val_loss: 8.7041 - val_acc: 0.0832\n",
      "Epoch 5/200\n",
      "420000/420000 [==============================] - 22s 52us/step - loss: 1.3303 - acc: 0.5197 - val_loss: 8.3386 - val_acc: 0.0844\n",
      "Epoch 6/200\n",
      "420000/420000 [==============================] - 22s 52us/step - loss: 1.3289 - acc: 0.5215 - val_loss: 8.7422 - val_acc: 0.0849\n",
      "Epoch 7/200\n",
      "420000/420000 [==============================] - 22s 53us/step - loss: 1.3303 - acc: 0.5201 - val_loss: 9.3246 - val_acc: 0.0864\n",
      "Epoch 8/200\n",
      "420000/420000 [==============================] - 22s 53us/step - loss: 1.3285 - acc: 0.5215 - val_loss: 9.1457 - val_acc: 0.0858\n",
      "Epoch 9/200\n",
      "420000/420000 [==============================] - 22s 52us/step - loss: 1.3291 - acc: 0.5208 - val_loss: 8.8477 - val_acc: 0.0846\n",
      "Epoch 10/200\n",
      "420000/420000 [==============================] - 22s 53us/step - loss: 1.3257 - acc: 0.5226 - val_loss: 8.9320 - val_acc: 0.0812\n",
      "Epoch 11/200\n",
      "420000/420000 [==============================] - 22s 52us/step - loss: 1.3285 - acc: 0.5209 - val_loss: 8.6503 - val_acc: 0.0868\n",
      "Epoch 12/200\n",
      "420000/420000 [==============================] - 22s 53us/step - loss: 1.3266 - acc: 0.5221 - val_loss: 8.7662 - val_acc: 0.0845\n",
      "Epoch 13/200\n",
      "420000/420000 [==============================] - 22s 52us/step - loss: 1.3287 - acc: 0.5214 - val_loss: 9.0301 - val_acc: 0.0903\n",
      "Epoch 14/200\n",
      "420000/420000 [==============================] - 22s 52us/step - loss: 1.3274 - acc: 0.5212 - val_loss: 8.6401 - val_acc: 0.0844\n",
      "Epoch 15/200\n",
      "420000/420000 [==============================] - 22s 52us/step - loss: 1.3280 - acc: 0.5203 - val_loss: 8.8002 - val_acc: 0.0879\n",
      "Epoch 16/200\n",
      "420000/420000 [==============================] - 22s 53us/step - loss: 1.3238 - acc: 0.5230 - val_loss: 9.0952 - val_acc: 0.0863\n",
      "Epoch 17/200\n",
      "420000/420000 [==============================] - 22s 53us/step - loss: 1.3287 - acc: 0.5211 - val_loss: 8.3416 - val_acc: 0.0835\n",
      "Epoch 18/200\n",
      "420000/420000 [==============================] - 22s 53us/step - loss: 1.3273 - acc: 0.5218 - val_loss: 8.7263 - val_acc: 0.0834\n",
      "Epoch 19/200\n",
      "420000/420000 [==============================] - 22s 53us/step - loss: 1.3274 - acc: 0.5212 - val_loss: 8.5618 - val_acc: 0.0832\n",
      "Epoch 20/200\n",
      "420000/420000 [==============================] - 22s 53us/step - loss: 1.3261 - acc: 0.5219 - val_loss: 8.3521 - val_acc: 0.0836\n",
      "Epoch 21/200\n",
      "420000/420000 [==============================] - 22s 53us/step - loss: 1.3249 - acc: 0.5223 - val_loss: 8.8932 - val_acc: 0.0865\n",
      "Epoch 22/200\n",
      "420000/420000 [==============================] - 22s 52us/step - loss: 1.3256 - acc: 0.5220 - val_loss: 8.6462 - val_acc: 0.0854\n",
      "Epoch 23/200\n",
      "420000/420000 [==============================] - 22s 53us/step - loss: 1.3241 - acc: 0.5219 - val_loss: 8.8439 - val_acc: 0.0851\n",
      "Epoch 24/200\n",
      "420000/420000 [==============================] - 22s 53us/step - loss: 1.3262 - acc: 0.5215 - val_loss: 8.2567 - val_acc: 0.0823\n",
      "Epoch 25/200\n",
      "420000/420000 [==============================] - 22s 53us/step - loss: 1.3275 - acc: 0.5209 - val_loss: 9.0182 - val_acc: 0.0836\n",
      "Epoch 26/200\n",
      "420000/420000 [==============================] - 22s 53us/step - loss: 1.3268 - acc: 0.5219 - val_loss: 9.5130 - val_acc: 0.0830\n",
      "Epoch 27/200\n",
      "420000/420000 [==============================] - 22s 52us/step - loss: 1.3253 - acc: 0.5223 - val_loss: 8.8951 - val_acc: 0.0847\n",
      "Epoch 28/200\n",
      "420000/420000 [==============================] - 21s 50us/step - loss: 1.3232 - acc: 0.5226 - val_loss: 8.9949 - val_acc: 0.0860\n",
      "Epoch 29/200\n",
      "420000/420000 [==============================] - 19s 46us/step - loss: 1.3246 - acc: 0.5230 - val_loss: 8.3692 - val_acc: 0.0825\n",
      "Epoch 30/200\n",
      "420000/420000 [==============================] - 20s 46us/step - loss: 1.3249 - acc: 0.5228 - val_loss: 8.5139 - val_acc: 0.0843\n",
      "Epoch 31/200\n",
      "420000/420000 [==============================] - 20s 47us/step - loss: 1.3260 - acc: 0.5220 - val_loss: 9.0953 - val_acc: 0.0841\n",
      "Epoch 32/200\n",
      "420000/420000 [==============================] - 20s 47us/step - loss: 1.3198 - acc: 0.5245 - val_loss: 8.7296 - val_acc: 0.0861\n",
      "Epoch 33/200\n",
      "420000/420000 [==============================] - 19s 46us/step - loss: 1.3262 - acc: 0.5220 - val_loss: 8.5250 - val_acc: 0.0852\n",
      "Epoch 34/200\n",
      "420000/420000 [==============================] - 20s 47us/step - loss: 1.3221 - acc: 0.5236 - val_loss: 8.8995 - val_acc: 0.0856\n",
      "Epoch 35/200\n",
      "420000/420000 [==============================] - 20s 47us/step - loss: 1.3219 - acc: 0.5237 - val_loss: 9.0663 - val_acc: 0.0845\n",
      "Epoch 36/200\n",
      "420000/420000 [==============================] - 20s 47us/step - loss: 1.3243 - acc: 0.5233 - val_loss: 8.7593 - val_acc: 0.0842\n",
      "Epoch 37/200\n",
      "420000/420000 [==============================] - 20s 46us/step - loss: 1.3235 - acc: 0.5235 - val_loss: 8.7075 - val_acc: 0.0879\n",
      "Epoch 38/200\n",
      "420000/420000 [==============================] - 20s 47us/step - loss: 1.3212 - acc: 0.5245 - val_loss: 8.9103 - val_acc: 0.0860\n",
      "Epoch 39/200\n",
      "420000/420000 [==============================] - 20s 47us/step - loss: 1.3227 - acc: 0.5240 - val_loss: 8.5288 - val_acc: 0.0835\n",
      "Epoch 40/200\n",
      "420000/420000 [==============================] - 20s 47us/step - loss: 1.3225 - acc: 0.5244 - val_loss: 8.5314 - val_acc: 0.0881\n",
      "Epoch 41/200\n",
      "420000/420000 [==============================] - 20s 47us/step - loss: 1.3215 - acc: 0.5241 - val_loss: 8.5938 - val_acc: 0.0844\n",
      "Epoch 42/200\n",
      "420000/420000 [==============================] - 20s 47us/step - loss: 1.3223 - acc: 0.5232 - val_loss: 9.0082 - val_acc: 0.0875\n",
      "Epoch 43/200\n",
      "420000/420000 [==============================] - 20s 47us/step - loss: 1.3243 - acc: 0.5221 - val_loss: 9.0382 - val_acc: 0.0862\n",
      "Epoch 44/200\n",
      "420000/420000 [==============================] - 20s 47us/step - loss: 1.3205 - acc: 0.5245 - val_loss: 8.9804 - val_acc: 0.0840\n",
      "Epoch 45/200\n",
      "420000/420000 [==============================] - 20s 47us/step - loss: 1.3209 - acc: 0.5248 - val_loss: 8.3200 - val_acc: 0.0867\n",
      "Epoch 46/200\n",
      "420000/420000 [==============================] - 20s 47us/step - loss: 1.3221 - acc: 0.5239 - val_loss: 8.7027 - val_acc: 0.0841\n",
      "Epoch 47/200\n",
      "420000/420000 [==============================] - 20s 47us/step - loss: 1.3229 - acc: 0.5245 - val_loss: 8.7629 - val_acc: 0.0861\n",
      "Epoch 48/200\n",
      "420000/420000 [==============================] - 20s 47us/step - loss: 1.3193 - acc: 0.5251 - val_loss: 8.8931 - val_acc: 0.0848\n",
      "Epoch 49/200\n",
      "420000/420000 [==============================] - 22s 52us/step - loss: 1.3199 - acc: 0.5247 - val_loss: 9.1512 - val_acc: 0.0883\n",
      "Epoch 50/200\n",
      "420000/420000 [==============================] - 22s 52us/step - loss: 1.3167 - acc: 0.5256 - val_loss: 8.9092 - val_acc: 0.0872\n",
      "Epoch 51/200\n",
      "420000/420000 [==============================] - 22s 52us/step - loss: 1.3169 - acc: 0.5260 - val_loss: 8.8680 - val_acc: 0.0843\n",
      "Epoch 52/200\n",
      "420000/420000 [==============================] - 22s 52us/step - loss: 1.3190 - acc: 0.5244 - val_loss: 8.8308 - val_acc: 0.0856\n",
      "Epoch 53/200\n",
      "420000/420000 [==============================] - 22s 52us/step - loss: 1.3186 - acc: 0.5253 - val_loss: 9.1889 - val_acc: 0.0843\n",
      "Epoch 54/200\n",
      "420000/420000 [==============================] - 22s 52us/step - loss: 1.3193 - acc: 0.5254 - val_loss: 8.6288 - val_acc: 0.0867\n",
      "Epoch 55/200\n",
      "420000/420000 [==============================] - 22s 52us/step - loss: 1.3181 - acc: 0.5248 - val_loss: 8.9088 - val_acc: 0.0834\n",
      "Epoch 56/200\n",
      "420000/420000 [==============================] - 22s 52us/step - loss: 1.3160 - acc: 0.5252 - val_loss: 8.3045 - val_acc: 0.0846\n",
      "Epoch 57/200\n",
      "420000/420000 [==============================] - 22s 52us/step - loss: 1.3168 - acc: 0.5254 - val_loss: 8.0548 - val_acc: 0.0877\n",
      "Epoch 58/200\n"
     ]
    },
    {
     "name": "stdout",
     "output_type": "stream",
     "text": [
      "420000/420000 [==============================] - 22s 52us/step - loss: 1.3188 - acc: 0.5252 - val_loss: 8.8896 - val_acc: 0.0862\n",
      "Epoch 59/200\n",
      "420000/420000 [==============================] - 22s 52us/step - loss: 1.3176 - acc: 0.5246 - val_loss: 8.3193 - val_acc: 0.0857\n",
      "Epoch 60/200\n",
      "420000/420000 [==============================] - 22s 52us/step - loss: 1.3173 - acc: 0.5250 - val_loss: 8.5780 - val_acc: 0.0854\n",
      "Epoch 61/200\n",
      "420000/420000 [==============================] - 22s 52us/step - loss: 1.3180 - acc: 0.5255 - val_loss: 8.9466 - val_acc: 0.0858\n",
      "Epoch 62/200\n",
      "420000/420000 [==============================] - 22s 52us/step - loss: 1.3195 - acc: 0.5250 - val_loss: 8.5938 - val_acc: 0.0851\n",
      "Epoch 63/200\n",
      "420000/420000 [==============================] - 22s 52us/step - loss: 1.3173 - acc: 0.5262 - val_loss: 8.9252 - val_acc: 0.0850\n",
      "Epoch 64/200\n",
      "420000/420000 [==============================] - 22s 52us/step - loss: 1.3198 - acc: 0.5249 - val_loss: 8.8291 - val_acc: 0.0861\n",
      "Epoch 65/200\n",
      "420000/420000 [==============================] - 22s 52us/step - loss: 1.3158 - acc: 0.5255 - val_loss: 9.0763 - val_acc: 0.0852\n",
      "Epoch 66/200\n",
      "420000/420000 [==============================] - 22s 52us/step - loss: 1.3167 - acc: 0.5257 - val_loss: 9.0356 - val_acc: 0.0869\n",
      "Epoch 67/200\n",
      "420000/420000 [==============================] - 22s 52us/step - loss: 1.3151 - acc: 0.5272 - val_loss: 8.9358 - val_acc: 0.0882\n",
      "Epoch 68/200\n",
      "420000/420000 [==============================] - 22s 52us/step - loss: 1.3192 - acc: 0.5249 - val_loss: 8.7429 - val_acc: 0.0870\n",
      "Epoch 69/200\n",
      "420000/420000 [==============================] - 22s 52us/step - loss: 1.3149 - acc: 0.5263 - val_loss: 9.0585 - val_acc: 0.0862\n",
      "Epoch 70/200\n",
      "420000/420000 [==============================] - 22s 52us/step - loss: 1.3138 - acc: 0.5267 - val_loss: 9.4120 - val_acc: 0.0856\n",
      "Epoch 71/200\n",
      "420000/420000 [==============================] - 22s 52us/step - loss: 1.3162 - acc: 0.5255 - val_loss: 9.5399 - val_acc: 0.0867\n",
      "Epoch 72/200\n",
      "420000/420000 [==============================] - 22s 52us/step - loss: 1.3146 - acc: 0.5267 - val_loss: 8.9503 - val_acc: 0.0868\n",
      "Epoch 73/200\n",
      "420000/420000 [==============================] - 22s 52us/step - loss: 1.3138 - acc: 0.5263 - val_loss: 9.0657 - val_acc: 0.0875\n",
      "Epoch 74/200\n",
      "420000/420000 [==============================] - 22s 52us/step - loss: 1.3155 - acc: 0.5259 - val_loss: 8.8291 - val_acc: 0.0844\n",
      "Epoch 75/200\n",
      "420000/420000 [==============================] - 22s 52us/step - loss: 1.3150 - acc: 0.5256 - val_loss: 9.0828 - val_acc: 0.0854\n",
      "Epoch 76/200\n",
      "420000/420000 [==============================] - 22s 52us/step - loss: 1.3114 - acc: 0.5273 - val_loss: 8.9329 - val_acc: 0.0858\n",
      "Epoch 77/200\n",
      "420000/420000 [==============================] - 20s 48us/step - loss: 1.3118 - acc: 0.5274 - val_loss: 9.0004 - val_acc: 0.0856\n",
      "Epoch 78/200\n",
      "420000/420000 [==============================] - 20s 47us/step - loss: 1.3158 - acc: 0.5262 - val_loss: 8.7759 - val_acc: 0.0844\n",
      "Epoch 79/200\n",
      "420000/420000 [==============================] - 20s 47us/step - loss: 1.3136 - acc: 0.5265 - val_loss: 8.8721 - val_acc: 0.0850\n",
      "Epoch 80/200\n",
      "420000/420000 [==============================] - 20s 47us/step - loss: 1.3168 - acc: 0.5264 - val_loss: 8.8557 - val_acc: 0.0831\n",
      "Epoch 81/200\n",
      "420000/420000 [==============================] - 20s 47us/step - loss: 1.3116 - acc: 0.5279 - val_loss: 8.7849 - val_acc: 0.0828\n",
      "Epoch 82/200\n",
      "420000/420000 [==============================] - 20s 47us/step - loss: 1.3142 - acc: 0.5264 - val_loss: 8.7753 - val_acc: 0.0848\n",
      "Epoch 83/200\n",
      "420000/420000 [==============================] - 20s 46us/step - loss: 1.3124 - acc: 0.5281 - val_loss: 8.8054 - val_acc: 0.0864\n",
      "Epoch 84/200\n",
      "420000/420000 [==============================] - 20s 47us/step - loss: 1.3135 - acc: 0.5272 - val_loss: 8.3413 - val_acc: 0.0827\n",
      "Epoch 85/200\n",
      "420000/420000 [==============================] - 20s 47us/step - loss: 1.3137 - acc: 0.5264 - val_loss: 8.8238 - val_acc: 0.0844\n",
      "Epoch 86/200\n",
      "420000/420000 [==============================] - 20s 47us/step - loss: 1.3137 - acc: 0.5268 - val_loss: 8.8649 - val_acc: 0.0864\n",
      "Epoch 87/200\n",
      "420000/420000 [==============================] - 20s 47us/step - loss: 1.3085 - acc: 0.5289 - val_loss: 8.8676 - val_acc: 0.0856\n",
      "Epoch 88/200\n",
      "420000/420000 [==============================] - 20s 47us/step - loss: 1.3125 - acc: 0.5273 - val_loss: 8.3367 - val_acc: 0.0837\n",
      "Epoch 89/200\n",
      "420000/420000 [==============================] - 22s 51us/step - loss: 1.3117 - acc: 0.5268 - val_loss: 9.0007 - val_acc: 0.0870\n",
      "Epoch 90/200\n",
      "420000/420000 [==============================] - 22s 53us/step - loss: 1.3109 - acc: 0.5275 - val_loss: 9.0920 - val_acc: 0.0874\n",
      "Epoch 91/200\n",
      "420000/420000 [==============================] - 22s 52us/step - loss: 1.3111 - acc: 0.5275 - val_loss: 8.8487 - val_acc: 0.0850\n",
      "Epoch 92/200\n",
      "420000/420000 [==============================] - 22s 53us/step - loss: 1.3107 - acc: 0.5286 - val_loss: 8.6862 - val_acc: 0.0891\n",
      "Epoch 93/200\n",
      "420000/420000 [==============================] - 22s 53us/step - loss: 1.3114 - acc: 0.5274 - val_loss: 8.6216 - val_acc: 0.0879\n",
      "Epoch 94/200\n",
      "420000/420000 [==============================] - 22s 53us/step - loss: 1.3086 - acc: 0.5296 - val_loss: 8.3327 - val_acc: 0.0836\n",
      "Epoch 95/200\n",
      "420000/420000 [==============================] - 22s 52us/step - loss: 1.3108 - acc: 0.5285 - val_loss: 8.5759 - val_acc: 0.0839\n",
      "Epoch 96/200\n",
      "420000/420000 [==============================] - 22s 53us/step - loss: 1.3097 - acc: 0.5273 - val_loss: 8.6935 - val_acc: 0.0843\n",
      "Epoch 97/200\n",
      "420000/420000 [==============================] - 22s 52us/step - loss: 1.3078 - acc: 0.5293 - val_loss: 8.5626 - val_acc: 0.0849\n",
      "Epoch 98/200\n",
      "420000/420000 [==============================] - 22s 52us/step - loss: 1.3063 - acc: 0.5302 - val_loss: 8.9222 - val_acc: 0.0818\n",
      "Epoch 99/200\n",
      "420000/420000 [==============================] - 22s 52us/step - loss: 1.3099 - acc: 0.5290 - val_loss: 8.0472 - val_acc: 0.0837\n",
      "Epoch 100/200\n",
      "420000/420000 [==============================] - 21s 49us/step - loss: 1.3086 - acc: 0.5283 - val_loss: 8.1884 - val_acc: 0.0826\n",
      "Epoch 101/200\n",
      "420000/420000 [==============================] - 20s 49us/step - loss: 1.3106 - acc: 0.5281 - val_loss: 8.4343 - val_acc: 0.0864\n",
      "Epoch 102/200\n",
      "420000/420000 [==============================] - 20s 48us/step - loss: 1.3074 - acc: 0.5301 - val_loss: 8.7216 - val_acc: 0.0835\n",
      "Epoch 103/200\n",
      "420000/420000 [==============================] - 21s 49us/step - loss: 1.3098 - acc: 0.5284 - val_loss: 8.5339 - val_acc: 0.0830\n",
      "Epoch 104/200\n",
      "420000/420000 [==============================] - 20s 48us/step - loss: 1.3071 - acc: 0.5290 - val_loss: 8.6594 - val_acc: 0.0880\n",
      "Epoch 105/200\n",
      "420000/420000 [==============================] - 20s 48us/step - loss: 1.3080 - acc: 0.5300 - val_loss: 8.4282 - val_acc: 0.0868\n",
      "Epoch 106/200\n",
      "420000/420000 [==============================] - 20s 48us/step - loss: 1.3079 - acc: 0.5303 - val_loss: 8.6625 - val_acc: 0.0848\n",
      "Epoch 107/200\n",
      "420000/420000 [==============================] - 20s 48us/step - loss: 1.3061 - acc: 0.5298 - val_loss: 8.8859 - val_acc: 0.0845\n",
      "Epoch 108/200\n",
      "420000/420000 [==============================] - 22s 52us/step - loss: 1.3090 - acc: 0.5288 - val_loss: 8.6709 - val_acc: 0.0839\n",
      "Epoch 109/200\n",
      "420000/420000 [==============================] - 22s 52us/step - loss: 1.3050 - acc: 0.5302 - val_loss: 8.9233 - val_acc: 0.0857\n",
      "Epoch 110/200\n",
      "420000/420000 [==============================] - 22s 52us/step - loss: 1.3076 - acc: 0.5286 - val_loss: 8.5725 - val_acc: 0.0853\n",
      "Epoch 111/200\n",
      "420000/420000 [==============================] - 22s 52us/step - loss: 1.3048 - acc: 0.5296 - val_loss: 8.6255 - val_acc: 0.0828\n",
      "Epoch 112/200\n",
      "420000/420000 [==============================] - 22s 51us/step - loss: 1.3085 - acc: 0.5292 - val_loss: 8.7706 - val_acc: 0.0839\n",
      "Epoch 113/200\n",
      "420000/420000 [==============================] - 22s 52us/step - loss: 1.3036 - acc: 0.5299 - val_loss: 8.8685 - val_acc: 0.0861\n",
      "Epoch 114/200\n",
      "420000/420000 [==============================] - 22s 52us/step - loss: 1.3051 - acc: 0.5292 - val_loss: 8.2492 - val_acc: 0.0855\n",
      "Epoch 115/200\n"
     ]
    },
    {
     "name": "stdout",
     "output_type": "stream",
     "text": [
      "420000/420000 [==============================] - 22s 52us/step - loss: 1.3034 - acc: 0.5309 - val_loss: 8.4951 - val_acc: 0.0828\n",
      "Epoch 116/200\n",
      "420000/420000 [==============================] - 22s 52us/step - loss: 1.3040 - acc: 0.5308 - val_loss: 8.3035 - val_acc: 0.0849\n",
      "Epoch 117/200\n",
      "420000/420000 [==============================] - 22s 52us/step - loss: 1.3038 - acc: 0.5299 - val_loss: 8.3912 - val_acc: 0.0845\n",
      "Epoch 118/200\n",
      "420000/420000 [==============================] - 22s 51us/step - loss: 1.3048 - acc: 0.5305 - val_loss: 8.3203 - val_acc: 0.0865\n",
      "Epoch 119/200\n",
      "420000/420000 [==============================] - 22s 52us/step - loss: 1.3046 - acc: 0.5312 - val_loss: 8.4597 - val_acc: 0.0831\n",
      "Epoch 120/200\n",
      "420000/420000 [==============================] - 22s 52us/step - loss: 1.3046 - acc: 0.5303 - val_loss: 8.8475 - val_acc: 0.0841\n",
      "Epoch 121/200\n",
      "420000/420000 [==============================] - 22s 52us/step - loss: 1.3058 - acc: 0.5299 - val_loss: 8.5689 - val_acc: 0.0848\n",
      "Epoch 122/200\n",
      "420000/420000 [==============================] - 22s 52us/step - loss: 1.3040 - acc: 0.5304 - val_loss: 8.7906 - val_acc: 0.0850\n",
      "Epoch 123/200\n",
      "420000/420000 [==============================] - 22s 52us/step - loss: 1.3068 - acc: 0.5291 - val_loss: 8.8752 - val_acc: 0.0816\n",
      "Epoch 124/200\n",
      "420000/420000 [==============================] - 22s 52us/step - loss: 1.3049 - acc: 0.5304 - val_loss: 8.4207 - val_acc: 0.0853\n",
      "Epoch 125/200\n",
      "420000/420000 [==============================] - 22s 52us/step - loss: 1.3042 - acc: 0.5308 - val_loss: 8.8725 - val_acc: 0.0840\n",
      "Epoch 126/200\n",
      "420000/420000 [==============================] - 22s 52us/step - loss: 1.3057 - acc: 0.5291 - val_loss: 8.0383 - val_acc: 0.0865\n",
      "Epoch 127/200\n",
      "420000/420000 [==============================] - 22s 52us/step - loss: 1.3011 - acc: 0.5316 - val_loss: 8.9909 - val_acc: 0.0841\n",
      "Epoch 128/200\n",
      "420000/420000 [==============================] - 22s 52us/step - loss: 1.3075 - acc: 0.5294 - val_loss: 8.8229 - val_acc: 0.0853\n",
      "Epoch 129/200\n",
      "420000/420000 [==============================] - 22s 52us/step - loss: 1.3003 - acc: 0.5325 - val_loss: 8.8895 - val_acc: 0.0864\n",
      "Epoch 130/200\n",
      "420000/420000 [==============================] - 22s 52us/step - loss: 1.3046 - acc: 0.5309 - val_loss: 8.8295 - val_acc: 0.0848\n",
      "Epoch 131/200\n",
      "420000/420000 [==============================] - 22s 52us/step - loss: 1.3022 - acc: 0.5308 - val_loss: 8.7798 - val_acc: 0.0829\n",
      "Epoch 132/200\n",
      "420000/420000 [==============================] - 22s 52us/step - loss: 1.3060 - acc: 0.5298 - val_loss: 9.0334 - val_acc: 0.0851\n",
      "Epoch 133/200\n",
      "420000/420000 [==============================] - 21s 51us/step - loss: 1.3039 - acc: 0.5299 - val_loss: 8.4497 - val_acc: 0.0850\n",
      "Epoch 134/200\n",
      "420000/420000 [==============================] - 20s 49us/step - loss: 1.3020 - acc: 0.5311 - val_loss: 8.6865 - val_acc: 0.0851\n",
      "Epoch 135/200\n",
      "420000/420000 [==============================] - 20s 48us/step - loss: 1.3033 - acc: 0.5304 - val_loss: 8.9330 - val_acc: 0.0853\n",
      "Epoch 136/200\n",
      "420000/420000 [==============================] - 20s 48us/step - loss: 1.3057 - acc: 0.5291 - val_loss: 7.9725 - val_acc: 0.0831\n",
      "Epoch 137/200\n",
      "420000/420000 [==============================] - 20s 48us/step - loss: 1.3030 - acc: 0.5313 - val_loss: 8.5243 - val_acc: 0.0822\n",
      "Epoch 138/200\n",
      "420000/420000 [==============================] - 20s 48us/step - loss: 1.3027 - acc: 0.5316 - val_loss: 8.3762 - val_acc: 0.0840\n",
      "Epoch 139/200\n",
      "420000/420000 [==============================] - 20s 47us/step - loss: 1.3032 - acc: 0.5313 - val_loss: 8.1468 - val_acc: 0.0844\n",
      "Epoch 140/200\n",
      "420000/420000 [==============================] - 20s 47us/step - loss: 1.3009 - acc: 0.5325 - val_loss: 8.2805 - val_acc: 0.0836\n",
      "Epoch 141/200\n",
      "420000/420000 [==============================] - 21s 49us/step - loss: 1.3009 - acc: 0.5323 - val_loss: 8.3321 - val_acc: 0.0839\n",
      "Epoch 142/200\n",
      "420000/420000 [==============================] - 22s 52us/step - loss: 1.3023 - acc: 0.5311 - val_loss: 9.0519 - val_acc: 0.0860\n",
      "Epoch 143/200\n",
      "420000/420000 [==============================] - 22s 52us/step - loss: 1.3035 - acc: 0.5302 - val_loss: 8.1777 - val_acc: 0.0871\n",
      "Epoch 144/200\n",
      "420000/420000 [==============================] - 22s 52us/step - loss: 1.3025 - acc: 0.5316 - val_loss: 8.5696 - val_acc: 0.0848\n",
      "Epoch 145/200\n",
      "420000/420000 [==============================] - 22s 52us/step - loss: 1.3009 - acc: 0.5319 - val_loss: 8.8231 - val_acc: 0.0837\n",
      "Epoch 146/200\n",
      "420000/420000 [==============================] - 22s 53us/step - loss: 1.3028 - acc: 0.5310 - val_loss: 8.1123 - val_acc: 0.0841\n",
      "Epoch 147/200\n",
      "420000/420000 [==============================] - 22s 52us/step - loss: 1.3030 - acc: 0.5314 - val_loss: 8.5088 - val_acc: 0.0818\n",
      "Epoch 148/200\n",
      "420000/420000 [==============================] - 22s 53us/step - loss: 1.2989 - acc: 0.5323 - val_loss: 8.6971 - val_acc: 0.0831\n",
      "Epoch 149/200\n",
      "420000/420000 [==============================] - 22s 52us/step - loss: 1.3009 - acc: 0.5319 - val_loss: 8.5935 - val_acc: 0.0837\n",
      "Epoch 150/200\n",
      "420000/420000 [==============================] - 22s 52us/step - loss: 1.3012 - acc: 0.5317 - val_loss: 8.9516 - val_acc: 0.0869\n",
      "Epoch 151/200\n",
      "420000/420000 [==============================] - 22s 52us/step - loss: 1.2990 - acc: 0.5320 - val_loss: 8.4782 - val_acc: 0.0870\n",
      "Epoch 152/200\n",
      "420000/420000 [==============================] - 22s 52us/step - loss: 1.3000 - acc: 0.5311 - val_loss: 8.4666 - val_acc: 0.0840\n",
      "Epoch 153/200\n",
      "420000/420000 [==============================] - 22s 52us/step - loss: 1.3024 - acc: 0.5310 - val_loss: 8.4653 - val_acc: 0.0840\n",
      "Epoch 154/200\n",
      "420000/420000 [==============================] - 22s 52us/step - loss: 1.3006 - acc: 0.5319 - val_loss: 7.8782 - val_acc: 0.0827\n",
      "Epoch 155/200\n",
      "420000/420000 [==============================] - 22s 52us/step - loss: 1.3040 - acc: 0.5308 - val_loss: 7.9680 - val_acc: 0.0851\n",
      "Epoch 156/200\n",
      "420000/420000 [==============================] - 22s 52us/step - loss: 1.3004 - acc: 0.5324 - val_loss: 8.2920 - val_acc: 0.0895\n",
      "Epoch 157/200\n",
      "420000/420000 [==============================] - 22s 53us/step - loss: 1.2978 - acc: 0.5337 - val_loss: 7.5328 - val_acc: 0.0836\n",
      "Epoch 158/200\n",
      "420000/420000 [==============================] - 22s 53us/step - loss: 1.2986 - acc: 0.5338 - val_loss: 7.5644 - val_acc: 0.0871\n",
      "Epoch 159/200\n",
      "420000/420000 [==============================] - 22s 51us/step - loss: 1.3013 - acc: 0.5330 - val_loss: 7.6348 - val_acc: 0.0830\n",
      "Epoch 160/200\n",
      "420000/420000 [==============================] - 21s 50us/step - loss: 1.2972 - acc: 0.5342 - val_loss: 8.8168 - val_acc: 0.0827\n",
      "Epoch 161/200\n",
      "420000/420000 [==============================] - 22s 51us/step - loss: 1.2953 - acc: 0.5346 - val_loss: 8.9310 - val_acc: 0.0841\n",
      "Epoch 162/200\n",
      "420000/420000 [==============================] - 22s 52us/step - loss: 1.2961 - acc: 0.5338 - val_loss: 8.4489 - val_acc: 0.0837\n",
      "Epoch 163/200\n",
      "420000/420000 [==============================] - 22s 51us/step - loss: 1.2973 - acc: 0.5343 - val_loss: 8.2482 - val_acc: 0.0829\n",
      "Epoch 164/200\n",
      "420000/420000 [==============================] - 22s 51us/step - loss: 1.2934 - acc: 0.5345 - val_loss: 9.0655 - val_acc: 0.0844\n",
      "Epoch 165/200\n",
      "420000/420000 [==============================] - 22s 51us/step - loss: 1.2950 - acc: 0.5341 - val_loss: 8.7073 - val_acc: 0.0842\n",
      "Epoch 166/200\n",
      "420000/420000 [==============================] - 22s 51us/step - loss: 1.2945 - acc: 0.5343 - val_loss: 8.9739 - val_acc: 0.0793\n",
      "Epoch 167/200\n",
      "420000/420000 [==============================] - 22s 52us/step - loss: 1.2954 - acc: 0.5345 - val_loss: 8.2948 - val_acc: 0.0806\n",
      "Epoch 168/200\n",
      "420000/420000 [==============================] - 22s 52us/step - loss: 1.2912 - acc: 0.5359 - val_loss: 8.5768 - val_acc: 0.0819\n",
      "Epoch 169/200\n",
      "420000/420000 [==============================] - 22s 51us/step - loss: 1.2935 - acc: 0.5345 - val_loss: 9.4210 - val_acc: 0.0816\n",
      "Epoch 170/200\n",
      "420000/420000 [==============================] - 22s 52us/step - loss: 1.2895 - acc: 0.5357 - val_loss: 9.8938 - val_acc: 0.0808\n",
      "Epoch 171/200\n",
      "420000/420000 [==============================] - 22s 52us/step - loss: 1.2917 - acc: 0.5359 - val_loss: 9.6196 - val_acc: 0.0840\n",
      "Epoch 172/200\n"
     ]
    },
    {
     "name": "stdout",
     "output_type": "stream",
     "text": [
      "420000/420000 [==============================] - 22s 52us/step - loss: 1.2927 - acc: 0.5350 - val_loss: 9.0782 - val_acc: 0.0832\n",
      "Epoch 173/200\n",
      "420000/420000 [==============================] - 22s 52us/step - loss: 1.2904 - acc: 0.5352 - val_loss: 8.8976 - val_acc: 0.0845\n",
      "Epoch 174/200\n",
      "420000/420000 [==============================] - 22s 52us/step - loss: 1.2902 - acc: 0.5367 - val_loss: 9.2084 - val_acc: 0.0842\n",
      "Epoch 175/200\n",
      "420000/420000 [==============================] - 22s 52us/step - loss: 1.2897 - acc: 0.5365 - val_loss: 8.9439 - val_acc: 0.0867\n",
      "Epoch 176/200\n",
      "420000/420000 [==============================] - 22s 52us/step - loss: 1.2877 - acc: 0.5375 - val_loss: 9.2426 - val_acc: 0.0829\n",
      "Epoch 177/200\n",
      "420000/420000 [==============================] - 22s 52us/step - loss: 1.2899 - acc: 0.5362 - val_loss: 8.2083 - val_acc: 0.0824\n",
      "Epoch 178/200\n",
      "420000/420000 [==============================] - 22s 52us/step - loss: 1.2879 - acc: 0.5370 - val_loss: 8.7391 - val_acc: 0.0814\n",
      "Epoch 179/200\n",
      "420000/420000 [==============================] - 22s 52us/step - loss: 1.2876 - acc: 0.5369 - val_loss: 8.9400 - val_acc: 0.0842\n",
      "Epoch 180/200\n",
      "420000/420000 [==============================] - 22s 52us/step - loss: 1.2891 - acc: 0.5370 - val_loss: 8.7449 - val_acc: 0.0832\n",
      "Epoch 181/200\n",
      "420000/420000 [==============================] - 22s 52us/step - loss: 1.2860 - acc: 0.5373 - val_loss: 8.8522 - val_acc: 0.0825\n",
      "Epoch 182/200\n",
      "420000/420000 [==============================] - 22s 52us/step - loss: 1.2878 - acc: 0.5369 - val_loss: 9.1071 - val_acc: 0.0862\n",
      "Epoch 183/200\n",
      "420000/420000 [==============================] - 22s 52us/step - loss: 1.2870 - acc: 0.5369 - val_loss: 9.2992 - val_acc: 0.0860\n",
      "Epoch 184/200\n",
      "420000/420000 [==============================] - 22s 52us/step - loss: 1.2851 - acc: 0.5381 - val_loss: 8.9580 - val_acc: 0.0823\n",
      "Epoch 185/200\n",
      "420000/420000 [==============================] - 22s 52us/step - loss: 1.2873 - acc: 0.5375 - val_loss: 8.5098 - val_acc: 0.0827\n",
      "Epoch 186/200\n",
      "420000/420000 [==============================] - 22s 52us/step - loss: 1.2903 - acc: 0.5365 - val_loss: 8.4269 - val_acc: 0.0857\n",
      "Epoch 187/200\n",
      "420000/420000 [==============================] - 22s 52us/step - loss: 1.2846 - acc: 0.5381 - val_loss: 8.8176 - val_acc: 0.0800\n",
      "Epoch 188/200\n",
      "420000/420000 [==============================] - 22s 52us/step - loss: 1.2842 - acc: 0.5389 - val_loss: 8.0827 - val_acc: 0.0875\n",
      "Epoch 189/200\n",
      "420000/420000 [==============================] - 21s 49us/step - loss: 1.2856 - acc: 0.5385 - val_loss: 8.3717 - val_acc: 0.0816\n",
      "Epoch 190/200\n",
      "420000/420000 [==============================] - 19s 45us/step - loss: 1.2862 - acc: 0.5371 - val_loss: 8.6968 - val_acc: 0.0867\n",
      "Epoch 191/200\n",
      "420000/420000 [==============================] - 18s 42us/step - loss: 1.2849 - acc: 0.5388 - val_loss: 9.0248 - val_acc: 0.0855\n",
      "Epoch 192/200\n",
      "420000/420000 [==============================] - 17s 41us/step - loss: 1.2866 - acc: 0.5384 - val_loss: 8.7896 - val_acc: 0.0828\n",
      "Epoch 193/200\n",
      "420000/420000 [==============================] - 17s 41us/step - loss: 1.2859 - acc: 0.5373 - val_loss: 8.8149 - val_acc: 0.0860\n",
      "Epoch 194/200\n",
      "420000/420000 [==============================] - 17s 41us/step - loss: 1.2845 - acc: 0.5380 - val_loss: 8.3603 - val_acc: 0.0852\n",
      "Epoch 195/200\n",
      "420000/420000 [==============================] - 17s 41us/step - loss: 1.2853 - acc: 0.5370 - val_loss: 8.0562 - val_acc: 0.0850\n",
      "Epoch 196/200\n",
      "420000/420000 [==============================] - 17s 41us/step - loss: 1.2836 - acc: 0.5386 - val_loss: 8.9507 - val_acc: 0.0835\n",
      "Epoch 197/200\n",
      "420000/420000 [==============================] - 19s 46us/step - loss: 1.2826 - acc: 0.5381 - val_loss: 8.4028 - val_acc: 0.0817\n",
      "Epoch 198/200\n",
      "420000/420000 [==============================] - 19s 46us/step - loss: 1.2842 - acc: 0.5394 - val_loss: 8.2145 - val_acc: 0.0825\n",
      "Epoch 199/200\n",
      "420000/420000 [==============================] - 20s 47us/step - loss: 1.2811 - acc: 0.5392 - val_loss: 8.2268 - val_acc: 0.0785\n",
      "Epoch 200/200\n",
      "420000/420000 [==============================] - 21s 50us/step - loss: 1.2815 - acc: 0.5394 - val_loss: 7.8523 - val_acc: 0.0847\n",
      "Test loss: 7.852275582631429\n",
      "Test accuracy: 0.08466111111111112\n"
     ]
    }
   ],
   "source": [
    "history = model.fit(X_train_pca, ytr_int_encoded,\n",
    "                    batch_size=150,\n",
    "                    epochs=200,\n",
    "                    verbose=1,\n",
    "                    validation_data=(X_test_pca, yte_int_encoded))\n",
    "score = model.evaluate(X_test_pca, yte_int_encoded, verbose=0)\n",
    "print('Test loss:', score[0])\n",
    "print('Test accuracy:', score[1])"
   ]
  },
  {
   "cell_type": "code",
   "execution_count": 62,
   "metadata": {},
   "outputs": [
    {
     "data": {
      "image/png": "[encoded data removed]",
      "text/plain": [
       "<Figure size 1152x1152 with 1 Axes>"
      ]
     },
     "metadata": {},
     "output_type": "display_data"
    }
   ],
   "source": [
    "# summarize history for accuracy\n",
    "plt.plot(history.history['acc'])\n",
    "plt.plot(history.history['val_acc'])\n",
    "plt.title('model accuracy')\n",
    "plt.ylabel('accuracy')\n",
    "plt.xlabel('epoch')\n",
    "plt.legend(['train', 'test'], loc='upper left')\n",
    "plt.show()"
   ]
  },
  {
   "cell_type": "markdown",
   "metadata": {},
   "source": [
    "# Analyis\n",
    "\n",
    "For my neural network, I initially had a lot of issues with it since I had to encode my test data in order to use the neural network because my test data was all strings. So I had the option of encoding it one-hot encoding or encoding it as integers. I chose the integer method in order to keep the column and reduce the number of columns that the hot encoding would have returned to me. Because I chose integers, I had to use sparse categorical crossentropy as my loss function which is meant for multiclass identification. \n",
    "\n",
    "Afterwards, I chose to use the PCA data set in order to obtain a better score. Ultimately, the neural network training score did alright after a few iterations (having more epochs), but the validation score had not improved.\n",
    "\n",
    "# Convolutional Neural Network"
   ]
  },
  {
   "cell_type": "code",
   "execution_count": 72,
   "metadata": {},
   "outputs": [],
   "source": [
    "train = ga_apps_labeled_brands_resampled\n",
    "test = ga_apps_labeled_brands_resampled.drop('group', axis=1)\n",
    "\n",
    "# Write a method to encode my data.\n",
    "def encode(train, test):\n",
    "    label_encoder = LabelEncoder().fit(ga_apps_labeled_brands_resampled.group)\n",
    "    labels = label_encoder.transform(ga_apps_labeled_brands_resampled.group)\n",
    "    classes = list(label_encoder.classes_)\n",
    "\n",
    "    train = ga_apps_labeled_brands_resampled.drop(['group', 'app_id'], axis=1)\n",
    "    test = ga_apps_labeled_brands_resampled.drop('group', axis=1)\n",
    "\n",
    "    return train, labels, test, classes"
   ]
  },
  {
   "cell_type": "code",
   "execution_count": null,
   "metadata": {},
   "outputs": [
    {
     "name": "stderr",
     "output_type": "stream",
     "text": [
      "/anaconda3/lib/python3.6/site-packages/sklearn/utils/validation.py:475: DataConversionWarning: Data with input dtype int64 was converted to float64 by StandardScaler.\n",
      "  warnings.warn(msg, DataConversionWarning)\n"
     ]
    }
   ],
   "source": [
    "from sklearn.model_selection import StratifiedShuffleSplit\n",
    "# Run my method\n",
    "train, labels, test, classes = encode(train, test)\n",
    "\n",
    "# standardize train features\n",
    "scaler = StandardScaler().fit(train.values)\n",
    "scaled_train = scaler.transform(train.values)\n",
    "\n",
    "# split train data into train and validation\n",
    "sss = StratifiedShuffleSplit(test_size=0.1, random_state=23)\n",
    "for train_index, valid_index in sss.split(scaled_train, labels):\n",
    "    cnn_X_train, cnn_X_test = scaled_train[train_index], scaled_train[valid_index]\n",
    "    cnn_y_train, cnn_y_test = labels[train_index], labels[valid_index]\n",
    "    \n",
    "\n",
    "nb_features = 491 # number of features   \n",
    "nb_class = len(classes)\n",
    "\n",
    "# reshape train data\n",
    "X_train_r = np.zeros((len(cnn_X_train), nb_features, 491))\n",
    "X_train_r[:, :, 0] = cnn_X_train[:, :nb_features]\n",
    "X_train_r[:, :, 1] = cnn_X_train[:, nb_features:155]\n",
    "X_train_r[:, :, 2] = cnn_X_train[:, 155:]\n",
    "\n",
    "# reshape validation data\n",
    "X_test_r = np.zeros((len(cnn_X_test), nb_features, 491))\n",
    "X_test_r[:, :, 0] = cnn_X_test[:, :nb_features]\n",
    "X_test_r[:, :, 1] = cnn_X_test[:, nb_features:155]\n",
    "X_test_r[:, :, 2] = cnn_X_test[:, 155:]"
   ]
  },
  {
   "cell_type": "code",
   "execution_count": null,
   "metadata": {},
   "outputs": [],
   "source": [
    "cnn_y_train = np_utils.to_categorical(cnn_y_train, nb_class)\n",
    "cnn_y_test = np_utils.to_categorical(cnn_y_test, nb_class)"
   ]
  },
  {
   "cell_type": "code",
   "execution_count": null,
   "metadata": {},
   "outputs": [],
   "source": [
    "# Keras model with one Convolution1D layer\n",
    "# unfortunately more number of covnolutional layers, filters and filters lenght \n",
    "# don't give better accuracy\n",
    "model = Sequential()\n",
    "model.add(Convolution1D(nb_filter=512, filter_length=1, input_shape=(nb_features, 3)))\n",
    "model.add(Activation('relu'))\n",
    "model.add(Flatten())\n",
    "model.add(Dropout(0.4))\n",
    "model.add(Dense(2048, activation='relu'))\n",
    "model.add(Dense(1024, activation='relu'))\n",
    "model.add(Dense(nb_class))\n",
    "model.add(Activation('softmax'))\n"
   ]
  },
  {
   "cell_type": "code",
   "execution_count": null,
   "metadata": {},
   "outputs": [],
   "source": [
    "model.compile(loss=keras.losses.categorical_crossentropy,\n",
    "              optimizer=keras.optimizers.Adadelta(),\n",
    "              metrics=['accuracy'])\n",
    "\n",
    "model.fit(X_train_r, cnn_y_train,\n",
    "          batch_size=128,\n",
    "          epochs=100,\n",
    "          verbose=1,\n",
    "          validation_data=(X_test_r, cnn_y_test))\n",
    "score = model.evaluate(X_test_r, cnn_y_test, verbose=0)\n",
    "print('Test loss:', score[0])\n",
    "print('Test accuracy:', score[1])"
   ]
  },
  {
   "cell_type": "code",
   "execution_count": null,
   "metadata": {},
   "outputs": [],
   "source": []
  },
  {
   "cell_type": "code",
   "execution_count": 69,
   "metadata": {},
   "outputs": [
    {
     "ename": "ValueError",
     "evalue": "Input 0 is incompatible with layer conv1d_9: expected ndim=3, found ndim=2",
     "output_type": "error",
     "traceback": [
      "\u001b[0;31m---------------------------------------------------------------------------\u001b[0m",
      "\u001b[0;31mValueError\u001b[0m                                Traceback (most recent call last)",
      "\u001b[0;32m<ipython-input-69-f2fbbbdfdfad>\u001b[0m in \u001b[0;36m<module>\u001b[0;34m()\u001b[0m\n\u001b[1;32m     15\u001b[0m model.add(Conv1D(32, kernel_size=10,\n\u001b[1;32m     16\u001b[0m                  \u001b[0mactivation\u001b[0m\u001b[0;34m=\u001b[0m\u001b[0;34m'relu'\u001b[0m\u001b[0;34m,\u001b[0m\u001b[0;34m\u001b[0m\u001b[0m\n\u001b[0;32m---> 17\u001b[0;31m                  input_shape=input_shape))\n\u001b[0m\u001b[1;32m     18\u001b[0m \u001b[0mmodel\u001b[0m\u001b[0;34m.\u001b[0m\u001b[0madd\u001b[0m\u001b[0;34m(\u001b[0m\u001b[0mFlatten\u001b[0m\u001b[0;34m(\u001b[0m\u001b[0;34m)\u001b[0m\u001b[0;34m)\u001b[0m\u001b[0;34m\u001b[0m\u001b[0m\n\u001b[1;32m     19\u001b[0m \u001b[0mmodel\u001b[0m\u001b[0;34m.\u001b[0m\u001b[0madd\u001b[0m\u001b[0;34m(\u001b[0m\u001b[0mConv1D\u001b[0m\u001b[0;34m(\u001b[0m\u001b[0;36m128\u001b[0m\u001b[0;34m,\u001b[0m \u001b[0mactivation\u001b[0m\u001b[0;34m=\u001b[0m\u001b[0;34m'relu'\u001b[0m\u001b[0;34m)\u001b[0m\u001b[0;34m)\u001b[0m\u001b[0;34m\u001b[0m\u001b[0m\n",
      "\u001b[0;32m/anaconda3/lib/python3.6/site-packages/keras/models.py\u001b[0m in \u001b[0;36madd\u001b[0;34m(self, layer)\u001b[0m\n\u001b[1;32m    495\u001b[0m                 \u001b[0;31m# and create the node connecting the current layer\u001b[0m\u001b[0;34m\u001b[0m\u001b[0;34m\u001b[0m\u001b[0m\n\u001b[1;32m    496\u001b[0m                 \u001b[0;31m# to the input layer we just created.\u001b[0m\u001b[0;34m\u001b[0m\u001b[0;34m\u001b[0m\u001b[0m\n\u001b[0;32m--> 497\u001b[0;31m                 \u001b[0mlayer\u001b[0m\u001b[0;34m(\u001b[0m\u001b[0mx\u001b[0m\u001b[0;34m)\u001b[0m\u001b[0;34m\u001b[0m\u001b[0m\n\u001b[0m\u001b[1;32m    498\u001b[0m \u001b[0;34m\u001b[0m\u001b[0m\n\u001b[1;32m    499\u001b[0m             \u001b[0;32mif\u001b[0m \u001b[0mlen\u001b[0m\u001b[0;34m(\u001b[0m\u001b[0mlayer\u001b[0m\u001b[0;34m.\u001b[0m\u001b[0m_inbound_nodes\u001b[0m\u001b[0;34m[\u001b[0m\u001b[0;34m-\u001b[0m\u001b[0;36m1\u001b[0m\u001b[0;34m]\u001b[0m\u001b[0;34m.\u001b[0m\u001b[0moutput_tensors\u001b[0m\u001b[0;34m)\u001b[0m \u001b[0;34m!=\u001b[0m \u001b[0;36m1\u001b[0m\u001b[0;34m:\u001b[0m\u001b[0;34m\u001b[0m\u001b[0m\n",
      "\u001b[0;32m/anaconda3/lib/python3.6/site-packages/keras/engine/topology.py\u001b[0m in \u001b[0;36m__call__\u001b[0;34m(self, inputs, **kwargs)\u001b[0m\n\u001b[1;32m    573\u001b[0m                 \u001b[0;31m# Raise exceptions in case the input is not compatible\u001b[0m\u001b[0;34m\u001b[0m\u001b[0;34m\u001b[0m\u001b[0m\n\u001b[1;32m    574\u001b[0m                 \u001b[0;31m# with the input_spec specified in the layer constructor.\u001b[0m\u001b[0;34m\u001b[0m\u001b[0;34m\u001b[0m\u001b[0m\n\u001b[0;32m--> 575\u001b[0;31m                 \u001b[0mself\u001b[0m\u001b[0;34m.\u001b[0m\u001b[0massert_input_compatibility\u001b[0m\u001b[0;34m(\u001b[0m\u001b[0minputs\u001b[0m\u001b[0;34m)\u001b[0m\u001b[0;34m\u001b[0m\u001b[0m\n\u001b[0m\u001b[1;32m    576\u001b[0m \u001b[0;34m\u001b[0m\u001b[0m\n\u001b[1;32m    577\u001b[0m                 \u001b[0;31m# Collect input shapes to build layer.\u001b[0m\u001b[0;34m\u001b[0m\u001b[0;34m\u001b[0m\u001b[0m\n",
      "\u001b[0;32m/anaconda3/lib/python3.6/site-packages/keras/engine/topology.py\u001b[0m in \u001b[0;36massert_input_compatibility\u001b[0;34m(self, inputs)\u001b[0m\n\u001b[1;32m    472\u001b[0m                                      \u001b[0mself\u001b[0m\u001b[0;34m.\u001b[0m\u001b[0mname\u001b[0m \u001b[0;34m+\u001b[0m \u001b[0;34m': expected ndim='\u001b[0m \u001b[0;34m+\u001b[0m\u001b[0;34m\u001b[0m\u001b[0m\n\u001b[1;32m    473\u001b[0m                                      \u001b[0mstr\u001b[0m\u001b[0;34m(\u001b[0m\u001b[0mspec\u001b[0m\u001b[0;34m.\u001b[0m\u001b[0mndim\u001b[0m\u001b[0;34m)\u001b[0m \u001b[0;34m+\u001b[0m \u001b[0;34m', found ndim='\u001b[0m \u001b[0;34m+\u001b[0m\u001b[0;34m\u001b[0m\u001b[0m\n\u001b[0;32m--> 474\u001b[0;31m                                      str(K.ndim(x)))\n\u001b[0m\u001b[1;32m    475\u001b[0m             \u001b[0;32mif\u001b[0m \u001b[0mspec\u001b[0m\u001b[0;34m.\u001b[0m\u001b[0mmax_ndim\u001b[0m \u001b[0;32mis\u001b[0m \u001b[0;32mnot\u001b[0m \u001b[0;32mNone\u001b[0m\u001b[0;34m:\u001b[0m\u001b[0;34m\u001b[0m\u001b[0m\n\u001b[1;32m    476\u001b[0m                 \u001b[0mndim\u001b[0m \u001b[0;34m=\u001b[0m \u001b[0mK\u001b[0m\u001b[0;34m.\u001b[0m\u001b[0mndim\u001b[0m\u001b[0;34m(\u001b[0m\u001b[0mx\u001b[0m\u001b[0;34m)\u001b[0m\u001b[0;34m\u001b[0m\u001b[0m\n",
      "\u001b[0;31mValueError\u001b[0m: Input 0 is incompatible with layer conv1d_9: expected ndim=3, found ndim=2"
     ]
    }
   ],
   "source": [
    "# Building the Convolutionals Model\n",
    "model = Sequential()\n",
    "\n",
    "# Set up some parameters\n",
    "num_classes = 12\n",
    "input_shape = (490,)\n",
    "\n",
    "# Convert X_train and X_test to numpy array\n",
    "max_review_length = 500 \n",
    "X_train_CNN = sequence.pad_sequences(X_train_pca, maxlen=max_review_length) \n",
    "X_test_CNN = sequence.pad_sequences(X_test_pca, maxlen=max_review_length)\n",
    "\n",
    "\n",
    "# First convolutional layer, note the specification of shape\n",
    "model.add(Conv1D(32, kernel_size=10,\n",
    "                 activation='relu',\n",
    "                 input_shape=input_shape))\n",
    "model.add(Flatten())\n",
    "model.add(Conv1D(128, activation='relu'))\n",
    "model.add(Flatten())\n",
    "model.add(MaxPooling1D(pool_size=20,))\n",
    "model.add(Dropout(0.25))\n",
    "model.add(Dense(128, activation='relu'))\n",
    "model.add(Dropout(0.5))\n",
    "model.add(Dense(num_classes, activation='softmax'))\n",
    "\n",
    "model.compile(loss=keras.losses.categorical_crossentropy,\n",
    "              optimizer=keras.optimizers.Adadelta(),\n",
    "              metrics=['accuracy'])\n",
    "\n",
    "model.fit(X_train_pcaa, ytr_int_encoded,\n",
    "          batch_size=128,\n",
    "          epochs=10,\n",
    "          verbose=1,\n",
    "          validation_data=(X_test_pcaa, yte_int_encoded))\n",
    "score = model.evaluate(X_test_pcaa, yte_int_encoded, verbose=0)\n",
    "print('Test loss:', score[0])\n",
    "print('Test accuracy:', score[1])"
   ]
  },
  {
   "cell_type": "markdown",
   "metadata": {},
   "source": [
    "# Unsupervised Learning"
   ]
  },
  {
   "cell_type": "code",
   "execution_count": 38,
   "metadata": {},
   "outputs": [
    {
     "name": "stdout",
     "output_type": "stream",
     "text": [
      "(600000, 490)\n"
     ]
    },
    {
     "data": {
      "text/html": [
       "<div>\n",
       "<style scoped>\n",
       "    .dataframe tbody tr th:only-of-type {\n",
       "        vertical-align: middle;\n",
       "    }\n",
       "\n",
       "    .dataframe tbody tr th {\n",
       "        vertical-align: top;\n",
       "    }\n",
       "\n",
       "    .dataframe thead th {\n",
       "        text-align: right;\n",
       "    }\n",
       "</style>\n",
       "<table border=\"1\" class=\"dataframe\">\n",
       "  <thead>\n",
       "    <tr style=\"text-align: right;\">\n",
       "      <th></th>\n",
       "      <th>device_id</th>\n",
       "      <th>gender</th>\n",
       "      <th>age</th>\n",
       "      <th>is_active</th>\n",
       "      <th>label_id</th>\n",
       "      <th>2</th>\n",
       "      <th>4</th>\n",
       "      <th>6</th>\n",
       "      <th>7</th>\n",
       "      <th>8</th>\n",
       "      <th>...</th>\n",
       "      <th>1012</th>\n",
       "      <th>1013</th>\n",
       "      <th>1014</th>\n",
       "      <th>1015</th>\n",
       "      <th>1016</th>\n",
       "      <th>1017</th>\n",
       "      <th>1018</th>\n",
       "      <th>1019</th>\n",
       "      <th>1020</th>\n",
       "      <th>1021</th>\n",
       "    </tr>\n",
       "  </thead>\n",
       "  <tbody>\n",
       "    <tr>\n",
       "      <th>3181223</th>\n",
       "      <td>-5422222189097128376</td>\n",
       "      <td>1</td>\n",
       "      <td>23</td>\n",
       "      <td>0</td>\n",
       "      <td>710</td>\n",
       "      <td>0</td>\n",
       "      <td>0</td>\n",
       "      <td>0</td>\n",
       "      <td>0</td>\n",
       "      <td>0</td>\n",
       "      <td>...</td>\n",
       "      <td>0</td>\n",
       "      <td>0</td>\n",
       "      <td>0</td>\n",
       "      <td>0</td>\n",
       "      <td>0</td>\n",
       "      <td>0</td>\n",
       "      <td>0</td>\n",
       "      <td>0</td>\n",
       "      <td>0</td>\n",
       "      <td>0</td>\n",
       "    </tr>\n",
       "    <tr>\n",
       "      <th>12465750</th>\n",
       "      <td>-1909840803012691378</td>\n",
       "      <td>1</td>\n",
       "      <td>23</td>\n",
       "      <td>0</td>\n",
       "      <td>719</td>\n",
       "      <td>0</td>\n",
       "      <td>0</td>\n",
       "      <td>0</td>\n",
       "      <td>0</td>\n",
       "      <td>0</td>\n",
       "      <td>...</td>\n",
       "      <td>0</td>\n",
       "      <td>0</td>\n",
       "      <td>0</td>\n",
       "      <td>0</td>\n",
       "      <td>0</td>\n",
       "      <td>0</td>\n",
       "      <td>0</td>\n",
       "      <td>0</td>\n",
       "      <td>0</td>\n",
       "      <td>0</td>\n",
       "    </tr>\n",
       "    <tr>\n",
       "      <th>5864016</th>\n",
       "      <td>-3950380121994356121</td>\n",
       "      <td>1</td>\n",
       "      <td>25</td>\n",
       "      <td>0</td>\n",
       "      <td>549</td>\n",
       "      <td>0</td>\n",
       "      <td>0</td>\n",
       "      <td>0</td>\n",
       "      <td>0</td>\n",
       "      <td>0</td>\n",
       "      <td>...</td>\n",
       "      <td>0</td>\n",
       "      <td>0</td>\n",
       "      <td>0</td>\n",
       "      <td>0</td>\n",
       "      <td>0</td>\n",
       "      <td>0</td>\n",
       "      <td>0</td>\n",
       "      <td>0</td>\n",
       "      <td>0</td>\n",
       "      <td>0</td>\n",
       "    </tr>\n",
       "    <tr>\n",
       "      <th>2574694</th>\n",
       "      <td>-691042505889609750</td>\n",
       "      <td>1</td>\n",
       "      <td>24</td>\n",
       "      <td>0</td>\n",
       "      <td>549</td>\n",
       "      <td>0</td>\n",
       "      <td>0</td>\n",
       "      <td>0</td>\n",
       "      <td>0</td>\n",
       "      <td>0</td>\n",
       "      <td>...</td>\n",
       "      <td>0</td>\n",
       "      <td>0</td>\n",
       "      <td>0</td>\n",
       "      <td>0</td>\n",
       "      <td>0</td>\n",
       "      <td>0</td>\n",
       "      <td>0</td>\n",
       "      <td>0</td>\n",
       "      <td>0</td>\n",
       "      <td>0</td>\n",
       "    </tr>\n",
       "    <tr>\n",
       "      <th>2006630</th>\n",
       "      <td>-8010454263681268365</td>\n",
       "      <td>1</td>\n",
       "      <td>26</td>\n",
       "      <td>0</td>\n",
       "      <td>780</td>\n",
       "      <td>0</td>\n",
       "      <td>0</td>\n",
       "      <td>0</td>\n",
       "      <td>0</td>\n",
       "      <td>0</td>\n",
       "      <td>...</td>\n",
       "      <td>0</td>\n",
       "      <td>0</td>\n",
       "      <td>0</td>\n",
       "      <td>0</td>\n",
       "      <td>0</td>\n",
       "      <td>0</td>\n",
       "      <td>0</td>\n",
       "      <td>0</td>\n",
       "      <td>0</td>\n",
       "      <td>0</td>\n",
       "    </tr>\n",
       "  </tbody>\n",
       "</table>\n",
       "<p>5 rows × 490 columns</p>\n",
       "</div>"
      ],
      "text/plain": [
       "                    device_id  gender  age  is_active  label_id  2  4  6  7  \\\n",
       "3181223  -5422222189097128376       1   23          0       710  0  0  0  0   \n",
       "12465750 -1909840803012691378       1   23          0       719  0  0  0  0   \n",
       "5864016  -3950380121994356121       1   25          0       549  0  0  0  0   \n",
       "2574694   -691042505889609750       1   24          0       549  0  0  0  0   \n",
       "2006630  -8010454263681268365       1   26          0       780  0  0  0  0   \n",
       "\n",
       "          8  ...   1012  1013  1014  1015  1016  1017  1018  1019  1020  1021  \n",
       "3181223   0  ...      0     0     0     0     0     0     0     0     0     0  \n",
       "12465750  0  ...      0     0     0     0     0     0     0     0     0     0  \n",
       "5864016   0  ...      0     0     0     0     0     0     0     0     0     0  \n",
       "2574694   0  ...      0     0     0     0     0     0     0     0     0     0  \n",
       "2006630   0  ...      0     0     0     0     0     0     0     0     0     0  \n",
       "\n",
       "[5 rows x 490 columns]"
      ]
     },
     "execution_count": 38,
     "metadata": {},
     "output_type": "execute_result"
    }
   ],
   "source": [
    "print(X.shape)\n",
    "X.head()"
   ]
  },
  {
   "cell_type": "code",
   "execution_count": 31,
   "metadata": {},
   "outputs": [],
   "source": [
    "# Prepare for k-means X.\n",
    "km_X = X_train\n",
    "km_Xte = X_test\n",
    "# Normalize\n",
    "X_norm = normalize(km_X)\n",
    "X_norm_test = normalize(km_Xte)\n",
    "\n",
    "# Create the two-feature PCA for graphing purposes.\n",
    "pca = PCA(n_components=2)\n",
    "kmX_pca = pca.fit_transform(X_norm)\n",
    "kmX_test_pca = pca.fit_transform(X_norm_test)"
   ]
  },
  {
   "cell_type": "code",
   "execution_count": 32,
   "metadata": {},
   "outputs": [
    {
     "data": {
      "text/html": [
       "<div>\n",
       "<style scoped>\n",
       "    .dataframe tbody tr th:only-of-type {\n",
       "        vertical-align: middle;\n",
       "    }\n",
       "\n",
       "    .dataframe tbody tr th {\n",
       "        vertical-align: top;\n",
       "    }\n",
       "\n",
       "    .dataframe thead th {\n",
       "        text-align: right;\n",
       "    }\n",
       "</style>\n",
       "<table border=\"1\" class=\"dataframe\">\n",
       "  <thead>\n",
       "    <tr style=\"text-align: right;\">\n",
       "      <th>col_0</th>\n",
       "      <th>0</th>\n",
       "      <th>1</th>\n",
       "    </tr>\n",
       "    <tr>\n",
       "      <th>row_0</th>\n",
       "      <th></th>\n",
       "      <th></th>\n",
       "    </tr>\n",
       "  </thead>\n",
       "  <tbody>\n",
       "    <tr>\n",
       "      <th>F23-</th>\n",
       "      <td>18986</td>\n",
       "      <td>18516</td>\n",
       "    </tr>\n",
       "    <tr>\n",
       "      <th>F24-26</th>\n",
       "      <td>18067</td>\n",
       "      <td>19466</td>\n",
       "    </tr>\n",
       "    <tr>\n",
       "      <th>F27-28</th>\n",
       "      <td>18480</td>\n",
       "      <td>18928</td>\n",
       "    </tr>\n",
       "    <tr>\n",
       "      <th>F29-32</th>\n",
       "      <td>19246</td>\n",
       "      <td>18264</td>\n",
       "    </tr>\n",
       "    <tr>\n",
       "      <th>F33-42</th>\n",
       "      <td>19319</td>\n",
       "      <td>18193</td>\n",
       "    </tr>\n",
       "    <tr>\n",
       "      <th>F43+</th>\n",
       "      <td>19109</td>\n",
       "      <td>18427</td>\n",
       "    </tr>\n",
       "    <tr>\n",
       "      <th>M22-</th>\n",
       "      <td>18582</td>\n",
       "      <td>18914</td>\n",
       "    </tr>\n",
       "    <tr>\n",
       "      <th>M23-26</th>\n",
       "      <td>18928</td>\n",
       "      <td>18627</td>\n",
       "    </tr>\n",
       "    <tr>\n",
       "      <th>M27-28</th>\n",
       "      <td>18523</td>\n",
       "      <td>18896</td>\n",
       "    </tr>\n",
       "    <tr>\n",
       "      <th>M29-31</th>\n",
       "      <td>18667</td>\n",
       "      <td>18764</td>\n",
       "    </tr>\n",
       "    <tr>\n",
       "      <th>M32-38</th>\n",
       "      <td>18804</td>\n",
       "      <td>18737</td>\n",
       "    </tr>\n",
       "    <tr>\n",
       "      <th>M39+</th>\n",
       "      <td>19089</td>\n",
       "      <td>18468</td>\n",
       "    </tr>\n",
       "  </tbody>\n",
       "</table>\n",
       "</div>"
      ],
      "text/plain": [
       "col_0       0      1\n",
       "row_0               \n",
       "F23-    18986  18516\n",
       "F24-26  18067  19466\n",
       "F27-28  18480  18928\n",
       "F29-32  19246  18264\n",
       "F33-42  19319  18193\n",
       "F43+    19109  18427\n",
       "M22-    18582  18914\n",
       "M23-26  18928  18627\n",
       "M27-28  18523  18896\n",
       "M29-31  18667  18764\n",
       "M32-38  18804  18737\n",
       "M39+    19089  18468"
      ]
     },
     "execution_count": 32,
     "metadata": {},
     "output_type": "execute_result"
    }
   ],
   "source": [
    "# Calulate predicted values\n",
    "kmeans = KMeans(n_clusters=2, init='k-means++', random_state=42, n_init=20, n_jobs=-1)\n",
    "y_pred = kmeans.fit_predict(kmX_pca)\n",
    "\n",
    "pd.crosstab(y_train, y_pred)"
   ]
  },
  {
   "cell_type": "code",
   "execution_count": 155,
   "metadata": {},
   "outputs": [
    {
     "name": "stdout",
     "output_type": "stream",
     "text": [
      "Adjusted Rand Score: 8.065058e-05\n"
     ]
    }
   ],
   "source": [
    "from sklearn.metrics import adjusted_rand_score\n",
    "print('Adjusted Rand Score: {:0.7}'.format(adjusted_rand_score(y_train, y_pred)))"
   ]
  },
  {
   "cell_type": "code",
   "execution_count": 156,
   "metadata": {},
   "outputs": [
    {
     "data": {
      "image/png": "[encoded data removed]",
      "text/plain": [
       "<Figure size 1152x1152 with 1 Axes>"
      ]
     },
     "metadata": {},
     "output_type": "display_data"
    }
   ],
   "source": [
    "from scipy.spatial.distance import cdist\n",
    "# Use the elbow method to see what is the optimal amount of clusters.\n",
    "\n",
    "# k means determine k\n",
    "distortions = []\n",
    "K = range(1,20)\n",
    "for k in K:\n",
    "    kmeanModel = KMeans(n_clusters=k).fit(kmX_pca)\n",
    "    kmeanModel.fit(kmX_pca)\n",
    "    distortions.append(sum(np.min(cdist(kmX_pca, kmeanModel.cluster_centers_, 'euclidean'), axis=1)) / kmX_pca.shape[0])\n",
    "\n",
    "# Plot the elbow\n",
    "sns.set_style('darkgrid')\n",
    "plt.plot(K, distortions, 'bx-')\n",
    "plt.xlabel('k')\n",
    "plt.ylabel('Distortion')\n",
    "plt.title('The Elbow Method showing the optimal k')\n",
    "plt.show()"
   ]
  },
  {
   "cell_type": "code",
   "execution_count": 46,
   "metadata": {},
   "outputs": [
    {
     "name": "stdout",
     "output_type": "stream",
     "text": [
      "0\n",
      "\n",
      "\n",
      "          device_id    gender            age      is_active       label_id  \\\n",
      "count  3.037450e+05  303745.0  303745.000000  303745.000000  303745.000000   \n",
      "mean  -4.552825e+18       1.0      31.384859       0.289341     586.524634   \n",
      "std    2.674008e+18       0.0       9.740515       0.453457     239.637685   \n",
      "min   -9.222957e+18       1.0      11.000000       0.000000       6.000000   \n",
      "25%   -6.851784e+18       1.0      25.000000       0.000000     405.000000   \n",
      "50%   -4.522266e+18       1.0      29.000000       0.000000     704.000000   \n",
      "75%   -2.255756e+18       1.0      35.000000       1.000000     756.000000   \n",
      "max    7.684152e+16       1.0      86.000000       1.000000    1021.000000   \n",
      "\n",
      "              2         4              6              7              8  \\\n",
      "count  303745.0  303745.0  303745.000000  303745.000000  303745.000000   \n",
      "mean        0.0       0.0       0.000020       0.000013       0.000211   \n",
      "std         0.0       0.0       0.004444       0.003629       0.014514   \n",
      "min         0.0       0.0       0.000000       0.000000       0.000000   \n",
      "25%         0.0       0.0       0.000000       0.000000       0.000000   \n",
      "50%         0.0       0.0       0.000000       0.000000       0.000000   \n",
      "75%         0.0       0.0       0.000000       0.000000       0.000000   \n",
      "max         0.0       0.0       1.000000       1.000000       1.000000   \n",
      "\n",
      "              ...                   1013           1014           1015  \\\n",
      "count         ...          303745.000000  303745.000000  303745.000000   \n",
      "mean          ...               0.000336       0.003826       0.004655   \n",
      "std           ...               0.018322       0.061733       0.068070   \n",
      "min           ...               0.000000       0.000000       0.000000   \n",
      "25%           ...               0.000000       0.000000       0.000000   \n",
      "50%           ...               0.000000       0.000000       0.000000   \n",
      "75%           ...               0.000000       0.000000       0.000000   \n",
      "max           ...               1.000000       1.000000       1.000000   \n",
      "\n",
      "                1016           1017           1018           1019  \\\n",
      "count  303745.000000  303745.000000  303745.000000  303745.000000   \n",
      "mean        0.000148       0.000461       0.000665       0.001007   \n",
      "std         0.012171       0.021464       0.025780       0.031724   \n",
      "min         0.000000       0.000000       0.000000       0.000000   \n",
      "25%         0.000000       0.000000       0.000000       0.000000   \n",
      "50%         0.000000       0.000000       0.000000       0.000000   \n",
      "75%         0.000000       0.000000       0.000000       0.000000   \n",
      "max         1.000000       1.000000       1.000000       1.000000   \n",
      "\n",
      "                1020           1021  cluster_assignment  \n",
      "count  303745.000000  303745.000000            303745.0  \n",
      "mean        0.001067       0.000007                 0.0  \n",
      "std         0.032643       0.002566                 0.0  \n",
      "min         0.000000       0.000000                 0.0  \n",
      "25%         0.000000       0.000000                 0.0  \n",
      "50%         0.000000       0.000000                 0.0  \n",
      "75%         0.000000       0.000000                 0.0  \n",
      "max         1.000000       1.000000                 0.0  \n",
      "\n",
      "[8 rows x 491 columns]\n",
      "1\n",
      "\n",
      "\n",
      "          device_id    gender            age      is_active       label_id  \\\n",
      "count  2.962550e+05  296255.0  296255.000000  296255.000000  296255.000000   \n",
      "mean   4.710805e+18       1.0      31.197225       0.294091     587.896272   \n",
      "std    2.636603e+18       0.0       9.649379       0.455634     238.490414   \n",
      "min    7.697913e+16       1.0      11.000000       0.000000       6.000000   \n",
      "25%    2.436234e+18       1.0      25.000000       0.000000     405.000000   \n",
      "50%    4.742301e+18       1.0      28.000000       0.000000     704.000000   \n",
      "75%    6.973595e+18       1.0      35.000000       1.000000     756.000000   \n",
      "max    9.220915e+18       1.0      89.000000       1.000000    1021.000000   \n",
      "\n",
      "              2         4             6             7              8  \\\n",
      "count  296255.0  296255.0  296255.00000  296255.00000  296255.000000   \n",
      "mean        0.0       0.0       0.00002       0.00002       0.000145   \n",
      "std         0.0       0.0       0.00450       0.00450       0.012047   \n",
      "min         0.0       0.0       0.00000       0.00000       0.000000   \n",
      "25%         0.0       0.0       0.00000       0.00000       0.000000   \n",
      "50%         0.0       0.0       0.00000       0.00000       0.000000   \n",
      "75%         0.0       0.0       0.00000       0.00000       0.000000   \n",
      "max         0.0       0.0       1.00000       1.00000       1.000000   \n",
      "\n",
      "              ...                   1013           1014           1015  \\\n",
      "count         ...          296255.000000  296255.000000  296255.000000   \n",
      "mean          ...               0.000354       0.003730       0.004651   \n",
      "std           ...               0.018823       0.060959       0.068042   \n",
      "min           ...               0.000000       0.000000       0.000000   \n",
      "25%           ...               0.000000       0.000000       0.000000   \n",
      "50%           ...               0.000000       0.000000       0.000000   \n",
      "75%           ...               0.000000       0.000000       0.000000   \n",
      "max           ...               1.000000       1.000000       1.000000   \n",
      "\n",
      "                1016           1017           1018           1019  \\\n",
      "count  296255.000000  296255.000000  296255.000000  296255.000000   \n",
      "mean        0.000186       0.000392       0.000564       0.001087   \n",
      "std         0.013624       0.019784       0.023736       0.032950   \n",
      "min         0.000000       0.000000       0.000000       0.000000   \n",
      "25%         0.000000       0.000000       0.000000       0.000000   \n",
      "50%         0.000000       0.000000       0.000000       0.000000   \n",
      "75%         0.000000       0.000000       0.000000       0.000000   \n",
      "max         1.000000       1.000000       1.000000       1.000000   \n",
      "\n",
      "                1020           1021  cluster_assignment  \n",
      "count  296255.000000  296255.000000            296255.0  \n",
      "mean        0.001036       0.000014                 1.0  \n",
      "std         0.032175       0.003674                 0.0  \n",
      "min         0.000000       0.000000                 1.0  \n",
      "25%         0.000000       0.000000                 1.0  \n",
      "50%         0.000000       0.000000                 1.0  \n",
      "75%         0.000000       0.000000                 1.0  \n",
      "max         1.000000       1.000000                 1.0  \n",
      "\n",
      "[8 rows x 491 columns]\n",
      "2\n",
      "\n",
      "\n",
      "       device_id  gender  age  is_active  label_id    2    4    6    7    8  \\\n",
      "count        0.0     0.0  0.0        0.0       0.0  0.0  0.0  0.0  0.0  0.0   \n",
      "mean         NaN     NaN  NaN        NaN       NaN  NaN  NaN  NaN  NaN  NaN   \n",
      "std          NaN     NaN  NaN        NaN       NaN  NaN  NaN  NaN  NaN  NaN   \n",
      "min          NaN     NaN  NaN        NaN       NaN  NaN  NaN  NaN  NaN  NaN   \n",
      "25%          NaN     NaN  NaN        NaN       NaN  NaN  NaN  NaN  NaN  NaN   \n",
      "50%          NaN     NaN  NaN        NaN       NaN  NaN  NaN  NaN  NaN  NaN   \n",
      "75%          NaN     NaN  NaN        NaN       NaN  NaN  NaN  NaN  NaN  NaN   \n",
      "max          NaN     NaN  NaN        NaN       NaN  NaN  NaN  NaN  NaN  NaN   \n",
      "\n",
      "              ...          1013  1014  1015  1016  1017  1018  1019  1020  \\\n",
      "count         ...           0.0   0.0   0.0   0.0   0.0   0.0   0.0   0.0   \n",
      "mean          ...           NaN   NaN   NaN   NaN   NaN   NaN   NaN   NaN   \n",
      "std           ...           NaN   NaN   NaN   NaN   NaN   NaN   NaN   NaN   \n",
      "min           ...           NaN   NaN   NaN   NaN   NaN   NaN   NaN   NaN   \n",
      "25%           ...           NaN   NaN   NaN   NaN   NaN   NaN   NaN   NaN   \n",
      "50%           ...           NaN   NaN   NaN   NaN   NaN   NaN   NaN   NaN   \n",
      "75%           ...           NaN   NaN   NaN   NaN   NaN   NaN   NaN   NaN   \n",
      "max           ...           NaN   NaN   NaN   NaN   NaN   NaN   NaN   NaN   \n",
      "\n",
      "       1021  cluster_assignment  \n",
      "count   0.0                 0.0  \n",
      "mean    NaN                 NaN  \n",
      "std     NaN                 NaN  \n",
      "min     NaN                 NaN  \n",
      "25%     NaN                 NaN  \n",
      "50%     NaN                 NaN  \n",
      "75%     NaN                 NaN  \n",
      "max     NaN                 NaN  \n",
      "\n",
      "[8 rows x 491 columns]\n"
     ]
    }
   ],
   "source": [
    "# Cluster Analysis\n",
    "cluster_pred = KMeans(n_clusters=2, random_state=42, n_jobs=-1).fit_predict(X)\n",
    "X_pred = X.copy()\n",
    "X_pred['cluster_assignment'] = cluster_pred\n",
    "\n",
    "cluster_dataframes = {}\n",
    "for n_clust in range(3):\n",
    "    cluster_dataframes[n_clust] = X_pred.loc[X_pred['cluster_assignment'] == n_clust]\n",
    "\n",
    "for name, frame in cluster_dataframes.items():\n",
    "    print(name)\n",
    "    print('\\n')\n",
    "    print(frame.describe())"
   ]
  },
  {
   "cell_type": "markdown",
   "metadata": {},
   "source": [
    "# K-means Analysis \n",
    "\n",
    "It is standard practice to standardize data and run PCA on the data set in order for k-means to function properly since, k-means concept is similar to knn in terms of distances and creating data points that aren't skewed by standarding them first. However, k-means have centroids where these data points will go to and form a cluster that will tell the user about what characteristics these clusters share.\n",
    "\n",
    "The reason I chose to use two clusters is because I ran PCA on my data set and set the dimensions to 2 so the optimal amount of clusters should also be 2 as presented below using the elbow method. I chose n_init as 20 in order to try different centroid seeds in order to obtain the best output in terms of minimizing inertia or the sum of squared errors for each cluster (aka the cost function). "
   ]
  },
  {
   "cell_type": "code",
   "execution_count": 33,
   "metadata": {},
   "outputs": [
    {
     "data": {
      "text/html": [
       "<div>\n",
       "<style scoped>\n",
       "    .dataframe tbody tr th:only-of-type {\n",
       "        vertical-align: middle;\n",
       "    }\n",
       "\n",
       "    .dataframe tbody tr th {\n",
       "        vertical-align: top;\n",
       "    }\n",
       "\n",
       "    .dataframe thead th {\n",
       "        text-align: right;\n",
       "    }\n",
       "</style>\n",
       "<table border=\"1\" class=\"dataframe\">\n",
       "  <thead>\n",
       "    <tr style=\"text-align: right;\">\n",
       "      <th></th>\n",
       "      <th>Cluster</th>\n",
       "    </tr>\n",
       "  </thead>\n",
       "  <tbody>\n",
       "    <tr>\n",
       "      <th>0</th>\n",
       "      <td>1</td>\n",
       "    </tr>\n",
       "    <tr>\n",
       "      <th>1</th>\n",
       "      <td>0</td>\n",
       "    </tr>\n",
       "    <tr>\n",
       "      <th>2</th>\n",
       "      <td>0</td>\n",
       "    </tr>\n",
       "    <tr>\n",
       "      <th>3</th>\n",
       "      <td>1</td>\n",
       "    </tr>\n",
       "    <tr>\n",
       "      <th>4</th>\n",
       "      <td>0</td>\n",
       "    </tr>\n",
       "  </tbody>\n",
       "</table>\n",
       "</div>"
      ],
      "text/plain": [
       "   Cluster\n",
       "0        1\n",
       "1        0\n",
       "2        0\n",
       "3        1\n",
       "4        0"
      ]
     },
     "execution_count": 33,
     "metadata": {},
     "output_type": "execute_result"
    }
   ],
   "source": [
    "# Turn the clusters into a data frame so that I can put it back\n",
    "# in the data set. \n",
    "df_y = pd.DataFrame(y_pred)\n",
    "df_y.columns = ['Cluster']\n",
    "df_y.head()"
   ]
  },
  {
   "cell_type": "code",
   "execution_count": 34,
   "metadata": {},
   "outputs": [
    {
     "data": {
      "text/html": [
       "<div>\n",
       "<style scoped>\n",
       "    .dataframe tbody tr th:only-of-type {\n",
       "        vertical-align: middle;\n",
       "    }\n",
       "\n",
       "    .dataframe tbody tr th {\n",
       "        vertical-align: top;\n",
       "    }\n",
       "\n",
       "    .dataframe thead th {\n",
       "        text-align: right;\n",
       "    }\n",
       "</style>\n",
       "<table border=\"1\" class=\"dataframe\">\n",
       "  <thead>\n",
       "    <tr style=\"text-align: right;\">\n",
       "      <th></th>\n",
       "      <th>device_id</th>\n",
       "      <th>gender</th>\n",
       "      <th>age</th>\n",
       "      <th>is_active</th>\n",
       "      <th>encoded_model</th>\n",
       "      <th>label_id</th>\n",
       "      <th>2</th>\n",
       "      <th>4</th>\n",
       "      <th>6</th>\n",
       "      <th>7</th>\n",
       "      <th>...</th>\n",
       "      <th>1013</th>\n",
       "      <th>1014</th>\n",
       "      <th>1015</th>\n",
       "      <th>1016</th>\n",
       "      <th>1017</th>\n",
       "      <th>1018</th>\n",
       "      <th>1019</th>\n",
       "      <th>1020</th>\n",
       "      <th>1021</th>\n",
       "      <th>Cluster</th>\n",
       "    </tr>\n",
       "  </thead>\n",
       "  <tbody>\n",
       "    <tr>\n",
       "      <th>46</th>\n",
       "      <td>5500093691849381863</td>\n",
       "      <td>1</td>\n",
       "      <td>30</td>\n",
       "      <td>0</td>\n",
       "      <td>865</td>\n",
       "      <td>548</td>\n",
       "      <td>0</td>\n",
       "      <td>0</td>\n",
       "      <td>0</td>\n",
       "      <td>0</td>\n",
       "      <td>...</td>\n",
       "      <td>0</td>\n",
       "      <td>0</td>\n",
       "      <td>0</td>\n",
       "      <td>0</td>\n",
       "      <td>0</td>\n",
       "      <td>0</td>\n",
       "      <td>0</td>\n",
       "      <td>0</td>\n",
       "      <td>0</td>\n",
       "      <td>0</td>\n",
       "    </tr>\n",
       "    <tr>\n",
       "      <th>46</th>\n",
       "      <td>5500093691849381863</td>\n",
       "      <td>1</td>\n",
       "      <td>30</td>\n",
       "      <td>0</td>\n",
       "      <td>865</td>\n",
       "      <td>548</td>\n",
       "      <td>0</td>\n",
       "      <td>0</td>\n",
       "      <td>0</td>\n",
       "      <td>0</td>\n",
       "      <td>...</td>\n",
       "      <td>0</td>\n",
       "      <td>0</td>\n",
       "      <td>0</td>\n",
       "      <td>0</td>\n",
       "      <td>0</td>\n",
       "      <td>0</td>\n",
       "      <td>0</td>\n",
       "      <td>0</td>\n",
       "      <td>0</td>\n",
       "      <td>0</td>\n",
       "    </tr>\n",
       "    <tr>\n",
       "      <th>176</th>\n",
       "      <td>-4863195921899852917</td>\n",
       "      <td>1</td>\n",
       "      <td>30</td>\n",
       "      <td>0</td>\n",
       "      <td>368</td>\n",
       "      <td>704</td>\n",
       "      <td>0</td>\n",
       "      <td>0</td>\n",
       "      <td>0</td>\n",
       "      <td>0</td>\n",
       "      <td>...</td>\n",
       "      <td>0</td>\n",
       "      <td>0</td>\n",
       "      <td>0</td>\n",
       "      <td>0</td>\n",
       "      <td>0</td>\n",
       "      <td>0</td>\n",
       "      <td>0</td>\n",
       "      <td>0</td>\n",
       "      <td>0</td>\n",
       "      <td>0</td>\n",
       "    </tr>\n",
       "    <tr>\n",
       "      <th>254</th>\n",
       "      <td>7064488711104523514</td>\n",
       "      <td>1</td>\n",
       "      <td>31</td>\n",
       "      <td>0</td>\n",
       "      <td>1461</td>\n",
       "      <td>704</td>\n",
       "      <td>0</td>\n",
       "      <td>0</td>\n",
       "      <td>0</td>\n",
       "      <td>0</td>\n",
       "      <td>...</td>\n",
       "      <td>0</td>\n",
       "      <td>0</td>\n",
       "      <td>0</td>\n",
       "      <td>0</td>\n",
       "      <td>0</td>\n",
       "      <td>0</td>\n",
       "      <td>0</td>\n",
       "      <td>0</td>\n",
       "      <td>0</td>\n",
       "      <td>0</td>\n",
       "    </tr>\n",
       "    <tr>\n",
       "      <th>314</th>\n",
       "      <td>-7409267423009514170</td>\n",
       "      <td>0</td>\n",
       "      <td>19</td>\n",
       "      <td>0</td>\n",
       "      <td>1659</td>\n",
       "      <td>704</td>\n",
       "      <td>0</td>\n",
       "      <td>0</td>\n",
       "      <td>0</td>\n",
       "      <td>0</td>\n",
       "      <td>...</td>\n",
       "      <td>0</td>\n",
       "      <td>0</td>\n",
       "      <td>0</td>\n",
       "      <td>0</td>\n",
       "      <td>0</td>\n",
       "      <td>0</td>\n",
       "      <td>0</td>\n",
       "      <td>0</td>\n",
       "      <td>0</td>\n",
       "      <td>1</td>\n",
       "    </tr>\n",
       "  </tbody>\n",
       "</table>\n",
       "<p>5 rows × 492 columns</p>\n",
       "</div>"
      ],
      "text/plain": [
       "               device_id  gender  age  is_active  encoded_model  label_id  2  \\\n",
       "46   5500093691849381863       1   30          0            865       548  0   \n",
       "46   5500093691849381863       1   30          0            865       548  0   \n",
       "176 -4863195921899852917       1   30          0            368       704  0   \n",
       "254  7064488711104523514       1   31          0           1461       704  0   \n",
       "314 -7409267423009514170       0   19          0           1659       704  0   \n",
       "\n",
       "     4  6  7   ...     1013  1014  1015  1016  1017  1018  1019  1020  1021  \\\n",
       "46   0  0  0   ...        0     0     0     0     0     0     0     0     0   \n",
       "46   0  0  0   ...        0     0     0     0     0     0     0     0     0   \n",
       "176  0  0  0   ...        0     0     0     0     0     0     0     0     0   \n",
       "254  0  0  0   ...        0     0     0     0     0     0     0     0     0   \n",
       "314  0  0  0   ...        0     0     0     0     0     0     0     0     0   \n",
       "\n",
       "     Cluster  \n",
       "46         0  \n",
       "46         0  \n",
       "176        0  \n",
       "254        0  \n",
       "314        1  \n",
       "\n",
       "[5 rows x 492 columns]"
      ]
     },
     "execution_count": 34,
     "metadata": {},
     "output_type": "execute_result"
    }
   ],
   "source": [
    "# Attach clusters to the data frame.\n",
    "clustered_x = X.join(df_y, how='inner')\n",
    "\n",
    "clustered_x.head()"
   ]
  },
  {
   "cell_type": "code",
   "execution_count": 35,
   "metadata": {},
   "outputs": [],
   "source": [
    "# Create age method.\n",
    "\n",
    "def age_bucket(age):\n",
    "    output = ''\n",
    "    if age <=20:\n",
    "        output = 'Under 20'\n",
    "    elif (age > 20 and age <= 30):\n",
    "        output = 'Between 20 and 30'\n",
    "    elif (age > 30 and age <= 40):\n",
    "        output = 'Between 30 and 40'\n",
    "    elif (age > 40 and age <= 50):\n",
    "        output = 'Between 40 and 50'\n",
    "    elif (age > 50 and age <= 60):\n",
    "        output = 'Between 50 and 60'\n",
    "    else:\n",
    "        output = 'Over 60'\n",
    "    \n",
    "    return output"
   ]
  },
  {
   "cell_type": "code",
   "execution_count": 36,
   "metadata": {},
   "outputs": [],
   "source": [
    "# Apply the method I just wrote. \n",
    "clustered_x['Age Bucket'] = clustered_x['age'].apply(lambda x: age_bucket(x))"
   ]
  },
  {
   "cell_type": "code",
   "execution_count": 48,
   "metadata": {},
   "outputs": [
    {
     "name": "stdout",
     "output_type": "stream",
     "text": [
      "Distribution of Age in Clusters\n"
     ]
    },
    {
     "data": {
      "text/plain": [
       "<Figure size 1152x576 with 0 Axes>"
      ]
     },
     "metadata": {},
     "output_type": "display_data"
    },
    {
     "data": {
      "image/png": "[encoded data removed]",
      "text/plain": [
       "<Figure size 1152x576 with 2 Axes>"
      ]
     },
     "metadata": {},
     "output_type": "display_data"
    }
   ],
   "source": [
    "# Look at Age Breakdown for Count\n",
    "plt.figure(figsize=(16,8))\n",
    "print('Distribution of Age in Clusters')\n",
    "sns.set(font_scale=1)\n",
    "sns.factorplot(x='Age Bucket', col='Cluster', kind=\"count\", data=clustered_x, size=8)\n",
    "plt.show()"
   ]
  },
  {
   "cell_type": "code",
   "execution_count": 47,
   "metadata": {},
   "outputs": [
    {
     "name": "stdout",
     "output_type": "stream",
     "text": [
      "Distribution of Gender in Clusters:\n",
      "0=females, 1=males\n"
     ]
    },
    {
     "data": {
      "image/png": "[encoded data removed]",
      "text/plain": [
       "<Figure size 720x360 with 2 Axes>"
      ]
     },
     "metadata": {},
     "output_type": "display_data"
    }
   ],
   "source": [
    "# Take a look at gender\n",
    "print('Distribution of Gender in Clusters:')\n",
    "print('0=females, 1=males')\n",
    "sns.factorplot(x='gender', col='Cluster', kind=\"count\", data=clustered_x, size=5)\n",
    "plt.show()"
   ]
  },
  {
   "cell_type": "code",
   "execution_count": 50,
   "metadata": {},
   "outputs": [
    {
     "name": "stdout",
     "output_type": "stream",
     "text": [
      "Distribution of Clusters on whether User is Active or Not:\n",
      "0=inactive, 1=active\n"
     ]
    },
    {
     "data": {
      "image/png": "[encoded data removed]",
      "text/plain": [
       "<Figure size 720x360 with 2 Axes>"
      ]
     },
     "metadata": {},
     "output_type": "display_data"
    }
   ],
   "source": [
    "# Take a look at is_active\n",
    "print('Distribution of Clusters on whether User is Active or Not:')\n",
    "print('0=inactive, 1=active')\n",
    "sns.factorplot(x='is_active', col='Cluster', kind=\"count\", data=clustered_x, size=5)\n",
    "plt.show()"
   ]
  },
  {
   "cell_type": "markdown",
   "metadata": {},
   "source": [
    "# Current Issues.\n",
    "\n",
    "- Improving the logistic classification model has proved difficult. I have applied PCA but to no avail.\n",
    "- I applied PCA and selectKBest to the random forest model. Random forest improved .02% while selectKbest did not improve.\n",
    "- Working on keras neural network now. \n",
    "- I have increased layers, batch size, and epochs already, but I'm still capped at 8% accuracy.\n",
    "- Neural Network was able to work after using PCA data set. Could improve training score, but test score is still low.\n",
    "- Need to encode target data in order to use it since neural network won't take string data. \n",
    "- Still have an error at the CNN. CNN still failing to run. "
   ]
  },
  {
   "cell_type": "raw",
   "metadata": {},
   "source": [
    "max_review_length = 500 X_train_CNN = sequence.pad_sequences(x_train, maxlen=max_review_length) X_test_CNN = sequence.pad_sequences(x_test, maxlen=max_review_length)"
   ]
  }
 ],
 "metadata": {
  "kernelspec": {
   "display_name": "Python 3",
   "language": "python",
   "name": "python3"
  },
  "language_info": {
   "codemirror_mode": {
    "name": "ipython",
    "version": 3
   },
   "file_extension": ".py",
   "mimetype": "text/x-python",
   "name": "python",
   "nbconvert_exporter": "python",
   "pygments_lexer": "ipython3",
   "version": "3.6.4"
  }
 },
 "nbformat": 4,
 "nbformat_minor": 2
}
